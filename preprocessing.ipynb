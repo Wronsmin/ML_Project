{
 "cells": [
  {
   "cell_type": "code",
   "execution_count": 1,
   "metadata": {},
   "outputs": [],
   "source": [
    "import numpy as np \n",
    "import matplotlib.pyplot as plt \n",
    "import pandas as pd"
   ]
  },
  {
   "cell_type": "code",
   "execution_count": 30,
   "metadata": {},
   "outputs": [],
   "source": [
    "df_train = pd.read_csv(\"Data/train.csv\", low_memory=False)\n",
    "df_train.drop(columns=['ID', 'Customer_ID', 'Name', 'SSN'], inplace=True)"
   ]
  },
  {
   "cell_type": "code",
   "execution_count": 9,
   "metadata": {},
   "outputs": [
    {
     "data": {
      "text/html": [
       "<div>\n",
       "<style scoped>\n",
       "    .dataframe tbody tr th:only-of-type {\n",
       "        vertical-align: middle;\n",
       "    }\n",
       "\n",
       "    .dataframe tbody tr th {\n",
       "        vertical-align: top;\n",
       "    }\n",
       "\n",
       "    .dataframe thead th {\n",
       "        text-align: right;\n",
       "    }\n",
       "</style>\n",
       "<table border=\"1\" class=\"dataframe\">\n",
       "  <thead>\n",
       "    <tr style=\"text-align: right;\">\n",
       "      <th></th>\n",
       "      <th>Month</th>\n",
       "      <th>Age</th>\n",
       "      <th>Occupation</th>\n",
       "      <th>Annual_Income</th>\n",
       "      <th>Monthly_Inhand_Salary</th>\n",
       "      <th>Num_Bank_Accounts</th>\n",
       "      <th>Num_Credit_Card</th>\n",
       "      <th>Interest_Rate</th>\n",
       "      <th>Num_of_Loan</th>\n",
       "      <th>Type_of_Loan</th>\n",
       "      <th>...</th>\n",
       "      <th>Credit_Mix</th>\n",
       "      <th>Outstanding_Debt</th>\n",
       "      <th>Credit_Utilization_Ratio</th>\n",
       "      <th>Credit_History_Age</th>\n",
       "      <th>Payment_of_Min_Amount</th>\n",
       "      <th>Total_EMI_per_month</th>\n",
       "      <th>Amount_invested_monthly</th>\n",
       "      <th>Payment_Behaviour</th>\n",
       "      <th>Monthly_Balance</th>\n",
       "      <th>Credit_Score</th>\n",
       "    </tr>\n",
       "  </thead>\n",
       "  <tbody>\n",
       "    <tr>\n",
       "      <th>0</th>\n",
       "      <td>January</td>\n",
       "      <td>23</td>\n",
       "      <td>Scientist</td>\n",
       "      <td>19114.12</td>\n",
       "      <td>1824.843333</td>\n",
       "      <td>3</td>\n",
       "      <td>4</td>\n",
       "      <td>3</td>\n",
       "      <td>4</td>\n",
       "      <td>Auto Loan, Credit-Builder Loan, Personal Loan,...</td>\n",
       "      <td>...</td>\n",
       "      <td>_</td>\n",
       "      <td>809.98</td>\n",
       "      <td>26.822620</td>\n",
       "      <td>22 Years and 1 Months</td>\n",
       "      <td>No</td>\n",
       "      <td>49.574949</td>\n",
       "      <td>80.41529543900253</td>\n",
       "      <td>High_spent_Small_value_payments</td>\n",
       "      <td>312.49408867943663</td>\n",
       "      <td>Good</td>\n",
       "    </tr>\n",
       "    <tr>\n",
       "      <th>1</th>\n",
       "      <td>February</td>\n",
       "      <td>23</td>\n",
       "      <td>Scientist</td>\n",
       "      <td>19114.12</td>\n",
       "      <td>NaN</td>\n",
       "      <td>3</td>\n",
       "      <td>4</td>\n",
       "      <td>3</td>\n",
       "      <td>4</td>\n",
       "      <td>Auto Loan, Credit-Builder Loan, Personal Loan,...</td>\n",
       "      <td>...</td>\n",
       "      <td>Good</td>\n",
       "      <td>809.98</td>\n",
       "      <td>31.944960</td>\n",
       "      <td>NaN</td>\n",
       "      <td>No</td>\n",
       "      <td>49.574949</td>\n",
       "      <td>118.28022162236736</td>\n",
       "      <td>Low_spent_Large_value_payments</td>\n",
       "      <td>284.62916249607184</td>\n",
       "      <td>Good</td>\n",
       "    </tr>\n",
       "    <tr>\n",
       "      <th>2</th>\n",
       "      <td>March</td>\n",
       "      <td>-500</td>\n",
       "      <td>Scientist</td>\n",
       "      <td>19114.12</td>\n",
       "      <td>NaN</td>\n",
       "      <td>3</td>\n",
       "      <td>4</td>\n",
       "      <td>3</td>\n",
       "      <td>4</td>\n",
       "      <td>Auto Loan, Credit-Builder Loan, Personal Loan,...</td>\n",
       "      <td>...</td>\n",
       "      <td>Good</td>\n",
       "      <td>809.98</td>\n",
       "      <td>28.609352</td>\n",
       "      <td>22 Years and 3 Months</td>\n",
       "      <td>No</td>\n",
       "      <td>49.574949</td>\n",
       "      <td>81.699521264648</td>\n",
       "      <td>Low_spent_Medium_value_payments</td>\n",
       "      <td>331.2098628537912</td>\n",
       "      <td>Good</td>\n",
       "    </tr>\n",
       "    <tr>\n",
       "      <th>3</th>\n",
       "      <td>April</td>\n",
       "      <td>23</td>\n",
       "      <td>Scientist</td>\n",
       "      <td>19114.12</td>\n",
       "      <td>NaN</td>\n",
       "      <td>3</td>\n",
       "      <td>4</td>\n",
       "      <td>3</td>\n",
       "      <td>4</td>\n",
       "      <td>Auto Loan, Credit-Builder Loan, Personal Loan,...</td>\n",
       "      <td>...</td>\n",
       "      <td>Good</td>\n",
       "      <td>809.98</td>\n",
       "      <td>31.377862</td>\n",
       "      <td>22 Years and 4 Months</td>\n",
       "      <td>No</td>\n",
       "      <td>49.574949</td>\n",
       "      <td>199.4580743910713</td>\n",
       "      <td>Low_spent_Small_value_payments</td>\n",
       "      <td>223.45130972736786</td>\n",
       "      <td>Good</td>\n",
       "    </tr>\n",
       "    <tr>\n",
       "      <th>4</th>\n",
       "      <td>May</td>\n",
       "      <td>23</td>\n",
       "      <td>Scientist</td>\n",
       "      <td>19114.12</td>\n",
       "      <td>1824.843333</td>\n",
       "      <td>3</td>\n",
       "      <td>4</td>\n",
       "      <td>3</td>\n",
       "      <td>4</td>\n",
       "      <td>Auto Loan, Credit-Builder Loan, Personal Loan,...</td>\n",
       "      <td>...</td>\n",
       "      <td>Good</td>\n",
       "      <td>809.98</td>\n",
       "      <td>24.797347</td>\n",
       "      <td>22 Years and 5 Months</td>\n",
       "      <td>No</td>\n",
       "      <td>49.574949</td>\n",
       "      <td>41.420153086217326</td>\n",
       "      <td>High_spent_Medium_value_payments</td>\n",
       "      <td>341.48923103222177</td>\n",
       "      <td>Good</td>\n",
       "    </tr>\n",
       "  </tbody>\n",
       "</table>\n",
       "<p>5 rows × 24 columns</p>\n",
       "</div>"
      ],
      "text/plain": [
       "      Month   Age Occupation Annual_Income  Monthly_Inhand_Salary  \\\n",
       "0   January    23  Scientist      19114.12            1824.843333   \n",
       "1  February    23  Scientist      19114.12                    NaN   \n",
       "2     March  -500  Scientist      19114.12                    NaN   \n",
       "3     April    23  Scientist      19114.12                    NaN   \n",
       "4       May    23  Scientist      19114.12            1824.843333   \n",
       "\n",
       "   Num_Bank_Accounts  Num_Credit_Card  Interest_Rate Num_of_Loan  \\\n",
       "0                  3                4              3           4   \n",
       "1                  3                4              3           4   \n",
       "2                  3                4              3           4   \n",
       "3                  3                4              3           4   \n",
       "4                  3                4              3           4   \n",
       "\n",
       "                                        Type_of_Loan  ...  Credit_Mix  \\\n",
       "0  Auto Loan, Credit-Builder Loan, Personal Loan,...  ...           _   \n",
       "1  Auto Loan, Credit-Builder Loan, Personal Loan,...  ...        Good   \n",
       "2  Auto Loan, Credit-Builder Loan, Personal Loan,...  ...        Good   \n",
       "3  Auto Loan, Credit-Builder Loan, Personal Loan,...  ...        Good   \n",
       "4  Auto Loan, Credit-Builder Loan, Personal Loan,...  ...        Good   \n",
       "\n",
       "  Outstanding_Debt Credit_Utilization_Ratio     Credit_History_Age  \\\n",
       "0           809.98                26.822620  22 Years and 1 Months   \n",
       "1           809.98                31.944960                    NaN   \n",
       "2           809.98                28.609352  22 Years and 3 Months   \n",
       "3           809.98                31.377862  22 Years and 4 Months   \n",
       "4           809.98                24.797347  22 Years and 5 Months   \n",
       "\n",
       "  Payment_of_Min_Amount Total_EMI_per_month  Amount_invested_monthly  \\\n",
       "0                    No           49.574949        80.41529543900253   \n",
       "1                    No           49.574949       118.28022162236736   \n",
       "2                    No           49.574949          81.699521264648   \n",
       "3                    No           49.574949        199.4580743910713   \n",
       "4                    No           49.574949       41.420153086217326   \n",
       "\n",
       "                  Payment_Behaviour     Monthly_Balance  Credit_Score  \n",
       "0   High_spent_Small_value_payments  312.49408867943663          Good  \n",
       "1    Low_spent_Large_value_payments  284.62916249607184          Good  \n",
       "2   Low_spent_Medium_value_payments   331.2098628537912          Good  \n",
       "3    Low_spent_Small_value_payments  223.45130972736786          Good  \n",
       "4  High_spent_Medium_value_payments  341.48923103222177          Good  \n",
       "\n",
       "[5 rows x 24 columns]"
      ]
     },
     "execution_count": 9,
     "metadata": {},
     "output_type": "execute_result"
    }
   ],
   "source": [
    "df_train.head()"
   ]
  },
  {
   "cell_type": "code",
   "execution_count": 11,
   "metadata": {},
   "outputs": [
    {
     "data": {
      "text/plain": [
       "Month                       0.00000\n",
       "Age                         0.00000\n",
       "Occupation                  0.00000\n",
       "Annual_Income               0.00000\n",
       "Monthly_Inhand_Salary       0.15002\n",
       "Num_Bank_Accounts           0.00000\n",
       "Num_Credit_Card             0.00000\n",
       "Interest_Rate               0.00000\n",
       "Num_of_Loan                 0.00000\n",
       "Type_of_Loan                0.11408\n",
       "Delay_from_due_date         0.00000\n",
       "Num_of_Delayed_Payment      0.07002\n",
       "Changed_Credit_Limit        0.00000\n",
       "Num_Credit_Inquiries        0.01965\n",
       "Credit_Mix                  0.00000\n",
       "Outstanding_Debt            0.00000\n",
       "Credit_Utilization_Ratio    0.00000\n",
       "Credit_History_Age          0.09030\n",
       "Payment_of_Min_Amount       0.00000\n",
       "Total_EMI_per_month         0.00000\n",
       "Amount_invested_monthly     0.04479\n",
       "Payment_Behaviour           0.00000\n",
       "Monthly_Balance             0.01200\n",
       "Credit_Score                0.00000\n",
       "dtype: float64"
      ]
     },
     "execution_count": 11,
     "metadata": {},
     "output_type": "execute_result"
    }
   ],
   "source": [
    "df_train.isna().sum()/len(df_train)"
   ]
  },
  {
   "cell_type": "code",
   "execution_count": 31,
   "metadata": {},
   "outputs": [],
   "source": [
    "df_train[\"Age\"] = df_train[\"Age\"].str.replace(\"_\", \"\")\n",
    "df_train[\"Age\"] = pd.to_numeric(df_train[\"Age\"])\n",
    "df_train.loc[(df_train.Age) > 100, 'Age'] = None\n",
    "df_train.loc[(df_train.Age) < 18, 'Age'] = None"
   ]
  },
  {
   "cell_type": "code",
   "execution_count": 32,
   "metadata": {},
   "outputs": [
    {
     "data": {
      "text/plain": [
       "_______          0.07062\n",
       "Lawyer           0.06575\n",
       "Architect        0.06355\n",
       "Engineer         0.06350\n",
       "Scientist        0.06299\n",
       "Mechanic         0.06291\n",
       "Accountant       0.06271\n",
       "Developer        0.06235\n",
       "Media_Manager    0.06232\n",
       "Teacher          0.06215\n",
       "Entrepreneur     0.06174\n",
       "Doctor           0.06087\n",
       "Journalist       0.06085\n",
       "Manager          0.05973\n",
       "Musician         0.05911\n",
       "Writer           0.05885\n",
       "Name: Occupation, dtype: float64"
      ]
     },
     "execution_count": 32,
     "metadata": {},
     "output_type": "execute_result"
    }
   ],
   "source": [
    "df_train[\"Occupation\"].value_counts(normalize=True)"
   ]
  },
  {
   "cell_type": "code",
   "execution_count": 33,
   "metadata": {},
   "outputs": [],
   "source": [
    "df_train.loc[df_train.Occupation == '_______', 'Occupation'] = 'Other'"
   ]
  },
  {
   "cell_type": "code",
   "execution_count": 34,
   "metadata": {},
   "outputs": [],
   "source": [
    "df_train[\"Annual_Income\"] = df_train[\"Annual_Income\"].str.replace(\"_\", \"\")\n",
    "df_train[\"Annual_Income\"] = pd.to_numeric(df_train[\"Annual_Income\"])"
   ]
  },
  {
   "cell_type": "code",
   "execution_count": 35,
   "metadata": {},
   "outputs": [
    {
     "data": {
      "text/plain": [
       "6       13001\n",
       "7       12823\n",
       "8       12765\n",
       "4       12186\n",
       "5       12118\n",
       "        ...  \n",
       "1626        1\n",
       "1470        1\n",
       "887         1\n",
       "211         1\n",
       "697         1\n",
       "Name: Num_Bank_Accounts, Length: 943, dtype: int64"
      ]
     },
     "execution_count": 35,
     "metadata": {},
     "output_type": "execute_result"
    }
   ],
   "source": [
    "df_train[\"Num_Bank_Accounts\"].value_counts()"
   ]
  },
  {
   "cell_type": "code",
   "execution_count": 38,
   "metadata": {},
   "outputs": [],
   "source": [
    "for col in ['Num_Bank_Accounts', 'Num_Credit_Card', 'Interest_Rate']:\n",
    "    df_train.loc[df_train[col] > 100, col] = None"
   ]
  },
  {
   "cell_type": "code",
   "execution_count": 39,
   "metadata": {},
   "outputs": [],
   "source": [
    "df_train[\"Num_of_Loan\"] = df_train[\"Num_of_Loan\"].str.replace(\"_\", \"\")\n",
    "df_train[\"Num_of_Loan\"] = pd.to_numeric(df_train[\"Num_of_Loan\"])"
   ]
  },
  {
   "cell_type": "code",
   "execution_count": 41,
   "metadata": {},
   "outputs": [],
   "source": [
    "df_train.loc[(df_train.Num_of_Loan > 50) | \n",
    "             (df_train.Num_of_Loan == -100), 'Num_of_Loan'] = None"
   ]
  },
  {
   "cell_type": "code",
   "execution_count": 42,
   "metadata": {},
   "outputs": [],
   "source": [
    "df_train[\"Num_of_Delayed_Payment\"] = df_train[\"Num_of_Delayed_Payment\"].str.replace(\"_\", \"\")\n",
    "df_train[\"Num_of_Delayed_Payment\"] = pd.to_numeric(df_train[\"Num_of_Delayed_Payment\"])"
   ]
  },
  {
   "cell_type": "code",
   "execution_count": 43,
   "metadata": {},
   "outputs": [],
   "source": [
    "df_train.loc[df_train.Changed_Credit_Limit == '_'] = None"
   ]
  },
  {
   "cell_type": "code",
   "execution_count": 44,
   "metadata": {},
   "outputs": [],
   "source": [
    "df_train[\"Outstanding_Debt\"] = df_train[\"Outstanding_Debt\"].str.replace(\"_\", \"\")\n",
    "df_train[\"Outstanding_Debt\"] = pd.to_numeric(df_train[\"Outstanding_Debt\"])"
   ]
  },
  {
   "cell_type": "code",
   "execution_count": 45,
   "metadata": {},
   "outputs": [
    {
     "data": {
      "text/plain": [
       "0         22 Years and 1 Months\n",
       "1                           NaN\n",
       "2                          None\n",
       "3         22 Years and 4 Months\n",
       "4         22 Years and 5 Months\n",
       "                  ...          \n",
       "99995     31 Years and 6 Months\n",
       "99996     31 Years and 7 Months\n",
       "99997     31 Years and 8 Months\n",
       "99998     31 Years and 9 Months\n",
       "99999    31 Years and 10 Months\n",
       "Name: Credit_History_Age, Length: 100000, dtype: object"
      ]
     },
     "execution_count": 45,
     "metadata": {},
     "output_type": "execute_result"
    }
   ],
   "source": [
    "df_train['Credit_History_Age']"
   ]
  },
  {
   "cell_type": "code",
   "execution_count": null,
   "metadata": {},
   "outputs": [],
   "source": []
  }
 ],
 "metadata": {
  "kernelspec": {
   "display_name": "Python 3.9.13 ('base')",
   "language": "python",
   "name": "python3"
  },
  "language_info": {
   "codemirror_mode": {
    "name": "ipython",
    "version": 3
   },
   "file_extension": ".py",
   "mimetype": "text/x-python",
   "name": "python",
   "nbconvert_exporter": "python",
   "pygments_lexer": "ipython3",
   "version": "3.9.13"
  },
  "orig_nbformat": 4,
  "vscode": {
   "interpreter": {
    "hash": "c6e4e9f98eb68ad3b7c296f83d20e6de614cb42e90992a65aa266555a3137d0d"
   }
  }
 },
 "nbformat": 4,
 "nbformat_minor": 2
}
