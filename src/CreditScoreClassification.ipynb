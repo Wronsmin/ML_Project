{
 "cells": [
  {
   "cell_type": "code",
   "execution_count": 2,
   "metadata": {},
   "outputs": [],
   "source": [
    "import numpy as np \n",
    "import pandas as pd \n",
    "import matplotlib.pyplot as plt \n",
    "from sklearn.preprocessing import LabelEncoder, OneHotEncoder\n",
    "from sklearn.model_selection import train_test_split\n",
    "from sklearn.preprocessing import MinMaxScaler\n",
    "\n",
    "import tensorflow\n",
    "from tensorflow.keras import Sequential\n",
    "from tensorflow.keras.optimizers import Adam\n",
    "from tensorflow.keras.layers import Dense, Input\n",
    "from tensorflow.keras.losses import SparseCategoricalCrossentropy\n",
    "from keras.callbacks import EarlyStopping\n",
    "\n",
    "scaler = MinMaxScaler()"
   ]
  },
  {
   "cell_type": "code",
   "execution_count": 2,
   "metadata": {},
   "outputs": [],
   "source": [
    "df = pd.read_csv(\"../Data/train_preprocessed.csv\", low_memory=False)\n",
    "\n",
    "features = [\"Num_of_Loan\", \"Num_of_Delayed_Payment\", \"Interest_Rate\", 'Annual_Income']\n",
    "X = df[features].to_numpy()\n",
    "\n",
    "y = df[\"Credit_Score\"].to_numpy()\n",
    "le = LabelEncoder()\n",
    "le.fit(y)\n",
    "\n",
    "y_norm = le.transform(y)"
   ]
  },
  {
   "cell_type": "code",
   "execution_count": 54,
   "metadata": {},
   "outputs": [],
   "source": [
    "num = df.drop(columns=['Credit_Score']).select_dtypes(include=['number']).columns\n",
    "cat = df.drop(columns=['Credit_Score', 'Customer_ID']).select_dtypes(include=['object']).columns"
   ]
  },
  {
   "cell_type": "markdown",
   "metadata": {},
   "source": [
    "# Feature Selection with:\n",
    "1. Mutual Information \n",
    "2. PCA\n",
    "3. Gini (non quella di H.P.)\n",
    "4. Random Forest (information Gain)"
   ]
  },
  {
   "cell_type": "code",
   "execution_count": 55,
   "metadata": {},
   "outputs": [],
   "source": [
    "from sklearn.feature_selection import mutual_info_regression, mutual_info_classif\n",
    "\n",
    "#mutual_info_classif(df, y_norm)\n",
    "MI_num = mutual_info_regression(df[num], y_norm)\n",
    "MI_num_scores = pd.Series(dict(zip(num, MI_num))).sort_values(ascending=False)"
   ]
  },
  {
   "cell_type": "code",
   "execution_count": 56,
   "metadata": {},
   "outputs": [],
   "source": [
    "MI_cat = mutual_info_classif(df[cat].apply(LabelEncoder().fit_transform), y_norm)\n",
    "MI_cat_scores = pd.Series(dict(zip(cat, MI_cat))).sort_values(ascending=False)"
   ]
  },
  {
   "cell_type": "code",
   "execution_count": 57,
   "metadata": {},
   "outputs": [
    {
     "data": {
      "text/plain": [
       "(Outstanding_Debt            0.524132\n",
       " Monthly_Inhand_Salary       0.504840\n",
       " Total_EMI_per_month         0.471704\n",
       " Interest_Rate               0.180159\n",
       " Delay_from_due_date         0.123089\n",
       " Changed_Credit_Limit        0.118699\n",
       " Num_Credit_Inquiries        0.116184\n",
       " Num_Credit_Card             0.108838\n",
       " Credit_History_Age          0.105217\n",
       " Num_Bank_Accounts           0.099165\n",
       " Num_of_Delayed_Payment      0.088460\n",
       " Num_of_Loan                 0.073841\n",
       " Annual_Income               0.051417\n",
       " Monthly_Balance             0.030336\n",
       " Age                         0.021721\n",
       " Amount_invested_monthly     0.010677\n",
       " Credit_Utilization_Ratio    0.001324\n",
       " dtype: float64,\n",
       " Type_of_Loan             0.311855\n",
       " Credit_Mix               0.156430\n",
       " Payment_of_Min_Amount    0.110456\n",
       " Payment_Behaviour        0.006027\n",
       " Occupation               0.002327\n",
       " Month                    0.000206\n",
       " dtype: float64)"
      ]
     },
     "execution_count": 57,
     "metadata": {},
     "output_type": "execute_result"
    }
   ],
   "source": [
    "MI_num_scores,  MI_cat_scores"
   ]
  },
  {
   "cell_type": "markdown",
   "metadata": {},
   "source": [
    "# Building the Model Datasets"
   ]
  },
  {
   "cell_type": "code",
   "execution_count": 4,
   "metadata": {},
   "outputs": [
    {
     "ename": "NameError",
     "evalue": "name 'num' is not defined",
     "output_type": "error",
     "traceback": [
      "\u001b[1;31m---------------------------------------------------------------------------\u001b[0m",
      "\u001b[1;31mNameError\u001b[0m                                 Traceback (most recent call last)",
      "\u001b[1;32md:\\Desktop\\Python\\ML_Project\\src\\CreditScoreClassification.ipynb Cella 9\u001b[0m in \u001b[0;36m<cell line: 15>\u001b[1;34m()\u001b[0m\n\u001b[0;32m      <a href='vscode-notebook-cell:/d%3A/Desktop/Python/ML_Project/src/CreditScoreClassification.ipynb#X11sZmlsZQ%3D%3D?line=8'>9</a>\u001b[0m cat_preprocessor \u001b[39m=\u001b[39m Pipeline([(\u001b[39m\"\u001b[39m\u001b[39mimputer\u001b[39m\u001b[39m\"\u001b[39m, SimpleImputer(strategy\u001b[39m=\u001b[39m\u001b[39m\"\u001b[39m\u001b[39mmost_frequent\u001b[39m\u001b[39m\"\u001b[39m)),\n\u001b[0;32m     <a href='vscode-notebook-cell:/d%3A/Desktop/Python/ML_Project/src/CreditScoreClassification.ipynb#X11sZmlsZQ%3D%3D?line=9'>10</a>\u001b[0m                             (\u001b[39m\"\u001b[39m\u001b[39monehot\u001b[39m\u001b[39m\"\u001b[39m, OneHotEncoder(sparse\u001b[39m=\u001b[39m\u001b[39mTrue\u001b[39;00m, handle_unknown\u001b[39m=\u001b[39m\u001b[39m\"\u001b[39m\u001b[39mignore\u001b[39m\u001b[39m\"\u001b[39m))])\n\u001b[0;32m     <a href='vscode-notebook-cell:/d%3A/Desktop/Python/ML_Project/src/CreditScoreClassification.ipynb#X11sZmlsZQ%3D%3D?line=11'>12</a>\u001b[0m num_preprocessor \u001b[39m=\u001b[39m Pipeline([\n\u001b[0;32m     <a href='vscode-notebook-cell:/d%3A/Desktop/Python/ML_Project/src/CreditScoreClassification.ipynb#X11sZmlsZQ%3D%3D?line=12'>13</a>\u001b[0m                             (\u001b[39m\"\u001b[39m\u001b[39mimputer\u001b[39m\u001b[39m\"\u001b[39m, SimpleImputer(strategy\u001b[39m=\u001b[39m\u001b[39m\"\u001b[39m\u001b[39mmedian\u001b[39m\u001b[39m\"\u001b[39m))])\n\u001b[0;32m     <a href='vscode-notebook-cell:/d%3A/Desktop/Python/ML_Project/src/CreditScoreClassification.ipynb#X11sZmlsZQ%3D%3D?line=14'>15</a>\u001b[0m preprocessor \u001b[39m=\u001b[39m ColumnTransformer([\n\u001b[1;32m---> <a href='vscode-notebook-cell:/d%3A/Desktop/Python/ML_Project/src/CreditScoreClassification.ipynb#X11sZmlsZQ%3D%3D?line=15'>16</a>\u001b[0m     (\u001b[39m\"\u001b[39m\u001b[39mnumerical\u001b[39m\u001b[39m\"\u001b[39m, num_preprocessor, num),\n\u001b[0;32m     <a href='vscode-notebook-cell:/d%3A/Desktop/Python/ML_Project/src/CreditScoreClassification.ipynb#X11sZmlsZQ%3D%3D?line=16'>17</a>\u001b[0m     (\u001b[39m\"\u001b[39m\u001b[39mcategorical\u001b[39m\u001b[39m\"\u001b[39m, cat_preprocessor, cat)\n\u001b[0;32m     <a href='vscode-notebook-cell:/d%3A/Desktop/Python/ML_Project/src/CreditScoreClassification.ipynb#X11sZmlsZQ%3D%3D?line=17'>18</a>\u001b[0m ])\n\u001b[0;32m     <a href='vscode-notebook-cell:/d%3A/Desktop/Python/ML_Project/src/CreditScoreClassification.ipynb#X11sZmlsZQ%3D%3D?line=19'>20</a>\u001b[0m \u001b[39m## Transforming\u001b[39;00m\n\u001b[0;32m     <a href='vscode-notebook-cell:/d%3A/Desktop/Python/ML_Project/src/CreditScoreClassification.ipynb#X11sZmlsZQ%3D%3D?line=20'>21</a>\u001b[0m X_train \u001b[39m=\u001b[39m preprocessor\u001b[39m.\u001b[39mfit_transform(X_train)\n",
      "\u001b[1;31mNameError\u001b[0m: name 'num' is not defined"
     ]
    }
   ],
   "source": [
    "from sklearn.preprocessing import OneHotEncoder\n",
    "from sklearn.compose import ColumnTransformer\n",
    "from sklearn.impute import SimpleImputer\n",
    "\n",
    "from imblearn.pipeline import Pipeline \n",
    "from imblearn.over_sampling import RandomOverSampler\n",
    "\n",
    "\n",
    "cat_preprocessor = Pipeline([(\"imputer\", SimpleImputer(strategy=\"most_frequent\")),\n",
    "                            (\"onehot\", OneHotEncoder(sparse=True, handle_unknown=\"ignore\"))])\n",
    "\n",
    "num_preprocessor = Pipeline([\n",
    "                            (\"imputer\", SimpleImputer(strategy=\"median\"))])\n",
    "\n",
    "preprocessor = ColumnTransformer([\n",
    "    (\"numerical\", num_preprocessor, num),\n",
    "    (\"categorical\", cat_preprocessor, cat)\n",
    "])\n",
    "\n",
    "## Transforming\n",
    "X_train = preprocessor.fit_transform(X_train)\n",
    "X_val = preprocessor.transform(X_val)\n",
    "X_test = preprocessor.transform(X_test)"
   ]
  },
  {
   "cell_type": "code",
   "execution_count": 69,
   "metadata": {},
   "outputs": [],
   "source": [
    "features_cat = list(MI_cat_scores[MI_cat_scores > 0.14].index)\n",
    "features_num = list(MI_num_scores[MI_num_scores > 0.14].index)\n",
    "\n",
    "X_cat = df[features_cat].apply(LabelEncoder().fit_transform).to_numpy()\n",
    "X_num = df[features_num].to_numpy()\n",
    "X_num = scaler.fit_transform(X_num)\n",
    "\n",
    "X = np.column_stack([X_cat, X_num])"
   ]
  },
  {
   "cell_type": "code",
   "execution_count": 70,
   "metadata": {},
   "outputs": [],
   "source": [
    "le = LabelEncoder()\n",
    "le.fit(y)\n",
    "\n",
    "y_norm = le.transform(y)"
   ]
  },
  {
   "cell_type": "code",
   "execution_count": 71,
   "metadata": {},
   "outputs": [],
   "source": [
    "X_train, X_test, y_train, y_test = train_test_split(X, y_norm, test_size=0.2)"
   ]
  },
  {
   "cell_type": "code",
   "execution_count": 72,
   "metadata": {},
   "outputs": [],
   "source": [
    "n_input = X.shape[-1]\n",
    "n_output = np.unique(y_norm).size"
   ]
  },
  {
   "cell_type": "code",
   "execution_count": 73,
   "metadata": {},
   "outputs": [],
   "source": [
    "Arch = [\n",
    "    Dense(units=n_input, activation='relu'),\n",
    "    Dense(units=n_output, activation='linear')\n",
    "]\n",
    "\n",
    "model = Sequential(Arch)"
   ]
  },
  {
   "cell_type": "code",
   "execution_count": 74,
   "metadata": {},
   "outputs": [],
   "source": [
    "opt = Adam(learning_rate=0.01)\n",
    "\n",
    "model.compile(loss=SparseCategoricalCrossentropy(from_logits=True), optimizer=opt)"
   ]
  },
  {
   "cell_type": "code",
   "execution_count": 75,
   "metadata": {},
   "outputs": [
    {
     "name": "stdout",
     "output_type": "stream",
     "text": [
      "Epoch 1/100\n",
      "924/924 [==============================] - 1s 1ms/step - loss: 17.7101 - val_loss: 3.2290\n",
      "Epoch 2/100\n",
      "924/924 [==============================] - 1s 850us/step - loss: 3.7502 - val_loss: 1.9407\n",
      "Epoch 3/100\n",
      "924/924 [==============================] - 1s 853us/step - loss: 2.3350 - val_loss: 2.6378\n",
      "Epoch 4/100\n",
      "924/924 [==============================] - 1s 821us/step - loss: 1.5564 - val_loss: 0.9286\n",
      "Epoch 5/100\n",
      "924/924 [==============================] - 1s 837us/step - loss: 1.3582 - val_loss: 0.9237\n",
      "Epoch 6/100\n",
      "924/924 [==============================] - 1s 835us/step - loss: 1.0700 - val_loss: 1.2844\n",
      "Epoch 7/100\n",
      "924/924 [==============================] - 1s 836us/step - loss: 0.9811 - val_loss: 0.8965\n",
      "Epoch 8/100\n",
      "924/924 [==============================] - 1s 814us/step - loss: 0.9483 - val_loss: 0.9082\n",
      "Epoch 9/100\n",
      "924/924 [==============================] - 1s 821us/step - loss: 0.9722 - val_loss: 0.9831\n",
      "Epoch 10/100\n",
      "924/924 [==============================] - 1s 835us/step - loss: 0.9812 - val_loss: 0.9739\n",
      "Epoch 11/100\n",
      "924/924 [==============================] - 1s 819us/step - loss: 0.9887 - val_loss: 0.9893\n",
      "Epoch 12/100\n",
      "924/924 [==============================] - 1s 813us/step - loss: 0.9903 - val_loss: 0.8877\n",
      "Epoch 13/100\n",
      "924/924 [==============================] - 1s 824us/step - loss: 0.9897 - val_loss: 0.9845\n",
      "Epoch 14/100\n",
      "924/924 [==============================] - 1s 829us/step - loss: 0.9928 - val_loss: 0.9890\n",
      "Epoch 15/100\n",
      "924/924 [==============================] - 1s 864us/step - loss: 0.9938 - val_loss: 0.9890\n",
      "Epoch 16/100\n",
      "924/924 [==============================] - 1s 824us/step - loss: 0.9961 - val_loss: 0.9902\n",
      "Epoch 17/100\n",
      "924/924 [==============================] - 1s 862us/step - loss: 0.9982 - val_loss: 0.9920\n",
      "Epoch 18/100\n",
      "924/924 [==============================] - 1s 910us/step - loss: 0.9980 - val_loss: 0.9930\n",
      "Epoch 19/100\n",
      "924/924 [==============================] - 1s 857us/step - loss: 0.9979 - val_loss: 0.9903\n",
      "Epoch 20/100\n",
      "924/924 [==============================] - 1s 843us/step - loss: 1.0048 - val_loss: 0.9930\n",
      "Epoch 21/100\n",
      "924/924 [==============================] - 1s 853us/step - loss: 1.0001 - val_loss: 0.9936\n",
      "Epoch 22/100\n",
      "924/924 [==============================] - 1s 844us/step - loss: 1.0193 - val_loss: 0.9936\n",
      "Epoch 23/100\n",
      "924/924 [==============================] - 1s 842us/step - loss: 0.9997 - val_loss: 0.9910\n",
      "Epoch 24/100\n",
      "924/924 [==============================] - 1s 842us/step - loss: 0.9995 - val_loss: 0.9930\n",
      "Epoch 25/100\n",
      "924/924 [==============================] - 1s 864us/step - loss: 0.9997 - val_loss: 0.9911\n",
      "Epoch 26/100\n",
      "924/924 [==============================] - 1s 846us/step - loss: 0.9993 - val_loss: 0.9923\n",
      "Epoch 27/100\n",
      "924/924 [==============================] - 1s 885us/step - loss: 0.9992 - val_loss: 0.9905\n",
      "Epoch 28/100\n",
      "924/924 [==============================] - 1s 846us/step - loss: 0.9988 - val_loss: 0.9935\n",
      "Epoch 29/100\n",
      "924/924 [==============================] - 1s 860us/step - loss: 0.9992 - val_loss: 0.9930\n",
      "Epoch 30/100\n",
      "924/924 [==============================] - 1s 857us/step - loss: 1.0004 - val_loss: 0.9928\n",
      "Epoch 31/100\n",
      "924/924 [==============================] - 1s 853us/step - loss: 0.9995 - val_loss: 0.9954\n",
      "Epoch 32/100\n",
      "924/924 [==============================] - 1s 846us/step - loss: 1.0059 - val_loss: 0.9947\n",
      "Epoch 33/100\n",
      "924/924 [==============================] - 1s 844us/step - loss: 0.9999 - val_loss: 0.9927\n",
      "Epoch 34/100\n",
      "924/924 [==============================] - 1s 848us/step - loss: 0.9992 - val_loss: 0.9938\n",
      "Epoch 35/100\n",
      "924/924 [==============================] - 1s 846us/step - loss: 0.9993 - val_loss: 0.9920\n",
      "Epoch 36/100\n",
      "924/924 [==============================] - 1s 839us/step - loss: 0.9993 - val_loss: 0.9916\n",
      "Epoch 37/100\n",
      "924/924 [==============================] - 1s 860us/step - loss: 0.9990 - val_loss: 0.9943\n",
      "Epoch 38/100\n",
      "924/924 [==============================] - 1s 844us/step - loss: 0.9994 - val_loss: 0.9927\n",
      "Epoch 39/100\n",
      "924/924 [==============================] - 1s 850us/step - loss: 0.9991 - val_loss: 0.9942\n",
      "Epoch 40/100\n",
      "924/924 [==============================] - 1s 852us/step - loss: 0.9991 - val_loss: 0.9927\n",
      "Epoch 41/100\n",
      "924/924 [==============================] - 1s 885us/step - loss: 1.0078 - val_loss: 1.0113\n",
      "Epoch 42/100\n",
      "924/924 [==============================] - 1s 854us/step - loss: 0.9993 - val_loss: 0.9914\n",
      "Epoch 43/100\n",
      "924/924 [==============================] - 1s 839us/step - loss: 0.9987 - val_loss: 0.9911\n",
      "Epoch 44/100\n",
      "924/924 [==============================] - 1s 864us/step - loss: 0.9991 - val_loss: 0.9910\n",
      "Epoch 45/100\n",
      "924/924 [==============================] - 1s 847us/step - loss: 0.9998 - val_loss: 0.9937\n",
      "Epoch 46/100\n",
      "924/924 [==============================] - 1s 848us/step - loss: 0.9998 - val_loss: 0.9936\n",
      "Epoch 47/100\n",
      "924/924 [==============================] - 1s 856us/step - loss: 0.9994 - val_loss: 0.9930\n",
      "Epoch 48/100\n",
      "924/924 [==============================] - 1s 846us/step - loss: 0.9989 - val_loss: 0.9933\n",
      "Epoch 49/100\n",
      "924/924 [==============================] - 1s 843us/step - loss: 0.9993 - val_loss: 0.9922\n",
      "Epoch 50/100\n",
      "924/924 [==============================] - 1s 858us/step - loss: 0.9991 - val_loss: 0.9925\n",
      "Epoch 51/100\n",
      "924/924 [==============================] - 1s 847us/step - loss: 1.0118 - val_loss: 0.9957\n",
      "Epoch 52/100\n",
      "924/924 [==============================] - 1s 847us/step - loss: 1.0006 - val_loss: 0.9951\n",
      "Epoch 53/100\n",
      "924/924 [==============================] - 1s 850us/step - loss: 0.9994 - val_loss: 0.9951\n",
      "Epoch 54/100\n",
      "924/924 [==============================] - 1s 859us/step - loss: 1.0224 - val_loss: 0.9937\n",
      "Epoch 55/100\n",
      "924/924 [==============================] - 1s 859us/step - loss: 0.9993 - val_loss: 0.9947\n",
      "Epoch 56/100\n",
      "924/924 [==============================] - 1s 889us/step - loss: 1.0042 - val_loss: 0.9992\n",
      "Epoch 57/100\n",
      "924/924 [==============================] - 1s 844us/step - loss: 0.9995 - val_loss: 0.9937\n",
      "Epoch 58/100\n",
      "924/924 [==============================] - 1s 849us/step - loss: 0.9994 - val_loss: 0.9934\n",
      "Epoch 59/100\n",
      "924/924 [==============================] - 1s 857us/step - loss: 0.9989 - val_loss: 0.9950\n",
      "Epoch 60/100\n",
      "924/924 [==============================] - 1s 871us/step - loss: 0.9987 - val_loss: 0.9958\n",
      "Epoch 61/100\n",
      "924/924 [==============================] - 1s 851us/step - loss: 0.9993 - val_loss: 0.9957\n",
      "Epoch 62/100\n",
      "924/924 [==============================] - 1s 848us/step - loss: 0.9986 - val_loss: 0.9954\n",
      "Epoch 63/100\n",
      "924/924 [==============================] - 1s 844us/step - loss: 0.9989 - val_loss: 0.9975\n",
      "Epoch 64/100\n",
      "924/924 [==============================] - 1s 845us/step - loss: 0.9989 - val_loss: 0.9980\n",
      "Epoch 65/100\n",
      "924/924 [==============================] - 1s 859us/step - loss: 0.9987 - val_loss: 0.9960\n",
      "Epoch 66/100\n",
      "924/924 [==============================] - 1s 871us/step - loss: 0.9989 - val_loss: 0.9964\n",
      "Epoch 67/100\n",
      "924/924 [==============================] - 1s 845us/step - loss: 0.9987 - val_loss: 1.0016\n",
      "Epoch 68/100\n",
      "924/924 [==============================] - 1s 848us/step - loss: 0.9989 - val_loss: 0.9972\n",
      "Epoch 69/100\n",
      "924/924 [==============================] - 1s 858us/step - loss: 1.0320 - val_loss: 0.9986\n",
      "Epoch 70/100\n",
      "924/924 [==============================] - 1s 886us/step - loss: 0.9990 - val_loss: 0.9968\n",
      "Epoch 71/100\n",
      "924/924 [==============================] - 1s 857us/step - loss: 0.9989 - val_loss: 0.9991\n",
      "Epoch 72/100\n",
      "924/924 [==============================] - 1s 860us/step - loss: 0.9990 - val_loss: 0.9985\n",
      "Epoch 73/100\n",
      "924/924 [==============================] - 1s 849us/step - loss: 0.9992 - val_loss: 0.9972\n",
      "Epoch 74/100\n",
      "924/924 [==============================] - 1s 842us/step - loss: 1.0772 - val_loss: 0.9981\n",
      "Epoch 75/100\n",
      "924/924 [==============================] - 1s 843us/step - loss: 0.9990 - val_loss: 0.9990\n",
      "Epoch 76/100\n",
      "924/924 [==============================] - 1s 848us/step - loss: 0.9984 - val_loss: 0.9999\n",
      "Epoch 77/100\n",
      "924/924 [==============================] - 1s 844us/step - loss: 0.9981 - val_loss: 1.0000\n",
      "Epoch 78/100\n",
      "924/924 [==============================] - 1s 888us/step - loss: 0.9985 - val_loss: 1.0035\n",
      "Epoch 79/100\n",
      "924/924 [==============================] - 1s 879us/step - loss: 0.9987 - val_loss: 1.0019\n",
      "Epoch 80/100\n",
      "924/924 [==============================] - 1s 852us/step - loss: 0.9987 - val_loss: 1.0031\n",
      "Epoch 81/100\n",
      "924/924 [==============================] - 1s 844us/step - loss: 0.9983 - val_loss: 1.0005\n",
      "Epoch 82/100\n",
      "924/924 [==============================] - 1s 861us/step - loss: 1.0096 - val_loss: 0.9994\n",
      "Epoch 83/100\n",
      "924/924 [==============================] - 1s 847us/step - loss: 0.9990 - val_loss: 0.9987\n",
      "Epoch 84/100\n",
      "924/924 [==============================] - 1s 883us/step - loss: 0.9986 - val_loss: 0.9994\n",
      "Epoch 85/100\n",
      "924/924 [==============================] - 1s 839us/step - loss: 0.9985 - val_loss: 0.9969\n",
      "Epoch 86/100\n",
      "924/924 [==============================] - 1s 850us/step - loss: 0.9985 - val_loss: 0.9994\n",
      "Epoch 87/100\n",
      "924/924 [==============================] - 1s 846us/step - loss: 0.9988 - val_loss: 0.9984\n",
      "Epoch 88/100\n",
      "924/924 [==============================] - 1s 855us/step - loss: 0.9981 - val_loss: 1.0009\n",
      "Epoch 89/100\n",
      "924/924 [==============================] - 1s 852us/step - loss: 0.9982 - val_loss: 1.0002\n",
      "Epoch 90/100\n",
      "924/924 [==============================] - 1s 848us/step - loss: 0.9984 - val_loss: 0.9996\n",
      "Epoch 91/100\n",
      "924/924 [==============================] - 1s 849us/step - loss: 0.9981 - val_loss: 1.0007\n",
      "Epoch 92/100\n",
      "924/924 [==============================] - 1s 849us/step - loss: 0.9981 - val_loss: 1.0020\n",
      "Epoch 93/100\n",
      "924/924 [==============================] - 1s 848us/step - loss: 0.9982 - val_loss: 1.0028\n",
      "Epoch 94/100\n",
      "924/924 [==============================] - 1s 859us/step - loss: 1.0626 - val_loss: 1.0950\n",
      "Epoch 95/100\n",
      "924/924 [==============================] - 1s 847us/step - loss: 1.0633 - val_loss: 1.0069\n",
      "Epoch 96/100\n",
      "924/924 [==============================] - 1s 848us/step - loss: 0.9992 - val_loss: 1.0048\n",
      "Epoch 97/100\n",
      "924/924 [==============================] - 1s 844us/step - loss: 0.9986 - val_loss: 1.0079\n",
      "Epoch 98/100\n",
      "924/924 [==============================] - 1s 857us/step - loss: 0.9986 - val_loss: 1.0054\n",
      "Epoch 99/100\n",
      "924/924 [==============================] - 1s 892us/step - loss: 0.9984 - val_loss: 1.0055\n",
      "Epoch 100/100\n",
      "924/924 [==============================] - 1s 847us/step - loss: 0.9985 - val_loss: 1.0098\n"
     ]
    }
   ],
   "source": [
    "history = model.fit(X_train, y_train, epochs=100, validation_split=0.2)"
   ]
  },
  {
   "cell_type": "code",
   "execution_count": 76,
   "metadata": {},
   "outputs": [],
   "source": [
    "logits = model(X_train)\n",
    "f_X = tensorflow.nn.softmax(logits)"
   ]
  },
  {
   "cell_type": "code",
   "execution_count": 77,
   "metadata": {},
   "outputs": [],
   "source": [
    "y_hat = np.argmax(f_X, axis=1)"
   ]
  },
  {
   "cell_type": "code",
   "execution_count": 78,
   "metadata": {},
   "outputs": [
    {
     "data": {
      "text/plain": [
       "(array([0, 1, 2], dtype=int64), array([   58,    12, 36868], dtype=int64))"
      ]
     },
     "execution_count": 78,
     "metadata": {},
     "output_type": "execute_result"
    }
   ],
   "source": [
    "np.unique(np.argmax(f_X, axis=1), return_counts=1)"
   ]
  },
  {
   "cell_type": "code",
   "execution_count": 79,
   "metadata": {},
   "outputs": [],
   "source": [
    "from sklearn.metrics import classification_report, confusion_matrix"
   ]
  },
  {
   "cell_type": "code",
   "execution_count": 80,
   "metadata": {},
   "outputs": [
    {
     "name": "stdout",
     "output_type": "stream",
     "text": [
      "              precision    recall  f1-score   support\n",
      "\n",
      "           0       0.60      0.01      0.01      6279\n",
      "           1       0.33      0.00      0.00     11185\n",
      "           2       0.53      1.00      0.69     19474\n",
      "\n",
      "    accuracy                           0.53     36938\n",
      "   macro avg       0.49      0.34      0.23     36938\n",
      "weighted avg       0.48      0.53      0.37     36938\n",
      "\n"
     ]
    }
   ],
   "source": [
    "print(classification_report(y_train, y_hat))"
   ]
  },
  {
   "cell_type": "code",
   "execution_count": 81,
   "metadata": {},
   "outputs": [
    {
     "data": {
      "text/plain": [
       "[<matplotlib.lines.Line2D at 0x2c93bbecf10>]"
      ]
     },
     "execution_count": 81,
     "metadata": {},
     "output_type": "execute_result"
    },
    {
     "data": {
      "image/png": "[encoded data removed]",
      "text/plain": [
       "<Figure size 432x288 with 1 Axes>"
      ]
     },
     "metadata": {
      "needs_background": "light"
     },
     "output_type": "display_data"
    }
   ],
   "source": [
    "plt.plot(history.history[\"loss\"])\n",
    "plt.plot(history.history[\"val_loss\"])\n",
    "#plt.xlim(20,100)"
   ]
  }
 ],
 "metadata": {
  "kernelspec": {
   "display_name": "Python 3.10.6 64-bit",
   "language": "python",
   "name": "python3"
  },
  "language_info": {
   "codemirror_mode": {
    "name": "ipython",
    "version": 3
   },
   "file_extension": ".py",
   "mimetype": "text/x-python",
   "name": "python",
   "nbconvert_exporter": "python",
   "pygments_lexer": "ipython3",
   "version": "3.10.6"
  },
  "orig_nbformat": 4,
  "vscode": {
   "interpreter": {
    "hash": "d043bfe52fdbcdd9ce254683947552669d52a2490379de95516b9980b91447e7"
   }
  }
 },
 "nbformat": 4,
 "nbformat_minor": 2
}
