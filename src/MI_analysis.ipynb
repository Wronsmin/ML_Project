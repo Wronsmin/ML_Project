{
 "cells": [
  {
   "cell_type": "code",
   "execution_count": 10,
   "metadata": {},
   "outputs": [],
   "source": [
    "import pandas as pd \n",
    "import numpy as np \n",
    "from sklearn.model_selection import train_test_split\n",
    "from sklearn.impute import SimpleImputer\n",
    "from sklearn.preprocessing import OneHotEncoder, LabelEncoder\n",
    "\n",
    "#scaler = MinMaxScaler()"
   ]
  },
  {
   "cell_type": "code",
   "execution_count": 11,
   "metadata": {},
   "outputs": [],
   "source": [
    "file = 'train_preprocessed.csv'\n",
    "df = pd.read_csv(f\"../Data/{file}\", low_memory=False)\n",
    "\n",
    "y = df[\"Credit_Score\"].to_numpy()"
   ]
  },
  {
   "cell_type": "code",
   "execution_count": 12,
   "metadata": {},
   "outputs": [],
   "source": [
    "if file == 'train_preprocessed.csv':\n",
    "    features_int = list(df.select_dtypes(include=[\"number\"]).columns[-10:])\n",
    "    features_cat = list(df.select_dtypes(include=[\"object\"]).columns)\n",
    "    \n",
    "    features = features_int + features_cat\n",
    "elif file == 'train_preprocessed_type_of_loan.csv':\n",
    "    features = list(df.select_dtypes(include=[\"object\"]).columns)\n",
    "\n",
    "for feature in features:\n",
    "    df[feature] = df[feature].astype('category')\n",
    "\n",
    "df['Credit_Score'] = df['Credit_Score'].astype('category')"
   ]
  },
  {
   "cell_type": "code",
   "execution_count": 13,
   "metadata": {},
   "outputs": [],
   "source": [
    "num = df.drop(columns='Credit_Score').select_dtypes(include=['number']).columns\n",
    "cat = df.drop(columns='Credit_Score').select_dtypes(include=['category']).columns"
   ]
  },
  {
   "cell_type": "code",
   "execution_count": 14,
   "metadata": {},
   "outputs": [],
   "source": [
    "df[cat] = SimpleImputer(strategy=\"most_frequent\").fit_transform(df[cat])\n",
    "df[num] = SimpleImputer(strategy=\"median\").fit_transform(df[num])\n",
    "for c in cat:\n",
    "    df[c] = LabelEncoder().fit_transform(df[c])"
   ]
  },
  {
   "cell_type": "code",
   "execution_count": 15,
   "metadata": {},
   "outputs": [],
   "source": [
    "from sklearn.feature_selection import mutual_info_regression, mutual_info_classif\n",
    "\n",
    "MI_cat = mutual_info_classif(df[cat], df['Credit_Score'])"
   ]
  },
  {
   "cell_type": "code",
   "execution_count": 16,
   "metadata": {},
   "outputs": [
    {
     "data": {
      "text/plain": [
       "{'Credit_Mix': 0.1813174166178555,\n",
       " 'Payment_of_Min_Amount': 0.12459699090265586,\n",
       " 'no Loan': 0.01711662039053108,\n",
       " 'Auto Loan': 0.015921153139529354,\n",
       " 'Mortgage Loan': 0.012895903870502545,\n",
       " 'Not Specified': 0.01274919138639996,\n",
       " 'Personal Loan': 0.0126485587297811,\n",
       " 'Credit-Builder Loan': 0.0121998890590711,\n",
       " 'Debt Consolidation Loan': 0.011624489294073115,\n",
       " 'Student Loan': 0.011382843806934106,\n",
       " 'Payday Loan': 0.010882788589779757,\n",
       " 'Home Equity Loan': 0.009915964938570276,\n",
       " 'Payment_Behaviour': 0.008539326467997155,\n",
       " 'Month': 0.006193129053833513,\n",
       " 'Occupation': 0.0003154078300844354}"
      ]
     },
     "execution_count": 16,
     "metadata": {},
     "output_type": "execute_result"
    }
   ],
   "source": [
    "MI_cat_scores = pd.Series(dict(zip(cat, MI_cat))).sort_values(ascending=False)\n",
    "features_cat = list(MI_cat_scores[MI_cat_scores > 0.10].index)\n",
    "MI_cat_scores.to_dict()"
   ]
  },
  {
   "cell_type": "code",
   "execution_count": 24,
   "metadata": {},
   "outputs": [
    {
     "data": {
      "text/plain": [
       "Index(['Credit_Mix', 'Payment_of_Min_Amount', 'no Loan', 'Auto Loan',\n",
       "       'Mortgage Loan', 'Not Specified', 'Personal Loan',\n",
       "       'Credit-Builder Loan', 'Debt Consolidation Loan', 'Student Loan',\n",
       "       'Payday Loan', 'Home Equity Loan'],\n",
       "      dtype='object')"
      ]
     },
     "execution_count": 24,
     "metadata": {},
     "output_type": "execute_result"
    }
   ],
   "source": [
    "list(MI_cat_scores.iloc[:-3].index)"
   ]
  },
  {
   "cell_type": "code",
   "execution_count": 19,
   "metadata": {},
   "outputs": [
    {
     "data": {
      "text/plain": [
       "array([0.00619313, 0.00031541, 0.18131742, 0.12459699, 0.00853933,\n",
       "       0.01711662, 0.01274919, 0.01219989, 0.01264856, 0.01162449,\n",
       "       0.01138284, 0.01088279, 0.0128959 , 0.01592115, 0.00991596])"
      ]
     },
     "execution_count": 19,
     "metadata": {},
     "output_type": "execute_result"
    }
   ],
   "source": [
    "MI_cat"
   ]
  },
  {
   "cell_type": "code",
   "execution_count": 17,
   "metadata": {},
   "outputs": [
    {
     "name": "stdout",
     "output_type": "stream",
     "text": [
      "Monthly_Inhand_Salary       0.626965\n",
      "Annual_Income               0.624436\n",
      "Outstanding_Debt            0.611906\n",
      "Total_EMI_per_month         0.568184\n",
      "Interest_Rate               0.171900\n",
      "Delay_from_due_date         0.123984\n",
      "Num_Credit_Inquiries        0.111237\n",
      "Num_Credit_Card             0.110593\n",
      "Num_Bank_Accounts           0.104891\n",
      "Credit_History_Age          0.101018\n",
      "Changed_Credit_Limit        0.099511\n",
      "Num_of_Loan                 0.085503\n",
      "Num_of_Delayed_Payment      0.079281\n",
      "Monthly_Balance             0.032744\n",
      "Age                         0.028396\n",
      "Amount_invested_monthly     0.009160\n",
      "Credit_Utilization_Ratio    0.000000\n",
      "dtype: float64\n"
     ]
    }
   ],
   "source": [
    "MI_num = mutual_info_regression(df[num], df['Credit_Score'])\n",
    "\n",
    "MI_num_scores = pd.Series(dict(zip(num, MI_num))).sort_values(ascending=False)\n",
    "features_num = list(MI_num_scores[MI_num_scores > 0.10].index)\n",
    "print(MI_num_scores)"
   ]
  },
  {
   "cell_type": "code",
   "execution_count": 18,
   "metadata": {},
   "outputs": [
    {
     "data": {
      "text/plain": [
       "{'Monthly_Inhand_Salary': 0.6269652051783279,\n",
       " 'Annual_Income': 0.6244361177387336,\n",
       " 'Outstanding_Debt': 0.6119063802229476,\n",
       " 'Total_EMI_per_month': 0.568184139196239,\n",
       " 'Interest_Rate': 0.1718996955233738,\n",
       " 'Delay_from_due_date': 0.12398352558209957,\n",
       " 'Num_Credit_Inquiries': 0.11123686658605791,\n",
       " 'Num_Credit_Card': 0.11059257866210892,\n",
       " 'Num_Bank_Accounts': 0.10489057130167101,\n",
       " 'Credit_History_Age': 0.10101796523620443,\n",
       " 'Changed_Credit_Limit': 0.09951086245147245,\n",
       " 'Num_of_Loan': 0.08550281134509952,\n",
       " 'Num_of_Delayed_Payment': 0.07928052017931897,\n",
       " 'Monthly_Balance': 0.03274398571529069,\n",
       " 'Age': 0.028395734866581535,\n",
       " 'Amount_invested_monthly': 0.00916024081308997,\n",
       " 'Credit_Utilization_Ratio': 0.0}"
      ]
     },
     "execution_count": 18,
     "metadata": {},
     "output_type": "execute_result"
    }
   ],
   "source": [
    "MI_num_scores.to_dict()"
   ]
  },
  {
   "cell_type": "code",
   "execution_count": 56,
   "metadata": {},
   "outputs": [],
   "source": [
    "from imblearn.pipeline import Pipeline \n",
    "from imblearn.over_sampling import RandomOverSampler\n",
    "\n",
    "X_train, X_test, y_train, y_test = train_test_split(df[list(num) + list(cat)], y, test_size=0.2)\n",
    "\n",
    "sampler = RandomOverSampler() \n",
    "#X_train, y_train = sampler.fit_resample(X_train, y_train)\n",
    "\n",
    "'''\n",
    "scaler = MaxAbsScaler()\n",
    "X_train = scaler.fit_transform(X_train)#.toarray()\n",
    "X_test = scaler.transform(X_test)#.toarray()'''"
   ]
  },
  {
   "cell_type": "code",
   "execution_count": null,
   "metadata": {},
   "outputs": [],
   "source": []
  }
 ],
 "metadata": {
  "kernelspec": {
   "display_name": "Python 3.10.6 64-bit",
   "language": "python",
   "name": "python3"
  },
  "language_info": {
   "codemirror_mode": {
    "name": "ipython",
    "version": 3
   },
   "file_extension": ".py",
   "mimetype": "text/x-python",
   "name": "python",
   "nbconvert_exporter": "python",
   "pygments_lexer": "ipython3",
   "version": "3.10.6"
  },
  "orig_nbformat": 4,
  "vscode": {
   "interpreter": {
    "hash": "d043bfe52fdbcdd9ce254683947552669d52a2490379de95516b9980b91447e7"
   }
  }
 },
 "nbformat": 4,
 "nbformat_minor": 2
}
