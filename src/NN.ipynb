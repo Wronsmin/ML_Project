{
 "cells": [
  {
   "cell_type": "markdown",
   "metadata": {},
   "source": [
    "## Table of Contents\n",
    "- [1 - Problem statement](#1)\n",
    "- [2 - Import useful libraries](#2)\n",
    "- [3 - Loading Dataset](#3)\n",
    "\n",
    "    - [example 1](#ex-1)"
   ]
  },
  {
   "cell_type": "markdown",
   "metadata": {},
   "source": [
    "<a name='1'></a>\n",
    "## 1 - Problem Statement\n",
    "The dataset is provided by \n",
    "You are working as a data scientist in a global finance company. Over the years, the company has collected basic bank details and gathered a lot of credit-related information. The management wants to build an intelligent system to segregate the people into credit score brackets to reduce the manual efforts.\n",
    "\n",
    "Task:\n",
    "Given a person’s credit-related information, build a machine learning model that can classify the credit score."
   ]
  },
  {
   "cell_type": "markdown",
   "metadata": {},
   "source": [
    "<a name='2'></a>\n",
    "## 2 - Import useful libraries ##"
   ]
  },
  {
   "cell_type": "code",
   "execution_count": 44,
   "metadata": {},
   "outputs": [],
   "source": [
    "# standard libraries\n",
    "import numpy as np \n",
    "import pandas as pd \n",
    "\n",
    "# time libraries \n",
    "from tqdm import tqdm\n",
    "from time import time\n",
    "\n",
    "# visualization library\n",
    "import umap.umap_ as UMAP\n",
    "\n",
    "# resampling libraries\n",
    "from imblearn.pipeline import Pipeline \n",
    "from imblearn.over_sampling import RandomOverSampler\n",
    "\n",
    "# useful library\n",
    "from collections import Counter\n",
    "\n",
    "# scikit-learn libraries for preprocessing and report analysis \n",
    "from sklearn.preprocessing import LabelEncoder, OneHotEncoder\n",
    "from sklearn.compose import ColumnTransformer\n",
    "from sklearn.impute import SimpleImputer\n",
    "from sklearn.model_selection import train_test_split\n",
    "from sklearn.preprocessing import MaxAbsScaler\n",
    "from sklearn.metrics import classification_report, confusion_matrix\n",
    "\n",
    "# tensorflow libraries for Neural Network implementation\n",
    "import tensorflow as tf\n",
    "from tensorflow.keras import Sequential, initializers\n",
    "from tensorflow.keras.optimizers import Adam\n",
    "from tensorflow.keras.layers import Dense, Dropout, BatchNormalization\n",
    "from tensorflow.keras.losses import SparseCategoricalCrossentropy\n",
    "\n",
    "# library for hyperparameters tuning\n",
    "import keras_tuner as kt\n",
    "\n",
    "# standard plot library\n",
    "import seaborn as sns\n",
    "import matplotlib.pyplot as plt\n",
    "\n",
    "import warnings\n",
    "warnings.filterwarnings('ignore')"
   ]
  },
  {
   "cell_type": "markdown",
   "metadata": {},
   "source": [
    "<a name='3'></a>\n",
    "## 3 - Loading and Data description ##\n",
    "Dataset 27 features and 1 target, for a total of $10^6$ instances. \n",
    "* <span style=\"color:blue\">**blue**</span> $\\rightarrow$ redundant features\n",
    "* <span style=\"color:red\">**red**</span> $\\rightarrow$ features with wrong data type\n",
    "* <span style=\"color:green\">**green**</span> $\\rightarrow$ target\n",
    "* (#) $\\rightarrow$ numerical feature\n",
    "* (A) $\\rightarrow$ categorical feature\n",
    "\n",
    "1. (<span style=\"color:blue\">**A**</span>) **ID**: Represents a unique identification of an entry;\n",
    "2. (A) **Customer_ID**: Represents a unique identification of a person;\n",
    "3. (A) **Month**: Represents the month of the year;\n",
    "4. (<span style=\"color:blue\">**A**</span>) **Name**: Represents the name of a person;\n",
    "5. (<span style=\"color:red\">**A**</span>) **Age**: Represents the age of the person;\n",
    "6. (<span style=\"color:blue\">**A**</span>) **SSN**: Represents the social security number of a person;\n",
    "7. (A) **Occupation**: Represents the occupation of the person;\n",
    "8. (<span style=\"color:red\">**A**</span>) **Annual_Income**: Represents the annual income of the person;\n",
    "9. (#) **Monthly_Inhand_Salary**: Represents the monthly base salary of a person;\n",
    "10. (#) **Num_Bank_Accounts**: Represents the number of bank accounts a person holds;\n",
    "11. (#) **Num_Credit_Card**: Represents the number of other credit cards held by a person;\n",
    "12. (#) **Interest_Rate**: Represents the interest rate on credit card;\n",
    "13. (<span style=\"color:red\">**A**</span>) **Num_of_Loan**: Represents the number of loans taken from the bank;\n",
    "14. (A) **Type_of_Loan**: Represents the types of loan taken by a person;\n",
    "15. (#) **Delay_from_due_date**: Represents the average number of days delayed from the payment date;\n",
    "16. (<span style=\"color:red\">**A**</span>) **Num_of_Delayed_Payment**: Represents the average number of payments delayed by a person;\n",
    "17. (#) **Changed_Credit_Limit**: Represents the percentage change in credit card limit;\n",
    "18. (#) **Num_Credit_Inquiries**: Represents the number of credit card inquiries;\n",
    "19. (A) **Credit_Mix**: Represents the classification of the mix of credits;\n",
    "20. (<span style=\"color:red\">**A**</span>) **Outstanding_Debt**: Represents the remaining debt to be paid (in USD);\n",
    "21. (#) **Credit_Utilization_Ratio**: Represents the utilization ratio of credit card;\n",
    "22. (<span style=\"color:red\">**A**</span>) **Credit_History_Age**: Represents the age of credit history of the person;\n",
    "23. (A) **Payment_of_Min_Amount**: Represents whether only the minimum amount was paid by the person;\n",
    "24. (#) **Total_EMI_per_month**: Represents the monthly EMI payments (in USD);\n",
    "25. (<span style=\"color:red\">**A**</span>) **Amount_invested_monthly**: Represents the monthly amount invested by the customer (in USD);\n",
    "26. (A) **Payment_Behaviour**: Represents the payment behavior of the customer (in USD);\n",
    "27. (#) **Monthly_Balance**: Represents the monthly balance amount of the customer (in USD);\n",
    "28. (<span style=\"color:green\">**A**</span>) **Credit_Score**: Represents the bracket of credit score (Poor, Standard, Good)."
   ]
  },
  {
   "cell_type": "code",
   "execution_count": 45,
   "metadata": {},
   "outputs": [
    {
     "name": "stdout",
     "output_type": "stream",
     "text": [
      "Dataset shape: (100000, 25)\n",
      "First 12 columns\n"
     ]
    },
    {
     "data": {
      "text/html": [
       "<div>\n",
       "<style scoped>\n",
       "    .dataframe tbody tr th:only-of-type {\n",
       "        vertical-align: middle;\n",
       "    }\n",
       "\n",
       "    .dataframe tbody tr th {\n",
       "        vertical-align: top;\n",
       "    }\n",
       "\n",
       "    .dataframe thead th {\n",
       "        text-align: right;\n",
       "    }\n",
       "</style>\n",
       "<table border=\"1\" class=\"dataframe\">\n",
       "  <thead>\n",
       "    <tr style=\"text-align: right;\">\n",
       "      <th></th>\n",
       "      <th>Customer_ID</th>\n",
       "      <th>Month</th>\n",
       "      <th>Age</th>\n",
       "      <th>Occupation</th>\n",
       "      <th>Annual_Income</th>\n",
       "      <th>Monthly_Inhand_Salary</th>\n",
       "      <th>Num_Bank_Accounts</th>\n",
       "      <th>Num_Credit_Card</th>\n",
       "      <th>Interest_Rate</th>\n",
       "      <th>Num_of_Loan</th>\n",
       "      <th>Type_of_Loan</th>\n",
       "      <th>Delay_from_due_date</th>\n",
       "    </tr>\n",
       "  </thead>\n",
       "  <tbody>\n",
       "    <tr>\n",
       "      <th>0</th>\n",
       "      <td>CUS_0xd40</td>\n",
       "      <td>January</td>\n",
       "      <td>23</td>\n",
       "      <td>Scientist</td>\n",
       "      <td>19114.12</td>\n",
       "      <td>1824.843333</td>\n",
       "      <td>3</td>\n",
       "      <td>4</td>\n",
       "      <td>3</td>\n",
       "      <td>4</td>\n",
       "      <td>Auto Loan, Credit-Builder Loan, Personal Loan,...</td>\n",
       "      <td>3</td>\n",
       "    </tr>\n",
       "    <tr>\n",
       "      <th>1</th>\n",
       "      <td>CUS_0xd40</td>\n",
       "      <td>February</td>\n",
       "      <td>23</td>\n",
       "      <td>Scientist</td>\n",
       "      <td>19114.12</td>\n",
       "      <td>NaN</td>\n",
       "      <td>3</td>\n",
       "      <td>4</td>\n",
       "      <td>3</td>\n",
       "      <td>4</td>\n",
       "      <td>Auto Loan, Credit-Builder Loan, Personal Loan,...</td>\n",
       "      <td>-1</td>\n",
       "    </tr>\n",
       "    <tr>\n",
       "      <th>2</th>\n",
       "      <td>CUS_0xd40</td>\n",
       "      <td>March</td>\n",
       "      <td>-500</td>\n",
       "      <td>Scientist</td>\n",
       "      <td>19114.12</td>\n",
       "      <td>NaN</td>\n",
       "      <td>3</td>\n",
       "      <td>4</td>\n",
       "      <td>3</td>\n",
       "      <td>4</td>\n",
       "      <td>Auto Loan, Credit-Builder Loan, Personal Loan,...</td>\n",
       "      <td>3</td>\n",
       "    </tr>\n",
       "    <tr>\n",
       "      <th>3</th>\n",
       "      <td>CUS_0xd40</td>\n",
       "      <td>April</td>\n",
       "      <td>23</td>\n",
       "      <td>Scientist</td>\n",
       "      <td>19114.12</td>\n",
       "      <td>NaN</td>\n",
       "      <td>3</td>\n",
       "      <td>4</td>\n",
       "      <td>3</td>\n",
       "      <td>4</td>\n",
       "      <td>Auto Loan, Credit-Builder Loan, Personal Loan,...</td>\n",
       "      <td>5</td>\n",
       "    </tr>\n",
       "    <tr>\n",
       "      <th>4</th>\n",
       "      <td>CUS_0xd40</td>\n",
       "      <td>May</td>\n",
       "      <td>23</td>\n",
       "      <td>Scientist</td>\n",
       "      <td>19114.12</td>\n",
       "      <td>1824.843333</td>\n",
       "      <td>3</td>\n",
       "      <td>4</td>\n",
       "      <td>3</td>\n",
       "      <td>4</td>\n",
       "      <td>Auto Loan, Credit-Builder Loan, Personal Loan,...</td>\n",
       "      <td>6</td>\n",
       "    </tr>\n",
       "    <tr>\n",
       "      <th>5</th>\n",
       "      <td>CUS_0xd40</td>\n",
       "      <td>June</td>\n",
       "      <td>23</td>\n",
       "      <td>Scientist</td>\n",
       "      <td>19114.12</td>\n",
       "      <td>NaN</td>\n",
       "      <td>3</td>\n",
       "      <td>4</td>\n",
       "      <td>3</td>\n",
       "      <td>4</td>\n",
       "      <td>Auto Loan, Credit-Builder Loan, Personal Loan,...</td>\n",
       "      <td>8</td>\n",
       "    </tr>\n",
       "    <tr>\n",
       "      <th>6</th>\n",
       "      <td>CUS_0xd40</td>\n",
       "      <td>July</td>\n",
       "      <td>23</td>\n",
       "      <td>Scientist</td>\n",
       "      <td>19114.12</td>\n",
       "      <td>1824.843333</td>\n",
       "      <td>3</td>\n",
       "      <td>4</td>\n",
       "      <td>3</td>\n",
       "      <td>4</td>\n",
       "      <td>Auto Loan, Credit-Builder Loan, Personal Loan,...</td>\n",
       "      <td>3</td>\n",
       "    </tr>\n",
       "    <tr>\n",
       "      <th>7</th>\n",
       "      <td>CUS_0xd40</td>\n",
       "      <td>August</td>\n",
       "      <td>23</td>\n",
       "      <td>Scientist</td>\n",
       "      <td>19114.12</td>\n",
       "      <td>1824.843333</td>\n",
       "      <td>3</td>\n",
       "      <td>4</td>\n",
       "      <td>3</td>\n",
       "      <td>4</td>\n",
       "      <td>Auto Loan, Credit-Builder Loan, Personal Loan,...</td>\n",
       "      <td>3</td>\n",
       "    </tr>\n",
       "  </tbody>\n",
       "</table>\n",
       "</div>"
      ],
      "text/plain": [
       "  Customer_ID     Month   Age Occupation Annual_Income  Monthly_Inhand_Salary  \\\n",
       "0   CUS_0xd40   January    23  Scientist      19114.12            1824.843333   \n",
       "1   CUS_0xd40  February    23  Scientist      19114.12                    NaN   \n",
       "2   CUS_0xd40     March  -500  Scientist      19114.12                    NaN   \n",
       "3   CUS_0xd40     April    23  Scientist      19114.12                    NaN   \n",
       "4   CUS_0xd40       May    23  Scientist      19114.12            1824.843333   \n",
       "5   CUS_0xd40      June    23  Scientist      19114.12                    NaN   \n",
       "6   CUS_0xd40      July    23  Scientist      19114.12            1824.843333   \n",
       "7   CUS_0xd40    August    23  Scientist      19114.12            1824.843333   \n",
       "\n",
       "   Num_Bank_Accounts  Num_Credit_Card  Interest_Rate Num_of_Loan  \\\n",
       "0                  3                4              3           4   \n",
       "1                  3                4              3           4   \n",
       "2                  3                4              3           4   \n",
       "3                  3                4              3           4   \n",
       "4                  3                4              3           4   \n",
       "5                  3                4              3           4   \n",
       "6                  3                4              3           4   \n",
       "7                  3                4              3           4   \n",
       "\n",
       "                                        Type_of_Loan  Delay_from_due_date  \n",
       "0  Auto Loan, Credit-Builder Loan, Personal Loan,...                    3  \n",
       "1  Auto Loan, Credit-Builder Loan, Personal Loan,...                   -1  \n",
       "2  Auto Loan, Credit-Builder Loan, Personal Loan,...                    3  \n",
       "3  Auto Loan, Credit-Builder Loan, Personal Loan,...                    5  \n",
       "4  Auto Loan, Credit-Builder Loan, Personal Loan,...                    6  \n",
       "5  Auto Loan, Credit-Builder Loan, Personal Loan,...                    8  \n",
       "6  Auto Loan, Credit-Builder Loan, Personal Loan,...                    3  \n",
       "7  Auto Loan, Credit-Builder Loan, Personal Loan,...                    3  "
      ]
     },
     "execution_count": 45,
     "metadata": {},
     "output_type": "execute_result"
    }
   ],
   "source": [
    "# Low_memory=False because it has 26 columns with mixed types\n",
    "df = pd.read_csv(\"../Data/train.csv\", low_memory=False)\n",
    "\n",
    "# Remove redundant features,\n",
    "# 'Customer_ID' is left on for preprocessing analysis, after that \n",
    "# it is dropped\n",
    "df.drop(columns=['ID', 'Name', 'SSN'], inplace=True)\n",
    "\n",
    "n_rows, n_cols = df.shape\n",
    "print(f'Dataset shape: {n_rows, n_cols}')\n",
    "\n",
    "n1 = 12\n",
    "print(f'First {n1} columns')\n",
    "df.iloc[:, :n1].head(8)"
   ]
  },
  {
   "cell_type": "code",
   "execution_count": 46,
   "metadata": {},
   "outputs": [
    {
     "name": "stdout",
     "output_type": "stream",
     "text": [
      "Last 13 columns\n"
     ]
    },
    {
     "data": {
      "text/html": [
       "<div>\n",
       "<style scoped>\n",
       "    .dataframe tbody tr th:only-of-type {\n",
       "        vertical-align: middle;\n",
       "    }\n",
       "\n",
       "    .dataframe tbody tr th {\n",
       "        vertical-align: top;\n",
       "    }\n",
       "\n",
       "    .dataframe thead th {\n",
       "        text-align: right;\n",
       "    }\n",
       "</style>\n",
       "<table border=\"1\" class=\"dataframe\">\n",
       "  <thead>\n",
       "    <tr style=\"text-align: right;\">\n",
       "      <th></th>\n",
       "      <th>Num_of_Delayed_Payment</th>\n",
       "      <th>Changed_Credit_Limit</th>\n",
       "      <th>Num_Credit_Inquiries</th>\n",
       "      <th>Credit_Mix</th>\n",
       "      <th>Outstanding_Debt</th>\n",
       "      <th>Credit_Utilization_Ratio</th>\n",
       "      <th>Credit_History_Age</th>\n",
       "      <th>Payment_of_Min_Amount</th>\n",
       "      <th>Total_EMI_per_month</th>\n",
       "      <th>Amount_invested_monthly</th>\n",
       "      <th>Payment_Behaviour</th>\n",
       "      <th>Monthly_Balance</th>\n",
       "      <th>Credit_Score</th>\n",
       "    </tr>\n",
       "  </thead>\n",
       "  <tbody>\n",
       "    <tr>\n",
       "      <th>0</th>\n",
       "      <td>7</td>\n",
       "      <td>11.27</td>\n",
       "      <td>4.0</td>\n",
       "      <td>_</td>\n",
       "      <td>809.98</td>\n",
       "      <td>26.822620</td>\n",
       "      <td>22 Years and 1 Months</td>\n",
       "      <td>No</td>\n",
       "      <td>49.574949</td>\n",
       "      <td>80.41529543900253</td>\n",
       "      <td>High_spent_Small_value_payments</td>\n",
       "      <td>312.49408867943663</td>\n",
       "      <td>Good</td>\n",
       "    </tr>\n",
       "    <tr>\n",
       "      <th>1</th>\n",
       "      <td>NaN</td>\n",
       "      <td>11.27</td>\n",
       "      <td>4.0</td>\n",
       "      <td>Good</td>\n",
       "      <td>809.98</td>\n",
       "      <td>31.944960</td>\n",
       "      <td>NaN</td>\n",
       "      <td>No</td>\n",
       "      <td>49.574949</td>\n",
       "      <td>118.28022162236736</td>\n",
       "      <td>Low_spent_Large_value_payments</td>\n",
       "      <td>284.62916249607184</td>\n",
       "      <td>Good</td>\n",
       "    </tr>\n",
       "    <tr>\n",
       "      <th>2</th>\n",
       "      <td>7</td>\n",
       "      <td>_</td>\n",
       "      <td>4.0</td>\n",
       "      <td>Good</td>\n",
       "      <td>809.98</td>\n",
       "      <td>28.609352</td>\n",
       "      <td>22 Years and 3 Months</td>\n",
       "      <td>No</td>\n",
       "      <td>49.574949</td>\n",
       "      <td>81.699521264648</td>\n",
       "      <td>Low_spent_Medium_value_payments</td>\n",
       "      <td>331.2098628537912</td>\n",
       "      <td>Good</td>\n",
       "    </tr>\n",
       "    <tr>\n",
       "      <th>3</th>\n",
       "      <td>4</td>\n",
       "      <td>6.27</td>\n",
       "      <td>4.0</td>\n",
       "      <td>Good</td>\n",
       "      <td>809.98</td>\n",
       "      <td>31.377862</td>\n",
       "      <td>22 Years and 4 Months</td>\n",
       "      <td>No</td>\n",
       "      <td>49.574949</td>\n",
       "      <td>199.4580743910713</td>\n",
       "      <td>Low_spent_Small_value_payments</td>\n",
       "      <td>223.45130972736786</td>\n",
       "      <td>Good</td>\n",
       "    </tr>\n",
       "    <tr>\n",
       "      <th>4</th>\n",
       "      <td>NaN</td>\n",
       "      <td>11.27</td>\n",
       "      <td>4.0</td>\n",
       "      <td>Good</td>\n",
       "      <td>809.98</td>\n",
       "      <td>24.797347</td>\n",
       "      <td>22 Years and 5 Months</td>\n",
       "      <td>No</td>\n",
       "      <td>49.574949</td>\n",
       "      <td>41.420153086217326</td>\n",
       "      <td>High_spent_Medium_value_payments</td>\n",
       "      <td>341.48923103222177</td>\n",
       "      <td>Good</td>\n",
       "    </tr>\n",
       "    <tr>\n",
       "      <th>5</th>\n",
       "      <td>4</td>\n",
       "      <td>9.27</td>\n",
       "      <td>4.0</td>\n",
       "      <td>Good</td>\n",
       "      <td>809.98</td>\n",
       "      <td>27.262259</td>\n",
       "      <td>22 Years and 6 Months</td>\n",
       "      <td>No</td>\n",
       "      <td>49.574949</td>\n",
       "      <td>62.430172331195294</td>\n",
       "      <td>!@9#%8</td>\n",
       "      <td>340.4792117872438</td>\n",
       "      <td>Good</td>\n",
       "    </tr>\n",
       "    <tr>\n",
       "      <th>6</th>\n",
       "      <td>8_</td>\n",
       "      <td>11.27</td>\n",
       "      <td>4.0</td>\n",
       "      <td>Good</td>\n",
       "      <td>809.98</td>\n",
       "      <td>22.537593</td>\n",
       "      <td>22 Years and 7 Months</td>\n",
       "      <td>No</td>\n",
       "      <td>49.574949</td>\n",
       "      <td>178.3440674122349</td>\n",
       "      <td>Low_spent_Small_value_payments</td>\n",
       "      <td>244.5653167062043</td>\n",
       "      <td>Good</td>\n",
       "    </tr>\n",
       "    <tr>\n",
       "      <th>7</th>\n",
       "      <td>6</td>\n",
       "      <td>11.27</td>\n",
       "      <td>4.0</td>\n",
       "      <td>Good</td>\n",
       "      <td>809.98</td>\n",
       "      <td>23.933795</td>\n",
       "      <td>NaN</td>\n",
       "      <td>No</td>\n",
       "      <td>49.574949</td>\n",
       "      <td>24.785216509052056</td>\n",
       "      <td>High_spent_Medium_value_payments</td>\n",
       "      <td>358.12416760938714</td>\n",
       "      <td>Standard</td>\n",
       "    </tr>\n",
       "  </tbody>\n",
       "</table>\n",
       "</div>"
      ],
      "text/plain": [
       "  Num_of_Delayed_Payment Changed_Credit_Limit  Num_Credit_Inquiries  \\\n",
       "0                      7                11.27                   4.0   \n",
       "1                    NaN                11.27                   4.0   \n",
       "2                      7                    _                   4.0   \n",
       "3                      4                 6.27                   4.0   \n",
       "4                    NaN                11.27                   4.0   \n",
       "5                      4                 9.27                   4.0   \n",
       "6                     8_                11.27                   4.0   \n",
       "7                      6                11.27                   4.0   \n",
       "\n",
       "  Credit_Mix Outstanding_Debt  Credit_Utilization_Ratio  \\\n",
       "0          _           809.98                 26.822620   \n",
       "1       Good           809.98                 31.944960   \n",
       "2       Good           809.98                 28.609352   \n",
       "3       Good           809.98                 31.377862   \n",
       "4       Good           809.98                 24.797347   \n",
       "5       Good           809.98                 27.262259   \n",
       "6       Good           809.98                 22.537593   \n",
       "7       Good           809.98                 23.933795   \n",
       "\n",
       "      Credit_History_Age Payment_of_Min_Amount  Total_EMI_per_month  \\\n",
       "0  22 Years and 1 Months                    No            49.574949   \n",
       "1                    NaN                    No            49.574949   \n",
       "2  22 Years and 3 Months                    No            49.574949   \n",
       "3  22 Years and 4 Months                    No            49.574949   \n",
       "4  22 Years and 5 Months                    No            49.574949   \n",
       "5  22 Years and 6 Months                    No            49.574949   \n",
       "6  22 Years and 7 Months                    No            49.574949   \n",
       "7                    NaN                    No            49.574949   \n",
       "\n",
       "  Amount_invested_monthly                 Payment_Behaviour  \\\n",
       "0       80.41529543900253   High_spent_Small_value_payments   \n",
       "1      118.28022162236736    Low_spent_Large_value_payments   \n",
       "2         81.699521264648   Low_spent_Medium_value_payments   \n",
       "3       199.4580743910713    Low_spent_Small_value_payments   \n",
       "4      41.420153086217326  High_spent_Medium_value_payments   \n",
       "5      62.430172331195294                            !@9#%8   \n",
       "6       178.3440674122349    Low_spent_Small_value_payments   \n",
       "7      24.785216509052056  High_spent_Medium_value_payments   \n",
       "\n",
       "      Monthly_Balance Credit_Score  \n",
       "0  312.49408867943663         Good  \n",
       "1  284.62916249607184         Good  \n",
       "2   331.2098628537912         Good  \n",
       "3  223.45130972736786         Good  \n",
       "4  341.48923103222177         Good  \n",
       "5   340.4792117872438         Good  \n",
       "6   244.5653167062043         Good  \n",
       "7  358.12416760938714     Standard  "
      ]
     },
     "execution_count": 46,
     "metadata": {},
     "output_type": "execute_result"
    }
   ],
   "source": [
    "print(f'Last {n_cols - n1} columns')\n",
    "df.iloc[:, n1:].head(8)"
   ]
  },
  {
   "cell_type": "code",
   "execution_count": 47,
   "metadata": {},
   "outputs": [],
   "source": [
    "import pandas_profiling as pp\n",
    "#pp.ProfileReport(df, title = 'Pandas Profiling report of \"dataset\"', html = {'style':{'full_width': True}})"
   ]
  },
  {
   "cell_type": "markdown",
   "metadata": {},
   "source": [
    "<a name='4'></a>\n",
    "## 4 - Clean the dataset ##\n",
    "Replace with NaN values the artifacts in the features 'Monthly_Balance', 'Amount_invested_monthly', and 'Payment_Behaviour'."
   ]
  },
  {
   "cell_type": "code",
   "execution_count": 48,
   "metadata": {},
   "outputs": [],
   "source": [
    "artifacts = ['__-333333333333333333333333333__', '__10000__', '!@9#%8']\n",
    "df.replace(artifacts, np.nan, inplace=True)"
   ]
  },
  {
   "cell_type": "markdown",
   "metadata": {},
   "source": [
    "For the 'Credit_History_Age' feature, the years and months are coded as total months, then the variable is casted as numeric."
   ]
  },
  {
   "cell_type": "code",
   "execution_count": 49,
   "metadata": {},
   "outputs": [
    {
     "data": {
      "text/html": [
       "<div>\n",
       "<style scoped>\n",
       "    .dataframe tbody tr th:only-of-type {\n",
       "        vertical-align: middle;\n",
       "    }\n",
       "\n",
       "    .dataframe tbody tr th {\n",
       "        vertical-align: top;\n",
       "    }\n",
       "\n",
       "    .dataframe thead th {\n",
       "        text-align: right;\n",
       "    }\n",
       "</style>\n",
       "<table border=\"1\" class=\"dataframe\">\n",
       "  <thead>\n",
       "    <tr style=\"text-align: right;\">\n",
       "      <th></th>\n",
       "      <th>Num_of_Delayed_Payment</th>\n",
       "      <th>Changed_Credit_Limit</th>\n",
       "      <th>Num_Credit_Inquiries</th>\n",
       "      <th>Credit_Mix</th>\n",
       "      <th>Outstanding_Debt</th>\n",
       "      <th>Credit_Utilization_Ratio</th>\n",
       "      <th>Credit_History_Age</th>\n",
       "      <th>Payment_of_Min_Amount</th>\n",
       "      <th>Total_EMI_per_month</th>\n",
       "      <th>Amount_invested_monthly</th>\n",
       "      <th>Payment_Behaviour</th>\n",
       "      <th>Monthly_Balance</th>\n",
       "      <th>Credit_Score</th>\n",
       "    </tr>\n",
       "  </thead>\n",
       "  <tbody>\n",
       "    <tr>\n",
       "      <th>0</th>\n",
       "      <td>7</td>\n",
       "      <td>11.27</td>\n",
       "      <td>4.0</td>\n",
       "      <td>_</td>\n",
       "      <td>809.98</td>\n",
       "      <td>26.822620</td>\n",
       "      <td>265.0</td>\n",
       "      <td>No</td>\n",
       "      <td>49.574949</td>\n",
       "      <td>80.41529543900253</td>\n",
       "      <td>High_spent_Small_value_payments</td>\n",
       "      <td>312.49408867943663</td>\n",
       "      <td>Good</td>\n",
       "    </tr>\n",
       "    <tr>\n",
       "      <th>1</th>\n",
       "      <td>NaN</td>\n",
       "      <td>11.27</td>\n",
       "      <td>4.0</td>\n",
       "      <td>Good</td>\n",
       "      <td>809.98</td>\n",
       "      <td>31.944960</td>\n",
       "      <td>266.0</td>\n",
       "      <td>No</td>\n",
       "      <td>49.574949</td>\n",
       "      <td>118.28022162236736</td>\n",
       "      <td>Low_spent_Large_value_payments</td>\n",
       "      <td>284.62916249607184</td>\n",
       "      <td>Good</td>\n",
       "    </tr>\n",
       "    <tr>\n",
       "      <th>2</th>\n",
       "      <td>7</td>\n",
       "      <td>_</td>\n",
       "      <td>4.0</td>\n",
       "      <td>Good</td>\n",
       "      <td>809.98</td>\n",
       "      <td>28.609352</td>\n",
       "      <td>267.0</td>\n",
       "      <td>No</td>\n",
       "      <td>49.574949</td>\n",
       "      <td>81.699521264648</td>\n",
       "      <td>Low_spent_Medium_value_payments</td>\n",
       "      <td>331.2098628537912</td>\n",
       "      <td>Good</td>\n",
       "    </tr>\n",
       "    <tr>\n",
       "      <th>3</th>\n",
       "      <td>4</td>\n",
       "      <td>6.27</td>\n",
       "      <td>4.0</td>\n",
       "      <td>Good</td>\n",
       "      <td>809.98</td>\n",
       "      <td>31.377862</td>\n",
       "      <td>268.0</td>\n",
       "      <td>No</td>\n",
       "      <td>49.574949</td>\n",
       "      <td>199.4580743910713</td>\n",
       "      <td>Low_spent_Small_value_payments</td>\n",
       "      <td>223.45130972736786</td>\n",
       "      <td>Good</td>\n",
       "    </tr>\n",
       "    <tr>\n",
       "      <th>4</th>\n",
       "      <td>NaN</td>\n",
       "      <td>11.27</td>\n",
       "      <td>4.0</td>\n",
       "      <td>Good</td>\n",
       "      <td>809.98</td>\n",
       "      <td>24.797347</td>\n",
       "      <td>269.0</td>\n",
       "      <td>No</td>\n",
       "      <td>49.574949</td>\n",
       "      <td>41.420153086217326</td>\n",
       "      <td>High_spent_Medium_value_payments</td>\n",
       "      <td>341.48923103222177</td>\n",
       "      <td>Good</td>\n",
       "    </tr>\n",
       "  </tbody>\n",
       "</table>\n",
       "</div>"
      ],
      "text/plain": [
       "  Num_of_Delayed_Payment Changed_Credit_Limit  Num_Credit_Inquiries  \\\n",
       "0                      7                11.27                   4.0   \n",
       "1                    NaN                11.27                   4.0   \n",
       "2                      7                    _                   4.0   \n",
       "3                      4                 6.27                   4.0   \n",
       "4                    NaN                11.27                   4.0   \n",
       "\n",
       "  Credit_Mix Outstanding_Debt  Credit_Utilization_Ratio  Credit_History_Age  \\\n",
       "0          _           809.98                 26.822620               265.0   \n",
       "1       Good           809.98                 31.944960               266.0   \n",
       "2       Good           809.98                 28.609352               267.0   \n",
       "3       Good           809.98                 31.377862               268.0   \n",
       "4       Good           809.98                 24.797347               269.0   \n",
       "\n",
       "  Payment_of_Min_Amount  Total_EMI_per_month Amount_invested_monthly  \\\n",
       "0                    No            49.574949       80.41529543900253   \n",
       "1                    No            49.574949      118.28022162236736   \n",
       "2                    No            49.574949         81.699521264648   \n",
       "3                    No            49.574949       199.4580743910713   \n",
       "4                    No            49.574949      41.420153086217326   \n",
       "\n",
       "                  Payment_Behaviour     Monthly_Balance Credit_Score  \n",
       "0   High_spent_Small_value_payments  312.49408867943663         Good  \n",
       "1    Low_spent_Large_value_payments  284.62916249607184         Good  \n",
       "2   Low_spent_Medium_value_payments   331.2098628537912         Good  \n",
       "3    Low_spent_Small_value_payments  223.45130972736786         Good  \n",
       "4  High_spent_Medium_value_payments  341.48923103222177         Good  "
      ]
     },
     "execution_count": 49,
     "metadata": {},
     "output_type": "execute_result"
    }
   ],
   "source": [
    "df.loc[df.Credit_History_Age.notna(),\n",
    "       'Credit_History_Age'] = df['Credit_History_Age'].str.extractall('(\\d+)').unstack().astype(float).multiply([12, 1]).sum(axis=1)\n",
    "df['Credit_History_Age'] = df['Credit_History_Age'].astype(float)\n",
    "df['Credit_History_Age'].interpolate(inplace=True)\n",
    "\n",
    "df.iloc[:, n1:].head()"
   ]
  },
  {
   "cell_type": "markdown",
   "metadata": {},
   "source": [
    "We can show that all missing values of 'Type_of_Loan' corresponds to 'Num_of_Loan' = 0. So we indicate that values with 'no Loan' category. \n",
    "Previously we made dummy variables for whether each of the 10 possible loan types were represented in the row. This turned out to reduce the accuracy of the model by $15\\%$."
   ]
  },
  {
   "cell_type": "code",
   "execution_count": 50,
   "metadata": {},
   "outputs": [
    {
     "data": {
      "text/plain": [
       "no Loan                    11408\n",
       "Not Specified               1408\n",
       "Credit-Builder Loan         1280\n",
       "Personal Loan               1272\n",
       "Debt Consolidation Loan     1264\n",
       "Student Loan                1240\n",
       "Payday Loan                 1200\n",
       "Mortgage Loan               1176\n",
       "Auto Loan                   1152\n",
       "Home Equity Loan            1136\n",
       "Name: Type_of_Loan, dtype: int64"
      ]
     },
     "execution_count": 50,
     "metadata": {},
     "output_type": "execute_result"
    }
   ],
   "source": [
    "df['Type_of_Loan'].fillna('no Loan', inplace=True)\n",
    "df['Type_of_Loan'].value_counts()[:10]"
   ]
  },
  {
   "cell_type": "markdown",
   "metadata": {},
   "source": [
    "Remove the '_' character to cast the wrong assigned categorical features into numerical features."
   ]
  },
  {
   "cell_type": "code",
   "execution_count": 51,
   "metadata": {},
   "outputs": [
    {
     "name": "stdout",
     "output_type": "stream",
     "text": [
      "['Age', 'Occupation', 'Annual_Income', 'Num_of_Loan', 'Num_of_Delayed_Payment', 'Changed_Credit_Limit', 'Credit_Mix', 'Outstanding_Debt', 'Payment_Behaviour']\n"
     ]
    }
   ],
   "source": [
    "# Categorical features\n",
    "cat = df.drop(columns=['Credit_Score',\n",
    "                       'Customer_ID']).select_dtypes(include=[\"object\"]).columns\n",
    "\n",
    "# Find all the categorical features which contain the character '_'  \n",
    "features_ = [feature for feature in cat if df[feature].str.contains('_').any()]\n",
    "\n",
    "# Remove the character '_' from all the selected categorical features\n",
    "for feature in features_:\n",
    "    df[feature] = df[feature].str.replace(\"_\", \"\")\n",
    "\n",
    "print(features_)\n",
    "\n",
    "# All the wrong assigned categorical features\n",
    "features_wac = ['Age', 'Annual_Income', 'Num_of_Loan', 'Num_of_Delayed_Payment',\n",
    "                'Changed_Credit_Limit', 'Outstanding_Debt', 'Amount_invested_monthly',\n",
    "                'Monthly_Balance', 'Total_EMI_per_month']\n",
    "\n",
    "# Casting the features as numeric\n",
    "for feature in features_wac:\n",
    "    df[feature] = pd.to_numeric(df[feature]).astype('float')\n",
    "\n",
    "\n",
    "# Correct categorical features.   \n",
    "cat = df.drop(columns=['Credit_Score',\n",
    "                       'Customer_ID']).select_dtypes(include=[\"object\"]).columns   \n",
    "# Numeric features \n",
    "num = df.select_dtypes(include=[\"number\"]).columns\n",
    "\n",
    "\n",
    "# Let's take a copy of the dataframe to backup some data\n",
    "df_old = df.copy()"
   ]
  },
  {
   "cell_type": "markdown",
   "metadata": {},
   "source": [
    "<a name='5'></a>\n",
    "## 5 - Outlier Detection ##\n",
    "We have considered the box plot of all the features in order to detect outliers in the dataset."
   ]
  },
  {
   "cell_type": "code",
   "execution_count": 52,
   "metadata": {},
   "outputs": [
    {
     "data": {
      "image/png": "[encoded data removed]",
      "text/plain": [
       "<Figure size 1080x360 with 12 Axes>"
      ]
     },
     "metadata": {
      "needs_background": "light"
     },
     "output_type": "display_data"
    },
    {
     "data": {
      "image/png": "[encoded data removed]",
      "text/plain": [
       "<Figure size 914.4x180 with 5 Axes>"
      ]
     },
     "metadata": {
      "needs_background": "light"
     },
     "output_type": "display_data"
    }
   ],
   "source": [
    "%matplotlib inline\n",
    "def box_plot_utility(df):\n",
    "    fig, axs = plt.subplots(2, 6, figsize=(15, 5), constrained_layout=True)\n",
    "\n",
    "    for col, ax in zip(num[:12], axs.flatten()):\n",
    "        sns.boxplot(data=df[col], ax=ax)\n",
    "        ax.set_title(col)\n",
    "    plt.show()\n",
    "\n",
    "    fig, axs = plt.subplots(1, 5, figsize=(12.7, 2.5), constrained_layout=True)\n",
    "    for col, ax in zip(num[12:], axs.flatten()):\n",
    "        sns.boxplot(data=df[col], ax=ax)\n",
    "        ax.set_title(col)\n",
    "        \n",
    "box_plot_utility(df)   "
   ]
  },
  {
   "cell_type": "markdown",
   "metadata": {},
   "source": [
    "We can see that most features have outliers, but we can show that most data can be quickly restored by substituting the features' mode value for each Customer_ID. "
   ]
  },
  {
   "cell_type": "code",
   "execution_count": 53,
   "metadata": {},
   "outputs": [],
   "source": [
    "from statistics import mode\n",
    "\n",
    "features_mode = ['Age','Annual_Income', 'Num_Bank_Accounts', 'Occupation',\n",
    "                 'Num_Credit_Card', 'Num_of_Loan', 'Interest_Rate',\n",
    "                 'Outstanding_Debt', 'Total_EMI_per_month']\n",
    "\n",
    "for feature in features_mode:\n",
    "    tmp = df[['Customer_ID',\n",
    "               feature]].groupby('Customer_ID')[feature].apply(mode)\n",
    "    df[feature] = df['Customer_ID'].map(tmp.to_dict())\n",
    "\n",
    "\n",
    "# Restore back the 'Occupation' values where the algorithm fail\n",
    "customers_wrong = df.loc[df.Occupation == '', 'Customer_ID'].unique()\n",
    "for customer in customers_wrong:\n",
    "    df.loc[df.Customer_ID == customer,\n",
    "           'Occupation'] = df_old.loc[df_old.Customer_ID == customer,\n",
    "                                      'Occupation'].unique()[1]\n",
    "\n",
    "\n",
    "# Restore back the 'Num_Credit_Card' values where the algorithm fail\n",
    "tmp_num_cc = df_old.loc[df_old['Num_Bank_Accounts'] == -1,\n",
    "                        'Num_Credit_Card']\n",
    "tmp_num_cc.loc[55636] = 4\n",
    "df.loc[tmp_num_cc.index, 'Num_Credit_Card']\n",
    "\n",
    "\n",
    "# Set to NaN values manually for some outliers because they are considered erroneous.\n",
    "df.loc[df['Num_Credit_Inquiries'] > 20, 'Num_Credit_Inquiries'] = np.nan\n",
    "df.loc[df['Num_of_Delayed_Payment'] > 30, 'Num_of_Delayed_Payment'] = np.nan\n",
    "\n",
    "\n",
    "# Drop the unuseful column Customer_ID\n",
    "df.drop(columns='Customer_ID', inplace=True)"
   ]
  },
  {
   "cell_type": "markdown",
   "metadata": {},
   "source": [
    "We can see how the "
   ]
  },
  {
   "cell_type": "code",
   "execution_count": 54,
   "metadata": {},
   "outputs": [
    {
     "data": {
      "image/png": "[encoded data removed]",
      "text/plain": [
       "<Figure size 1080x360 with 12 Axes>"
      ]
     },
     "metadata": {
      "needs_background": "light"
     },
     "output_type": "display_data"
    },
    {
     "data": {
      "image/png": "[encoded data removed]",
      "text/plain": [
       "<Figure size 914.4x180 with 5 Axes>"
      ]
     },
     "metadata": {
      "needs_background": "light"
     },
     "output_type": "display_data"
    }
   ],
   "source": [
    "box_plot_utility(df)   "
   ]
  },
  {
   "cell_type": "code",
   "execution_count": 55,
   "metadata": {},
   "outputs": [
    {
     "data": {
      "text/plain": [
       "Month                           0\n",
       "Age                             0\n",
       "Occupation                      0\n",
       "Annual_Income                   0\n",
       "Monthly_Inhand_Salary       15002\n",
       "Num_Bank_Accounts               0\n",
       "Num_Credit_Card                 0\n",
       "Interest_Rate                   0\n",
       "Num_of_Loan                     0\n",
       "Type_of_Loan                    0\n",
       "Delay_from_due_date             0\n",
       "Num_of_Delayed_Payment       7738\n",
       "Changed_Credit_Limit         2091\n",
       "Num_Credit_Inquiries         3615\n",
       "Credit_Mix                      0\n",
       "Outstanding_Debt                0\n",
       "Credit_Utilization_Ratio        0\n",
       "Credit_History_Age              0\n",
       "Payment_of_Min_Amount           0\n",
       "Total_EMI_per_month             0\n",
       "Amount_invested_monthly      8784\n",
       "Payment_Behaviour            7600\n",
       "Monthly_Balance              1209\n",
       "Credit_Score                    0\n",
       "dtype: int64"
      ]
     },
     "execution_count": 55,
     "metadata": {},
     "output_type": "execute_result"
    }
   ],
   "source": [
    "df.isna().sum()"
   ]
  },
  {
   "cell_type": "markdown",
   "metadata": {},
   "source": [
    "<a name='6'></a>\n",
    "## 6 - Model and visualization ##\n",
    "\n",
    "### Splitting up the data ###\n",
    "The data is split into Training, Validation, and Test sets, with 60%, 20%, and 20% percentages, respectively."
   ]
  },
  {
   "cell_type": "code",
   "execution_count": 56,
   "metadata": {},
   "outputs": [],
   "source": [
    "scale_mapper = {\"Poor\":0, \"Standard\":1, \"Good\":2}\n",
    "df[\"Credit_Score\"] = df[\"Credit_Score\"].replace(scale_mapper)"
   ]
  },
  {
   "cell_type": "code",
   "execution_count": 57,
   "metadata": {},
   "outputs": [],
   "source": [
    "X_trainval, X_test, y_trainval, y_test = train_test_split(\n",
    "    df.drop(columns=[\"Credit_Score\"]),\n",
    "    df[\"Credit_Score\"],\n",
    "    test_size= 0.20,\n",
    "    shuffle=True\n",
    "    )\n",
    "\n",
    "X_train, X_val, y_train, y_val = train_test_split(\n",
    "    X_trainval,\n",
    "    y_trainval,\n",
    "    test_size= 0.25,\n",
    "    random_state= 42,\n",
    "    shuffle=True\n",
    "    )"
   ]
  },
  {
   "cell_type": "code",
   "execution_count": 58,
   "metadata": {},
   "outputs": [
    {
     "data": {
      "text/plain": [
       "((60000, 23), (20000, 23), (20000, 23))"
      ]
     },
     "execution_count": 58,
     "metadata": {},
     "output_type": "execute_result"
    }
   ],
   "source": [
    "X_train.shape, X_val.shape, X_test.shape"
   ]
  },
  {
   "cell_type": "markdown",
   "metadata": {},
   "source": [
    "### Data preparation ###\n",
    "#### Imbalanced learning ####\n",
    "As the data is somewhat imbalanced, RandomOverSampler is used to generate new datapoints of the least represented target values. This allowed us to get the same number of points for each class.\n",
    "\n",
    "#### Onehot-encoding ####\n",
    "The categorical features are one hot encoded to features giving \"1\" or \"0\" for each possible category. This heavily increases the dimensionality of the data, mostly due to the feature \"Type_of_Loan\", which has over 6000 categories. This feature has, however, proven to be crucial for the accuracy of the model. This can be explained by the fact that the bank could be interested not only in the type of loan but also in the order in which they are stipulated.\n",
    "\n",
    "#### Feature scaling ####\n",
    "To improve the chances of converging during training, the data is scaled by MaxAbsScaler, which scale each feature by its maximum absolute value."
   ]
  },
  {
   "cell_type": "code",
   "execution_count": 59,
   "metadata": {},
   "outputs": [
    {
     "data": {
      "text/plain": [
       "[(0, 31847), (1, 31847), (2, 31847)]"
      ]
     },
     "execution_count": 59,
     "metadata": {},
     "output_type": "execute_result"
    }
   ],
   "source": [
    "# Oversampling due to imbalance\n",
    "sampler = RandomOverSampler() \n",
    "\n",
    "X_train, y_train = sampler.fit_resample(X_train, y_train)\n",
    "\n",
    "\n",
    "# Making a pipeline for transforming\n",
    "\n",
    "cat_preprocessor = Pipeline(\n",
    "    [(\"imputer\", SimpleImputer(strategy=\"most_frequent\")),\n",
    "     (\"onehot\", OneHotEncoder(sparse=True, handle_unknown=\"ignore\"))]\n",
    "    )\n",
    "\n",
    "num_preprocessor = Pipeline(\n",
    "    [(\"imputer\", SimpleImputer(strategy=\"median\"))]\n",
    "    )  \n",
    "\n",
    "preprocessor = ColumnTransformer(\n",
    "    [(\"categorical\", cat_preprocessor, cat), \n",
    "    (\"numerical\", num_preprocessor, num)]\n",
    "    )\n",
    "\n",
    "    \n",
    "# Transforming\n",
    "X_train = preprocessor.fit_transform(X_train)\n",
    "X_val = preprocessor.transform(X_val)\n",
    "X_test = preprocessor.transform(X_test)\n",
    "\n",
    "\n",
    "# Scaling\n",
    "scaler = MaxAbsScaler()\n",
    "X_train = scaler.fit_transform(X_train).toarray()\n",
    "X_val = scaler.transform(X_val).toarray()\n",
    "X_test = scaler.transform(X_test).toarray()\n",
    "\n",
    "\n",
    "sorted(Counter(y_train).items())"
   ]
  },
  {
   "cell_type": "markdown",
   "metadata": {},
   "source": [
    "#### Visualization ####\n",
    "The test set is used for training a UMAP visualization of the data's clusters. We can see that although the Credit Scores are somewhat intertwined, especially for Credit Scores closer to each other (Standard & Good, Poor & Standard), the algorithm finds clear clusters. It is especially hard for the algorithm to differ Good from other credit scores, as can be seen in the bottom right clusters."
   ]
  },
  {
   "cell_type": "code",
   "execution_count": 60,
   "metadata": {},
   "outputs": [
    {
     "data": {
      "image/png": "[encoded data removed]",
      "text/plain": [
       "<Figure size 504x504 with 1 Axes>"
      ]
     },
     "metadata": {
      "needs_background": "light"
     },
     "output_type": "display_data"
    }
   ],
   "source": [
    "reducer = UMAP.UMAP(15)\n",
    "embedding = reducer.fit_transform(X_test)\n",
    "\n",
    "le = LabelEncoder()\n",
    "\n",
    "plt.figure(figsize=(7, 7))\n",
    "scatter = plt.scatter(embedding[:, 0], embedding[:, 1],  s=1, c=y_test)\n",
    "plt.xlabel('UMAP feature 0')\n",
    "plt.ylabel('UMAP feature 1')\n",
    "plt.title('UMAP projection')\n",
    "legend1 = plt.legend(*scatter.legend_elements(), title=\"Classes\")\n",
    "\n",
    "plt.show()"
   ]
  },
  {
   "cell_type": "markdown",
   "metadata": {},
   "source": [
    "### Neural Network with Softmax Function ###\n",
    "In both softmax regression and neural networks with Softmax outputs, $N$ outputs are generated and one output is selected as the predicted category. In both cases a vector $\\mathbf{z}$ is generated by a linear function which is applied to a softmax function. The softmax function converts $\\mathbf{z}$  into a probability distribution as described below. After applying softmax, each output will be between 0 and 1 and the outputs will add to 1, so that they can be interpreted as probabilities. The larger inputs  will correspond to larger output probabilities.\n",
    "<center>  <img  src=\"../images/C2_W2_SoftmaxReg_NN.png\" width=\"600\" /> \n",
    "\n",
    "The softmax function can be written:\n",
    "$$a_j = \\frac{e^{z_j}}{ \\sum_{k=1}^{N}{e^{z_k} }} \\tag{1}$$\n",
    "\n",
    "The output $\\mathbf{a}$ is a vector of length N, so for softmax regression, you could also write:\n",
    "$$\n",
    "\\begin{align}\n",
    "\\mathbf{a}(x) =\n",
    "\\begin{bmatrix}\n",
    "P(y = 1 | \\mathbf{x}; \\mathbf{w},b) \\\\\n",
    "\\vdots \\\\\n",
    "P(y = N | \\mathbf{x}; \\mathbf{w},b)\n",
    "\\end{bmatrix}\n",
    "=\n",
    "\\frac{1}{ \\sum_{k=1}^{N}{e^{z_k} }}\n",
    "\\begin{bmatrix}\n",
    "e^{z_1} \\\\\n",
    "\\vdots \\\\\n",
    "e^{z_{N}} \\\\\n",
    "\\end{bmatrix} \\tag{2}\n",
    "\\end{align}\n",
    "$$\n",
    "\n",
    "Which shows the output is a vector of probabilities. The first entry is the probability the input is the first category given the input $\\mathbf{x}$ and parameters $\\mathbf{w}$ and $\\mathbf{b}$."
   ]
  },
  {
   "cell_type": "markdown",
   "metadata": {},
   "source": [
    "#### Cost ####\n",
    "The loss function associated with Softmax, the cross-entropy loss, is:\n",
    "\\begin{equation}\n",
    "  L(\\mathbf{a},y)=\\begin{cases}\n",
    "    -log(a_1), & \\text{if $y=1$}.\\\\\n",
    "        &\\vdots\\\\\n",
    "     -log(a_N), & \\text{if $y=N$}\n",
    "  \\end{cases} \\tag{3}\n",
    "\\end{equation}\n",
    "\n",
    "Where y is the target category for this example and $\\mathbf{a}$ is the output of a softmax function. In particular, the values in $\\mathbf{a}$ are probabilities that sum to one.\n",
    "\n",
    "Note in (3) above, only the line that corresponds to the target contributes to the loss, other lines are zero. To write the cost equation we need an 'indicator function' that will be 1 when the index matches the target and zero otherwise. \n",
    "    $$\\mathbf{1}\\{y == n\\} = =\\begin{cases}\n",
    "    1, & \\text{if $y==n$}.\\\\\n",
    "    0, & \\text{otherwise}.\n",
    "  \\end{cases}$$\n",
    "Now the cost is:\n",
    "\\begin{align}\n",
    "J(\\mathbf{w},b) = -\\frac{1}{m} \\left[ \\sum_{i=1}^{m} \\sum_{j=1}^{N}  1\\left\\{y^{(i)} == j\\right\\} \\log \\frac{e^{z^{(i)}_j}}{\\sum_{k=1}^N e^{z^{(i)}_k} }\\right] \\tag{4}\n",
    "\\end{align}\n",
    "\n",
    "Where $m$ is the number of examples, $N$ is the number of outputs. This is the average of all the losses.\n"
   ]
  },
  {
   "cell_type": "markdown",
   "metadata": {},
   "source": [
    "### L2 Regularization ###\n",
    "\n",
    "The standard way to avoid overfitting is called **L2 regularization**. It consists of appropriately modifying the cost function as follows:\n",
    "To:\n",
    "$$J_{regularized} = \\small \\underbrace{-\\frac{1}{m} \\sum\\limits_{i = 1}^{m} \\large{(}\\small y^{(i)}\\log\\left(a^{[L](i)}\\right) + (1-y^{(i)})\\log\\left(1- a^{[L](i)}\\right) \\large{)} }_\\text{SparseCategoricalCrossentropy cost} + \\underbrace{\\frac{1}{m} \\frac{\\lambda}{2} \\sum\\limits_l\\sum\\limits_k\\sum\\limits_j W_{k,j}^{[l]2} }_\\text{L2 regularization cost} \\tag{2}$$\n",
    "\n",
    "\n",
    "where:\n",
    "- $\\lambda$ is the regularization parameter."
   ]
  },
  {
   "cell_type": "markdown",
   "metadata": {},
   "source": [
    "<a name='5'></a>   \n",
    "#### 5 - Adam ####\n",
    "\n",
    "Adam is one of the most effective optimization algorithms for training neural networks. \n",
    "\n",
    "**How does Adam work?**\n",
    "1. It calculates an exponentially weighted average of past gradients, and stores it in variables $v$ (before bias correction) and $v^{corrected}$ (with bias correction). \n",
    "2. It calculates an exponentially weighted average of the squares of the past gradients, and  stores it in variables $s$ (before bias correction) and $s^{corrected}$ (with bias correction). \n",
    "3. It updates parameters in a direction based on combining information from \"1\" and \"2\".\n",
    "\n",
    "The update rule is, for $l = 1, ..., L$: \n",
    "\n",
    "$$\\begin{cases}\n",
    "v_{dW^{[l]}} = \\beta_1 v_{dW^{[l]}} + (1 - \\beta_1) \\frac{\\partial \\mathcal{J} }{ \\partial W^{[l]} } \\\\\n",
    "v^{corrected}_{dW^{[l]}} = \\frac{v_{dW^{[l]}}}{1 - (\\beta_1)^t} \\\\\n",
    "s_{dW^{[l]}} = \\beta_2 s_{dW^{[l]}} + (1 - \\beta_2) (\\frac{\\partial \\mathcal{J} }{\\partial W^{[l]} })^2 \\\\\n",
    "s^{corrected}_{dW^{[l]}} = \\frac{s_{dW^{[l]}}}{1 - (\\beta_2)^t} \\\\\n",
    "W^{[l]} = W^{[l]} - \\alpha \\frac{v^{corrected}_{dW^{[l]}}}{\\sqrt{s^{corrected}_{dW^{[l]}}} + \\varepsilon}\n",
    "\\end{cases}$$\n",
    "where:\n",
    "- t counts the number of steps taken of Adam;\n",
    "- L is the number of layers;\n",
    "- $\\beta_1$ and $\\beta_2$ are hyperparameters that control the two exponentially weighted averages. \n",
    "- $\\alpha$ is the learning rate;\n",
    "- $\\varepsilon$ is a very small number to avoid dividing by zero.\n",
    "\n",
    "In general Adam converges a faster respect mini-batch gradient descent and Momentum."
   ]
  },
  {
   "cell_type": "markdown",
   "metadata": {},
   "source": [
    "### Tune the model architecture ###\n",
    "\n",
    "A Keras Tuner tests different neural networks to find the best hyperparameters. The tuner test all combinations of the following:\n",
    "\n",
    "* Number of hidden layers: [1, 3],\n",
    "* Number of neurons per layer: [250, 500],\n",
    "* Learning rates: [0.01, 0.001],\n",
    "* A dropout layer with 0.8 as dropout rate is added before the output layer in order to reduce overfitting.\n",
    "\n",
    "Dropout is a widely used regularization technique that is specific to deep learning. It randomly shuts down some neurons in each iteration. At each iteration, you train a different model that uses only a subset of your neurons. Neurons thus become less sensitive to the activation of one other specific neuron, because that other neuron might be shut down at any time.$\\\\$\n",
    "The Rectified Linear Unit (ReLU) activation function $ a(z) = max(0, z) $ is chosen because we have an output always positive. In general, it is the recommended activation function for hidden layers."
   ]
  },
  {
   "cell_type": "code",
   "execution_count": null,
   "metadata": {},
   "outputs": [],
   "source": [
    "initializer = initializers.HeNormal()\n",
    "\n",
    "# The model with the search space for which to perform the Random Search\n",
    "def build_model(hp):\n",
    "    model = Sequential(name='Credit_Score_classification')\n",
    "    for i in range(hp.Int('num_layers', 1, 3)):\n",
    "        model.add(\n",
    "            Dense(\n",
    "                units=hp.Int(f'units_{i}', min_value=250, max_value=500,  step=250), \n",
    "                activation='relu',\n",
    "                name=f'L{i}'\n",
    "                )\n",
    "            )\n",
    "        \n",
    "    #model.add(BatchNormalization())\n",
    "    model.add(Dropout(0.8, seed=123))\n",
    "        \n",
    "    model.add(\n",
    "        Dense(\n",
    "            3, kernel_initializer=initializer, activation='softmax', name=f'L{i+1}')\n",
    "        )\n",
    "    \n",
    "    model.compile(\n",
    "        optimizer=Adam(learning_rate=hp.Choice('lrate', values=[1e-2, 1e-3])),\n",
    "        loss=SparseCategoricalCrossentropy,\n",
    "        metrics=['accuracy']\n",
    "        )\n",
    "    \n",
    "    return model"
   ]
  },
  {
   "cell_type": "markdown",
   "metadata": {},
   "source": [
    "<center>\n",
    "<img src=\"../images/Random vs Grid.jpeg\" style=\"width:720px;height:350px;\">\n",
    "<caption><center> <u> <font color='black'> <b>Figure 1</b> </u><font color='black'>  : <b>Grid Search vs Random Search</b><br> The Random Search is a variation of the Grid Search algorithm, which randomly samples the search space instead of discretizing it with a Cartesian grid. The algorithm has no end. Instead a time budget has to be specified (i.e. a number of trials). This algorithm suffers likewise from the curse of dimensionality to reach a preset fixed sampling density. One of the advantages of random search is that if two hyper-parameters are little correlated, random search enables to find more precisely the optima of each parameter. </center></caption>"
   ]
  },
  {
   "cell_type": "code",
   "execution_count": null,
   "id": "2b97a4ea",
   "metadata": {
    "execution": {
     "iopub.execute_input": "2022-09-24T10:52:33.112797Z",
     "iopub.status.busy": "2022-09-24T10:52:33.111333Z",
     "iopub.status.idle": "2022-09-24T11:48:09.656720Z",
     "shell.execute_reply": "2022-09-24T11:48:09.655319Z"
    },
    "papermill": {
     "duration": 3336.555278,
     "end_time": "2022-09-24T11:48:09.658952",
     "exception": false,
     "start_time": "2022-09-24T10:52:33.103674",
     "status": "completed"
    },
    "tags": []
   },
   "outputs": [
    {
     "name": "stdout",
     "output_type": "stream",
     "text": [
      "Trial 42 Complete [00h 01m 11s]\n",
      "val_accuracy: 0.7246000170707703\n",
      "\n",
      "Best val_accuracy So Far: 0.7631999850273132\n",
      "Total elapsed time: 00h 55m 33s\n"
     ]
    }
   ],
   "source": [
    "callback = tf.keras.callbacks.EarlyStopping(monitor='val_loss', patience=3)\n",
    "\n",
    "# RandomSearch\n",
    "tuner = kt.RandomSearch(\n",
    "    build_model,\n",
    "    objective=\"val_accuracy\",\n",
    "    max_trials=50,\n",
    "    directory='keras_tuner',\n",
    "    project_name=\"Credit_Score_classification\",\n",
    "    overwrite=True\n",
    ")\n",
    "\n",
    "tuner.search(\n",
    "    x=X_train,\n",
    "    y=y_train,\n",
    "    epochs=10,\n",
    "    validation_data=(X_val, y_val),\n",
    "    callbacks=[callback]\n",
    "    )"
   ]
  },
  {
   "cell_type": "code",
   "execution_count": null,
   "id": "6b364d88",
   "metadata": {
    "execution": {
     "iopub.execute_input": "2022-09-24T11:48:23.627940Z",
     "iopub.status.busy": "2022-09-24T11:48:23.627593Z",
     "iopub.status.idle": "2022-09-24T11:48:23.633219Z",
     "shell.execute_reply": "2022-09-24T11:48:23.632212Z"
    },
    "papermill": {
     "duration": 0.016918,
     "end_time": "2022-09-24T11:48:23.636599",
     "exception": false,
     "start_time": "2022-09-24T11:48:23.619681",
     "status": "completed"
    },
    "tags": []
   },
   "outputs": [
    {
     "name": "stdout",
     "output_type": "stream",
     "text": [
      "Model: \"Credit_Score_classification\"\n",
      "_________________________________________________________________\n",
      "Layer (type)                 Output Shape              Param #   \n",
      "=================================================================\n",
      "L0 (Dense)                   (None, 500)               3156500   \n",
      "_________________________________________________________________\n",
      "L1 (Dense)                   (None, 250)               125250    \n",
      "_________________________________________________________________\n",
      "L2 (Dense)                   (None, 250)               62750     \n",
      "_________________________________________________________________\n",
      "dropout (Dropout)            (None, 250)               0         \n",
      "_________________________________________________________________\n",
      "L3 (Dense)                   (None, 3)                 753       \n",
      "=================================================================\n",
      "Total params: 3,345,253\n",
      "Trainable params: 3,345,253\n",
      "Non-trainable params: 0\n",
      "_________________________________________________________________\n"
     ]
    }
   ],
   "source": [
    "model = tuner.get_best_models()[0]\n",
    "model.summary()"
   ]
  },
  {
   "cell_type": "code",
   "execution_count": null,
   "id": "03ecb7a7",
   "metadata": {
    "execution": {
     "iopub.execute_input": "2022-09-24T11:48:21.102542Z",
     "iopub.status.busy": "2022-09-24T11:48:21.102272Z",
     "iopub.status.idle": "2022-09-24T11:48:23.554787Z",
     "shell.execute_reply": "2022-09-24T11:48:23.553866Z"
    },
    "papermill": {
     "duration": 2.463108,
     "end_time": "2022-09-24T11:48:23.557002",
     "exception": false,
     "start_time": "2022-09-24T11:48:21.093894",
     "status": "completed"
    },
    "tags": []
   },
   "outputs": [
    {
     "name": "stdout",
     "output_type": "stream",
     "text": [
      "tf.Tensor(\n",
      "[[4922  701  260]\n",
      " [1609 7711 1319]\n",
      " [  94  771 2613]], shape=(3, 3), dtype=int32)\n"
     ]
    }
   ],
   "source": [
    "y_pred_prob = model.predict(X_test)\n",
    "y_pred = np.argmax(y_pred_prob, axis=1)\n",
    "\n",
    "\n",
    "result = tf.math.confusion_matrix(y_test, y_pred)\n",
    "print(result)"
   ]
  },
  {
   "cell_type": "code",
   "execution_count": null,
   "id": "20b1332f",
   "metadata": {
    "execution": {
     "iopub.execute_input": "2022-09-24T11:48:23.574603Z",
     "iopub.status.busy": "2022-09-24T11:48:23.572970Z",
     "iopub.status.idle": "2022-09-24T11:48:23.609863Z",
     "shell.execute_reply": "2022-09-24T11:48:23.608666Z"
    },
    "papermill": {
     "duration": 0.047434,
     "end_time": "2022-09-24T11:48:23.611966",
     "exception": false,
     "start_time": "2022-09-24T11:48:23.564532",
     "status": "completed"
    },
    "tags": []
   },
   "outputs": [
    {
     "name": "stdout",
     "output_type": "stream",
     "text": [
      "              precision    recall  f1-score   support\n",
      "\n",
      "           0       0.74      0.84      0.79      5883\n",
      "           1       0.84      0.72      0.78     10639\n",
      "           2       0.62      0.75      0.68      3478\n",
      "\n",
      "    accuracy                           0.76     20000\n",
      "   macro avg       0.74      0.77      0.75     20000\n",
      "weighted avg       0.77      0.76      0.76     20000\n",
      "\n"
     ]
    }
   ],
   "source": [
    "print(classification_report(y_test, y_pred))"
   ]
  },
  {
   "cell_type": "markdown",
   "metadata": {},
   "source": []
  }
 ],
 "metadata": {
  "kernelspec": {
   "display_name": "Python 3.10.6 64-bit",
   "language": "python",
   "name": "python3"
  },
  "language_info": {
   "codemirror_mode": {
    "name": "ipython",
    "version": 3
   },
   "file_extension": ".py",
   "mimetype": "text/x-python",
   "name": "python",
   "nbconvert_exporter": "python",
   "pygments_lexer": "ipython3",
   "version": "3.10.6"
  },
  "orig_nbformat": 4,
  "vscode": {
   "interpreter": {
    "hash": "e51fdbc37c5adaa12a9ed97b50fdaf0ff46be7ee1a114cc405b6eaf0c36d1bf8"
   }
  }
 },
 "nbformat": 4,
 "nbformat_minor": 2
}
