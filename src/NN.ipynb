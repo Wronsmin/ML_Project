{
 "cells": [
  {
   "cell_type": "markdown",
   "metadata": {},
   "source": [
    "## Table of Contents\n",
    "- [1 - Problem statement](#1)\n",
    "- [2 - Import useful libraries](#2)\n",
    "- [3 - Loading Dataset](#3)\n",
    "\n",
    "    - [example 1](#ex-1)"
   ]
  },
  {
   "cell_type": "markdown",
   "metadata": {},
   "source": [
    "<a name='1'></a>\n",
    "## 1 - Problem Statement\n",
    "The dataset is provided by \n",
    "You are working as a data scientist in a global finance company. Over the years, the company has collected basic bank details and gathered a lot of credit-related information. The management wants to build an intelligent system to segregate the people into credit score brackets to reduce the manual efforts.\n",
    "\n",
    "Task:\n",
    "Given a person’s credit-related information, build a machine learning model that can classify the credit score."
   ]
  },
  {
   "cell_type": "markdown",
   "metadata": {},
   "source": [
    "<a name='2'></a>\n",
    "## 2 - Import useful libraries ##"
   ]
  },
  {
   "cell_type": "code",
   "execution_count": null,
   "metadata": {},
   "outputs": [],
   "source": [
    "# standard libraries\n",
    "import numpy as np \n",
    "import pandas as pd \n",
    "\n",
    "# time libraries \n",
    "from tqdm import tqdm\n",
    "from time import time\n",
    "\n",
    "# visualization library\n",
    "import umap.umap_ as UMAP\n",
    "\n",
    "# resampling libraries\n",
    "from imblearn.pipeline import Pipeline \n",
    "from imblearn.over_sampling import RandomOverSampler\n",
    "\n",
    "# useful library\n",
    "from collections import Counter\n",
    "\n",
    "# scikit-learn libraries for preprocessing and report analysis \n",
    "from sklearn.preprocessing import LabelEncoder, OneHotEncoder\n",
    "from sklearn.compose import ColumnTransformer\n",
    "from sklearn.impute import SimpleImputer\n",
    "from sklearn.model_selection import train_test_split\n",
    "from sklearn.preprocessing import MaxAbsScaler\n",
    "from sklearn.metrics import classification_report, confusion_matrix\n",
    "\n",
    "# tensorflow libraries for Neural Network implementation\n",
    "import tensorflow as tf\n",
    "from tensorflow.keras import Sequential, initializers\n",
    "from tensorflow.keras.optimizers import Adam\n",
    "from tensorflow.keras.layers import Dense, Dropout, BatchNormalization\n",
    "from tensorflow.keras.losses import SparseCategoricalCrossentropy\n",
    "\n",
    "# library for hyperparameters tuning\n",
    "import keras_tuner as kt\n",
    "\n",
    "# standard plot library\n",
    "import seaborn as sns\n",
    "import matplotlib.pyplot as plt\n",
    "\n",
    "import warnings\n",
    "warnings.filterwarnings('ignore')"
   ]
  },
  {
   "cell_type": "markdown",
   "metadata": {},
   "source": [
    "<a name='3'></a>\n",
    "## 3 - Loading and Data description ##\n",
    "Dataset 27 features and 1 target, for a total of $10^6$ instances. \n",
    "* <span style=\"color:blue\">**blue**</span> $\\rightarrow$ redundant features\n",
    "* <span style=\"color:red\">**red**</span> $\\rightarrow$ features with wrong data type\n",
    "* <span style=\"color:green\">**green**</span> $\\rightarrow$ target\n",
    "* (#) $\\rightarrow$ numerical feature\n",
    "* (A) $\\rightarrow$ categorical feature\n",
    "\n",
    "1. (<span style=\"color:blue\">**A**</span>) **ID**: Represents a unique identification of an entry;\n",
    "2. (A) **Customer_ID**: Represents a unique identification of a person;\n",
    "3. (A) **Month**: Represents the month of the year;\n",
    "4. (<span style=\"color:blue\">**A**</span>) **Name**: Represents the name of a person;\n",
    "5. (<span style=\"color:red\">**A**</span>) **Age**: Represents the age of the person;\n",
    "6. (<span style=\"color:blue\">**A**</span>) **SSN**: Represents the social security number of a person;\n",
    "7. (A) **Occupation**: Represents the occupation of the person;\n",
    "8. (<span style=\"color:red\">**A**</span>) **Annual_Income**: Represents the annual income of the person;\n",
    "9. (#) **Monthly_Inhand_Salary**: Represents the monthly base salary of a person;\n",
    "10. (#) **Num_Bank_Accounts**: Represents the number of bank accounts a person holds;\n",
    "11. (#) **Num_Credit_Card**: Represents the number of other credit cards held by a person;\n",
    "12. (#) **Interest_Rate**: Represents the interest rate on credit card;\n",
    "13. (<span style=\"color:red\">**A**</span>) **Num_of_Loan**: Represents the number of loans taken from the bank;\n",
    "14. (A) **Type_of_Loan**: Represents the types of loan taken by a person;\n",
    "15. (#) **Delay_from_due_date**: Represents the average number of days delayed from the payment date;\n",
    "16. (<span style=\"color:red\">**A**</span>) **Num_of_Delayed_Payment**: Represents the average number of payments delayed by a person;\n",
    "17. (#) **Changed_Credit_Limit**: Represents the percentage change in credit card limit;\n",
    "18. (#) **Num_Credit_Inquiries**: Represents the number of credit card inquiries;\n",
    "19. (A) **Credit_Mix**: Represents the classification of the mix of credits;\n",
    "20. (<span style=\"color:red\">**A**</span>) **Outstanding_Debt**: Represents the remaining debt to be paid (in USD);\n",
    "21. (#) **Credit_Utilization_Ratio**: Represents the utilization ratio of credit card;\n",
    "22. (<span style=\"color:red\">**A**</span>) **Credit_History_Age**: Represents the age of credit history of the person;\n",
    "23. (A) **Payment_of_Min_Amount**: Represents whether only the minimum amount was paid by the person;\n",
    "24. (#) **Total_EMI_per_month**: Represents the monthly EMI payments (in USD);\n",
    "25. (<span style=\"color:red\">**A**</span>) **Amount_invested_monthly**: Represents the monthly amount invested by the customer (in USD);\n",
    "26. (A) **Payment_Behaviour**: Represents the payment behavior of the customer (in USD);\n",
    "27. (#) **Monthly_Balance**: Represents the monthly balance amount of the customer (in USD);\n",
    "28. (<span style=\"color:green\">**A**</span>) **Credit_Score**: Represents the bracket of credit score (Poor, Standard, Good)."
   ]
  },
  {
   "cell_type": "code",
   "execution_count": null,
   "metadata": {},
   "outputs": [],
   "source": [
    "# low_memory=False because it has 26 columns with mixed types\n",
    "df = pd.read_csv(\"../Data/train.csv\", low_memory=False)\n",
    "\n",
    "# Remove redundant features,\n",
    "# 'Customer_ID' is left on for preprocessing analysis, after that \n",
    "# it is dropped\n",
    "df.drop(columns=['ID', 'Name', 'SSN'], inplace=True)\n",
    "\n",
    "n_rows, n_cols = df.shape\n",
    "print(f'Dataset shape: {n_rows, n_cols}')\n",
    "\n",
    "n1 = 12\n",
    "print(f'First {n1} columns')\n",
    "df.iloc[:, :n1].head(8)"
   ]
  },
  {
   "cell_type": "code",
   "execution_count": null,
   "metadata": {},
   "outputs": [],
   "source": [
    "print(f'Last {n_cols - n1} columns')\n",
    "df.iloc[:, n1:].head(8)"
   ]
  },
  {
   "cell_type": "code",
   "execution_count": null,
   "metadata": {},
   "outputs": [],
   "source": [
    "import pandas_profiling as pp\n",
    "#pp.ProfileReport(df, title = 'Pandas Profiling report of \"dataset\"', html = {'style':{'full_width': True}})"
   ]
  },
  {
   "cell_type": "markdown",
   "metadata": {},
   "source": [
    "<a name='4'></a>\n",
    "## 4 - Clean the dataset ##\n",
    "Replace with NaN values the artifacts in the features 'Monthly_Balance', 'Amount_invested_monthly', and 'Payment_Behaviour'."
   ]
  },
  {
   "cell_type": "code",
   "execution_count": null,
   "metadata": {},
   "outputs": [],
   "source": [
    "artifacts = ['__-333333333333333333333333333__', '__10000__', '!@9#%8']\n",
    "df.replace(artifacts, np.nan, inplace=True)"
   ]
  },
  {
   "cell_type": "markdown",
   "metadata": {},
   "source": [
    "For the 'Credit_History_Age' feature, the years and months are coded as total months, then the variable is casted as numeric."
   ]
  },
  {
   "cell_type": "code",
   "execution_count": null,
   "metadata": {},
   "outputs": [],
   "source": [
    "df.loc[df.Credit_History_Age.notna(),\n",
    "       'Credit_History_Age'] = df['Credit_History_Age'].str.extractall('(\\d+)').unstack().astype(float).multiply([12, 1]).sum(axis=1)\n",
    "df['Credit_History_Age'] = df['Credit_History_Age'].astype(float)\n",
    "\n",
    "df.iloc[:, n1:].head()"
   ]
  },
  {
   "cell_type": "markdown",
   "metadata": {},
   "source": [
    "We can show that all missing values of 'Type_of_Loan' corresponds to 'Num_of_Loan' = 0. So we indicate that values with 'no Loan'. \n",
    "Previously we made dummy variables for whether each of the 10 possible loan types were represented in the row. This turned out to reduce the accuracy of the model by $15\\%$."
   ]
  },
  {
   "cell_type": "code",
   "execution_count": null,
   "metadata": {},
   "outputs": [],
   "source": [
    "df['Type_of_Loan'].fillna('no Loan', inplace=True)\n",
    "df['Type_of_Loan'].value_counts()[:10]"
   ]
  },
  {
   "cell_type": "markdown",
   "metadata": {},
   "source": [
    "Remove the '_' character to cast the wrong assigned categorical features into numerical features."
   ]
  },
  {
   "cell_type": "code",
   "execution_count": null,
   "metadata": {},
   "outputs": [],
   "source": [
    "# Categorical features\n",
    "cat = df.drop(columns=['Credit_Score',\n",
    "                       'Customer_ID']).select_dtypes(include=[\"object\"]).columns\n",
    "\n",
    "# Find all the categorical features which contain the character '_'  \n",
    "features_ = [feature for feature in cat if df[feature].str.contains('_').any()]\n",
    "\n",
    "# Remove the character '_' from all the selected categorical features\n",
    "for feature in features_:\n",
    "    df[feature] = df[feature].str.replace(\"_\", \"\")\n",
    "\n",
    "\n",
    "# All the wrong assigned categorical features\n",
    "features_wac = ['Age', 'Annual_Income', 'Num_of_Loan', 'Num_of_Delayed_Payment',\n",
    "            'Changed_Credit_Limit', 'Outstanding_Debt', 'Amount_invested_monthly',\n",
    "            'Monthly_Balance', 'Total_EMI_per_month']\n",
    "\n",
    "# Casting the features as numeric\n",
    "for feature in features_wac:\n",
    "    df[feature] = pd.to_numeric(df[feature]).astype('float')\n",
    "\n",
    "\n",
    "# Correct categorical features.   \n",
    "cat = df.drop(columns=['Credit_Score',\n",
    "                       'Customer_ID']).select_dtypes(include=[\"object\"]).columns   \n",
    "# Numeric features \n",
    "num = df.select_dtypes(include=[\"number\"]).columns\n",
    "\n",
    "\n",
    "# Let's take a copy of the dataframe to backup some data\n",
    "df_old = df.copy()"
   ]
  },
  {
   "cell_type": "markdown",
   "metadata": {},
   "source": [
    "<a name='5'></a>\n",
    "## 5 - Outlier Detection ##\n",
    "We have considered the box plot of all the features in order to detect outliers in the dataset."
   ]
  },
  {
   "cell_type": "code",
   "execution_count": null,
   "metadata": {},
   "outputs": [],
   "source": [
    "%matplotlib inline\n",
    "def box_plot_utility(df):\n",
    "    fig, axs = plt.subplots(2, 6, figsize=(15, 5), constrained_layout=True)\n",
    "\n",
    "    for col, ax in zip(num[:12], axs.flatten()):\n",
    "        sns.boxplot(data=df[col], ax=ax)\n",
    "        ax.set_title(col)\n",
    "    plt.show()\n",
    "\n",
    "    fig, axs = plt.subplots(1, 5, figsize=(12.7, 2.5), constrained_layout=True)\n",
    "    for col, ax in zip(num[12:], axs.flatten()):\n",
    "        sns.boxplot(data=df[col], ax=ax)\n",
    "        ax.set_title(col)\n",
    "        \n",
    "box_plot_utility(df)   "
   ]
  },
  {
   "cell_type": "markdown",
   "metadata": {},
   "source": [
    "We can see that most features have outliers, but we can show that most data can be quickly restored by substituting the mode value for each Customer_ID. "
   ]
  },
  {
   "cell_type": "code",
   "execution_count": null,
   "metadata": {},
   "outputs": [],
   "source": [
    "from statistics import mode\n",
    "\n",
    "features_tmp = ['Age','Annual_Income', 'Num_Bank_Accounts', 'Occupation',\n",
    "                'Num_Credit_Card', 'Num_of_Loan', 'Interest_Rate',\n",
    "                'Outstanding_Debt']\n",
    "\n",
    "for feature in features_tmp:\n",
    "    tmp = df[['Customer_ID',\n",
    "               feature]].groupby('Customer_ID')[feature].apply(mode)\n",
    "    df[feature] = df['Customer_ID'].map(tmp.to_dict())\n",
    "\n",
    "\n",
    "# Restore back the 'Occupation' values where the algorithm fail\n",
    "customers_wrong = df.loc[df.Occupation == '', 'Customer_ID'].unique()\n",
    "for customer in customers_wrong:\n",
    "    df.loc[df.Customer_ID == customer,\n",
    "           'Occupation'] = df_old.loc[df_old.Customer_ID == customer,\n",
    "                                      'Occupation'].unique()[1]\n",
    "\n",
    "\n",
    "# Restore back the 'Num_Credit_Card' values where the algorithm fail\n",
    "tmp_num_cc = df_old.loc[df_old['Num_Bank_Accounts'] == -1,\n",
    "                        'Num_Credit_Card']\n",
    "tmp_num_cc.loc[55636] = 4\n",
    "df.loc[tmp_num_cc.index, 'Num_Credit_Card']\n",
    "\n",
    "\n",
    "# Set to NaN values some typos \n",
    "df.loc[df['Num_Credit_Inquiries'] > 20, 'Num_Credit_Inquiries'] = np.nan\n",
    "df.loc[df['Num_of_Delayed_Payment'] > 30, 'Num_of_Delayed_Payment'] = np.nan\n",
    "\n",
    "\n",
    "# Drop the unuseful column Customer_ID\n",
    "df.drop(columns='Customer_ID', inplace=True)"
   ]
  },
  {
   "cell_type": "markdown",
   "metadata": {},
   "source": [
    "We can see how the "
   ]
  },
  {
   "cell_type": "code",
   "execution_count": null,
   "metadata": {},
   "outputs": [],
   "source": [
    "box_plot_utility(df)   "
   ]
  },
  {
   "cell_type": "markdown",
   "metadata": {},
   "source": [
    "<a name='6'></a>\n",
    "## 6 - Model and visualization ##\n",
    "\n",
    "### Splitting up the data ###\n",
    "The data is split into Training, Validation, and Test sets, with 60%, 20%, and 20% percentages, respectively."
   ]
  },
  {
   "cell_type": "code",
   "execution_count": null,
   "metadata": {},
   "outputs": [],
   "source": [
    "X_trainval, X_test, y_trainval, y_test = train_test_split(\n",
    "    df.drop(columns=[\"Credit_Score\"]),\n",
    "    df[\"Credit_Score\"],\n",
    "    test_size= 0.20,\n",
    "    shuffle=True\n",
    "    )\n",
    "\n",
    "X_train, X_val, y_train, y_val = train_test_split(\n",
    "    X_trainval,\n",
    "    y_trainval,\n",
    "    test_size= 0.25,\n",
    "    random_state= 42,\n",
    "    shuffle=True\n",
    "    )"
   ]
  },
  {
   "cell_type": "code",
   "execution_count": null,
   "metadata": {},
   "outputs": [
    {
     "data": {
      "text/plain": [
       "((60000, 23), (20000, 23), (20000, 23))"
      ]
     },
     "execution_count": 174,
     "metadata": {},
     "output_type": "execute_result"
    }
   ],
   "source": [
    "X_train.shape, X_val.shape, X_test.shape"
   ]
  },
  {
   "cell_type": "markdown",
   "metadata": {},
   "source": [
    "### Data preparation ###\n",
    "#### Imbalanced learning ####\n",
    "As the data is somewhat imbalanced, RandomOverSampler is used to generate new datapoints of the least represented target values. This allowed us to get the same number of points for each class.\n",
    "\n",
    "#### Onehot-encoding ####\n",
    "The categorical features are one hot encoded to features giving \"1\" or \"0\" for each possible category. This heavily increases the dimensionality of the data, mostly due to the feature \"Type_of_Loan\", which has over 6000 categories. This feature has, however, proven to be crucial for the accuracy of the model. This can be explained by the fact that the bank could be interested not only in the type of loan but also in the order in which they are stipulated.\n",
    "\n",
    "#### Feature scaling ####\n",
    "To improve the chances of converging during training, the data is scaled by MaxAbsScaler."
   ]
  },
  {
   "cell_type": "code",
   "execution_count": null,
   "metadata": {},
   "outputs": [],
   "source": [
    "# Oversampling due to imbalance\n",
    "sampler = RandomOverSampler() \n",
    "\n",
    "X_train, y_train = sampler.fit_resample(X_train, y_train)\n",
    "\n",
    "\n",
    "# Making a pipeline for transforming\n",
    "\n",
    "cat_preprocessor = Pipeline(\n",
    "    [(\"imputer\", SimpleImputer(strategy=\"most_frequent\")),\n",
    "     (\"onehot\", OneHotEncoder(sparse=True, handle_unknown=\"ignore\"))]\n",
    "    )\n",
    "\n",
    "num_preprocessor = Pipeline(\n",
    "    [(\"imputer\", SimpleImputer(strategy=\"median\"))]\n",
    "    )  \n",
    "\n",
    "preprocessor = ColumnTransformer(\n",
    "    [(\"categorical\", cat_preprocessor, cat), \n",
    "    (\"numerical\", num_preprocessor, num)]\n",
    "    )\n",
    "\n",
    "    \n",
    "# Transforming\n",
    "X_train = preprocessor.fit_transform(X_train)\n",
    "X_val = preprocessor.transform(X_val)\n",
    "X_test = preprocessor.transform(X_test)\n",
    "\n",
    "\n",
    "# Scaling\n",
    "scaler = MaxAbsScaler()\n",
    "X_train = scaler.fit_transform(X_train).toarray()\n",
    "X_val = scaler.transform(X_val).toarray()\n",
    "X_test = scaler.transform(X_test).toarray()"
   ]
  },
  {
   "cell_type": "code",
   "execution_count": null,
   "metadata": {},
   "outputs": [
    {
     "data": {
      "text/plain": [
       "[(0, 31868), (1, 31868), (2, 31868)]"
      ]
     },
     "execution_count": 176,
     "metadata": {},
     "output_type": "execute_result"
    }
   ],
   "source": [
    "label_encoder = LabelEncoder()\n",
    "y_train = label_encoder.fit_transform(y_train)\n",
    "y_val = label_encoder.transform(y_val)\n",
    "y_test = label_encoder.transform(y_test)\n",
    "sorted(Counter(y_train).items())"
   ]
  },
  {
   "cell_type": "markdown",
   "metadata": {},
   "source": [
    "#### Visualization ####\n",
    "The testing dataset is used for training a UMAP visualization of the data's clusters. We can see that although the Credit Scores are somewhat intertwined, especially for Credit Scores closer to each other (Standard & Good, Poor & Standard), the algorithm finds clear clusters. It is especially hard for the algorithm to differ Good from other credit scores, as can be seen in the bottom left clusters."
   ]
  },
  {
   "cell_type": "code",
   "execution_count": 160,
   "metadata": {},
   "outputs": [
    {
     "data": {
      "image/png": "[encoded data removed]",
      "text/plain": [
       "<Figure size 504x504 with 1 Axes>"
      ]
     },
     "metadata": {
      "needs_background": "light"
     },
     "output_type": "display_data"
    }
   ],
   "source": [
    "reducer = UMAP.UMAP(15)\n",
    "embedding = reducer.fit_transform(X_test)\n",
    "\n",
    "le = LabelEncoder()\n",
    "\n",
    "plt.figure(figsize=(7, 7))\n",
    "scatter = plt.scatter(embedding[:, 0],embedding[:, 1],  s=1, c=y_test)\n",
    "plt.xlabel('UMAP feature 0')\n",
    "plt.ylabel('UMAP feature 1')\n",
    "plt.title('UMAP projection')\n",
    "legend1 = plt.legend(*scatter.legend_elements(), title=\"Classes\")\n",
    "\n",
    "plt.show()"
   ]
  },
  {
   "cell_type": "markdown",
   "metadata": {},
   "source": [
    "#### Neural Network ####\n",
    "To find the best hyper parameters, a different neural networks are tested by a Keras Tuner. The tuner test all combinations of the following:\n",
    "\n",
    "* Number of hidden layers: [1, 3],\n",
    "* Number of neurons per layer: [250, 500],\n",
    "* Learning rates: [0.01, 0.001],\n",
    "* A dropout layer with 0.8 as dropout rate is added before the output layer in order to reduce overfitting."
   ]
  },
  {
   "cell_type": "code",
   "execution_count": null,
   "metadata": {},
   "outputs": [],
   "source": [
    "initializer = initializers.HeNormal()\n",
    "\n",
    "def build_model(hp):\n",
    "    model = Sequential(name='Credit_Score_classification')\n",
    "    for i in range(hp.Int('num_layers', 1, 3)):\n",
    "        model.add(\n",
    "            Dense(\n",
    "                units=hp.Int(f'units_{i}', min_value=250, max_value=500,  step=250), \n",
    "                activation='relu', \n",
    "                name=f'L{i}'\n",
    "                )\n",
    "            )\n",
    "        \n",
    "    #model.add(BatchNormalization())\n",
    "    model.add(Dropout(0.8, seed=123))\n",
    "        \n",
    "    model.add(\n",
    "        Dense(\n",
    "            3, kernel_initializer=initializer, activation='softmax', name=f'L{i+1}')\n",
    "        )\n",
    "    \n",
    "    model.compile(\n",
    "        optimizer=Adam(learning_rate=hp.Choice('lrate', values=[1e-2, 1e-3])),\n",
    "        loss=SparseCategoricalCrossentropy,\n",
    "        metrics=['accuracy']\n",
    "        )\n",
    "    \n",
    "    return model"
   ]
  },
  {
   "cell_type": "markdown",
   "metadata": {},
   "source": [
    "### Tune the model architecture\n",
    "In the function above is defined the search space for which perform the Random Search.\n",
    "\n",
    "<center>\n",
    "<img src=\"../images/Random vs Grid.jpeg\" style=\"width:720px;height:350px;\">\n",
    "<caption><center> <u> <font color='black'> <b>Figure 1</b> </u><font color='black'>  : <b>Grid Search vs Random Search</b><br> The Random Search is a variation of the Grid Search algorithm, which randomly samples the search space instead of discretizing it with a Cartesian grid. The algorithm has no end. Instead a time budget has to be specified (i.e. a number of trials). This algorithm suffers likewise from the curse of dimensionality to reach a preset fixed sampling density. One of the advantages of random search is that if two hyper-parameters are little correlated, random search enables to find more precisely the optima of each parameter. </center></caption>"
   ]
  },
  {
   "cell_type": "code",
   "execution_count": null,
   "id": "2b97a4ea",
   "metadata": {
    "execution": {
     "iopub.execute_input": "2022-09-24T10:52:33.112797Z",
     "iopub.status.busy": "2022-09-24T10:52:33.111333Z",
     "iopub.status.idle": "2022-09-24T11:48:09.656720Z",
     "shell.execute_reply": "2022-09-24T11:48:09.655319Z"
    },
    "papermill": {
     "duration": 3336.555278,
     "end_time": "2022-09-24T11:48:09.658952",
     "exception": false,
     "start_time": "2022-09-24T10:52:33.103674",
     "status": "completed"
    },
    "tags": []
   },
   "outputs": [
    {
     "name": "stdout",
     "output_type": "stream",
     "text": [
      "Trial 42 Complete [00h 01m 11s]\n",
      "val_accuracy: 0.7246000170707703\n",
      "\n",
      "Best val_accuracy So Far: 0.7631999850273132\n",
      "Total elapsed time: 00h 55m 33s\n"
     ]
    }
   ],
   "source": [
    "callback = tf.keras.callbacks.EarlyStopping(monitor='val_loss', patience=3)\n",
    "\n",
    "# RandomSearch\n",
    "tuner = kt.RandomSearch(\n",
    "    build_model,\n",
    "    objective=\"val_accuracy\",\n",
    "    max_trials=50,\n",
    "    directory='keras_tuner',\n",
    "    project_name=\"Credit_Score_classification\",\n",
    "    overwrite=True\n",
    ")\n",
    "\n",
    "tuner.search(\n",
    "    x=X_train,\n",
    "    y=y_train,\n",
    "    epochs=10,\n",
    "    validation_data=(X_val, y_val),\n",
    "    callbacks=[callback]\n",
    "    )"
   ]
  },
  {
   "cell_type": "code",
   "execution_count": null,
   "id": "6b364d88",
   "metadata": {
    "execution": {
     "iopub.execute_input": "2022-09-24T11:48:23.627940Z",
     "iopub.status.busy": "2022-09-24T11:48:23.627593Z",
     "iopub.status.idle": "2022-09-24T11:48:23.633219Z",
     "shell.execute_reply": "2022-09-24T11:48:23.632212Z"
    },
    "papermill": {
     "duration": 0.016918,
     "end_time": "2022-09-24T11:48:23.636599",
     "exception": false,
     "start_time": "2022-09-24T11:48:23.619681",
     "status": "completed"
    },
    "tags": []
   },
   "outputs": [
    {
     "name": "stdout",
     "output_type": "stream",
     "text": [
      "Model: \"Credit_Score_classification\"\n",
      "_________________________________________________________________\n",
      "Layer (type)                 Output Shape              Param #   \n",
      "=================================================================\n",
      "L0 (Dense)                   (None, 500)               3156500   \n",
      "_________________________________________________________________\n",
      "L1 (Dense)                   (None, 250)               125250    \n",
      "_________________________________________________________________\n",
      "L2 (Dense)                   (None, 250)               62750     \n",
      "_________________________________________________________________\n",
      "dropout (Dropout)            (None, 250)               0         \n",
      "_________________________________________________________________\n",
      "L3 (Dense)                   (None, 3)                 753       \n",
      "=================================================================\n",
      "Total params: 3,345,253\n",
      "Trainable params: 3,345,253\n",
      "Non-trainable params: 0\n",
      "_________________________________________________________________\n"
     ]
    }
   ],
   "source": [
    "model = tuner.get_best_models()[0]\n",
    "model.summary()"
   ]
  },
  {
   "cell_type": "code",
   "execution_count": null,
   "id": "03ecb7a7",
   "metadata": {
    "execution": {
     "iopub.execute_input": "2022-09-24T11:48:21.102542Z",
     "iopub.status.busy": "2022-09-24T11:48:21.102272Z",
     "iopub.status.idle": "2022-09-24T11:48:23.554787Z",
     "shell.execute_reply": "2022-09-24T11:48:23.553866Z"
    },
    "papermill": {
     "duration": 2.463108,
     "end_time": "2022-09-24T11:48:23.557002",
     "exception": false,
     "start_time": "2022-09-24T11:48:21.093894",
     "status": "completed"
    },
    "tags": []
   },
   "outputs": [
    {
     "name": "stdout",
     "output_type": "stream",
     "text": [
      "tf.Tensor(\n",
      "[[4922  701  260]\n",
      " [1609 7711 1319]\n",
      " [  94  771 2613]], shape=(3, 3), dtype=int32)\n"
     ]
    }
   ],
   "source": [
    "y_pred_prob = model.predict(X_test)\n",
    "y_pred = np.argmax(y_pred_prob, axis=1)\n",
    "\n",
    "\n",
    "result = tf.math.confusion_matrix(y_test, y_pred)\n",
    "print(result)"
   ]
  },
  {
   "cell_type": "code",
   "execution_count": null,
   "id": "20b1332f",
   "metadata": {
    "execution": {
     "iopub.execute_input": "2022-09-24T11:48:23.574603Z",
     "iopub.status.busy": "2022-09-24T11:48:23.572970Z",
     "iopub.status.idle": "2022-09-24T11:48:23.609863Z",
     "shell.execute_reply": "2022-09-24T11:48:23.608666Z"
    },
    "papermill": {
     "duration": 0.047434,
     "end_time": "2022-09-24T11:48:23.611966",
     "exception": false,
     "start_time": "2022-09-24T11:48:23.564532",
     "status": "completed"
    },
    "tags": []
   },
   "outputs": [
    {
     "name": "stdout",
     "output_type": "stream",
     "text": [
      "              precision    recall  f1-score   support\n",
      "\n",
      "           0       0.74      0.84      0.79      5883\n",
      "           1       0.84      0.72      0.78     10639\n",
      "           2       0.62      0.75      0.68      3478\n",
      "\n",
      "    accuracy                           0.76     20000\n",
      "   macro avg       0.74      0.77      0.75     20000\n",
      "weighted avg       0.77      0.76      0.76     20000\n",
      "\n"
     ]
    }
   ],
   "source": [
    "print(classification_report(y_test, y_pred))"
   ]
  }
 ],
 "metadata": {
  "kernelspec": {
   "display_name": "Python 3.10.6 64-bit",
   "language": "python",
   "name": "python3"
  },
  "language_info": {
   "codemirror_mode": {
    "name": "ipython",
    "version": 3
   },
   "file_extension": ".py",
   "mimetype": "text/x-python",
   "name": "python",
   "nbconvert_exporter": "python",
   "pygments_lexer": "ipython3",
   "version": "3.10.6"
  },
  "orig_nbformat": 4,
  "vscode": {
   "interpreter": {
    "hash": "e51fdbc37c5adaa12a9ed97b50fdaf0ff46be7ee1a114cc405b6eaf0c36d1bf8"
   }
  }
 },
 "nbformat": 4,
 "nbformat_minor": 2
}
