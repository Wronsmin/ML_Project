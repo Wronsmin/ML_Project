{
 "cells": [
  {
   "cell_type": "code",
   "execution_count": 1,
   "metadata": {},
   "outputs": [],
   "source": [
    "import numpy as np \n",
    "import pandas as pd \n",
    "import matplotlib.pyplot as plt \n",
    "\n",
    "from sklearn.preprocessing import LabelEncoder, OneHotEncoder\n",
    "from sklearn.model_selection import train_test_split\n",
    "from sklearn.preprocessing import MinMaxScaler, MaxAbsScaler\n",
    "from sklearn.preprocessing import OneHotEncoder\n",
    "from sklearn.compose import ColumnTransformer\n",
    "from sklearn.impute import SimpleImputer\n",
    "\n",
    "from imblearn.pipeline import Pipeline \n",
    "from imblearn.over_sampling import RandomOverSampler"
   ]
  },
  {
   "cell_type": "code",
   "execution_count": 214,
   "metadata": {},
   "outputs": [],
   "source": [
    "file = 'train_preprocessed_type_of_loan.csv'\n",
    "\n",
    "df = pd.read_csv(\"../Data/\" + file, low_memory=False)"
   ]
  },
  {
   "cell_type": "code",
   "execution_count": 13,
   "metadata": {},
   "outputs": [
    {
     "data": {
      "text/plain": [
       "[(0, 0, 0, 0),\n",
       " (0, 0, 0, 1),\n",
       " (0, 0, 1, 0),\n",
       " (0, 0, 1, 1),\n",
       " (0, 1, 0, 0),\n",
       " (0, 1, 0, 1),\n",
       " (0, 1, 1, 0),\n",
       " (0, 1, 1, 1),\n",
       " (1, 0, 0, 0),\n",
       " (1, 0, 0, 1),\n",
       " (1, 0, 1, 0),\n",
       " (1, 0, 1, 1),\n",
       " (1, 1, 0, 0),\n",
       " (1, 1, 0, 1),\n",
       " (1, 1, 1, 0),\n",
       " (1, 1, 1, 1)]"
      ]
     },
     "execution_count": 13,
     "metadata": {},
     "output_type": "execute_result"
    }
   ],
   "source": [
    "from itertools import product\n",
    "from msilib.schema import Condition\n",
    "\n",
    "miss = [True, False]\n",
    "sampling = [True, False]\n",
    "aug_OH = [True, False]\n",
    "not_spec = [True, False]\n",
    "a = [miss, sampling, aug_OH, not_spec]\n",
    "b = [miss]*4\n",
    "\n",
    "conditions = [[0, 1]]*4\n",
    "list(product(*conditions))"
   ]
  },
  {
   "cell_type": "code",
   "execution_count": 218,
   "metadata": {},
   "outputs": [],
   "source": [
    "file = 'train_preprocessed.csv'"
   ]
  },
  {
   "cell_type": "code",
   "execution_count": 219,
   "metadata": {},
   "outputs": [],
   "source": [
    "if file == 'train_preprocessed.csv':\n",
    "    features_int = list(df.select_dtypes(include=[\"number\"]).columns[-10:])\n",
    "    features_cat = list(df.select_dtypes(include=[\"object\"]).columns)\n",
    "    \n",
    "    features = features_int + features_cat\n",
    "elif file == 'train_preprocessed_type_of_loan.csv':\n",
    "    features = list(df.select_dtypes(include=[\"object\"]).columns)\n",
    "\n",
    "for feature in features:\n",
    "    df[feature] = df[feature].astype('category')\n",
    "\n",
    "df['Credit_Score'] = df['Credit_Score'].astype('category')"
   ]
  },
  {
   "cell_type": "code",
   "execution_count": null,
   "metadata": {},
   "outputs": [],
   "source": [
    "def features(df, Not_specified, A_OH):\n",
    "    tmp = df.copy()\n",
    "    if Not_specified:\n",
    "        if A_OH:\n",
    "            uniq_types = tmp['Type_of_Loan'].value_counts()[:10].index\n",
    "            for uniq_type in uniq_types:\n",
    "                tmp[uniq_type] = tmp['Type_of_Loan'].str.count(uniq_type)\n",
    "            \n",
    "            features_num = list(tmp.select_dtypes(include=[\"number\"]).columns[-10:])\n",
    "            features_cat = list(tmp.select_dtypes(include=[\"object\"]).columns)\n",
    "            \n",
    "            features = features_num + features_cat\n",
    "            for feature in features:\n",
    "                tmp[feature] = tmp[feature].astype('category')\n",
    "            \n",
    "            tmp.drop(columns='Type_of_Loan', inplace=True)\n",
    "        else:\n",
    "            features = list(tmp.select_dtypes(include=[\"object\"]).columns)\n",
    "            \n",
    "            for feature in features:\n",
    "                tmp[feature] = tmp[feature].astype('category')\n",
    "    else:\n",
    "        tmp.loc[tmp['Type_of_Loan'].str.contains('Not Specified'), 'Type_of_Loan'] = None\n",
    "        \n",
    "        if A_OH:\n",
    "            uniq_types = tmp['Type_of_Loan'].value_counts()[:9].index\n",
    "            for uniq_type in uniq_types:\n",
    "                tmp[uniq_type] = tmp['Type_of_Loan'].str.count(uniq_type)\n",
    "            \n",
    "            features_num = list(tmp.select_dtypes(include=[\"number\"]).columns[-9:])\n",
    "            features_cat = list(tmp.select_dtypes(include=[\"object\"]).columns)\n",
    "            \n",
    "            features = features_num + features_cat\n",
    "            for feature in features:\n",
    "                tmp[feature] = tmp[feature].astype('category')\n",
    "                \n",
    "            tmp.drop(columns='Type_of_Loan', inplace=True)\n",
    "        else:\n",
    "            features = list(tmp.select_dtypes(include=[\"object\"]).columns)\n",
    "            \n",
    "            for feature in features:\n",
    "                tmp[feature] = tmp[feature].astype('category')\n",
    "    \n",
    "    return tmp   "
   ]
  },
  {
   "cell_type": "code",
   "execution_count": 14,
   "metadata": {},
   "outputs": [
    {
     "ename": "NameError",
     "evalue": "name 'cat' is not defined",
     "output_type": "error",
     "traceback": [
      "\u001b[1;31m---------------------------------------------------------------------------\u001b[0m",
      "\u001b[1;31mNameError\u001b[0m                                 Traceback (most recent call last)",
      "\u001b[1;32mc:\\Users\\manue\\OneDrive\\Desktop\\Machine Learning\\ML_Project\\src\\SVM_classification.ipynb Cella 7\u001b[0m in \u001b[0;36m<cell line: 1>\u001b[1;34m()\u001b[0m\n\u001b[1;32m----> <a href='vscode-notebook-cell:/c%3A/Users/manue/OneDrive/Desktop/Machine%20Learning/ML_Project/src/SVM_classification.ipynb#X33sZmlsZQ%3D%3D?line=0'>1</a>\u001b[0m \u001b[39mdef\u001b[39;00m \u001b[39mdata_splitting\u001b[39m(df, cat\u001b[39m=\u001b[39mcat, num\u001b[39m=\u001b[39mnum, nan\u001b[39m=\u001b[39m\u001b[39mFalse\u001b[39;00m):\n\u001b[0;32m      <a href='vscode-notebook-cell:/c%3A/Users/manue/OneDrive/Desktop/Machine%20Learning/ML_Project/src/SVM_classification.ipynb#X33sZmlsZQ%3D%3D?line=1'>2</a>\u001b[0m     \u001b[39mif\u001b[39;00m nan:\n\u001b[0;32m      <a href='vscode-notebook-cell:/c%3A/Users/manue/OneDrive/Desktop/Machine%20Learning/ML_Project/src/SVM_classification.ipynb#X33sZmlsZQ%3D%3D?line=2'>3</a>\u001b[0m         tmp \u001b[39m=\u001b[39m df\u001b[39m.\u001b[39mcopy()\n",
      "\u001b[1;31mNameError\u001b[0m: name 'cat' is not defined"
     ]
    }
   ],
   "source": [
    "def data_splitting(df, cat=cat, num=num, nan=False):\n",
    "    if nan:\n",
    "        tmp = df.copy()\n",
    "    else:\n",
    "        tmp = df.dropna().reset_index(drop=True).copy()\n",
    "        \n",
    "    return train_test_split(tmp[num + cat], tmp['Credit_Score'], test_size=0.2, shuffle=False)\n",
    "\n",
    "def data_resampler(X_train, y_train, enabled=False):\n",
    "    if enabled:\n",
    "        sampler = RandomOverSampler()\n",
    "        X_train, y_train = sampler.fit_resample(X_train, y_train) \n",
    "    else:\n",
    "        pass\n",
    "    return X_train, y_train   "
   ]
  },
  {
   "cell_type": "code",
   "execution_count": null,
   "metadata": {},
   "outputs": [],
   "source": [
    "def table(df, cat, num, model='SGD'):\n",
    "    \"\"\"m: miss\n",
    "       s: sampling\n",
    "       a: aug_OH\n",
    "       n: not_spec\n",
    "\n",
    "    Args:\n",
    "        df (_type_): _description_\n",
    "        model (str, optional): _description_. Defaults to 'SGD'.\n",
    "    \"\"\"\n",
    "    from itertools import product   \n",
    "    for m, s, a, n in product(conditions = [[0, 1]]*4):\n",
    "        tmp = features(df, n, a)\n",
    "        X_train, X_test, y_train, y_test = data_splitting(df, cat, num, m)\n",
    "        X_train, y_train = data_resampler(X_train, y_train, s)\n",
    "        \n",
    "            \n",
    "        \n",
    "    \n",
    "    \n",
    "    "
   ]
  },
  {
   "cell_type": "code",
   "execution_count": 186,
   "metadata": {},
   "outputs": [],
   "source": [
    "df.loc[df['Type_of_Loan'].str.contains('Not Specified'), 'Type_of_Loan'] = None"
   ]
  },
  {
   "cell_type": "code",
   "execution_count": 215,
   "metadata": {},
   "outputs": [
    {
     "data": {
      "text/plain": [
       "Index(['no Loan', 'Not Specified', 'Credit-Builder Loan', 'Personal Loan',\n",
       "       'Debt Consolidation Loan', 'Student Loan', 'Payday Loan',\n",
       "       'Mortgage Loan', 'Auto Loan', 'Home Equity Loan'],\n",
       "      dtype='object')"
      ]
     },
     "execution_count": 215,
     "metadata": {},
     "output_type": "execute_result"
    }
   ],
   "source": [
    "uniq_types = df['Type_of_Loan'].value_counts()[:10].index\n",
    "uniq_types"
   ]
  },
  {
   "cell_type": "code",
   "execution_count": 216,
   "metadata": {},
   "outputs": [],
   "source": [
    "# \"augmented\" oneHotEncoding \n",
    "for uniq_type in uniq_types:\n",
    "    df[uniq_type] = df['Type_of_Loan'].str.count(uniq_type)"
   ]
  },
  {
   "cell_type": "code",
   "execution_count": 217,
   "metadata": {},
   "outputs": [],
   "source": [
    "df.drop(columns='Type_of_Loan', inplace=True)"
   ]
  },
  {
   "cell_type": "code",
   "execution_count": 220,
   "metadata": {},
   "outputs": [],
   "source": [
    "num = df.drop(columns=['Credit_Score']).select_dtypes(include=['number']).columns.to_list()\n",
    "cat = df.drop(columns=['Credit_Score']).select_dtypes(include=['category']).columns.to_list()"
   ]
  },
  {
   "cell_type": "code",
   "execution_count": 24,
   "metadata": {},
   "outputs": [
    {
     "data": {
      "text/plain": [
       "(1, 2)"
      ]
     },
     "execution_count": 24,
     "metadata": {},
     "output_type": "execute_result"
    }
   ],
   "source": [
    "bol = 0\n",
    "a, b = 10*bol + 1, 2*(1-bol)\n",
    "a, b"
   ]
  },
  {
   "cell_type": "code",
   "execution_count": 25,
   "metadata": {},
   "outputs": [
    {
     "data": {
      "text/plain": [
       "(11, 0)"
      ]
     },
     "execution_count": 25,
     "metadata": {},
     "output_type": "execute_result"
    }
   ],
   "source": [
    "bol = 1\n",
    "a, b = 10*bol + 1, 2*(1-bol)\n",
    "a, b"
   ]
  },
  {
   "cell_type": "code",
   "execution_count": 236,
   "metadata": {},
   "outputs": [],
   "source": [
    "#X_train, X_test, y_train, y_test = train_test_split(df[num + cat], df['Credit_Score'], test_size=0.2)\n",
    "#X_train, X_val, y_train, y_val = train_test_split(X_train, y_train, test_size=0.25)\n",
    "\n",
    "sampler = RandomOverSampler() \n",
    "\n",
    "X_train, X_test, y_train, y_test = data_splitting(df, cat, num, True)\n",
    "#X_train, y_train = sampler.fit_resample(X_train, y_train)\n",
    "\n",
    "\n",
    "cat_preprocessor = Pipeline([(\"imputer\", SimpleImputer(strategy=\"most_frequent\")),\n",
    "                            (\"onehot\", OneHotEncoder(sparse=True, handle_unknown=\"ignore\"))])\n",
    "\n",
    "num_preprocessor = Pipeline([\n",
    "                            (\"imputer\", SimpleImputer(strategy=\"median\"))])\n",
    "\n",
    "preprocessor = ColumnTransformer([\n",
    "    (\"numerical\", num_preprocessor, num),\n",
    "    (\"categorical\", cat_preprocessor, cat)\n",
    "])\n",
    "\n",
    "## Transforming\n",
    "X_train = preprocessor.fit_transform(X_train)#.todense()\n",
    "X_test = preprocessor.transform(X_test)\n",
    "\n",
    "scaler = MaxAbsScaler()\n",
    "X_train = scaler.fit_transform(X_train)#.toarray()\n",
    "X_test = scaler.transform(X_test)#.toarray()"
   ]
  },
  {
   "cell_type": "code",
   "execution_count": 237,
   "metadata": {},
   "outputs": [
    {
     "data": {
      "text/plain": [
       "(80000, 103)"
      ]
     },
     "execution_count": 237,
     "metadata": {},
     "output_type": "execute_result"
    }
   ],
   "source": [
    "X_train.shape"
   ]
  },
  {
   "cell_type": "markdown",
   "metadata": {},
   "source": [
    "# SVM "
   ]
  },
  {
   "cell_type": "code",
   "execution_count": 238,
   "metadata": {},
   "outputs": [
    {
     "data": {
      "text/html": [
       "<style>#sk-container-id-33 {color: black;background-color: white;}#sk-container-id-33 pre{padding: 0;}#sk-container-id-33 div.sk-toggleable {background-color: white;}#sk-container-id-33 label.sk-toggleable__label {cursor: pointer;display: block;width: 100%;margin-bottom: 0;padding: 0.3em;box-sizing: border-box;text-align: center;}#sk-container-id-33 label.sk-toggleable__label-arrow:before {content: \"▸\";float: left;margin-right: 0.25em;color: #696969;}#sk-container-id-33 label.sk-toggleable__label-arrow:hover:before {color: black;}#sk-container-id-33 div.sk-estimator:hover label.sk-toggleable__label-arrow:before {color: black;}#sk-container-id-33 div.sk-toggleable__content {max-height: 0;max-width: 0;overflow: hidden;text-align: left;background-color: #f0f8ff;}#sk-container-id-33 div.sk-toggleable__content pre {margin: 0.2em;color: black;border-radius: 0.25em;background-color: #f0f8ff;}#sk-container-id-33 input.sk-toggleable__control:checked~div.sk-toggleable__content {max-height: 200px;max-width: 100%;overflow: auto;}#sk-container-id-33 input.sk-toggleable__control:checked~label.sk-toggleable__label-arrow:before {content: \"▾\";}#sk-container-id-33 div.sk-estimator input.sk-toggleable__control:checked~label.sk-toggleable__label {background-color: #d4ebff;}#sk-container-id-33 div.sk-label input.sk-toggleable__control:checked~label.sk-toggleable__label {background-color: #d4ebff;}#sk-container-id-33 input.sk-hidden--visually {border: 0;clip: rect(1px 1px 1px 1px);clip: rect(1px, 1px, 1px, 1px);height: 1px;margin: -1px;overflow: hidden;padding: 0;position: absolute;width: 1px;}#sk-container-id-33 div.sk-estimator {font-family: monospace;background-color: #f0f8ff;border: 1px dotted black;border-radius: 0.25em;box-sizing: border-box;margin-bottom: 0.5em;}#sk-container-id-33 div.sk-estimator:hover {background-color: #d4ebff;}#sk-container-id-33 div.sk-parallel-item::after {content: \"\";width: 100%;border-bottom: 1px solid gray;flex-grow: 1;}#sk-container-id-33 div.sk-label:hover label.sk-toggleable__label {background-color: #d4ebff;}#sk-container-id-33 div.sk-serial::before {content: \"\";position: absolute;border-left: 1px solid gray;box-sizing: border-box;top: 0;bottom: 0;left: 50%;z-index: 0;}#sk-container-id-33 div.sk-serial {display: flex;flex-direction: column;align-items: center;background-color: white;padding-right: 0.2em;padding-left: 0.2em;position: relative;}#sk-container-id-33 div.sk-item {position: relative;z-index: 1;}#sk-container-id-33 div.sk-parallel {display: flex;align-items: stretch;justify-content: center;background-color: white;position: relative;}#sk-container-id-33 div.sk-item::before, #sk-container-id-33 div.sk-parallel-item::before {content: \"\";position: absolute;border-left: 1px solid gray;box-sizing: border-box;top: 0;bottom: 0;left: 50%;z-index: -1;}#sk-container-id-33 div.sk-parallel-item {display: flex;flex-direction: column;z-index: 1;position: relative;background-color: white;}#sk-container-id-33 div.sk-parallel-item:first-child::after {align-self: flex-end;width: 50%;}#sk-container-id-33 div.sk-parallel-item:last-child::after {align-self: flex-start;width: 50%;}#sk-container-id-33 div.sk-parallel-item:only-child::after {width: 0;}#sk-container-id-33 div.sk-dashed-wrapped {border: 1px dashed gray;margin: 0 0.4em 0.5em 0.4em;box-sizing: border-box;padding-bottom: 0.4em;background-color: white;}#sk-container-id-33 div.sk-label label {font-family: monospace;font-weight: bold;display: inline-block;line-height: 1.2em;}#sk-container-id-33 div.sk-label-container {text-align: center;}#sk-container-id-33 div.sk-container {/* jupyter's `normalize.less` sets `[hidden] { display: none; }` but bootstrap.min.css set `[hidden] { display: none !important; }` so we also need the `!important` here to be able to override the default hidden behavior on the sphinx rendered scikit-learn.org. See: https://github.com/scikit-learn/scikit-learn/issues/21755 */display: inline-block !important;position: relative;}#sk-container-id-33 div.sk-text-repr-fallback {display: none;}</style><div id=\"sk-container-id-33\" class=\"sk-top-container\"><div class=\"sk-text-repr-fallback\"><pre>SGDClassifier(n_jobs=10, validation_fraction=0.25)</pre><b>In a Jupyter environment, please rerun this cell to show the HTML representation or trust the notebook. <br />On GitHub, the HTML representation is unable to render, please try loading this page with nbviewer.org.</b></div><div class=\"sk-container\" hidden><div class=\"sk-item\"><div class=\"sk-estimator sk-toggleable\"><input class=\"sk-toggleable__control sk-hidden--visually\" id=\"sk-estimator-id-33\" type=\"checkbox\" checked><label for=\"sk-estimator-id-33\" class=\"sk-toggleable__label sk-toggleable__label-arrow\">SGDClassifier</label><div class=\"sk-toggleable__content\"><pre>SGDClassifier(n_jobs=10, validation_fraction=0.25)</pre></div></div></div></div></div>"
      ],
      "text/plain": [
       "SGDClassifier(n_jobs=10, validation_fraction=0.25)"
      ]
     },
     "execution_count": 238,
     "metadata": {},
     "output_type": "execute_result"
    }
   ],
   "source": [
    "from sklearn.linear_model import SGDClassifier\n",
    "\n",
    "svc = SGDClassifier(loss=\"hinge\", n_jobs=10, validation_fraction=0.25)\n",
    "\n",
    "svc.fit(X_train, y_train)"
   ]
  },
  {
   "cell_type": "code",
   "execution_count": 244,
   "metadata": {},
   "outputs": [
    {
     "name": "stdout",
     "output_type": "stream",
     "text": [
      "              precision    recall  f1-score   support\n",
      "\n",
      "           0       0.58      0.61      0.59     22110\n",
      "           1       0.64      0.74      0.69     37243\n",
      "           2       0.74      0.51      0.60     20647\n",
      "\n",
      "    accuracy                           0.64     80000\n",
      "   macro avg       0.66      0.62      0.63     80000\n",
      "weighted avg       0.65      0.64      0.64     80000\n",
      "\n"
     ]
    }
   ],
   "source": [
    "from sklearn.metrics import classification_report, confusion_matrix, f1_score, accuracy_score\n",
    "\n",
    "print(classification_report(svc.predict(X_train), y_train))"
   ]
  },
  {
   "cell_type": "code",
   "execution_count": 245,
   "metadata": {},
   "outputs": [
    {
     "data": {
      "text/plain": [
       "(array([0.59401419, 0.68686184, 0.60379423]), 0.6424)"
      ]
     },
     "execution_count": 245,
     "metadata": {},
     "output_type": "execute_result"
    }
   ],
   "source": [
    "f1_score(svc.predict(X_train), y_train, average=None), accuracy_score(svc.predict(X_train), y_train)"
   ]
  },
  {
   "cell_type": "code",
   "execution_count": 240,
   "metadata": {},
   "outputs": [
    {
     "name": "stdout",
     "output_type": "stream",
     "text": [
      "              precision    recall  f1-score   support\n",
      "\n",
      "           0       0.58      0.61      0.60      5315\n",
      "           1       0.65      0.75      0.70      9342\n",
      "           2       0.78      0.54      0.64      5343\n",
      "\n",
      "    accuracy                           0.66     20000\n",
      "   macro avg       0.67      0.63      0.64     20000\n",
      "weighted avg       0.67      0.66      0.65     20000\n",
      "\n"
     ]
    }
   ],
   "source": [
    "print(classification_report(svc.predict(X_test), y_test))"
   ]
  },
  {
   "cell_type": "markdown",
   "metadata": {},
   "source": [
    "Type of Loan with 'Not Specified' values\n",
    "| Model | Is NaN? | rng Sampling | Train | Test |\n",
    "|:-----:|:-------:|:------------:|-------|------|\n",
    "|  SGD  |    y    |       n      | 0.71  | 0.65 |\n",
    "|  SGD  |    n    |       n      | 0.72  | 0.64 |\n",
    "|  SGD  |    n    |       y      | 0.74  | 0.66 |\n",
    "|  SGD  |    y    |       y      | 0.72  | 0.65 |"
   ]
  },
  {
   "cell_type": "markdown",
   "metadata": {},
   "source": [
    "Type of Loan with 'Not Specified' values & Augmented OneHot\n",
    "| Model | Is NaN? | rng Sampling | Train | Test |\n",
    "|:-----:|:-------:|:------------:|-------|------|\n",
    "|  SGD  |    y    |       n      | 0.64  | 0.66 |\n",
    "|  SGD  |    n    |       n      | 0.64  | 0.65 |\n",
    "|  SGD  |    n    |       y      | 0.70  | 0.67 |\n",
    "|  SGD  |    y    |       y      | 0.69  | 0.66 |"
   ]
  },
  {
   "cell_type": "markdown",
   "metadata": {},
   "source": [
    "Type of Loan without 'Not Specified' values\n",
    "| Model | Is NaN? | rng Sampling | Train | Test |\n",
    "|:-----:|:-------:|:------------:|-------|------|\n",
    "|  SGD  |    y    |       n      | 0.68  | 0.65 |\n",
    "|  SGD  |    n    |       n      | 0.71  | 0.64 |\n",
    "|  SGD  |    n    |       y      | 0.73  | 0.66 |\n",
    "|  SGD  |    y    |       y      | 0.70  | 0.66 |"
   ]
  },
  {
   "cell_type": "markdown",
   "metadata": {},
   "source": [
    "Type of Loan without 'Not Specified' values & Augmented OneHot\n",
    "| Model | Is NaN? | rng Sampling | Train | Test |\n",
    "|:-----:|:-------:|:------------:|-------|------|\n",
    "|  SGD  |    y    |       n      | 0.64  | 0.65 |\n",
    "|  SGD  |    n    |       n      | 0.65  | 0.64 |\n",
    "|  SGD  |    n    |       y      | 0.69  | 0.67 |\n",
    "|  SGD  |    y    |       y      | 0.70  | 0.67 |"
   ]
  }
 ],
 "metadata": {
  "kernelspec": {
   "display_name": "Python 3.10.6 64-bit",
   "language": "python",
   "name": "python3"
  },
  "language_info": {
   "codemirror_mode": {
    "name": "ipython",
    "version": 3
   },
   "file_extension": ".py",
   "mimetype": "text/x-python",
   "name": "python",
   "nbconvert_exporter": "python",
   "pygments_lexer": "ipython3",
   "version": "3.10.6"
  },
  "orig_nbformat": 4,
  "vscode": {
   "interpreter": {
    "hash": "e51fdbc37c5adaa12a9ed97b50fdaf0ff46be7ee1a114cc405b6eaf0c36d1bf8"
   }
  }
 },
 "nbformat": 4,
 "nbformat_minor": 2
}
