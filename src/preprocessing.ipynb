{
 "cells": [
  {
   "cell_type": "markdown",
   "metadata": {},
   "source": []
  },
  {
   "cell_type": "code",
   "execution_count": 1,
   "metadata": {},
   "outputs": [],
   "source": [
    "import numpy as np \n",
    "import matplotlib.pyplot as plt \n",
    "import pandas as pd\n",
    "import warnings\n",
    "import missingno as msno\n",
    "from statistics import mode\n",
    "\n",
    "\n",
    "warnings.filterwarnings('ignore')"
   ]
  },
  {
   "cell_type": "code",
   "execution_count": 2,
   "metadata": {},
   "outputs": [],
   "source": [
    "df = pd.read_csv(\"../Data/train.csv\", low_memory=False)\n",
    "# remove redundant features\n",
    "df.drop(columns=['ID', 'Name', 'SSN'], inplace=True)"
   ]
  },
  {
   "cell_type": "code",
   "execution_count": 3,
   "metadata": {},
   "outputs": [],
   "source": [
    "df1 = df.copy()"
   ]
  },
  {
   "cell_type": "code",
   "execution_count": 4,
   "metadata": {},
   "outputs": [
    {
     "data": {
      "text/html": [
       "<div>\n",
       "<style scoped>\n",
       "    .dataframe tbody tr th:only-of-type {\n",
       "        vertical-align: middle;\n",
       "    }\n",
       "\n",
       "    .dataframe tbody tr th {\n",
       "        vertical-align: top;\n",
       "    }\n",
       "\n",
       "    .dataframe thead th {\n",
       "        text-align: right;\n",
       "    }\n",
       "</style>\n",
       "<table border=\"1\" class=\"dataframe\">\n",
       "  <thead>\n",
       "    <tr style=\"text-align: right;\">\n",
       "      <th></th>\n",
       "      <th>Customer_ID</th>\n",
       "      <th>Month</th>\n",
       "      <th>Age</th>\n",
       "      <th>Occupation</th>\n",
       "      <th>Annual_Income</th>\n",
       "      <th>Monthly_Inhand_Salary</th>\n",
       "      <th>Num_Bank_Accounts</th>\n",
       "      <th>Num_Credit_Card</th>\n",
       "      <th>Interest_Rate</th>\n",
       "      <th>Num_of_Loan</th>\n",
       "      <th>...</th>\n",
       "      <th>Credit_Mix</th>\n",
       "      <th>Outstanding_Debt</th>\n",
       "      <th>Credit_Utilization_Ratio</th>\n",
       "      <th>Credit_History_Age</th>\n",
       "      <th>Payment_of_Min_Amount</th>\n",
       "      <th>Total_EMI_per_month</th>\n",
       "      <th>Amount_invested_monthly</th>\n",
       "      <th>Payment_Behaviour</th>\n",
       "      <th>Monthly_Balance</th>\n",
       "      <th>Credit_Score</th>\n",
       "    </tr>\n",
       "  </thead>\n",
       "  <tbody>\n",
       "    <tr>\n",
       "      <th>0</th>\n",
       "      <td>CUS_0xd40</td>\n",
       "      <td>January</td>\n",
       "      <td>23</td>\n",
       "      <td>Scientist</td>\n",
       "      <td>19114.12</td>\n",
       "      <td>1824.843333</td>\n",
       "      <td>3</td>\n",
       "      <td>4</td>\n",
       "      <td>3</td>\n",
       "      <td>4</td>\n",
       "      <td>...</td>\n",
       "      <td>_</td>\n",
       "      <td>809.98</td>\n",
       "      <td>26.822620</td>\n",
       "      <td>22 Years and 1 Months</td>\n",
       "      <td>No</td>\n",
       "      <td>49.574949</td>\n",
       "      <td>80.41529543900253</td>\n",
       "      <td>High_spent_Small_value_payments</td>\n",
       "      <td>312.49408867943663</td>\n",
       "      <td>Good</td>\n",
       "    </tr>\n",
       "    <tr>\n",
       "      <th>1</th>\n",
       "      <td>CUS_0xd40</td>\n",
       "      <td>February</td>\n",
       "      <td>23</td>\n",
       "      <td>Scientist</td>\n",
       "      <td>19114.12</td>\n",
       "      <td>NaN</td>\n",
       "      <td>3</td>\n",
       "      <td>4</td>\n",
       "      <td>3</td>\n",
       "      <td>4</td>\n",
       "      <td>...</td>\n",
       "      <td>Good</td>\n",
       "      <td>809.98</td>\n",
       "      <td>31.944960</td>\n",
       "      <td>NaN</td>\n",
       "      <td>No</td>\n",
       "      <td>49.574949</td>\n",
       "      <td>118.28022162236736</td>\n",
       "      <td>Low_spent_Large_value_payments</td>\n",
       "      <td>284.62916249607184</td>\n",
       "      <td>Good</td>\n",
       "    </tr>\n",
       "    <tr>\n",
       "      <th>2</th>\n",
       "      <td>CUS_0xd40</td>\n",
       "      <td>March</td>\n",
       "      <td>-500</td>\n",
       "      <td>Scientist</td>\n",
       "      <td>19114.12</td>\n",
       "      <td>NaN</td>\n",
       "      <td>3</td>\n",
       "      <td>4</td>\n",
       "      <td>3</td>\n",
       "      <td>4</td>\n",
       "      <td>...</td>\n",
       "      <td>Good</td>\n",
       "      <td>809.98</td>\n",
       "      <td>28.609352</td>\n",
       "      <td>22 Years and 3 Months</td>\n",
       "      <td>No</td>\n",
       "      <td>49.574949</td>\n",
       "      <td>81.699521264648</td>\n",
       "      <td>Low_spent_Medium_value_payments</td>\n",
       "      <td>331.2098628537912</td>\n",
       "      <td>Good</td>\n",
       "    </tr>\n",
       "    <tr>\n",
       "      <th>3</th>\n",
       "      <td>CUS_0xd40</td>\n",
       "      <td>April</td>\n",
       "      <td>23</td>\n",
       "      <td>Scientist</td>\n",
       "      <td>19114.12</td>\n",
       "      <td>NaN</td>\n",
       "      <td>3</td>\n",
       "      <td>4</td>\n",
       "      <td>3</td>\n",
       "      <td>4</td>\n",
       "      <td>...</td>\n",
       "      <td>Good</td>\n",
       "      <td>809.98</td>\n",
       "      <td>31.377862</td>\n",
       "      <td>22 Years and 4 Months</td>\n",
       "      <td>No</td>\n",
       "      <td>49.574949</td>\n",
       "      <td>199.4580743910713</td>\n",
       "      <td>Low_spent_Small_value_payments</td>\n",
       "      <td>223.45130972736786</td>\n",
       "      <td>Good</td>\n",
       "    </tr>\n",
       "    <tr>\n",
       "      <th>4</th>\n",
       "      <td>CUS_0xd40</td>\n",
       "      <td>May</td>\n",
       "      <td>23</td>\n",
       "      <td>Scientist</td>\n",
       "      <td>19114.12</td>\n",
       "      <td>1824.843333</td>\n",
       "      <td>3</td>\n",
       "      <td>4</td>\n",
       "      <td>3</td>\n",
       "      <td>4</td>\n",
       "      <td>...</td>\n",
       "      <td>Good</td>\n",
       "      <td>809.98</td>\n",
       "      <td>24.797347</td>\n",
       "      <td>22 Years and 5 Months</td>\n",
       "      <td>No</td>\n",
       "      <td>49.574949</td>\n",
       "      <td>41.420153086217326</td>\n",
       "      <td>High_spent_Medium_value_payments</td>\n",
       "      <td>341.48923103222177</td>\n",
       "      <td>Good</td>\n",
       "    </tr>\n",
       "  </tbody>\n",
       "</table>\n",
       "<p>5 rows × 25 columns</p>\n",
       "</div>"
      ],
      "text/plain": [
       "  Customer_ID     Month   Age Occupation Annual_Income  Monthly_Inhand_Salary  \\\n",
       "0   CUS_0xd40   January    23  Scientist      19114.12            1824.843333   \n",
       "1   CUS_0xd40  February    23  Scientist      19114.12                    NaN   \n",
       "2   CUS_0xd40     March  -500  Scientist      19114.12                    NaN   \n",
       "3   CUS_0xd40     April    23  Scientist      19114.12                    NaN   \n",
       "4   CUS_0xd40       May    23  Scientist      19114.12            1824.843333   \n",
       "\n",
       "   Num_Bank_Accounts  Num_Credit_Card  Interest_Rate Num_of_Loan  ...  \\\n",
       "0                  3                4              3           4  ...   \n",
       "1                  3                4              3           4  ...   \n",
       "2                  3                4              3           4  ...   \n",
       "3                  3                4              3           4  ...   \n",
       "4                  3                4              3           4  ...   \n",
       "\n",
       "  Credit_Mix  Outstanding_Debt Credit_Utilization_Ratio  \\\n",
       "0          _            809.98                26.822620   \n",
       "1       Good            809.98                31.944960   \n",
       "2       Good            809.98                28.609352   \n",
       "3       Good            809.98                31.377862   \n",
       "4       Good            809.98                24.797347   \n",
       "\n",
       "      Credit_History_Age  Payment_of_Min_Amount Total_EMI_per_month  \\\n",
       "0  22 Years and 1 Months                     No           49.574949   \n",
       "1                    NaN                     No           49.574949   \n",
       "2  22 Years and 3 Months                     No           49.574949   \n",
       "3  22 Years and 4 Months                     No           49.574949   \n",
       "4  22 Years and 5 Months                     No           49.574949   \n",
       "\n",
       "  Amount_invested_monthly                 Payment_Behaviour  \\\n",
       "0       80.41529543900253   High_spent_Small_value_payments   \n",
       "1      118.28022162236736    Low_spent_Large_value_payments   \n",
       "2         81.699521264648   Low_spent_Medium_value_payments   \n",
       "3       199.4580743910713    Low_spent_Small_value_payments   \n",
       "4      41.420153086217326  High_spent_Medium_value_payments   \n",
       "\n",
       "      Monthly_Balance Credit_Score  \n",
       "0  312.49408867943663         Good  \n",
       "1  284.62916249607184         Good  \n",
       "2   331.2098628537912         Good  \n",
       "3  223.45130972736786         Good  \n",
       "4  341.48923103222177         Good  \n",
       "\n",
       "[5 rows x 25 columns]"
      ]
     },
     "execution_count": 4,
     "metadata": {},
     "output_type": "execute_result"
    }
   ],
   "source": [
    "df.head()"
   ]
  },
  {
   "cell_type": "markdown",
   "metadata": {},
   "source": [
    "# Check for missing values"
   ]
  },
  {
   "cell_type": "code",
   "execution_count": 5,
   "metadata": {},
   "outputs": [
    {
     "data": {
      "text/plain": [
       "<AxesSubplot:>"
      ]
     },
     "execution_count": 5,
     "metadata": {},
     "output_type": "execute_result"
    },
    {
     "data": {
      "image/png": "[encoded data removed]",
      "text/plain": [
       "<Figure size 2500x1000 with 2 Axes>"
      ]
     },
     "metadata": {},
     "output_type": "display_data"
    }
   ],
   "source": [
    "msno.matrix(df)"
   ]
  },
  {
   "cell_type": "markdown",
   "metadata": {},
   "source": [
    "From the above data, we can see that the missing values in the data are scattered, not clustered at a single place."
   ]
  },
  {
   "cell_type": "markdown",
   "metadata": {},
   "source": [
    "### Month"
   ]
  },
  {
   "cell_type": "code",
   "execution_count": 6,
   "metadata": {},
   "outputs": [
    {
     "data": {
      "text/plain": [
       "January     12500\n",
       "February    12500\n",
       "March       12500\n",
       "April       12500\n",
       "May         12500\n",
       "June        12500\n",
       "July        12500\n",
       "August      12500\n",
       "Name: Month, dtype: int64"
      ]
     },
     "execution_count": 6,
     "metadata": {},
     "output_type": "execute_result"
    }
   ],
   "source": [
    "df.Month.value_counts()"
   ]
  },
  {
   "cell_type": "markdown",
   "metadata": {},
   "source": [
    "### Monthly_Balance"
   ]
  },
  {
   "cell_type": "code",
   "execution_count": 7,
   "metadata": {},
   "outputs": [
    {
     "data": {
      "text/plain": [
       "__-333333333333333333333333333__    9\n",
       "312.49408867943663                  1\n",
       "415.32532309844316                  1\n",
       "252.08489793906085                  1\n",
       "254.9709216273975                   1\n",
       "                                   ..\n",
       "366.2890379762706                   1\n",
       "151.1882696261166                   1\n",
       "306.75027851710234                  1\n",
       "278.8720257394474                   1\n",
       "393.6736955618808                   1\n",
       "Name: Monthly_Balance, Length: 98792, dtype: int64"
      ]
     },
     "execution_count": 7,
     "metadata": {},
     "output_type": "execute_result"
    }
   ],
   "source": [
    "df.Monthly_Balance.value_counts()"
   ]
  },
  {
   "cell_type": "code",
   "execution_count": 8,
   "metadata": {},
   "outputs": [],
   "source": [
    "df.loc[df.Monthly_Balance.isna(), 'Monthly_Balance'] = None"
   ]
  },
  {
   "cell_type": "code",
   "execution_count": 9,
   "metadata": {},
   "outputs": [],
   "source": [
    "df.loc[df.Monthly_Balance == \"__-333333333333333333333333333__\", 'Monthly_Balance'] = None"
   ]
  },
  {
   "cell_type": "markdown",
   "metadata": {},
   "source": [
    "### Amount_invested_monthly"
   ]
  },
  {
   "cell_type": "code",
   "execution_count": 10,
   "metadata": {},
   "outputs": [
    {
     "data": {
      "text/plain": [
       "__10000__             4305\n",
       "0.0                    169\n",
       "80.41529543900253        1\n",
       "36.66235139442514        1\n",
       "89.7384893604547         1\n",
       "                      ... \n",
       "36.541908593249026       1\n",
       "93.45116318631192        1\n",
       "140.80972223052834       1\n",
       "38.73937670100975        1\n",
       "167.1638651610451        1\n",
       "Name: Amount_invested_monthly, Length: 91049, dtype: int64"
      ]
     },
     "execution_count": 10,
     "metadata": {},
     "output_type": "execute_result"
    }
   ],
   "source": [
    "df.Amount_invested_monthly.value_counts()"
   ]
  },
  {
   "cell_type": "code",
   "execution_count": 11,
   "metadata": {},
   "outputs": [],
   "source": [
    "df.loc[df.Amount_invested_monthly == \"__10000__\", 'Amount_invested_monthly'] = None"
   ]
  },
  {
   "cell_type": "markdown",
   "metadata": {},
   "source": [
    "### Preprocess all columns replacing '_' and covenrting to float"
   ]
  },
  {
   "cell_type": "code",
   "execution_count": 12,
   "metadata": {},
   "outputs": [
    {
     "data": {
      "text/plain": [
       "Index(['Customer_ID', 'Month', 'Age', 'Occupation', 'Annual_Income',\n",
       "       'Num_of_Loan', 'Type_of_Loan', 'Num_of_Delayed_Payment',\n",
       "       'Changed_Credit_Limit', 'Credit_Mix', 'Outstanding_Debt',\n",
       "       'Credit_History_Age', 'Payment_of_Min_Amount',\n",
       "       'Amount_invested_monthly', 'Payment_Behaviour', 'Monthly_Balance',\n",
       "       'Credit_Score'],\n",
       "      dtype='object')"
      ]
     },
     "execution_count": 12,
     "metadata": {},
     "output_type": "execute_result"
    }
   ],
   "source": [
    "cat = df.select_dtypes(include=[\"object\"]).columns\n",
    "cat"
   ]
  },
  {
   "cell_type": "code",
   "execution_count": 13,
   "metadata": {},
   "outputs": [
    {
     "data": {
      "text/plain": [
       "['Age',\n",
       " 'Occupation',\n",
       " 'Annual_Income',\n",
       " 'Num_of_Loan',\n",
       " 'Num_of_Delayed_Payment',\n",
       " 'Changed_Credit_Limit',\n",
       " 'Credit_Mix',\n",
       " 'Outstanding_Debt',\n",
       " 'Payment_Behaviour']"
      ]
     },
     "execution_count": 13,
     "metadata": {},
     "output_type": "execute_result"
    }
   ],
   "source": [
    "features = [feature for feature in cat if df[feature].str.contains('_').any()]\n",
    "features.remove('Customer_ID')\n",
    "features"
   ]
  },
  {
   "cell_type": "code",
   "execution_count": 14,
   "metadata": {},
   "outputs": [],
   "source": [
    "for feature in features:\n",
    "    df[feature] = df[feature].str.replace(\"_\", \"\")"
   ]
  },
  {
   "cell_type": "code",
   "execution_count": 15,
   "metadata": {},
   "outputs": [
    {
     "data": {
      "text/plain": [
       "Index(['Monthly_Inhand_Salary', 'Num_Bank_Accounts', 'Num_Credit_Card',\n",
       "       'Interest_Rate', 'Delay_from_due_date', 'Num_Credit_Inquiries',\n",
       "       'Credit_Utilization_Ratio', 'Total_EMI_per_month'],\n",
       "      dtype='object')"
      ]
     },
     "execution_count": 15,
     "metadata": {},
     "output_type": "execute_result"
    }
   ],
   "source": [
    "num = df.select_dtypes(include=[\"number\"]).columns\n",
    "num"
   ]
  },
  {
   "cell_type": "code",
   "execution_count": 16,
   "metadata": {},
   "outputs": [],
   "source": [
    "features = ['Age', 'Annual_Income', 'Num_of_Loan', 'Num_of_Delayed_Payment',\n",
    "            'Changed_Credit_Limit', 'Outstanding_Debt', 'Amount_invested_monthly',\n",
    "            'Monthly_Balance']"
   ]
  },
  {
   "cell_type": "code",
   "execution_count": 17,
   "metadata": {},
   "outputs": [],
   "source": [
    "for feature in features:\n",
    "    df[feature] = pd.to_numeric(df[feature]).astype('float')"
   ]
  },
  {
   "cell_type": "markdown",
   "metadata": {},
   "source": [
    "### Occupation\n",
    "set by hand the Occupation of Customer with all None"
   ]
  },
  {
   "cell_type": "code",
   "execution_count": 18,
   "metadata": {},
   "outputs": [
    {
     "data": {
      "text/plain": [
       "                7062\n",
       "Lawyer          6575\n",
       "Architect       6355\n",
       "Engineer        6350\n",
       "Scientist       6299\n",
       "Mechanic        6291\n",
       "Accountant      6271\n",
       "Developer       6235\n",
       "MediaManager    6232\n",
       "Teacher         6215\n",
       "Entrepreneur    6174\n",
       "Doctor          6087\n",
       "Journalist      6085\n",
       "Manager         5973\n",
       "Musician        5911\n",
       "Writer          5885\n",
       "Name: Occupation, dtype: int64"
      ]
     },
     "execution_count": 18,
     "metadata": {},
     "output_type": "execute_result"
    }
   ],
   "source": [
    "df.Occupation.value_counts()"
   ]
  },
  {
   "cell_type": "markdown",
   "metadata": {},
   "source": [
    "### Outstanding_Debt"
   ]
  },
  {
   "cell_type": "code",
   "execution_count": 19,
   "metadata": {},
   "outputs": [
    {
     "data": {
      "text/plain": [
       "1109.03    24\n",
       "1151.70    24\n",
       "1360.45    24\n",
       "460.46     24\n",
       "1058.13    16\n",
       "           ..\n",
       "4230.04     8\n",
       "641.99      8\n",
       "98.61       8\n",
       "2614.48     8\n",
       "502.38      8\n",
       "Name: Outstanding_Debt, Length: 12203, dtype: int64"
      ]
     },
     "execution_count": 19,
     "metadata": {},
     "output_type": "execute_result"
    }
   ],
   "source": [
    "df['Outstanding_Debt'].value_counts()"
   ]
  },
  {
   "cell_type": "markdown",
   "metadata": {},
   "source": [
    "### Num_of_Loan"
   ]
  },
  {
   "cell_type": "code",
   "execution_count": 20,
   "metadata": {},
   "outputs": [
    {
     "data": {
      "text/plain": [
       "3.0       15104\n",
       "2.0       15032\n",
       "4.0       14743\n",
       "0.0       10930\n",
       "1.0       10606\n",
       "          ...  \n",
       "119.0         1\n",
       "321.0         1\n",
       "1439.0        1\n",
       "663.0         1\n",
       "966.0         1\n",
       "Name: Num_of_Loan, Length: 414, dtype: int64"
      ]
     },
     "execution_count": 20,
     "metadata": {},
     "output_type": "execute_result"
    }
   ],
   "source": [
    "df['Num_of_Loan'].value_counts()"
   ]
  },
  {
   "cell_type": "markdown",
   "metadata": {},
   "source": [
    "### Num_Bank_Accounts\n",
    "Decide what to do with -1 and 0"
   ]
  },
  {
   "cell_type": "code",
   "execution_count": 21,
   "metadata": {},
   "outputs": [
    {
     "data": {
      "text/plain": [
       "6       13001\n",
       "7       12823\n",
       "8       12765\n",
       "4       12186\n",
       "5       12118\n",
       "        ...  \n",
       "1626        1\n",
       "1470        1\n",
       "887         1\n",
       "211         1\n",
       "697         1\n",
       "Name: Num_Bank_Accounts, Length: 943, dtype: int64"
      ]
     },
     "execution_count": 21,
     "metadata": {},
     "output_type": "execute_result"
    }
   ],
   "source": [
    "df['Num_Bank_Accounts'].value_counts()"
   ]
  },
  {
   "cell_type": "code",
   "execution_count": 22,
   "metadata": {},
   "outputs": [
    {
     "data": {
      "text/plain": [
       "30330    6\n",
       "30331    6\n",
       "30332    6\n",
       "30333    6\n",
       "30334    6\n",
       "30335    6\n",
       "43689    6\n",
       "43690    6\n",
       "43691    6\n",
       "43692    6\n",
       "43693    6\n",
       "43694    6\n",
       "43695    6\n",
       "47212    3\n",
       "47213    3\n",
       "47214    3\n",
       "47215    3\n",
       "55636    4\n",
       "55637    4\n",
       "55638    4\n",
       "55639    4\n",
       "Name: Num_Credit_Card, dtype: int64"
      ]
     },
     "execution_count": 22,
     "metadata": {},
     "output_type": "execute_result"
    }
   ],
   "source": [
    "tmp_num_cc = df.loc[df['Num_Bank_Accounts']==-1, 'Num_Credit_Card']\n",
    "tmp_num_cc.loc[55636] = 4\n",
    "tmp_num_cc"
   ]
  },
  {
   "cell_type": "code",
   "execution_count": 23,
   "metadata": {},
   "outputs": [],
   "source": [
    "#df['Num_Bank_Accounts'] = df['Num_Bank_Accounts'].replace(-1, 0)"
   ]
  },
  {
   "cell_type": "markdown",
   "metadata": {},
   "source": [
    "### Type of Loan"
   ]
  },
  {
   "cell_type": "code",
   "execution_count": 24,
   "metadata": {},
   "outputs": [
    {
     "data": {
      "text/plain": [
       "Not Specified                                                                                                                         1408\n",
       "Credit-Builder Loan                                                                                                                   1280\n",
       "Personal Loan                                                                                                                         1272\n",
       "Debt Consolidation Loan                                                                                                               1264\n",
       "Student Loan                                                                                                                          1240\n",
       "                                                                                                                                      ... \n",
       "Not Specified, Mortgage Loan, Auto Loan, and Payday Loan                                                                                 8\n",
       "Payday Loan, Mortgage Loan, Debt Consolidation Loan, and Student Loan                                                                    8\n",
       "Debt Consolidation Loan, Auto Loan, Personal Loan, Debt Consolidation Loan, Student Loan, and Credit-Builder Loan                        8\n",
       "Student Loan, Auto Loan, Student Loan, Credit-Builder Loan, Home Equity Loan, Debt Consolidation Loan, and Debt Consolidation Loan       8\n",
       "Personal Loan, Auto Loan, Mortgage Loan, Student Loan, and Student Loan                                                                  8\n",
       "Name: Type_of_Loan, Length: 6260, dtype: int64"
      ]
     },
     "execution_count": 24,
     "metadata": {},
     "output_type": "execute_result"
    }
   ],
   "source": [
    "df['Type_of_Loan'].value_counts()"
   ]
  },
  {
   "cell_type": "code",
   "execution_count": 25,
   "metadata": {},
   "outputs": [
    {
     "data": {
      "text/plain": [
       " 0.0       10930\n",
       "-100.0       417\n",
       " 50.0          2\n",
       " 911.0         2\n",
       " 439.0         1\n",
       "           ...  \n",
       " 336.0         1\n",
       " 940.0         1\n",
       " 1447.0        1\n",
       " 881.0         1\n",
       " 801.0         1\n",
       "Name: Num_of_Loan, Length: 61, dtype: int64"
      ]
     },
     "execution_count": 25,
     "metadata": {},
     "output_type": "execute_result"
    }
   ],
   "source": [
    "df.loc[df['Type_of_Loan'].isna(), 'Num_of_Loan'].value_counts()\n",
    "# i.e all zeros because all the numbers are escluded by the further filtering"
   ]
  },
  {
   "cell_type": "code",
   "execution_count": 26,
   "metadata": {},
   "outputs": [],
   "source": [
    "df['Type_of_Loan'] = df['Type_of_Loan'].astype('object')"
   ]
  },
  {
   "cell_type": "code",
   "execution_count": 27,
   "metadata": {},
   "outputs": [],
   "source": [
    "df['Type_of_Loan'].fillna('no Loan', inplace=True)"
   ]
  },
  {
   "cell_type": "code",
   "execution_count": 28,
   "metadata": {},
   "outputs": [
    {
     "data": {
      "text/plain": [
       "Index(['no Loan', 'Not Specified', 'Credit-Builder Loan', 'Personal Loan',\n",
       "       'Debt Consolidation Loan', 'Student Loan', 'Payday Loan',\n",
       "       'Mortgage Loan', 'Auto Loan', 'Home Equity Loan'],\n",
       "      dtype='object')"
      ]
     },
     "execution_count": 28,
     "metadata": {},
     "output_type": "execute_result"
    }
   ],
   "source": [
    "uniq_types = df['Type_of_Loan'].value_counts()[:10].index\n",
    "uniq_types"
   ]
  },
  {
   "cell_type": "code",
   "execution_count": 29,
   "metadata": {},
   "outputs": [
    {
     "data": {
      "text/plain": [
       "no Loan                    11408\n",
       "Not Specified               1408\n",
       "Credit-Builder Loan         1280\n",
       "Personal Loan               1272\n",
       "Debt Consolidation Loan     1264\n",
       "Student Loan                1240\n",
       "Payday Loan                 1200\n",
       "Mortgage Loan               1176\n",
       "Auto Loan                   1152\n",
       "Home Equity Loan            1136\n",
       "Name: Type_of_Loan, dtype: int64"
      ]
     },
     "execution_count": 29,
     "metadata": {},
     "output_type": "execute_result"
    }
   ],
   "source": [
    "df['Type_of_Loan'].value_counts()[:10]"
   ]
  },
  {
   "cell_type": "code",
   "execution_count": 30,
   "metadata": {},
   "outputs": [],
   "source": [
    "df['Type_of_Loan'] = df['Type_of_Loan'].str.replace('and ', '')\n",
    "df['Type_of_Loan'] = df['Type_of_Loan'].str.split(', ').apply(lambda s: \" \".join(sorted(s)))"
   ]
  },
  {
   "cell_type": "markdown",
   "metadata": {},
   "source": [
    "### Delay_from_due_date"
   ]
  },
  {
   "cell_type": "code",
   "execution_count": 31,
   "metadata": {},
   "outputs": [
    {
     "data": {
      "text/html": [
       "<div>\n",
       "<style scoped>\n",
       "    .dataframe tbody tr th:only-of-type {\n",
       "        vertical-align: middle;\n",
       "    }\n",
       "\n",
       "    .dataframe tbody tr th {\n",
       "        vertical-align: top;\n",
       "    }\n",
       "\n",
       "    .dataframe thead th {\n",
       "        text-align: right;\n",
       "    }\n",
       "</style>\n",
       "<table border=\"1\" class=\"dataframe\">\n",
       "  <thead>\n",
       "    <tr style=\"text-align: right;\">\n",
       "      <th></th>\n",
       "      <th>Delay_from_due_date</th>\n",
       "      <th>Num_of_Delayed_Payment</th>\n",
       "      <th>Changed_Credit_Limit</th>\n",
       "      <th>Num_Credit_Inquiries</th>\n",
       "      <th>Credit_Mix</th>\n",
       "      <th>Outstanding_Debt</th>\n",
       "      <th>Credit_Utilization_Ratio</th>\n",
       "      <th>Credit_History_Age</th>\n",
       "      <th>Payment_of_Min_Amount</th>\n",
       "      <th>Total_EMI_per_month</th>\n",
       "      <th>Amount_invested_monthly</th>\n",
       "      <th>Payment_Behaviour</th>\n",
       "      <th>Monthly_Balance</th>\n",
       "      <th>Credit_Score</th>\n",
       "    </tr>\n",
       "  </thead>\n",
       "  <tbody>\n",
       "    <tr>\n",
       "      <th>0</th>\n",
       "      <td>3</td>\n",
       "      <td>7.0</td>\n",
       "      <td>11.27</td>\n",
       "      <td>4.0</td>\n",
       "      <td></td>\n",
       "      <td>809.98</td>\n",
       "      <td>26.822620</td>\n",
       "      <td>22 Years and 1 Months</td>\n",
       "      <td>No</td>\n",
       "      <td>49.574949</td>\n",
       "      <td>80.415295</td>\n",
       "      <td>HighspentSmallvaluepayments</td>\n",
       "      <td>312.494089</td>\n",
       "      <td>Good</td>\n",
       "    </tr>\n",
       "    <tr>\n",
       "      <th>1</th>\n",
       "      <td>-1</td>\n",
       "      <td>NaN</td>\n",
       "      <td>11.27</td>\n",
       "      <td>4.0</td>\n",
       "      <td>Good</td>\n",
       "      <td>809.98</td>\n",
       "      <td>31.944960</td>\n",
       "      <td>NaN</td>\n",
       "      <td>No</td>\n",
       "      <td>49.574949</td>\n",
       "      <td>118.280222</td>\n",
       "      <td>LowspentLargevaluepayments</td>\n",
       "      <td>284.629162</td>\n",
       "      <td>Good</td>\n",
       "    </tr>\n",
       "    <tr>\n",
       "      <th>2</th>\n",
       "      <td>3</td>\n",
       "      <td>7.0</td>\n",
       "      <td>NaN</td>\n",
       "      <td>4.0</td>\n",
       "      <td>Good</td>\n",
       "      <td>809.98</td>\n",
       "      <td>28.609352</td>\n",
       "      <td>22 Years and 3 Months</td>\n",
       "      <td>No</td>\n",
       "      <td>49.574949</td>\n",
       "      <td>81.699521</td>\n",
       "      <td>LowspentMediumvaluepayments</td>\n",
       "      <td>331.209863</td>\n",
       "      <td>Good</td>\n",
       "    </tr>\n",
       "    <tr>\n",
       "      <th>3</th>\n",
       "      <td>5</td>\n",
       "      <td>4.0</td>\n",
       "      <td>6.27</td>\n",
       "      <td>4.0</td>\n",
       "      <td>Good</td>\n",
       "      <td>809.98</td>\n",
       "      <td>31.377862</td>\n",
       "      <td>22 Years and 4 Months</td>\n",
       "      <td>No</td>\n",
       "      <td>49.574949</td>\n",
       "      <td>199.458074</td>\n",
       "      <td>LowspentSmallvaluepayments</td>\n",
       "      <td>223.451310</td>\n",
       "      <td>Good</td>\n",
       "    </tr>\n",
       "    <tr>\n",
       "      <th>4</th>\n",
       "      <td>6</td>\n",
       "      <td>NaN</td>\n",
       "      <td>11.27</td>\n",
       "      <td>4.0</td>\n",
       "      <td>Good</td>\n",
       "      <td>809.98</td>\n",
       "      <td>24.797347</td>\n",
       "      <td>22 Years and 5 Months</td>\n",
       "      <td>No</td>\n",
       "      <td>49.574949</td>\n",
       "      <td>41.420153</td>\n",
       "      <td>HighspentMediumvaluepayments</td>\n",
       "      <td>341.489231</td>\n",
       "      <td>Good</td>\n",
       "    </tr>\n",
       "    <tr>\n",
       "      <th>5</th>\n",
       "      <td>8</td>\n",
       "      <td>4.0</td>\n",
       "      <td>9.27</td>\n",
       "      <td>4.0</td>\n",
       "      <td>Good</td>\n",
       "      <td>809.98</td>\n",
       "      <td>27.262259</td>\n",
       "      <td>22 Years and 6 Months</td>\n",
       "      <td>No</td>\n",
       "      <td>49.574949</td>\n",
       "      <td>62.430172</td>\n",
       "      <td>!@9#%8</td>\n",
       "      <td>340.479212</td>\n",
       "      <td>Good</td>\n",
       "    </tr>\n",
       "    <tr>\n",
       "      <th>6</th>\n",
       "      <td>3</td>\n",
       "      <td>8.0</td>\n",
       "      <td>11.27</td>\n",
       "      <td>4.0</td>\n",
       "      <td>Good</td>\n",
       "      <td>809.98</td>\n",
       "      <td>22.537593</td>\n",
       "      <td>22 Years and 7 Months</td>\n",
       "      <td>No</td>\n",
       "      <td>49.574949</td>\n",
       "      <td>178.344067</td>\n",
       "      <td>LowspentSmallvaluepayments</td>\n",
       "      <td>244.565317</td>\n",
       "      <td>Good</td>\n",
       "    </tr>\n",
       "    <tr>\n",
       "      <th>7</th>\n",
       "      <td>3</td>\n",
       "      <td>6.0</td>\n",
       "      <td>11.27</td>\n",
       "      <td>4.0</td>\n",
       "      <td>Good</td>\n",
       "      <td>809.98</td>\n",
       "      <td>23.933795</td>\n",
       "      <td>NaN</td>\n",
       "      <td>No</td>\n",
       "      <td>49.574949</td>\n",
       "      <td>24.785217</td>\n",
       "      <td>HighspentMediumvaluepayments</td>\n",
       "      <td>358.124168</td>\n",
       "      <td>Standard</td>\n",
       "    </tr>\n",
       "  </tbody>\n",
       "</table>\n",
       "</div>"
      ],
      "text/plain": [
       "   Delay_from_due_date  Num_of_Delayed_Payment  Changed_Credit_Limit  \\\n",
       "0                    3                     7.0                 11.27   \n",
       "1                   -1                     NaN                 11.27   \n",
       "2                    3                     7.0                   NaN   \n",
       "3                    5                     4.0                  6.27   \n",
       "4                    6                     NaN                 11.27   \n",
       "5                    8                     4.0                  9.27   \n",
       "6                    3                     8.0                 11.27   \n",
       "7                    3                     6.0                 11.27   \n",
       "\n",
       "   Num_Credit_Inquiries Credit_Mix  Outstanding_Debt  \\\n",
       "0                   4.0                       809.98   \n",
       "1                   4.0       Good            809.98   \n",
       "2                   4.0       Good            809.98   \n",
       "3                   4.0       Good            809.98   \n",
       "4                   4.0       Good            809.98   \n",
       "5                   4.0       Good            809.98   \n",
       "6                   4.0       Good            809.98   \n",
       "7                   4.0       Good            809.98   \n",
       "\n",
       "   Credit_Utilization_Ratio     Credit_History_Age Payment_of_Min_Amount  \\\n",
       "0                 26.822620  22 Years and 1 Months                    No   \n",
       "1                 31.944960                    NaN                    No   \n",
       "2                 28.609352  22 Years and 3 Months                    No   \n",
       "3                 31.377862  22 Years and 4 Months                    No   \n",
       "4                 24.797347  22 Years and 5 Months                    No   \n",
       "5                 27.262259  22 Years and 6 Months                    No   \n",
       "6                 22.537593  22 Years and 7 Months                    No   \n",
       "7                 23.933795                    NaN                    No   \n",
       "\n",
       "   Total_EMI_per_month  Amount_invested_monthly             Payment_Behaviour  \\\n",
       "0            49.574949                80.415295   HighspentSmallvaluepayments   \n",
       "1            49.574949               118.280222    LowspentLargevaluepayments   \n",
       "2            49.574949                81.699521   LowspentMediumvaluepayments   \n",
       "3            49.574949               199.458074    LowspentSmallvaluepayments   \n",
       "4            49.574949                41.420153  HighspentMediumvaluepayments   \n",
       "5            49.574949                62.430172                        !@9#%8   \n",
       "6            49.574949               178.344067    LowspentSmallvaluepayments   \n",
       "7            49.574949                24.785217  HighspentMediumvaluepayments   \n",
       "\n",
       "   Monthly_Balance Credit_Score  \n",
       "0       312.494089         Good  \n",
       "1       284.629162         Good  \n",
       "2       331.209863         Good  \n",
       "3       223.451310         Good  \n",
       "4       341.489231         Good  \n",
       "5       340.479212         Good  \n",
       "6       244.565317         Good  \n",
       "7       358.124168     Standard  "
      ]
     },
     "execution_count": 31,
     "metadata": {},
     "output_type": "execute_result"
    }
   ],
   "source": [
    "df.loc[:, 'Delay_from_due_date':].head(8)"
   ]
  },
  {
   "cell_type": "code",
   "execution_count": 32,
   "metadata": {},
   "outputs": [
    {
     "data": {
      "text/plain": [
       "array([ 3, -1,  5,  6,  8,  7, 13, 10,  0,  4,  9,  1, 12, 11, 30, 31, 34,\n",
       "       27, 14,  2, -2, 16, 17, 15, 23, 22, 21, 18, 19, 52, 51, 48, 53, 26,\n",
       "       43, 28, 25, 20, 47, 46, 49, 24, 61, 29, 50, 58, 45, 59, 55, 56, 57,\n",
       "       54, 62, 65, 64, 67, 36, 41, 33, 32, 39, 44, 42, 60, 35, 38, -3, 63,\n",
       "       40, 37, -5, -4, 66], dtype=int64)"
      ]
     },
     "execution_count": 32,
     "metadata": {},
     "output_type": "execute_result"
    }
   ],
   "source": [
    "df['Delay_from_due_date'].unique()"
   ]
  },
  {
   "cell_type": "code",
   "execution_count": 33,
   "metadata": {},
   "outputs": [
    {
     "data": {
      "text/html": [
       "<div>\n",
       "<style scoped>\n",
       "    .dataframe tbody tr th:only-of-type {\n",
       "        vertical-align: middle;\n",
       "    }\n",
       "\n",
       "    .dataframe tbody tr th {\n",
       "        vertical-align: top;\n",
       "    }\n",
       "\n",
       "    .dataframe thead th {\n",
       "        text-align: right;\n",
       "    }\n",
       "</style>\n",
       "<table border=\"1\" class=\"dataframe\">\n",
       "  <thead>\n",
       "    <tr style=\"text-align: right;\">\n",
       "      <th></th>\n",
       "      <th>Customer_ID</th>\n",
       "      <th>Month</th>\n",
       "      <th>Age</th>\n",
       "      <th>Occupation</th>\n",
       "      <th>Annual_Income</th>\n",
       "      <th>Monthly_Inhand_Salary</th>\n",
       "      <th>Num_Bank_Accounts</th>\n",
       "      <th>Num_Credit_Card</th>\n",
       "      <th>Interest_Rate</th>\n",
       "      <th>Num_of_Loan</th>\n",
       "      <th>...</th>\n",
       "      <th>Credit_Mix</th>\n",
       "      <th>Outstanding_Debt</th>\n",
       "      <th>Credit_Utilization_Ratio</th>\n",
       "      <th>Credit_History_Age</th>\n",
       "      <th>Payment_of_Min_Amount</th>\n",
       "      <th>Total_EMI_per_month</th>\n",
       "      <th>Amount_invested_monthly</th>\n",
       "      <th>Payment_Behaviour</th>\n",
       "      <th>Monthly_Balance</th>\n",
       "      <th>Credit_Score</th>\n",
       "    </tr>\n",
       "  </thead>\n",
       "  <tbody>\n",
       "    <tr>\n",
       "      <th>5800</th>\n",
       "      <td>CUS_0x105b</td>\n",
       "      <td>January</td>\n",
       "      <td>24.0</td>\n",
       "      <td>Accountant</td>\n",
       "      <td>34428.21</td>\n",
       "      <td>2575.0175</td>\n",
       "      <td>2</td>\n",
       "      <td>4</td>\n",
       "      <td>8</td>\n",
       "      <td>0.0</td>\n",
       "      <td>...</td>\n",
       "      <td></td>\n",
       "      <td>180.7</td>\n",
       "      <td>38.400407</td>\n",
       "      <td>26 Years and 11 Months</td>\n",
       "      <td>No</td>\n",
       "      <td>0.0000</td>\n",
       "      <td>101.194589</td>\n",
       "      <td>LowspentMediumvaluepayments</td>\n",
       "      <td>436.307161</td>\n",
       "      <td>Good</td>\n",
       "    </tr>\n",
       "    <tr>\n",
       "      <th>5801</th>\n",
       "      <td>CUS_0x105b</td>\n",
       "      <td>February</td>\n",
       "      <td>24.0</td>\n",
       "      <td>Accountant</td>\n",
       "      <td>34428.21</td>\n",
       "      <td>2575.0175</td>\n",
       "      <td>2</td>\n",
       "      <td>4</td>\n",
       "      <td>8</td>\n",
       "      <td>0.0</td>\n",
       "      <td>...</td>\n",
       "      <td>Good</td>\n",
       "      <td>180.7</td>\n",
       "      <td>37.277277</td>\n",
       "      <td>NaN</td>\n",
       "      <td>No</td>\n",
       "      <td>0.0000</td>\n",
       "      <td>40.990554</td>\n",
       "      <td>HighspentMediumvaluepayments</td>\n",
       "      <td>466.511196</td>\n",
       "      <td>Good</td>\n",
       "    </tr>\n",
       "    <tr>\n",
       "      <th>5802</th>\n",
       "      <td>CUS_0x105b</td>\n",
       "      <td>March</td>\n",
       "      <td>24.0</td>\n",
       "      <td>Accountant</td>\n",
       "      <td>34428.21</td>\n",
       "      <td>2575.0175</td>\n",
       "      <td>2</td>\n",
       "      <td>1278</td>\n",
       "      <td>8</td>\n",
       "      <td>0.0</td>\n",
       "      <td>...</td>\n",
       "      <td>Good</td>\n",
       "      <td>180.7</td>\n",
       "      <td>27.419065</td>\n",
       "      <td>NaN</td>\n",
       "      <td>No</td>\n",
       "      <td>0.0000</td>\n",
       "      <td>132.356620</td>\n",
       "      <td>LowspentMediumvaluepayments</td>\n",
       "      <td>405.145130</td>\n",
       "      <td>Standard</td>\n",
       "    </tr>\n",
       "    <tr>\n",
       "      <th>5803</th>\n",
       "      <td>CUS_0x105b</td>\n",
       "      <td>April</td>\n",
       "      <td>24.0</td>\n",
       "      <td>Accountant</td>\n",
       "      <td>34428.21</td>\n",
       "      <td>2575.0175</td>\n",
       "      <td>2</td>\n",
       "      <td>4</td>\n",
       "      <td>8</td>\n",
       "      <td>0.0</td>\n",
       "      <td>...</td>\n",
       "      <td>Good</td>\n",
       "      <td>180.7</td>\n",
       "      <td>39.917508</td>\n",
       "      <td>27 Years and 2 Months</td>\n",
       "      <td>No</td>\n",
       "      <td>79286.0000</td>\n",
       "      <td>84.774645</td>\n",
       "      <td>HighspentSmallvaluepayments</td>\n",
       "      <td>432.727105</td>\n",
       "      <td>Good</td>\n",
       "    </tr>\n",
       "    <tr>\n",
       "      <th>5804</th>\n",
       "      <td>CUS_0x105b</td>\n",
       "      <td>May</td>\n",
       "      <td>24.0</td>\n",
       "      <td>Accountant</td>\n",
       "      <td>34428.21</td>\n",
       "      <td>2575.0175</td>\n",
       "      <td>2</td>\n",
       "      <td>4</td>\n",
       "      <td>8</td>\n",
       "      <td>0.0</td>\n",
       "      <td>...</td>\n",
       "      <td>Good</td>\n",
       "      <td>180.7</td>\n",
       "      <td>38.279832</td>\n",
       "      <td>27 Years and 3 Months</td>\n",
       "      <td>No</td>\n",
       "      <td>0.0000</td>\n",
       "      <td>31.633260</td>\n",
       "      <td>HighspentMediumvaluepayments</td>\n",
       "      <td>475.868490</td>\n",
       "      <td>Good</td>\n",
       "    </tr>\n",
       "    <tr>\n",
       "      <th>5805</th>\n",
       "      <td>CUS_0x105b</td>\n",
       "      <td>June</td>\n",
       "      <td>24.0</td>\n",
       "      <td>Accountant</td>\n",
       "      <td>34428.21</td>\n",
       "      <td>2289.5937</td>\n",
       "      <td>2</td>\n",
       "      <td>4</td>\n",
       "      <td>8</td>\n",
       "      <td>0.0</td>\n",
       "      <td>...</td>\n",
       "      <td></td>\n",
       "      <td>180.7</td>\n",
       "      <td>25.263866</td>\n",
       "      <td>NaN</td>\n",
       "      <td>No</td>\n",
       "      <td>285.4238</td>\n",
       "      <td>119.516040</td>\n",
       "      <td>HighspentSmallvaluepayments</td>\n",
       "      <td>397.985710</td>\n",
       "      <td>Good</td>\n",
       "    </tr>\n",
       "    <tr>\n",
       "      <th>5806</th>\n",
       "      <td>CUS_0x105b</td>\n",
       "      <td>July</td>\n",
       "      <td>24.0</td>\n",
       "      <td></td>\n",
       "      <td>34428.21</td>\n",
       "      <td>2289.5937</td>\n",
       "      <td>2</td>\n",
       "      <td>4</td>\n",
       "      <td>849</td>\n",
       "      <td>0.0</td>\n",
       "      <td>...</td>\n",
       "      <td></td>\n",
       "      <td>180.7</td>\n",
       "      <td>38.320746</td>\n",
       "      <td>27 Years and 5 Months</td>\n",
       "      <td>No</td>\n",
       "      <td>285.4238</td>\n",
       "      <td>229.977234</td>\n",
       "      <td>LowspentSmallvaluepayments</td>\n",
       "      <td>317.524516</td>\n",
       "      <td>Good</td>\n",
       "    </tr>\n",
       "    <tr>\n",
       "      <th>5807</th>\n",
       "      <td>CUS_0x105b</td>\n",
       "      <td>August</td>\n",
       "      <td>24.0</td>\n",
       "      <td>Accountant</td>\n",
       "      <td>34428.21</td>\n",
       "      <td>2289.5937</td>\n",
       "      <td>2</td>\n",
       "      <td>4</td>\n",
       "      <td>8</td>\n",
       "      <td>0.0</td>\n",
       "      <td>...</td>\n",
       "      <td></td>\n",
       "      <td>180.7</td>\n",
       "      <td>35.130540</td>\n",
       "      <td>27 Years and 6 Months</td>\n",
       "      <td>No</td>\n",
       "      <td>285.4238</td>\n",
       "      <td>61.131704</td>\n",
       "      <td>!@9#%8</td>\n",
       "      <td>446.370046</td>\n",
       "      <td>Good</td>\n",
       "    </tr>\n",
       "  </tbody>\n",
       "</table>\n",
       "<p>8 rows × 25 columns</p>\n",
       "</div>"
      ],
      "text/plain": [
       "     Customer_ID     Month   Age  Occupation  Annual_Income  \\\n",
       "5800  CUS_0x105b   January  24.0  Accountant       34428.21   \n",
       "5801  CUS_0x105b  February  24.0  Accountant       34428.21   \n",
       "5802  CUS_0x105b     March  24.0  Accountant       34428.21   \n",
       "5803  CUS_0x105b     April  24.0  Accountant       34428.21   \n",
       "5804  CUS_0x105b       May  24.0  Accountant       34428.21   \n",
       "5805  CUS_0x105b      June  24.0  Accountant       34428.21   \n",
       "5806  CUS_0x105b      July  24.0                   34428.21   \n",
       "5807  CUS_0x105b    August  24.0  Accountant       34428.21   \n",
       "\n",
       "      Monthly_Inhand_Salary  Num_Bank_Accounts  Num_Credit_Card  \\\n",
       "5800              2575.0175                  2                4   \n",
       "5801              2575.0175                  2                4   \n",
       "5802              2575.0175                  2             1278   \n",
       "5803              2575.0175                  2                4   \n",
       "5804              2575.0175                  2                4   \n",
       "5805              2289.5937                  2                4   \n",
       "5806              2289.5937                  2                4   \n",
       "5807              2289.5937                  2                4   \n",
       "\n",
       "      Interest_Rate  Num_of_Loan  ... Credit_Mix  Outstanding_Debt  \\\n",
       "5800              8          0.0  ...                        180.7   \n",
       "5801              8          0.0  ...       Good             180.7   \n",
       "5802              8          0.0  ...       Good             180.7   \n",
       "5803              8          0.0  ...       Good             180.7   \n",
       "5804              8          0.0  ...       Good             180.7   \n",
       "5805              8          0.0  ...                        180.7   \n",
       "5806            849          0.0  ...                        180.7   \n",
       "5807              8          0.0  ...                        180.7   \n",
       "\n",
       "      Credit_Utilization_Ratio      Credit_History_Age  Payment_of_Min_Amount  \\\n",
       "5800                 38.400407  26 Years and 11 Months                     No   \n",
       "5801                 37.277277                     NaN                     No   \n",
       "5802                 27.419065                     NaN                     No   \n",
       "5803                 39.917508   27 Years and 2 Months                     No   \n",
       "5804                 38.279832   27 Years and 3 Months                     No   \n",
       "5805                 25.263866                     NaN                     No   \n",
       "5806                 38.320746   27 Years and 5 Months                     No   \n",
       "5807                 35.130540   27 Years and 6 Months                     No   \n",
       "\n",
       "     Total_EMI_per_month  Amount_invested_monthly  \\\n",
       "5800              0.0000               101.194589   \n",
       "5801              0.0000                40.990554   \n",
       "5802              0.0000               132.356620   \n",
       "5803          79286.0000                84.774645   \n",
       "5804              0.0000                31.633260   \n",
       "5805            285.4238               119.516040   \n",
       "5806            285.4238               229.977234   \n",
       "5807            285.4238                61.131704   \n",
       "\n",
       "                 Payment_Behaviour Monthly_Balance Credit_Score  \n",
       "5800   LowspentMediumvaluepayments      436.307161         Good  \n",
       "5801  HighspentMediumvaluepayments      466.511196         Good  \n",
       "5802   LowspentMediumvaluepayments      405.145130     Standard  \n",
       "5803   HighspentSmallvaluepayments      432.727105         Good  \n",
       "5804  HighspentMediumvaluepayments      475.868490         Good  \n",
       "5805   HighspentSmallvaluepayments      397.985710         Good  \n",
       "5806    LowspentSmallvaluepayments      317.524516         Good  \n",
       "5807                        !@9#%8      446.370046         Good  \n",
       "\n",
       "[8 rows x 25 columns]"
      ]
     },
     "execution_count": 33,
     "metadata": {},
     "output_type": "execute_result"
    }
   ],
   "source": [
    "df[df.Customer_ID == 'CUS_0x105b']"
   ]
  },
  {
   "cell_type": "markdown",
   "metadata": {},
   "source": [
    "### Num_of_Delayed_Payment\n",
    "more precise filtering"
   ]
  },
  {
   "cell_type": "code",
   "execution_count": 34,
   "metadata": {},
   "outputs": [
    {
     "data": {
      "text/plain": [
       "19.0      5481\n",
       "17.0      5412\n",
       "16.0      5312\n",
       "10.0      5309\n",
       "15.0      5237\n",
       "          ... \n",
       "1534.0       1\n",
       "3739.0       1\n",
       "3313.0       1\n",
       "4191.0       1\n",
       "2047.0       1\n",
       "Name: Num_of_Delayed_Payment, Length: 711, dtype: int64"
      ]
     },
     "execution_count": 34,
     "metadata": {},
     "output_type": "execute_result"
    }
   ],
   "source": [
    "df['Num_of_Delayed_Payment'].value_counts()"
   ]
  },
  {
   "cell_type": "code",
   "execution_count": 35,
   "metadata": {},
   "outputs": [],
   "source": [
    "df.loc[df['Num_of_Delayed_Payment'] > 30, 'Num_of_Delayed_Payment'] = None"
   ]
  },
  {
   "cell_type": "code",
   "execution_count": 36,
   "metadata": {},
   "outputs": [
    {
     "data": {
      "text/plain": [
       "<AxesSubplot:>"
      ]
     },
     "execution_count": 36,
     "metadata": {},
     "output_type": "execute_result"
    },
    {
     "data": {
      "image/png": "[encoded data removed]",
      "text/plain": [
       "<Figure size 640x480 with 1 Axes>"
      ]
     },
     "metadata": {},
     "output_type": "display_data"
    }
   ],
   "source": [
    "df.loc[df['Num_of_Delayed_Payment']<30, 'Num_of_Delayed_Payment'].hist()"
   ]
  },
  {
   "cell_type": "code",
   "execution_count": 37,
   "metadata": {},
   "outputs": [
    {
     "data": {
      "text/plain": [
       "7738"
      ]
     },
     "execution_count": 37,
     "metadata": {},
     "output_type": "execute_result"
    }
   ],
   "source": [
    "df['Num_of_Delayed_Payment'].isna().sum()"
   ]
  },
  {
   "cell_type": "code",
   "execution_count": 38,
   "metadata": {},
   "outputs": [
    {
     "data": {
      "text/plain": [
       "Customer_ID\n",
       "CUS_0x1000    4\n",
       "CUS_0x1009    3\n",
       "CUS_0x100b    3\n",
       "CUS_0x1011    4\n",
       "CUS_0x1013    2\n",
       "             ..\n",
       "CUS_0xff3     4\n",
       "CUS_0xff4     3\n",
       "CUS_0xff6     4\n",
       "CUS_0xffc     3\n",
       "CUS_0xffd     3\n",
       "Name: Num_of_Delayed_Payment, Length: 12500, dtype: int64"
      ]
     },
     "execution_count": 38,
     "metadata": {},
     "output_type": "execute_result"
    }
   ],
   "source": [
    "tmp = df[['Customer_ID', 'Num_of_Delayed_Payment']].groupby('Customer_ID')['Num_of_Delayed_Payment'].nunique()\n",
    "tmp"
   ]
  },
  {
   "cell_type": "code",
   "execution_count": 39,
   "metadata": {},
   "outputs": [
    {
     "data": {
      "text/plain": [
       "Customer_ID\n",
       "CUS_0x25a7    7\n",
       "CUS_0x25f1    7\n",
       "CUS_0x5ec     7\n",
       "CUS_0x66d9    7\n",
       "CUS_0x8f63    7\n",
       "CUS_0xc063    7\n",
       "CUS_0xc405    7\n",
       "Name: Num_of_Delayed_Payment, dtype: int64"
      ]
     },
     "execution_count": 39,
     "metadata": {},
     "output_type": "execute_result"
    }
   ],
   "source": [
    "tmp[tmp == 7]"
   ]
  },
  {
   "cell_type": "code",
   "execution_count": 40,
   "metadata": {},
   "outputs": [
    {
     "data": {
      "text/plain": [
       "3    4644\n",
       "4    3295\n",
       "2    2901\n",
       "5     939\n",
       "1     589\n",
       "6     125\n",
       "7       7\n",
       "Name: Num_of_Delayed_Payment, dtype: int64"
      ]
     },
     "execution_count": 40,
     "metadata": {},
     "output_type": "execute_result"
    }
   ],
   "source": [
    "tmp.value_counts()"
   ]
  },
  {
   "cell_type": "markdown",
   "metadata": {},
   "source": [
    "### Payment_of_Min_Amount"
   ]
  },
  {
   "cell_type": "code",
   "execution_count": 41,
   "metadata": {},
   "outputs": [
    {
     "data": {
      "text/plain": [
       "Yes    52326\n",
       "No     35667\n",
       "NM     12007\n",
       "Name: Payment_of_Min_Amount, dtype: int64"
      ]
     },
     "execution_count": 41,
     "metadata": {},
     "output_type": "execute_result"
    }
   ],
   "source": [
    "df['Payment_of_Min_Amount'].value_counts()"
   ]
  },
  {
   "cell_type": "code",
   "execution_count": 42,
   "metadata": {},
   "outputs": [],
   "source": [
    "df.replace('NM', '', inplace=True)"
   ]
  },
  {
   "cell_type": "code",
   "execution_count": 43,
   "metadata": {},
   "outputs": [
    {
     "data": {
      "text/plain": [
       "Customer_ID\n",
       "CUS_0x1000      [Yes]\n",
       "CUS_0x1009    [, Yes]\n",
       "CUS_0x100b     [No, ]\n",
       "CUS_0x1011    [Yes, ]\n",
       "CUS_0x1013     [No, ]\n",
       "               ...   \n",
       "CUS_0xff3        [No]\n",
       "CUS_0xff4     [, Yes]\n",
       "CUS_0xff6        [No]\n",
       "CUS_0xffc       [Yes]\n",
       "CUS_0xffd       [Yes]\n",
       "Name: Payment_of_Min_Amount, Length: 12500, dtype: object"
      ]
     },
     "execution_count": 43,
     "metadata": {},
     "output_type": "execute_result"
    }
   ],
   "source": [
    "tmp_uniq = df[['Customer_ID',\n",
    "    'Payment_of_Min_Amount']].groupby('Customer_ID')['Payment_of_Min_Amount'].unique()\n",
    "\n",
    "tmp_uniq"
   ]
  },
  {
   "cell_type": "code",
   "execution_count": 44,
   "metadata": {},
   "outputs": [
    {
     "data": {
      "text/plain": [
       "Customer_ID\n",
       "CUS_0x1000    1\n",
       "CUS_0x1009    2\n",
       "CUS_0x100b    2\n",
       "CUS_0x1011    2\n",
       "CUS_0x1013    2\n",
       "             ..\n",
       "CUS_0xff3     1\n",
       "CUS_0xff4     2\n",
       "CUS_0xff6     1\n",
       "CUS_0xffc     1\n",
       "CUS_0xffd     1\n",
       "Name: Payment_of_Min_Amount, Length: 12500, dtype: int64"
      ]
     },
     "execution_count": 44,
     "metadata": {},
     "output_type": "execute_result"
    }
   ],
   "source": [
    "tmp_nuniq = df[['Customer_ID',\n",
    "    'Payment_of_Min_Amount']].groupby('Customer_ID')['Payment_of_Min_Amount'].nunique()\n",
    "\n",
    "tmp_nuniq"
   ]
  },
  {
   "cell_type": "code",
   "execution_count": 45,
   "metadata": {},
   "outputs": [
    {
     "data": {
      "text/plain": [
       "array([array(['No'], dtype=object), array(['Yes'], dtype=object)],\n",
       "      dtype=object)"
      ]
     },
     "execution_count": 45,
     "metadata": {},
     "output_type": "execute_result"
    }
   ],
   "source": [
    "np.unique(tmp_uniq[tmp_nuniq==1].to_numpy())"
   ]
  },
  {
   "cell_type": "code",
   "execution_count": 46,
   "metadata": {},
   "outputs": [
    {
     "data": {
      "text/plain": [
       "8009"
      ]
     },
     "execution_count": 46,
     "metadata": {},
     "output_type": "execute_result"
    }
   ],
   "source": [
    "tmp_uniq[tmp_nuniq==2].apply(lambda x: list(x).count('')).sum()"
   ]
  },
  {
   "cell_type": "code",
   "execution_count": 47,
   "metadata": {},
   "outputs": [
    {
     "data": {
      "text/plain": [
       "8     No\n",
       "9     No\n",
       "10    No\n",
       "11    No\n",
       "12    No\n",
       "13    No\n",
       "14      \n",
       "15    No\n",
       "Name: Payment_of_Min_Amount, dtype: object"
      ]
     },
     "execution_count": 47,
     "metadata": {},
     "output_type": "execute_result"
    }
   ],
   "source": [
    "df.loc[df.Customer_ID == 'CUS_0x21b1', 'Payment_of_Min_Amount']"
   ]
  },
  {
   "cell_type": "code",
   "execution_count": 48,
   "metadata": {},
   "outputs": [
    {
     "data": {
      "text/plain": [
       "array(['No', 'Yes'], dtype=object)"
      ]
     },
     "execution_count": 48,
     "metadata": {},
     "output_type": "execute_result"
    }
   ],
   "source": [
    "df['Customer_ID'].map(tmp_uniq.apply(np.sum).to_dict()).unique()"
   ]
  },
  {
   "cell_type": "code",
   "execution_count": 49,
   "metadata": {},
   "outputs": [],
   "source": [
    "df['Payment_of_Min_Amount'] = df['Customer_ID'].map(tmp_uniq.apply(np.sum).to_dict())"
   ]
  },
  {
   "cell_type": "markdown",
   "metadata": {},
   "source": [
    "### Payment_Behaviour"
   ]
  },
  {
   "cell_type": "code",
   "execution_count": 50,
   "metadata": {},
   "outputs": [
    {
     "data": {
      "text/plain": [
       "LowspentSmallvaluepayments      25513\n",
       "HighspentMediumvaluepayments    17540\n",
       "LowspentMediumvaluepayments     13861\n",
       "HighspentLargevaluepayments     13721\n",
       "HighspentSmallvaluepayments     11340\n",
       "LowspentLargevaluepayments      10425\n",
       "!@9#%8                           7600\n",
       "Name: Payment_Behaviour, dtype: int64"
      ]
     },
     "execution_count": 50,
     "metadata": {},
     "output_type": "execute_result"
    }
   ],
   "source": [
    "df['Payment_Behaviour'].value_counts()"
   ]
  },
  {
   "cell_type": "code",
   "execution_count": 51,
   "metadata": {},
   "outputs": [],
   "source": [
    "df.replace('!@9#%8', None, inplace=True)"
   ]
  },
  {
   "cell_type": "markdown",
   "metadata": {},
   "source": [
    "### Credit_Utilization_Ratio"
   ]
  },
  {
   "cell_type": "code",
   "execution_count": 52,
   "metadata": {},
   "outputs": [
    {
     "data": {
      "text/plain": [
       "26.822620    1\n",
       "28.327949    1\n",
       "30.016576    1\n",
       "25.478841    1\n",
       "33.933755    1\n",
       "            ..\n",
       "30.687138    1\n",
       "38.730069    1\n",
       "30.017515    1\n",
       "27.279794    1\n",
       "34.192463    1\n",
       "Name: Credit_Utilization_Ratio, Length: 100000, dtype: int64"
      ]
     },
     "execution_count": 52,
     "metadata": {},
     "output_type": "execute_result"
    }
   ],
   "source": [
    "df['Credit_Utilization_Ratio'].value_counts()"
   ]
  },
  {
   "cell_type": "markdown",
   "metadata": {},
   "source": [
    "### Changed_Credit_Limit"
   ]
  },
  {
   "cell_type": "code",
   "execution_count": 53,
   "metadata": {},
   "outputs": [
    {
     "data": {
      "text/html": [
       "<div>\n",
       "<style scoped>\n",
       "    .dataframe tbody tr th:only-of-type {\n",
       "        vertical-align: middle;\n",
       "    }\n",
       "\n",
       "    .dataframe tbody tr th {\n",
       "        vertical-align: top;\n",
       "    }\n",
       "\n",
       "    .dataframe thead th {\n",
       "        text-align: right;\n",
       "    }\n",
       "</style>\n",
       "<table border=\"1\" class=\"dataframe\">\n",
       "  <thead>\n",
       "    <tr style=\"text-align: right;\">\n",
       "      <th></th>\n",
       "      <th>Customer_ID</th>\n",
       "      <th>Month</th>\n",
       "      <th>Age</th>\n",
       "      <th>Occupation</th>\n",
       "      <th>Annual_Income</th>\n",
       "      <th>Monthly_Inhand_Salary</th>\n",
       "      <th>Num_Bank_Accounts</th>\n",
       "      <th>Num_Credit_Card</th>\n",
       "      <th>Interest_Rate</th>\n",
       "      <th>Num_of_Loan</th>\n",
       "      <th>...</th>\n",
       "      <th>Credit_Mix</th>\n",
       "      <th>Outstanding_Debt</th>\n",
       "      <th>Credit_Utilization_Ratio</th>\n",
       "      <th>Credit_History_Age</th>\n",
       "      <th>Payment_of_Min_Amount</th>\n",
       "      <th>Total_EMI_per_month</th>\n",
       "      <th>Amount_invested_monthly</th>\n",
       "      <th>Payment_Behaviour</th>\n",
       "      <th>Monthly_Balance</th>\n",
       "      <th>Credit_Score</th>\n",
       "    </tr>\n",
       "  </thead>\n",
       "  <tbody>\n",
       "    <tr>\n",
       "      <th>2</th>\n",
       "      <td>CUS_0xd40</td>\n",
       "      <td>March</td>\n",
       "      <td>-500.0</td>\n",
       "      <td>Scientist</td>\n",
       "      <td>19114.120</td>\n",
       "      <td>NaN</td>\n",
       "      <td>3</td>\n",
       "      <td>4</td>\n",
       "      <td>3</td>\n",
       "      <td>4.0</td>\n",
       "      <td>...</td>\n",
       "      <td>Good</td>\n",
       "      <td>809.98</td>\n",
       "      <td>28.609352</td>\n",
       "      <td>22 Years and 3 Months</td>\n",
       "      <td>No</td>\n",
       "      <td>49.574949</td>\n",
       "      <td>81.699521</td>\n",
       "      <td>LowspentMediumvaluepayments</td>\n",
       "      <td>331.209863</td>\n",
       "      <td>Good</td>\n",
       "    </tr>\n",
       "    <tr>\n",
       "      <th>65</th>\n",
       "      <td>CUS_0x4157</td>\n",
       "      <td>February</td>\n",
       "      <td>23.0</td>\n",
       "      <td>Doctor</td>\n",
       "      <td>114838.410</td>\n",
       "      <td>9843.867500</td>\n",
       "      <td>2</td>\n",
       "      <td>5</td>\n",
       "      <td>7</td>\n",
       "      <td>3.0</td>\n",
       "      <td>...</td>\n",
       "      <td>Good</td>\n",
       "      <td>1377.74</td>\n",
       "      <td>27.626325</td>\n",
       "      <td>21 Years and 5 Months</td>\n",
       "      <td>No</td>\n",
       "      <td>226.892792</td>\n",
       "      <td>212.235602</td>\n",
       "      <td>HighspentLargevaluepayments</td>\n",
       "      <td>785.258356</td>\n",
       "      <td>Good</td>\n",
       "    </tr>\n",
       "    <tr>\n",
       "      <th>66</th>\n",
       "      <td>CUS_0x4157</td>\n",
       "      <td>March</td>\n",
       "      <td>23.0</td>\n",
       "      <td>Doctor</td>\n",
       "      <td>114838.410</td>\n",
       "      <td>NaN</td>\n",
       "      <td>2</td>\n",
       "      <td>5</td>\n",
       "      <td>7</td>\n",
       "      <td>3.0</td>\n",
       "      <td>...</td>\n",
       "      <td>Good</td>\n",
       "      <td>1377.74</td>\n",
       "      <td>35.141567</td>\n",
       "      <td>21 Years and 6 Months</td>\n",
       "      <td>No</td>\n",
       "      <td>226.892792</td>\n",
       "      <td>470.385796</td>\n",
       "      <td>HighspentSmallvaluepayments</td>\n",
       "      <td>547.108162</td>\n",
       "      <td>Good</td>\n",
       "    </tr>\n",
       "    <tr>\n",
       "      <th>109</th>\n",
       "      <td>CUS_0x6c66</td>\n",
       "      <td>June</td>\n",
       "      <td>39.0</td>\n",
       "      <td>Manager</td>\n",
       "      <td>8701.545</td>\n",
       "      <td>519.128750</td>\n",
       "      <td>6</td>\n",
       "      <td>5</td>\n",
       "      <td>32</td>\n",
       "      <td>7.0</td>\n",
       "      <td>...</td>\n",
       "      <td>Standard</td>\n",
       "      <td>2602.69</td>\n",
       "      <td>28.570031</td>\n",
       "      <td>9 Years and 4 Months</td>\n",
       "      <td>Yes</td>\n",
       "      <td>36.548197</td>\n",
       "      <td>52.931613</td>\n",
       "      <td>LowspentMediumvaluepayments</td>\n",
       "      <td>242.433064</td>\n",
       "      <td>Poor</td>\n",
       "    </tr>\n",
       "    <tr>\n",
       "      <th>110</th>\n",
       "      <td>CUS_0x6c66</td>\n",
       "      <td>July</td>\n",
       "      <td>39.0</td>\n",
       "      <td>Manager</td>\n",
       "      <td>8701.545</td>\n",
       "      <td>NaN</td>\n",
       "      <td>6</td>\n",
       "      <td>5</td>\n",
       "      <td>32</td>\n",
       "      <td>7.0</td>\n",
       "      <td>...</td>\n",
       "      <td>Standard</td>\n",
       "      <td>2602.69</td>\n",
       "      <td>38.465415</td>\n",
       "      <td>NaN</td>\n",
       "      <td>Yes</td>\n",
       "      <td>36.548197</td>\n",
       "      <td>30.471806</td>\n",
       "      <td>LowspentMediumvaluepayments</td>\n",
       "      <td>264.892872</td>\n",
       "      <td>Poor</td>\n",
       "    </tr>\n",
       "    <tr>\n",
       "      <th>...</th>\n",
       "      <td>...</td>\n",
       "      <td>...</td>\n",
       "      <td>...</td>\n",
       "      <td>...</td>\n",
       "      <td>...</td>\n",
       "      <td>...</td>\n",
       "      <td>...</td>\n",
       "      <td>...</td>\n",
       "      <td>...</td>\n",
       "      <td>...</td>\n",
       "      <td>...</td>\n",
       "      <td>...</td>\n",
       "      <td>...</td>\n",
       "      <td>...</td>\n",
       "      <td>...</td>\n",
       "      <td>...</td>\n",
       "      <td>...</td>\n",
       "      <td>...</td>\n",
       "      <td>...</td>\n",
       "      <td>...</td>\n",
       "      <td>...</td>\n",
       "    </tr>\n",
       "    <tr>\n",
       "      <th>99548</th>\n",
       "      <td>CUS_0x2637</td>\n",
       "      <td>May</td>\n",
       "      <td>28.0</td>\n",
       "      <td>Writer</td>\n",
       "      <td>29090.500</td>\n",
       "      <td>2472.208333</td>\n",
       "      <td>5</td>\n",
       "      <td>7</td>\n",
       "      <td>20</td>\n",
       "      <td>4.0</td>\n",
       "      <td>...</td>\n",
       "      <td></td>\n",
       "      <td>1612.70</td>\n",
       "      <td>26.151395</td>\n",
       "      <td>16 Years and 2 Months</td>\n",
       "      <td>Yes</td>\n",
       "      <td>67.439731</td>\n",
       "      <td>35.401299</td>\n",
       "      <td>HighspentMediumvaluepayments</td>\n",
       "      <td>394.379803</td>\n",
       "      <td>Poor</td>\n",
       "    </tr>\n",
       "    <tr>\n",
       "      <th>99618</th>\n",
       "      <td>CUS_0xae66</td>\n",
       "      <td>March</td>\n",
       "      <td>7490.0</td>\n",
       "      <td>Writer</td>\n",
       "      <td>142560.360</td>\n",
       "      <td>11773.030000</td>\n",
       "      <td>6</td>\n",
       "      <td>3</td>\n",
       "      <td>13</td>\n",
       "      <td>1.0</td>\n",
       "      <td>...</td>\n",
       "      <td>Standard</td>\n",
       "      <td>220.75</td>\n",
       "      <td>35.576245</td>\n",
       "      <td>17 Years and 5 Months</td>\n",
       "      <td>No</td>\n",
       "      <td>76.772094</td>\n",
       "      <td>194.787477</td>\n",
       "      <td>HighspentLargevaluepayments</td>\n",
       "      <td>1145.743429</td>\n",
       "      <td>Standard</td>\n",
       "    </tr>\n",
       "    <tr>\n",
       "      <th>99800</th>\n",
       "      <td>CUS_0x1232</td>\n",
       "      <td>January</td>\n",
       "      <td>16.0</td>\n",
       "      <td>Developer</td>\n",
       "      <td>14937.490</td>\n",
       "      <td>NaN</td>\n",
       "      <td>8</td>\n",
       "      <td>8</td>\n",
       "      <td>22</td>\n",
       "      <td>7.0</td>\n",
       "      <td>...</td>\n",
       "      <td>Bad</td>\n",
       "      <td>3699.44</td>\n",
       "      <td>23.574545</td>\n",
       "      <td>13 Years and 2 Months</td>\n",
       "      <td>Yes</td>\n",
       "      <td>50.960878</td>\n",
       "      <td>97.586933</td>\n",
       "      <td>LowspentSmallvaluepayments</td>\n",
       "      <td>255.731272</td>\n",
       "      <td>Standard</td>\n",
       "    </tr>\n",
       "    <tr>\n",
       "      <th>99892</th>\n",
       "      <td>CUS_0x89aa</td>\n",
       "      <td>May</td>\n",
       "      <td>38.0</td>\n",
       "      <td></td>\n",
       "      <td>85744.120</td>\n",
       "      <td>NaN</td>\n",
       "      <td>6</td>\n",
       "      <td>7</td>\n",
       "      <td>11</td>\n",
       "      <td>2.0</td>\n",
       "      <td>...</td>\n",
       "      <td>Standard</td>\n",
       "      <td>717.79</td>\n",
       "      <td>29.513156</td>\n",
       "      <td>NaN</td>\n",
       "      <td>Yes</td>\n",
       "      <td>72.099176</td>\n",
       "      <td>88.010458</td>\n",
       "      <td>HighspentLargevaluepayments</td>\n",
       "      <td>792.424699</td>\n",
       "      <td>Standard</td>\n",
       "    </tr>\n",
       "    <tr>\n",
       "      <th>99931</th>\n",
       "      <td>CUS_0xb11c</td>\n",
       "      <td>April</td>\n",
       "      <td>38.0</td>\n",
       "      <td>Manager</td>\n",
       "      <td>15319.650</td>\n",
       "      <td>1460.637500</td>\n",
       "      <td>6</td>\n",
       "      <td>7</td>\n",
       "      <td>15</td>\n",
       "      <td>4.0</td>\n",
       "      <td>...</td>\n",
       "      <td>Bad</td>\n",
       "      <td>1453.61</td>\n",
       "      <td>34.243058</td>\n",
       "      <td>11 Years and 0 Months</td>\n",
       "      <td>Yes</td>\n",
       "      <td>28.182033</td>\n",
       "      <td>0.000000</td>\n",
       "      <td>HighspentLargevaluepayments</td>\n",
       "      <td>348.088383</td>\n",
       "      <td>Standard</td>\n",
       "    </tr>\n",
       "  </tbody>\n",
       "</table>\n",
       "<p>2091 rows × 25 columns</p>\n",
       "</div>"
      ],
      "text/plain": [
       "      Customer_ID     Month     Age Occupation  Annual_Income  \\\n",
       "2       CUS_0xd40     March  -500.0  Scientist      19114.120   \n",
       "65     CUS_0x4157  February    23.0     Doctor     114838.410   \n",
       "66     CUS_0x4157     March    23.0     Doctor     114838.410   \n",
       "109    CUS_0x6c66      June    39.0    Manager       8701.545   \n",
       "110    CUS_0x6c66      July    39.0    Manager       8701.545   \n",
       "...           ...       ...     ...        ...            ...   \n",
       "99548  CUS_0x2637       May    28.0     Writer      29090.500   \n",
       "99618  CUS_0xae66     March  7490.0     Writer     142560.360   \n",
       "99800  CUS_0x1232   January    16.0  Developer      14937.490   \n",
       "99892  CUS_0x89aa       May    38.0                 85744.120   \n",
       "99931  CUS_0xb11c     April    38.0    Manager      15319.650   \n",
       "\n",
       "       Monthly_Inhand_Salary  Num_Bank_Accounts  Num_Credit_Card  \\\n",
       "2                        NaN                  3                4   \n",
       "65               9843.867500                  2                5   \n",
       "66                       NaN                  2                5   \n",
       "109               519.128750                  6                5   \n",
       "110                      NaN                  6                5   \n",
       "...                      ...                ...              ...   \n",
       "99548            2472.208333                  5                7   \n",
       "99618           11773.030000                  6                3   \n",
       "99800                    NaN                  8                8   \n",
       "99892                    NaN                  6                7   \n",
       "99931            1460.637500                  6                7   \n",
       "\n",
       "       Interest_Rate  Num_of_Loan  ... Credit_Mix  Outstanding_Debt  \\\n",
       "2                  3          4.0  ...       Good            809.98   \n",
       "65                 7          3.0  ...       Good           1377.74   \n",
       "66                 7          3.0  ...       Good           1377.74   \n",
       "109               32          7.0  ...   Standard           2602.69   \n",
       "110               32          7.0  ...   Standard           2602.69   \n",
       "...              ...          ...  ...        ...               ...   \n",
       "99548             20          4.0  ...                      1612.70   \n",
       "99618             13          1.0  ...   Standard            220.75   \n",
       "99800             22          7.0  ...        Bad           3699.44   \n",
       "99892             11          2.0  ...   Standard            717.79   \n",
       "99931             15          4.0  ...        Bad           1453.61   \n",
       "\n",
       "       Credit_Utilization_Ratio     Credit_History_Age  Payment_of_Min_Amount  \\\n",
       "2                     28.609352  22 Years and 3 Months                     No   \n",
       "65                    27.626325  21 Years and 5 Months                     No   \n",
       "66                    35.141567  21 Years and 6 Months                     No   \n",
       "109                   28.570031   9 Years and 4 Months                    Yes   \n",
       "110                   38.465415                    NaN                    Yes   \n",
       "...                         ...                    ...                    ...   \n",
       "99548                 26.151395  16 Years and 2 Months                    Yes   \n",
       "99618                 35.576245  17 Years and 5 Months                     No   \n",
       "99800                 23.574545  13 Years and 2 Months                    Yes   \n",
       "99892                 29.513156                    NaN                    Yes   \n",
       "99931                 34.243058  11 Years and 0 Months                    Yes   \n",
       "\n",
       "      Total_EMI_per_month  Amount_invested_monthly  \\\n",
       "2               49.574949                81.699521   \n",
       "65             226.892792               212.235602   \n",
       "66             226.892792               470.385796   \n",
       "109             36.548197                52.931613   \n",
       "110             36.548197                30.471806   \n",
       "...                   ...                      ...   \n",
       "99548           67.439731                35.401299   \n",
       "99618           76.772094               194.787477   \n",
       "99800           50.960878                97.586933   \n",
       "99892           72.099176                88.010458   \n",
       "99931           28.182033                 0.000000   \n",
       "\n",
       "                  Payment_Behaviour Monthly_Balance Credit_Score  \n",
       "2       LowspentMediumvaluepayments      331.209863         Good  \n",
       "65      HighspentLargevaluepayments      785.258356         Good  \n",
       "66      HighspentSmallvaluepayments      547.108162         Good  \n",
       "109     LowspentMediumvaluepayments      242.433064         Poor  \n",
       "110     LowspentMediumvaluepayments      264.892872         Poor  \n",
       "...                             ...             ...          ...  \n",
       "99548  HighspentMediumvaluepayments      394.379803         Poor  \n",
       "99618   HighspentLargevaluepayments     1145.743429     Standard  \n",
       "99800    LowspentSmallvaluepayments      255.731272     Standard  \n",
       "99892   HighspentLargevaluepayments      792.424699     Standard  \n",
       "99931   HighspentLargevaluepayments      348.088383     Standard  \n",
       "\n",
       "[2091 rows x 25 columns]"
      ]
     },
     "execution_count": 53,
     "metadata": {},
     "output_type": "execute_result"
    }
   ],
   "source": [
    "df[df['Changed_Credit_Limit'].isna()]"
   ]
  },
  {
   "cell_type": "code",
   "execution_count": 54,
   "metadata": {},
   "outputs": [
    {
     "data": {
      "text/plain": [
       " 8.22     133\n",
       " 11.50    127\n",
       " 11.32    126\n",
       " 10.06    121\n",
       " 7.35     121\n",
       "         ... \n",
       " 31.56      1\n",
       " 32.56      1\n",
       " 20.66      1\n",
       "-0.72       1\n",
       " 21.17      1\n",
       "Name: Changed_Credit_Limit, Length: 4375, dtype: int64"
      ]
     },
     "execution_count": 54,
     "metadata": {},
     "output_type": "execute_result"
    }
   ],
   "source": [
    "df['Changed_Credit_Limit'].value_counts()"
   ]
  },
  {
   "cell_type": "code",
   "execution_count": 55,
   "metadata": {},
   "outputs": [
    {
     "data": {
      "text/plain": [
       "2091"
      ]
     },
     "execution_count": 55,
     "metadata": {},
     "output_type": "execute_result"
    }
   ],
   "source": [
    "df['Changed_Credit_Limit'].isna().sum()"
   ]
  },
  {
   "cell_type": "code",
   "execution_count": 56,
   "metadata": {},
   "outputs": [
    {
     "data": {
      "text/plain": [
       "0    11.27\n",
       "1    11.27\n",
       "2      NaN\n",
       "3     6.27\n",
       "4    11.27\n",
       "5     9.27\n",
       "6    11.27\n",
       "7    11.27\n",
       "Name: Changed_Credit_Limit, dtype: float64"
      ]
     },
     "execution_count": 56,
     "metadata": {},
     "output_type": "execute_result"
    }
   ],
   "source": [
    "df.loc[df['Customer_ID'] == 'CUS_0xd40', 'Changed_Credit_Limit']"
   ]
  },
  {
   "cell_type": "code",
   "execution_count": 57,
   "metadata": {},
   "outputs": [
    {
     "data": {
      "text/plain": [
       "2    4714\n",
       "3    3627\n",
       "1    2417\n",
       "4    1367\n",
       "5     339\n",
       "6      34\n",
       "7       2\n",
       "Name: Changed_Credit_Limit, dtype: int64"
      ]
     },
     "execution_count": 57,
     "metadata": {},
     "output_type": "execute_result"
    }
   ],
   "source": [
    "tmp = df[['Customer_ID', 'Changed_Credit_Limit']].groupby('Customer_ID')['Changed_Credit_Limit'].nunique()\n",
    "\n",
    "tmp.value_counts()"
   ]
  },
  {
   "cell_type": "code",
   "execution_count": 58,
   "metadata": {},
   "outputs": [
    {
     "data": {
      "text/plain": [
       "Customer_ID\n",
       "CUS_0x26eb    7\n",
       "CUS_0x58f7    7\n",
       "Name: Changed_Credit_Limit, dtype: int64"
      ]
     },
     "execution_count": 58,
     "metadata": {},
     "output_type": "execute_result"
    }
   ],
   "source": [
    "tmp[tmp==7]"
   ]
  },
  {
   "cell_type": "code",
   "execution_count": 59,
   "metadata": {},
   "outputs": [
    {
     "data": {
      "text/plain": [
       "<AxesSubplot:>"
      ]
     },
     "execution_count": 59,
     "metadata": {},
     "output_type": "execute_result"
    },
    {
     "data": {
      "image/png": "[encoded data removed]",
      "text/plain": [
       "<Figure size 640x480 with 1 Axes>"
      ]
     },
     "metadata": {},
     "output_type": "display_data"
    }
   ],
   "source": [
    "df['Changed_Credit_Limit'].hist()"
   ]
  },
  {
   "cell_type": "code",
   "execution_count": 60,
   "metadata": {},
   "outputs": [
    {
     "data": {
      "text/html": [
       "<div>\n",
       "<style scoped>\n",
       "    .dataframe tbody tr th:only-of-type {\n",
       "        vertical-align: middle;\n",
       "    }\n",
       "\n",
       "    .dataframe tbody tr th {\n",
       "        vertical-align: top;\n",
       "    }\n",
       "\n",
       "    .dataframe thead th {\n",
       "        text-align: right;\n",
       "    }\n",
       "</style>\n",
       "<table border=\"1\" class=\"dataframe\">\n",
       "  <thead>\n",
       "    <tr style=\"text-align: right;\">\n",
       "      <th></th>\n",
       "      <th>Changed_Credit_Limit</th>\n",
       "      <th>Num_Credit_Inquiries</th>\n",
       "      <th>Credit_Mix</th>\n",
       "      <th>Outstanding_Debt</th>\n",
       "      <th>Credit_Utilization_Ratio</th>\n",
       "      <th>Credit_History_Age</th>\n",
       "      <th>Payment_of_Min_Amount</th>\n",
       "      <th>Total_EMI_per_month</th>\n",
       "      <th>Amount_invested_monthly</th>\n",
       "      <th>Payment_Behaviour</th>\n",
       "      <th>Monthly_Balance</th>\n",
       "      <th>Credit_Score</th>\n",
       "    </tr>\n",
       "  </thead>\n",
       "  <tbody>\n",
       "    <tr>\n",
       "      <th>68752</th>\n",
       "      <td>3.55</td>\n",
       "      <td>2.0</td>\n",
       "      <td></td>\n",
       "      <td>16.3</td>\n",
       "      <td>32.543879</td>\n",
       "      <td>19 Years and 9 Months</td>\n",
       "      <td>Yes</td>\n",
       "      <td>10.962585</td>\n",
       "      <td>110.145672</td>\n",
       "      <td>LowspentSmallvaluepayments</td>\n",
       "      <td>262.151618</td>\n",
       "      <td>Standard</td>\n",
       "    </tr>\n",
       "    <tr>\n",
       "      <th>68753</th>\n",
       "      <td>5.55</td>\n",
       "      <td>2.0</td>\n",
       "      <td>Standard</td>\n",
       "      <td>16.3</td>\n",
       "      <td>32.080428</td>\n",
       "      <td>19 Years and 10 Months</td>\n",
       "      <td>Yes</td>\n",
       "      <td>10.962585</td>\n",
       "      <td>NaN</td>\n",
       "      <td>HighspentSmallvaluepayments</td>\n",
       "      <td>320.874860</td>\n",
       "      <td>Standard</td>\n",
       "    </tr>\n",
       "    <tr>\n",
       "      <th>68754</th>\n",
       "      <td>0.55</td>\n",
       "      <td>2.0</td>\n",
       "      <td></td>\n",
       "      <td>16.3</td>\n",
       "      <td>36.621015</td>\n",
       "      <td>19 Years and 11 Months</td>\n",
       "      <td>Yes</td>\n",
       "      <td>4688.000000</td>\n",
       "      <td>18.641600</td>\n",
       "      <td>HighspentLargevaluepayments</td>\n",
       "      <td>303.655690</td>\n",
       "      <td>Standard</td>\n",
       "    </tr>\n",
       "    <tr>\n",
       "      <th>68755</th>\n",
       "      <td>9.55</td>\n",
       "      <td>6.0</td>\n",
       "      <td>Standard</td>\n",
       "      <td>16.3</td>\n",
       "      <td>35.716700</td>\n",
       "      <td>20 Years and 0 Months</td>\n",
       "      <td>Yes</td>\n",
       "      <td>10.962585</td>\n",
       "      <td>26.368421</td>\n",
       "      <td>HighspentMediumvaluepayments</td>\n",
       "      <td>305.928869</td>\n",
       "      <td>Standard</td>\n",
       "    </tr>\n",
       "    <tr>\n",
       "      <th>68756</th>\n",
       "      <td>-1.45</td>\n",
       "      <td>1547.0</td>\n",
       "      <td>Standard</td>\n",
       "      <td>16.3</td>\n",
       "      <td>39.489657</td>\n",
       "      <td>20 Years and 1 Months</td>\n",
       "      <td>Yes</td>\n",
       "      <td>10.962585</td>\n",
       "      <td>48.062951</td>\n",
       "      <td>LowspentMediumvaluepayments</td>\n",
       "      <td>314.234339</td>\n",
       "      <td>Standard</td>\n",
       "    </tr>\n",
       "    <tr>\n",
       "      <th>68757</th>\n",
       "      <td>2.55</td>\n",
       "      <td>6.0</td>\n",
       "      <td>Standard</td>\n",
       "      <td>16.3</td>\n",
       "      <td>30.863236</td>\n",
       "      <td>20 Years and 2 Months</td>\n",
       "      <td>Yes</td>\n",
       "      <td>10.962585</td>\n",
       "      <td>114.960773</td>\n",
       "      <td>LowspentSmallvaluepayments</td>\n",
       "      <td>257.336517</td>\n",
       "      <td>Standard</td>\n",
       "    </tr>\n",
       "    <tr>\n",
       "      <th>68758</th>\n",
       "      <td>3.55</td>\n",
       "      <td>6.0</td>\n",
       "      <td>Standard</td>\n",
       "      <td>16.3</td>\n",
       "      <td>23.123190</td>\n",
       "      <td>20 Years and 3 Months</td>\n",
       "      <td>Yes</td>\n",
       "      <td>10.962585</td>\n",
       "      <td>90.566157</td>\n",
       "      <td>LowspentMediumvaluepayments</td>\n",
       "      <td>271.731133</td>\n",
       "      <td>Standard</td>\n",
       "    </tr>\n",
       "    <tr>\n",
       "      <th>68759</th>\n",
       "      <td>-0.45</td>\n",
       "      <td>6.0</td>\n",
       "      <td>Standard</td>\n",
       "      <td>16.3</td>\n",
       "      <td>35.944000</td>\n",
       "      <td>20 Years and 4 Months</td>\n",
       "      <td>Yes</td>\n",
       "      <td>10.962585</td>\n",
       "      <td>47.855005</td>\n",
       "      <td>LowspentMediumvaluepayments</td>\n",
       "      <td>314.442286</td>\n",
       "      <td>Standard</td>\n",
       "    </tr>\n",
       "  </tbody>\n",
       "</table>\n",
       "</div>"
      ],
      "text/plain": [
       "       Changed_Credit_Limit  Num_Credit_Inquiries Credit_Mix  \\\n",
       "68752                  3.55                   2.0              \n",
       "68753                  5.55                   2.0   Standard   \n",
       "68754                  0.55                   2.0              \n",
       "68755                  9.55                   6.0   Standard   \n",
       "68756                 -1.45                1547.0   Standard   \n",
       "68757                  2.55                   6.0   Standard   \n",
       "68758                  3.55                   6.0   Standard   \n",
       "68759                 -0.45                   6.0   Standard   \n",
       "\n",
       "       Outstanding_Debt  Credit_Utilization_Ratio      Credit_History_Age  \\\n",
       "68752              16.3                 32.543879   19 Years and 9 Months   \n",
       "68753              16.3                 32.080428  19 Years and 10 Months   \n",
       "68754              16.3                 36.621015  19 Years and 11 Months   \n",
       "68755              16.3                 35.716700   20 Years and 0 Months   \n",
       "68756              16.3                 39.489657   20 Years and 1 Months   \n",
       "68757              16.3                 30.863236   20 Years and 2 Months   \n",
       "68758              16.3                 23.123190   20 Years and 3 Months   \n",
       "68759              16.3                 35.944000   20 Years and 4 Months   \n",
       "\n",
       "      Payment_of_Min_Amount  Total_EMI_per_month  Amount_invested_monthly  \\\n",
       "68752                   Yes            10.962585               110.145672   \n",
       "68753                   Yes            10.962585                      NaN   \n",
       "68754                   Yes          4688.000000                18.641600   \n",
       "68755                   Yes            10.962585                26.368421   \n",
       "68756                   Yes            10.962585                48.062951   \n",
       "68757                   Yes            10.962585               114.960773   \n",
       "68758                   Yes            10.962585                90.566157   \n",
       "68759                   Yes            10.962585                47.855005   \n",
       "\n",
       "                  Payment_Behaviour  Monthly_Balance Credit_Score  \n",
       "68752    LowspentSmallvaluepayments       262.151618     Standard  \n",
       "68753   HighspentSmallvaluepayments       320.874860     Standard  \n",
       "68754   HighspentLargevaluepayments       303.655690     Standard  \n",
       "68755  HighspentMediumvaluepayments       305.928869     Standard  \n",
       "68756   LowspentMediumvaluepayments       314.234339     Standard  \n",
       "68757    LowspentSmallvaluepayments       257.336517     Standard  \n",
       "68758   LowspentMediumvaluepayments       271.731133     Standard  \n",
       "68759   LowspentMediumvaluepayments       314.442286     Standard  "
      ]
     },
     "execution_count": 60,
     "metadata": {},
     "output_type": "execute_result"
    }
   ],
   "source": [
    "df.loc[df.Customer_ID == 'CUS_0x26eb', 'Changed_Credit_Limit':]"
   ]
  },
  {
   "cell_type": "markdown",
   "metadata": {},
   "source": [
    "### Total_EMI_per_month"
   ]
  },
  {
   "cell_type": "code",
   "execution_count": 61,
   "metadata": {},
   "outputs": [
    {
     "data": {
      "text/plain": [
       "0.000000        10613\n",
       "49.574949           8\n",
       "73.533361           8\n",
       "22.960835           8\n",
       "38.661127           8\n",
       "                ...  \n",
       "36408.000000        1\n",
       "23760.000000        1\n",
       "24612.000000        1\n",
       "24325.000000        1\n",
       "58638.000000        1\n",
       "Name: Total_EMI_per_month, Length: 14950, dtype: int64"
      ]
     },
     "execution_count": 61,
     "metadata": {},
     "output_type": "execute_result"
    }
   ],
   "source": [
    "df['Total_EMI_per_month'].value_counts()"
   ]
  },
  {
   "cell_type": "code",
   "execution_count": 62,
   "metadata": {},
   "outputs": [
    {
     "data": {
      "text/plain": [
       "3249"
      ]
     },
     "execution_count": 62,
     "metadata": {},
     "output_type": "execute_result"
    }
   ],
   "source": [
    "(df['Total_EMI_per_month'].value_counts()==1).sum()"
   ]
  },
  {
   "cell_type": "code",
   "execution_count": 63,
   "metadata": {},
   "outputs": [
    {
     "data": {
      "text/plain": [
       "1    9074\n",
       "2    2950\n",
       "3     446\n",
       "4      26\n",
       "5       4\n",
       "Name: Total_EMI_per_month, dtype: int64"
      ]
     },
     "execution_count": 63,
     "metadata": {},
     "output_type": "execute_result"
    }
   ],
   "source": [
    "tmp = df[['Customer_ID', 'Total_EMI_per_month']].groupby('Customer_ID')['Total_EMI_per_month'].nunique()\n",
    "\n",
    "tmp.value_counts()"
   ]
  },
  {
   "cell_type": "code",
   "execution_count": 64,
   "metadata": {},
   "outputs": [
    {
     "data": {
      "text/plain": [
       "Customer_ID\n",
       "CUS_0x5262    5\n",
       "CUS_0x6db3    5\n",
       "CUS_0x9423    5\n",
       "CUS_0xc2da    5\n",
       "Name: Total_EMI_per_month, dtype: int64"
      ]
     },
     "execution_count": 64,
     "metadata": {},
     "output_type": "execute_result"
    }
   ],
   "source": [
    "tmp[tmp == 5]"
   ]
  },
  {
   "cell_type": "markdown",
   "metadata": {},
   "source": [
    "### Monthly_Inhand_Salary"
   ]
  },
  {
   "cell_type": "code",
   "execution_count": 65,
   "metadata": {},
   "outputs": [
    {
     "data": {
      "text/plain": [
       "6769.130000    15\n",
       "6358.956667    15\n",
       "2295.058333    15\n",
       "6082.187500    15\n",
       "3080.555000    14\n",
       "               ..\n",
       "1087.546445     1\n",
       "3189.212103     1\n",
       "5640.117744     1\n",
       "7727.560450     1\n",
       "2443.654131     1\n",
       "Name: Monthly_Inhand_Salary, Length: 13235, dtype: int64"
      ]
     },
     "execution_count": 65,
     "metadata": {},
     "output_type": "execute_result"
    }
   ],
   "source": [
    "df['Monthly_Inhand_Salary'].value_counts()"
   ]
  },
  {
   "cell_type": "code",
   "execution_count": 66,
   "metadata": {},
   "outputs": [
    {
     "data": {
      "text/plain": [
       "1    11754\n",
       "2      746\n",
       "Name: Monthly_Inhand_Salary, dtype: int64"
      ]
     },
     "execution_count": 66,
     "metadata": {},
     "output_type": "execute_result"
    }
   ],
   "source": [
    "tmp_group = df[['Customer_ID', 'Monthly_Inhand_Salary']].groupby('Customer_ID')['Monthly_Inhand_Salary'].nunique()\n",
    "\n",
    "tmp_group.value_counts()"
   ]
  },
  {
   "cell_type": "code",
   "execution_count": 67,
   "metadata": {},
   "outputs": [
    {
     "data": {
      "text/html": [
       "<div>\n",
       "<style scoped>\n",
       "    .dataframe tbody tr th:only-of-type {\n",
       "        vertical-align: middle;\n",
       "    }\n",
       "\n",
       "    .dataframe tbody tr th {\n",
       "        vertical-align: top;\n",
       "    }\n",
       "\n",
       "    .dataframe thead th {\n",
       "        text-align: right;\n",
       "    }\n",
       "</style>\n",
       "<table border=\"1\" class=\"dataframe\">\n",
       "  <thead>\n",
       "    <tr style=\"text-align: right;\">\n",
       "      <th></th>\n",
       "      <th>Customer_ID</th>\n",
       "      <th>Month</th>\n",
       "      <th>Age</th>\n",
       "      <th>Occupation</th>\n",
       "      <th>Annual_Income</th>\n",
       "      <th>Monthly_Inhand_Salary</th>\n",
       "      <th>Num_Bank_Accounts</th>\n",
       "      <th>Num_Credit_Card</th>\n",
       "      <th>Interest_Rate</th>\n",
       "      <th>Num_of_Loan</th>\n",
       "      <th>...</th>\n",
       "      <th>Credit_Mix</th>\n",
       "      <th>Outstanding_Debt</th>\n",
       "      <th>Credit_Utilization_Ratio</th>\n",
       "      <th>Credit_History_Age</th>\n",
       "      <th>Payment_of_Min_Amount</th>\n",
       "      <th>Total_EMI_per_month</th>\n",
       "      <th>Amount_invested_monthly</th>\n",
       "      <th>Payment_Behaviour</th>\n",
       "      <th>Monthly_Balance</th>\n",
       "      <th>Credit_Score</th>\n",
       "    </tr>\n",
       "  </thead>\n",
       "  <tbody>\n",
       "    <tr>\n",
       "      <th>1</th>\n",
       "      <td>CUS_0xd40</td>\n",
       "      <td>February</td>\n",
       "      <td>23.0</td>\n",
       "      <td>Scientist</td>\n",
       "      <td>19114.12</td>\n",
       "      <td>NaN</td>\n",
       "      <td>3</td>\n",
       "      <td>4</td>\n",
       "      <td>3</td>\n",
       "      <td>4.0</td>\n",
       "      <td>...</td>\n",
       "      <td>Good</td>\n",
       "      <td>809.98</td>\n",
       "      <td>31.944960</td>\n",
       "      <td>NaN</td>\n",
       "      <td>No</td>\n",
       "      <td>49.574949</td>\n",
       "      <td>118.280222</td>\n",
       "      <td>LowspentLargevaluepayments</td>\n",
       "      <td>284.629162</td>\n",
       "      <td>Good</td>\n",
       "    </tr>\n",
       "    <tr>\n",
       "      <th>2</th>\n",
       "      <td>CUS_0xd40</td>\n",
       "      <td>March</td>\n",
       "      <td>-500.0</td>\n",
       "      <td>Scientist</td>\n",
       "      <td>19114.12</td>\n",
       "      <td>NaN</td>\n",
       "      <td>3</td>\n",
       "      <td>4</td>\n",
       "      <td>3</td>\n",
       "      <td>4.0</td>\n",
       "      <td>...</td>\n",
       "      <td>Good</td>\n",
       "      <td>809.98</td>\n",
       "      <td>28.609352</td>\n",
       "      <td>22 Years and 3 Months</td>\n",
       "      <td>No</td>\n",
       "      <td>49.574949</td>\n",
       "      <td>81.699521</td>\n",
       "      <td>LowspentMediumvaluepayments</td>\n",
       "      <td>331.209863</td>\n",
       "      <td>Good</td>\n",
       "    </tr>\n",
       "    <tr>\n",
       "      <th>3</th>\n",
       "      <td>CUS_0xd40</td>\n",
       "      <td>April</td>\n",
       "      <td>23.0</td>\n",
       "      <td>Scientist</td>\n",
       "      <td>19114.12</td>\n",
       "      <td>NaN</td>\n",
       "      <td>3</td>\n",
       "      <td>4</td>\n",
       "      <td>3</td>\n",
       "      <td>4.0</td>\n",
       "      <td>...</td>\n",
       "      <td>Good</td>\n",
       "      <td>809.98</td>\n",
       "      <td>31.377862</td>\n",
       "      <td>22 Years and 4 Months</td>\n",
       "      <td>No</td>\n",
       "      <td>49.574949</td>\n",
       "      <td>199.458074</td>\n",
       "      <td>LowspentSmallvaluepayments</td>\n",
       "      <td>223.451310</td>\n",
       "      <td>Good</td>\n",
       "    </tr>\n",
       "    <tr>\n",
       "      <th>5</th>\n",
       "      <td>CUS_0xd40</td>\n",
       "      <td>June</td>\n",
       "      <td>23.0</td>\n",
       "      <td>Scientist</td>\n",
       "      <td>19114.12</td>\n",
       "      <td>NaN</td>\n",
       "      <td>3</td>\n",
       "      <td>4</td>\n",
       "      <td>3</td>\n",
       "      <td>4.0</td>\n",
       "      <td>...</td>\n",
       "      <td>Good</td>\n",
       "      <td>809.98</td>\n",
       "      <td>27.262259</td>\n",
       "      <td>22 Years and 6 Months</td>\n",
       "      <td>No</td>\n",
       "      <td>49.574949</td>\n",
       "      <td>62.430172</td>\n",
       "      <td>None</td>\n",
       "      <td>340.479212</td>\n",
       "      <td>Good</td>\n",
       "    </tr>\n",
       "    <tr>\n",
       "      <th>11</th>\n",
       "      <td>CUS_0x21b1</td>\n",
       "      <td>April</td>\n",
       "      <td>28.0</td>\n",
       "      <td>Teacher</td>\n",
       "      <td>34847.84</td>\n",
       "      <td>NaN</td>\n",
       "      <td>2</td>\n",
       "      <td>4</td>\n",
       "      <td>6</td>\n",
       "      <td>1.0</td>\n",
       "      <td>...</td>\n",
       "      <td>Good</td>\n",
       "      <td>605.03</td>\n",
       "      <td>39.182656</td>\n",
       "      <td>26 Years and 10 Months</td>\n",
       "      <td>No</td>\n",
       "      <td>18.816215</td>\n",
       "      <td>99.306228</td>\n",
       "      <td>LowspentMediumvaluepayments</td>\n",
       "      <td>465.676224</td>\n",
       "      <td>Good</td>\n",
       "    </tr>\n",
       "    <tr>\n",
       "      <th>...</th>\n",
       "      <td>...</td>\n",
       "      <td>...</td>\n",
       "      <td>...</td>\n",
       "      <td>...</td>\n",
       "      <td>...</td>\n",
       "      <td>...</td>\n",
       "      <td>...</td>\n",
       "      <td>...</td>\n",
       "      <td>...</td>\n",
       "      <td>...</td>\n",
       "      <td>...</td>\n",
       "      <td>...</td>\n",
       "      <td>...</td>\n",
       "      <td>...</td>\n",
       "      <td>...</td>\n",
       "      <td>...</td>\n",
       "      <td>...</td>\n",
       "      <td>...</td>\n",
       "      <td>...</td>\n",
       "      <td>...</td>\n",
       "      <td>...</td>\n",
       "    </tr>\n",
       "    <tr>\n",
       "      <th>99944</th>\n",
       "      <td>CUS_0x51b3</td>\n",
       "      <td>January</td>\n",
       "      <td>33.0</td>\n",
       "      <td>MediaManager</td>\n",
       "      <td>59146.36</td>\n",
       "      <td>NaN</td>\n",
       "      <td>2</td>\n",
       "      <td>5</td>\n",
       "      <td>6</td>\n",
       "      <td>1.0</td>\n",
       "      <td>...</td>\n",
       "      <td></td>\n",
       "      <td>418.03</td>\n",
       "      <td>34.720661</td>\n",
       "      <td>NaN</td>\n",
       "      <td>No</td>\n",
       "      <td>26.778419</td>\n",
       "      <td>606.436542</td>\n",
       "      <td>LowspentSmallvaluepayments</td>\n",
       "      <td>147.671372</td>\n",
       "      <td>Standard</td>\n",
       "    </tr>\n",
       "    <tr>\n",
       "      <th>99955</th>\n",
       "      <td>CUS_0x2084</td>\n",
       "      <td>April</td>\n",
       "      <td>21.0</td>\n",
       "      <td>Architect</td>\n",
       "      <td>38321.39</td>\n",
       "      <td>NaN</td>\n",
       "      <td>4</td>\n",
       "      <td>4</td>\n",
       "      <td>3</td>\n",
       "      <td>4.0</td>\n",
       "      <td>...</td>\n",
       "      <td>Good</td>\n",
       "      <td>678.57</td>\n",
       "      <td>35.455305</td>\n",
       "      <td>17 Years and 2 Months</td>\n",
       "      <td>No</td>\n",
       "      <td>362.072453</td>\n",
       "      <td>293.713193</td>\n",
       "      <td>LowspentLargevaluepayments</td>\n",
       "      <td>197.460577</td>\n",
       "      <td>Standard</td>\n",
       "    </tr>\n",
       "    <tr>\n",
       "      <th>99963</th>\n",
       "      <td>CUS_0x372c</td>\n",
       "      <td>April</td>\n",
       "      <td>-500.0</td>\n",
       "      <td>Lawyer</td>\n",
       "      <td>42903.79</td>\n",
       "      <td>NaN</td>\n",
       "      <td>0</td>\n",
       "      <td>4</td>\n",
       "      <td>6</td>\n",
       "      <td>1.0</td>\n",
       "      <td>...</td>\n",
       "      <td>Good</td>\n",
       "      <td>1079.48</td>\n",
       "      <td>30.625298</td>\n",
       "      <td>NaN</td>\n",
       "      <td>No</td>\n",
       "      <td>34.975457</td>\n",
       "      <td>31.193919</td>\n",
       "      <td>HighspentLargevaluepayments</td>\n",
       "      <td>520.662207</td>\n",
       "      <td>Standard</td>\n",
       "    </tr>\n",
       "    <tr>\n",
       "      <th>99975</th>\n",
       "      <td>CUS_0xf16</td>\n",
       "      <td>August</td>\n",
       "      <td>45.0</td>\n",
       "      <td>MediaManager</td>\n",
       "      <td>16680.35</td>\n",
       "      <td>NaN</td>\n",
       "      <td>1</td>\n",
       "      <td>1</td>\n",
       "      <td>5</td>\n",
       "      <td>4.0</td>\n",
       "      <td>...</td>\n",
       "      <td>Good</td>\n",
       "      <td>897.16</td>\n",
       "      <td>41.212367</td>\n",
       "      <td>NaN</td>\n",
       "      <td>No</td>\n",
       "      <td>41.113561</td>\n",
       "      <td>70.805550</td>\n",
       "      <td>LowspentLargevaluepayments</td>\n",
       "      <td>310.883806</td>\n",
       "      <td>Good</td>\n",
       "    </tr>\n",
       "    <tr>\n",
       "      <th>99978</th>\n",
       "      <td>CUS_0xaf61</td>\n",
       "      <td>March</td>\n",
       "      <td>49.0</td>\n",
       "      <td>Writer</td>\n",
       "      <td>37188.10</td>\n",
       "      <td>NaN</td>\n",
       "      <td>1</td>\n",
       "      <td>4</td>\n",
       "      <td>5</td>\n",
       "      <td>3.0</td>\n",
       "      <td>...</td>\n",
       "      <td></td>\n",
       "      <td>620.64</td>\n",
       "      <td>24.540510</td>\n",
       "      <td>29 Years and 11 Months</td>\n",
       "      <td>No</td>\n",
       "      <td>84.205949</td>\n",
       "      <td>125.956592</td>\n",
       "      <td>LowspentMediumvaluepayments</td>\n",
       "      <td>379.538292</td>\n",
       "      <td>Good</td>\n",
       "    </tr>\n",
       "  </tbody>\n",
       "</table>\n",
       "<p>15002 rows × 25 columns</p>\n",
       "</div>"
      ],
      "text/plain": [
       "      Customer_ID     Month    Age    Occupation  Annual_Income  \\\n",
       "1       CUS_0xd40  February   23.0     Scientist       19114.12   \n",
       "2       CUS_0xd40     March -500.0     Scientist       19114.12   \n",
       "3       CUS_0xd40     April   23.0     Scientist       19114.12   \n",
       "5       CUS_0xd40      June   23.0     Scientist       19114.12   \n",
       "11     CUS_0x21b1     April   28.0       Teacher       34847.84   \n",
       "...           ...       ...    ...           ...            ...   \n",
       "99944  CUS_0x51b3   January   33.0  MediaManager       59146.36   \n",
       "99955  CUS_0x2084     April   21.0     Architect       38321.39   \n",
       "99963  CUS_0x372c     April -500.0        Lawyer       42903.79   \n",
       "99975   CUS_0xf16    August   45.0  MediaManager       16680.35   \n",
       "99978  CUS_0xaf61     March   49.0        Writer       37188.10   \n",
       "\n",
       "       Monthly_Inhand_Salary  Num_Bank_Accounts  Num_Credit_Card  \\\n",
       "1                        NaN                  3                4   \n",
       "2                        NaN                  3                4   \n",
       "3                        NaN                  3                4   \n",
       "5                        NaN                  3                4   \n",
       "11                       NaN                  2                4   \n",
       "...                      ...                ...              ...   \n",
       "99944                    NaN                  2                5   \n",
       "99955                    NaN                  4                4   \n",
       "99963                    NaN                  0                4   \n",
       "99975                    NaN                  1                1   \n",
       "99978                    NaN                  1                4   \n",
       "\n",
       "       Interest_Rate  Num_of_Loan  ... Credit_Mix  Outstanding_Debt  \\\n",
       "1                  3          4.0  ...       Good            809.98   \n",
       "2                  3          4.0  ...       Good            809.98   \n",
       "3                  3          4.0  ...       Good            809.98   \n",
       "5                  3          4.0  ...       Good            809.98   \n",
       "11                 6          1.0  ...       Good            605.03   \n",
       "...              ...          ...  ...        ...               ...   \n",
       "99944              6          1.0  ...                       418.03   \n",
       "99955              3          4.0  ...       Good            678.57   \n",
       "99963              6          1.0  ...       Good           1079.48   \n",
       "99975              5          4.0  ...       Good            897.16   \n",
       "99978              5          3.0  ...                       620.64   \n",
       "\n",
       "       Credit_Utilization_Ratio      Credit_History_Age  \\\n",
       "1                     31.944960                     NaN   \n",
       "2                     28.609352   22 Years and 3 Months   \n",
       "3                     31.377862   22 Years and 4 Months   \n",
       "5                     27.262259   22 Years and 6 Months   \n",
       "11                    39.182656  26 Years and 10 Months   \n",
       "...                         ...                     ...   \n",
       "99944                 34.720661                     NaN   \n",
       "99955                 35.455305   17 Years and 2 Months   \n",
       "99963                 30.625298                     NaN   \n",
       "99975                 41.212367                     NaN   \n",
       "99978                 24.540510  29 Years and 11 Months   \n",
       "\n",
       "       Payment_of_Min_Amount Total_EMI_per_month  Amount_invested_monthly  \\\n",
       "1                         No           49.574949               118.280222   \n",
       "2                         No           49.574949                81.699521   \n",
       "3                         No           49.574949               199.458074   \n",
       "5                         No           49.574949                62.430172   \n",
       "11                        No           18.816215                99.306228   \n",
       "...                      ...                 ...                      ...   \n",
       "99944                     No           26.778419               606.436542   \n",
       "99955                     No          362.072453               293.713193   \n",
       "99963                     No           34.975457                31.193919   \n",
       "99975                     No           41.113561                70.805550   \n",
       "99978                     No           84.205949               125.956592   \n",
       "\n",
       "                 Payment_Behaviour Monthly_Balance Credit_Score  \n",
       "1       LowspentLargevaluepayments      284.629162         Good  \n",
       "2      LowspentMediumvaluepayments      331.209863         Good  \n",
       "3       LowspentSmallvaluepayments      223.451310         Good  \n",
       "5                             None      340.479212         Good  \n",
       "11     LowspentMediumvaluepayments      465.676224         Good  \n",
       "...                            ...             ...          ...  \n",
       "99944   LowspentSmallvaluepayments      147.671372     Standard  \n",
       "99955   LowspentLargevaluepayments      197.460577     Standard  \n",
       "99963  HighspentLargevaluepayments      520.662207     Standard  \n",
       "99975   LowspentLargevaluepayments      310.883806         Good  \n",
       "99978  LowspentMediumvaluepayments      379.538292         Good  \n",
       "\n",
       "[15002 rows x 25 columns]"
      ]
     },
     "execution_count": 67,
     "metadata": {},
     "output_type": "execute_result"
    }
   ],
   "source": [
    "df[df.Monthly_Inhand_Salary.isna()]"
   ]
  },
  {
   "cell_type": "code",
   "execution_count": 68,
   "metadata": {},
   "outputs": [
    {
     "data": {
      "text/html": [
       "<div>\n",
       "<style scoped>\n",
       "    .dataframe tbody tr th:only-of-type {\n",
       "        vertical-align: middle;\n",
       "    }\n",
       "\n",
       "    .dataframe tbody tr th {\n",
       "        vertical-align: top;\n",
       "    }\n",
       "\n",
       "    .dataframe thead th {\n",
       "        text-align: right;\n",
       "    }\n",
       "</style>\n",
       "<table border=\"1\" class=\"dataframe\">\n",
       "  <thead>\n",
       "    <tr style=\"text-align: right;\">\n",
       "      <th></th>\n",
       "      <th>Customer_ID</th>\n",
       "      <th>Month</th>\n",
       "      <th>Age</th>\n",
       "      <th>Occupation</th>\n",
       "      <th>Annual_Income</th>\n",
       "      <th>Monthly_Inhand_Salary</th>\n",
       "      <th>Num_Bank_Accounts</th>\n",
       "      <th>Num_Credit_Card</th>\n",
       "      <th>Interest_Rate</th>\n",
       "      <th>Num_of_Loan</th>\n",
       "      <th>...</th>\n",
       "      <th>Credit_Mix</th>\n",
       "      <th>Outstanding_Debt</th>\n",
       "      <th>Credit_Utilization_Ratio</th>\n",
       "      <th>Credit_History_Age</th>\n",
       "      <th>Payment_of_Min_Amount</th>\n",
       "      <th>Total_EMI_per_month</th>\n",
       "      <th>Amount_invested_monthly</th>\n",
       "      <th>Payment_Behaviour</th>\n",
       "      <th>Monthly_Balance</th>\n",
       "      <th>Credit_Score</th>\n",
       "    </tr>\n",
       "  </thead>\n",
       "  <tbody>\n",
       "    <tr>\n",
       "      <th>1</th>\n",
       "      <td>CUS_0xd40</td>\n",
       "      <td>February</td>\n",
       "      <td>23.0</td>\n",
       "      <td>Scientist</td>\n",
       "      <td>19114.12</td>\n",
       "      <td>NaN</td>\n",
       "      <td>3</td>\n",
       "      <td>4</td>\n",
       "      <td>3</td>\n",
       "      <td>4.0</td>\n",
       "      <td>...</td>\n",
       "      <td>Good</td>\n",
       "      <td>809.98</td>\n",
       "      <td>31.944960</td>\n",
       "      <td>NaN</td>\n",
       "      <td>No</td>\n",
       "      <td>49.574949</td>\n",
       "      <td>118.280222</td>\n",
       "      <td>LowspentLargevaluepayments</td>\n",
       "      <td>284.629162</td>\n",
       "      <td>Good</td>\n",
       "    </tr>\n",
       "    <tr>\n",
       "      <th>2</th>\n",
       "      <td>CUS_0xd40</td>\n",
       "      <td>March</td>\n",
       "      <td>-500.0</td>\n",
       "      <td>Scientist</td>\n",
       "      <td>19114.12</td>\n",
       "      <td>NaN</td>\n",
       "      <td>3</td>\n",
       "      <td>4</td>\n",
       "      <td>3</td>\n",
       "      <td>4.0</td>\n",
       "      <td>...</td>\n",
       "      <td>Good</td>\n",
       "      <td>809.98</td>\n",
       "      <td>28.609352</td>\n",
       "      <td>22 Years and 3 Months</td>\n",
       "      <td>No</td>\n",
       "      <td>49.574949</td>\n",
       "      <td>81.699521</td>\n",
       "      <td>LowspentMediumvaluepayments</td>\n",
       "      <td>331.209863</td>\n",
       "      <td>Good</td>\n",
       "    </tr>\n",
       "    <tr>\n",
       "      <th>3</th>\n",
       "      <td>CUS_0xd40</td>\n",
       "      <td>April</td>\n",
       "      <td>23.0</td>\n",
       "      <td>Scientist</td>\n",
       "      <td>19114.12</td>\n",
       "      <td>NaN</td>\n",
       "      <td>3</td>\n",
       "      <td>4</td>\n",
       "      <td>3</td>\n",
       "      <td>4.0</td>\n",
       "      <td>...</td>\n",
       "      <td>Good</td>\n",
       "      <td>809.98</td>\n",
       "      <td>31.377862</td>\n",
       "      <td>22 Years and 4 Months</td>\n",
       "      <td>No</td>\n",
       "      <td>49.574949</td>\n",
       "      <td>199.458074</td>\n",
       "      <td>LowspentSmallvaluepayments</td>\n",
       "      <td>223.451310</td>\n",
       "      <td>Good</td>\n",
       "    </tr>\n",
       "    <tr>\n",
       "      <th>5</th>\n",
       "      <td>CUS_0xd40</td>\n",
       "      <td>June</td>\n",
       "      <td>23.0</td>\n",
       "      <td>Scientist</td>\n",
       "      <td>19114.12</td>\n",
       "      <td>NaN</td>\n",
       "      <td>3</td>\n",
       "      <td>4</td>\n",
       "      <td>3</td>\n",
       "      <td>4.0</td>\n",
       "      <td>...</td>\n",
       "      <td>Good</td>\n",
       "      <td>809.98</td>\n",
       "      <td>27.262259</td>\n",
       "      <td>22 Years and 6 Months</td>\n",
       "      <td>No</td>\n",
       "      <td>49.574949</td>\n",
       "      <td>62.430172</td>\n",
       "      <td>None</td>\n",
       "      <td>340.479212</td>\n",
       "      <td>Good</td>\n",
       "    </tr>\n",
       "    <tr>\n",
       "      <th>11</th>\n",
       "      <td>CUS_0x21b1</td>\n",
       "      <td>April</td>\n",
       "      <td>28.0</td>\n",
       "      <td>Teacher</td>\n",
       "      <td>34847.84</td>\n",
       "      <td>NaN</td>\n",
       "      <td>2</td>\n",
       "      <td>4</td>\n",
       "      <td>6</td>\n",
       "      <td>1.0</td>\n",
       "      <td>...</td>\n",
       "      <td>Good</td>\n",
       "      <td>605.03</td>\n",
       "      <td>39.182656</td>\n",
       "      <td>26 Years and 10 Months</td>\n",
       "      <td>No</td>\n",
       "      <td>18.816215</td>\n",
       "      <td>99.306228</td>\n",
       "      <td>LowspentMediumvaluepayments</td>\n",
       "      <td>465.676224</td>\n",
       "      <td>Good</td>\n",
       "    </tr>\n",
       "    <tr>\n",
       "      <th>...</th>\n",
       "      <td>...</td>\n",
       "      <td>...</td>\n",
       "      <td>...</td>\n",
       "      <td>...</td>\n",
       "      <td>...</td>\n",
       "      <td>...</td>\n",
       "      <td>...</td>\n",
       "      <td>...</td>\n",
       "      <td>...</td>\n",
       "      <td>...</td>\n",
       "      <td>...</td>\n",
       "      <td>...</td>\n",
       "      <td>...</td>\n",
       "      <td>...</td>\n",
       "      <td>...</td>\n",
       "      <td>...</td>\n",
       "      <td>...</td>\n",
       "      <td>...</td>\n",
       "      <td>...</td>\n",
       "      <td>...</td>\n",
       "      <td>...</td>\n",
       "    </tr>\n",
       "    <tr>\n",
       "      <th>99943</th>\n",
       "      <td>CUS_0xad4f</td>\n",
       "      <td>August</td>\n",
       "      <td>48.0</td>\n",
       "      <td></td>\n",
       "      <td>22620.79</td>\n",
       "      <td>NaN</td>\n",
       "      <td>6</td>\n",
       "      <td>2</td>\n",
       "      <td>9</td>\n",
       "      <td>0.0</td>\n",
       "      <td>...</td>\n",
       "      <td></td>\n",
       "      <td>642.46</td>\n",
       "      <td>34.026427</td>\n",
       "      <td>29 Years and 10 Months</td>\n",
       "      <td>No</td>\n",
       "      <td>0.000000</td>\n",
       "      <td>205.217280</td>\n",
       "      <td>LowspentSmallvaluepayments</td>\n",
       "      <td>256.989303</td>\n",
       "      <td>Poor</td>\n",
       "    </tr>\n",
       "    <tr>\n",
       "      <th>99944</th>\n",
       "      <td>CUS_0x51b3</td>\n",
       "      <td>January</td>\n",
       "      <td>33.0</td>\n",
       "      <td>MediaManager</td>\n",
       "      <td>59146.36</td>\n",
       "      <td>NaN</td>\n",
       "      <td>2</td>\n",
       "      <td>5</td>\n",
       "      <td>6</td>\n",
       "      <td>1.0</td>\n",
       "      <td>...</td>\n",
       "      <td></td>\n",
       "      <td>418.03</td>\n",
       "      <td>34.720661</td>\n",
       "      <td>NaN</td>\n",
       "      <td>No</td>\n",
       "      <td>26.778419</td>\n",
       "      <td>606.436542</td>\n",
       "      <td>LowspentSmallvaluepayments</td>\n",
       "      <td>147.671372</td>\n",
       "      <td>Standard</td>\n",
       "    </tr>\n",
       "    <tr>\n",
       "      <th>99963</th>\n",
       "      <td>CUS_0x372c</td>\n",
       "      <td>April</td>\n",
       "      <td>-500.0</td>\n",
       "      <td>Lawyer</td>\n",
       "      <td>42903.79</td>\n",
       "      <td>NaN</td>\n",
       "      <td>0</td>\n",
       "      <td>4</td>\n",
       "      <td>6</td>\n",
       "      <td>1.0</td>\n",
       "      <td>...</td>\n",
       "      <td>Good</td>\n",
       "      <td>1079.48</td>\n",
       "      <td>30.625298</td>\n",
       "      <td>NaN</td>\n",
       "      <td>No</td>\n",
       "      <td>34.975457</td>\n",
       "      <td>31.193919</td>\n",
       "      <td>HighspentLargevaluepayments</td>\n",
       "      <td>520.662207</td>\n",
       "      <td>Standard</td>\n",
       "    </tr>\n",
       "    <tr>\n",
       "      <th>99975</th>\n",
       "      <td>CUS_0xf16</td>\n",
       "      <td>August</td>\n",
       "      <td>45.0</td>\n",
       "      <td>MediaManager</td>\n",
       "      <td>16680.35</td>\n",
       "      <td>NaN</td>\n",
       "      <td>1</td>\n",
       "      <td>1</td>\n",
       "      <td>5</td>\n",
       "      <td>4.0</td>\n",
       "      <td>...</td>\n",
       "      <td>Good</td>\n",
       "      <td>897.16</td>\n",
       "      <td>41.212367</td>\n",
       "      <td>NaN</td>\n",
       "      <td>No</td>\n",
       "      <td>41.113561</td>\n",
       "      <td>70.805550</td>\n",
       "      <td>LowspentLargevaluepayments</td>\n",
       "      <td>310.883806</td>\n",
       "      <td>Good</td>\n",
       "    </tr>\n",
       "    <tr>\n",
       "      <th>99978</th>\n",
       "      <td>CUS_0xaf61</td>\n",
       "      <td>March</td>\n",
       "      <td>49.0</td>\n",
       "      <td>Writer</td>\n",
       "      <td>37188.10</td>\n",
       "      <td>NaN</td>\n",
       "      <td>1</td>\n",
       "      <td>4</td>\n",
       "      <td>5</td>\n",
       "      <td>3.0</td>\n",
       "      <td>...</td>\n",
       "      <td></td>\n",
       "      <td>620.64</td>\n",
       "      <td>24.540510</td>\n",
       "      <td>29 Years and 11 Months</td>\n",
       "      <td>No</td>\n",
       "      <td>84.205949</td>\n",
       "      <td>125.956592</td>\n",
       "      <td>LowspentMediumvaluepayments</td>\n",
       "      <td>379.538292</td>\n",
       "      <td>Good</td>\n",
       "    </tr>\n",
       "  </tbody>\n",
       "</table>\n",
       "<p>14145 rows × 25 columns</p>\n",
       "</div>"
      ],
      "text/plain": [
       "      Customer_ID     Month    Age    Occupation  Annual_Income  \\\n",
       "1       CUS_0xd40  February   23.0     Scientist       19114.12   \n",
       "2       CUS_0xd40     March -500.0     Scientist       19114.12   \n",
       "3       CUS_0xd40     April   23.0     Scientist       19114.12   \n",
       "5       CUS_0xd40      June   23.0     Scientist       19114.12   \n",
       "11     CUS_0x21b1     April   28.0       Teacher       34847.84   \n",
       "...           ...       ...    ...           ...            ...   \n",
       "99943  CUS_0xad4f    August   48.0                     22620.79   \n",
       "99944  CUS_0x51b3   January   33.0  MediaManager       59146.36   \n",
       "99963  CUS_0x372c     April -500.0        Lawyer       42903.79   \n",
       "99975   CUS_0xf16    August   45.0  MediaManager       16680.35   \n",
       "99978  CUS_0xaf61     March   49.0        Writer       37188.10   \n",
       "\n",
       "       Monthly_Inhand_Salary  Num_Bank_Accounts  Num_Credit_Card  \\\n",
       "1                        NaN                  3                4   \n",
       "2                        NaN                  3                4   \n",
       "3                        NaN                  3                4   \n",
       "5                        NaN                  3                4   \n",
       "11                       NaN                  2                4   \n",
       "...                      ...                ...              ...   \n",
       "99943                    NaN                  6                2   \n",
       "99944                    NaN                  2                5   \n",
       "99963                    NaN                  0                4   \n",
       "99975                    NaN                  1                1   \n",
       "99978                    NaN                  1                4   \n",
       "\n",
       "       Interest_Rate  Num_of_Loan  ... Credit_Mix  Outstanding_Debt  \\\n",
       "1                  3          4.0  ...       Good            809.98   \n",
       "2                  3          4.0  ...       Good            809.98   \n",
       "3                  3          4.0  ...       Good            809.98   \n",
       "5                  3          4.0  ...       Good            809.98   \n",
       "11                 6          1.0  ...       Good            605.03   \n",
       "...              ...          ...  ...        ...               ...   \n",
       "99943              9          0.0  ...                       642.46   \n",
       "99944              6          1.0  ...                       418.03   \n",
       "99963              6          1.0  ...       Good           1079.48   \n",
       "99975              5          4.0  ...       Good            897.16   \n",
       "99978              5          3.0  ...                       620.64   \n",
       "\n",
       "       Credit_Utilization_Ratio      Credit_History_Age  \\\n",
       "1                     31.944960                     NaN   \n",
       "2                     28.609352   22 Years and 3 Months   \n",
       "3                     31.377862   22 Years and 4 Months   \n",
       "5                     27.262259   22 Years and 6 Months   \n",
       "11                    39.182656  26 Years and 10 Months   \n",
       "...                         ...                     ...   \n",
       "99943                 34.026427  29 Years and 10 Months   \n",
       "99944                 34.720661                     NaN   \n",
       "99963                 30.625298                     NaN   \n",
       "99975                 41.212367                     NaN   \n",
       "99978                 24.540510  29 Years and 11 Months   \n",
       "\n",
       "       Payment_of_Min_Amount Total_EMI_per_month  Amount_invested_monthly  \\\n",
       "1                         No           49.574949               118.280222   \n",
       "2                         No           49.574949                81.699521   \n",
       "3                         No           49.574949               199.458074   \n",
       "5                         No           49.574949                62.430172   \n",
       "11                        No           18.816215                99.306228   \n",
       "...                      ...                 ...                      ...   \n",
       "99943                     No            0.000000               205.217280   \n",
       "99944                     No           26.778419               606.436542   \n",
       "99963                     No           34.975457                31.193919   \n",
       "99975                     No           41.113561                70.805550   \n",
       "99978                     No           84.205949               125.956592   \n",
       "\n",
       "                 Payment_Behaviour Monthly_Balance Credit_Score  \n",
       "1       LowspentLargevaluepayments      284.629162         Good  \n",
       "2      LowspentMediumvaluepayments      331.209863         Good  \n",
       "3       LowspentSmallvaluepayments      223.451310         Good  \n",
       "5                             None      340.479212         Good  \n",
       "11     LowspentMediumvaluepayments      465.676224         Good  \n",
       "...                            ...             ...          ...  \n",
       "99943   LowspentSmallvaluepayments      256.989303         Poor  \n",
       "99944   LowspentSmallvaluepayments      147.671372     Standard  \n",
       "99963  HighspentLargevaluepayments      520.662207     Standard  \n",
       "99975   LowspentLargevaluepayments      310.883806         Good  \n",
       "99978  LowspentMediumvaluepayments      379.538292         Good  \n",
       "\n",
       "[14145 rows x 25 columns]"
      ]
     },
     "execution_count": 68,
     "metadata": {},
     "output_type": "execute_result"
    }
   ],
   "source": [
    "df[(df.Customer_ID.isin(tmp_group[tmp_group == 1].index)) & (df.Monthly_Inhand_Salary.isna())]"
   ]
  },
  {
   "cell_type": "markdown",
   "metadata": {},
   "source": [
    "### Age"
   ]
  },
  {
   "cell_type": "code",
   "execution_count": 69,
   "metadata": {},
   "outputs": [
    {
     "data": {
      "text/plain": [
       "38.0      2994\n",
       "28.0      2968\n",
       "31.0      2955\n",
       "26.0      2945\n",
       "32.0      2884\n",
       "          ... \n",
       "1908.0       1\n",
       "4583.0       1\n",
       "7549.0       1\n",
       "3119.0       1\n",
       "1342.0       1\n",
       "Name: Age, Length: 1728, dtype: int64"
      ]
     },
     "execution_count": 69,
     "metadata": {},
     "output_type": "execute_result"
    }
   ],
   "source": [
    "df.Age.value_counts()"
   ]
  },
  {
   "cell_type": "code",
   "execution_count": 70,
   "metadata": {},
   "outputs": [
    {
     "data": {
      "text/plain": [
       "2    129\n",
       "1     77\n",
       "Name: Credit_Mix, dtype: int64"
      ]
     },
     "execution_count": 70,
     "metadata": {},
     "output_type": "execute_result"
    }
   ],
   "source": [
    "tmp = df1.loc[df1.Age == '14', ['Customer_ID', 'Credit_Mix']].groupby('Customer_ID')['Credit_Mix'].nunique()\n",
    "tmp.value_counts()"
   ]
  },
  {
   "cell_type": "markdown",
   "metadata": {},
   "source": [
    "### Credit_Mix"
   ]
  },
  {
   "cell_type": "code",
   "execution_count": 71,
   "metadata": {},
   "outputs": [
    {
     "data": {
      "text/plain": [
       "Standard    36479\n",
       "Good        24337\n",
       "            20195\n",
       "Bad         18989\n",
       "Name: Credit_Mix, dtype: int64"
      ]
     },
     "execution_count": 71,
     "metadata": {},
     "output_type": "execute_result"
    }
   ],
   "source": [
    "df.Credit_Mix.value_counts()"
   ]
  },
  {
   "cell_type": "code",
   "execution_count": 72,
   "metadata": {},
   "outputs": [
    {
     "data": {
      "text/plain": [
       "Customer_ID\n",
       "CUS_0x1000    1\n",
       "CUS_0x1009    2\n",
       "CUS_0x100b    2\n",
       "CUS_0x1011    1\n",
       "CUS_0x1013    2\n",
       "             ..\n",
       "CUS_0xff3     2\n",
       "CUS_0xff4     2\n",
       "CUS_0xff6     2\n",
       "CUS_0xffc     2\n",
       "CUS_0xffd     2\n",
       "Name: Credit_Mix, Length: 12500, dtype: int64"
      ]
     },
     "execution_count": 72,
     "metadata": {},
     "output_type": "execute_result"
    }
   ],
   "source": [
    "tmp_nuniq = df[['Customer_ID', 'Credit_Mix']].groupby('Customer_ID')['Credit_Mix'].nunique()\n",
    "tmp_nuniq"
   ]
  },
  {
   "cell_type": "code",
   "execution_count": 73,
   "metadata": {},
   "outputs": [
    {
     "name": "stdout",
     "output_type": "stream",
     "text": [
      "10477\n"
     ]
    },
    {
     "data": {
      "text/plain": [
       "10477"
      ]
     },
     "execution_count": 73,
     "metadata": {},
     "output_type": "execute_result"
    }
   ],
   "source": [
    "tmp_uniq = df[['Customer_ID', 'Credit_Mix']].groupby('Customer_ID')['Credit_Mix'].unique()\n",
    "\n",
    "print(len(tmp_uniq[tmp_nuniq==2]))\n",
    "tmp_uniq[tmp_nuniq==2].apply(lambda x: list(x).count('')).sum()"
   ]
  },
  {
   "cell_type": "code",
   "execution_count": 74,
   "metadata": {},
   "outputs": [
    {
     "data": {
      "text/plain": [
       "array(['Bad', 'Standard', 'Good'], dtype=object)"
      ]
     },
     "execution_count": 74,
     "metadata": {},
     "output_type": "execute_result"
    }
   ],
   "source": [
    "tmp_uniq.apply(np.sum).unique()"
   ]
  },
  {
   "cell_type": "code",
   "execution_count": 75,
   "metadata": {},
   "outputs": [
    {
     "data": {
      "text/plain": [
       "array(['Good', 'Standard', 'Bad'], dtype=object)"
      ]
     },
     "execution_count": 75,
     "metadata": {},
     "output_type": "execute_result"
    }
   ],
   "source": [
    "df['Customer_ID'].map(tmp_uniq.apply(np.sum).to_dict()).unique()"
   ]
  },
  {
   "cell_type": "code",
   "execution_count": 76,
   "metadata": {},
   "outputs": [
    {
     "data": {
      "text/html": [
       "<div>\n",
       "<style scoped>\n",
       "    .dataframe tbody tr th:only-of-type {\n",
       "        vertical-align: middle;\n",
       "    }\n",
       "\n",
       "    .dataframe tbody tr th {\n",
       "        vertical-align: top;\n",
       "    }\n",
       "\n",
       "    .dataframe thead th {\n",
       "        text-align: right;\n",
       "    }\n",
       "</style>\n",
       "<table border=\"1\" class=\"dataframe\">\n",
       "  <thead>\n",
       "    <tr style=\"text-align: right;\">\n",
       "      <th></th>\n",
       "      <th>Customer_ID</th>\n",
       "      <th>Month</th>\n",
       "      <th>Age</th>\n",
       "      <th>Occupation</th>\n",
       "      <th>Annual_Income</th>\n",
       "      <th>Monthly_Inhand_Salary</th>\n",
       "      <th>Num_Bank_Accounts</th>\n",
       "      <th>Num_Credit_Card</th>\n",
       "      <th>Interest_Rate</th>\n",
       "      <th>Num_of_Loan</th>\n",
       "      <th>...</th>\n",
       "      <th>Credit_Mix</th>\n",
       "      <th>Outstanding_Debt</th>\n",
       "      <th>Credit_Utilization_Ratio</th>\n",
       "      <th>Credit_History_Age</th>\n",
       "      <th>Payment_of_Min_Amount</th>\n",
       "      <th>Total_EMI_per_month</th>\n",
       "      <th>Amount_invested_monthly</th>\n",
       "      <th>Payment_Behaviour</th>\n",
       "      <th>Monthly_Balance</th>\n",
       "      <th>Credit_Score</th>\n",
       "    </tr>\n",
       "  </thead>\n",
       "  <tbody>\n",
       "    <tr>\n",
       "      <th>0</th>\n",
       "      <td>CUS_0xd40</td>\n",
       "      <td>January</td>\n",
       "      <td>23.0</td>\n",
       "      <td>Scientist</td>\n",
       "      <td>19114.12</td>\n",
       "      <td>1824.843333</td>\n",
       "      <td>3</td>\n",
       "      <td>4</td>\n",
       "      <td>3</td>\n",
       "      <td>4.0</td>\n",
       "      <td>...</td>\n",
       "      <td></td>\n",
       "      <td>809.98</td>\n",
       "      <td>26.822620</td>\n",
       "      <td>22 Years and 1 Months</td>\n",
       "      <td>No</td>\n",
       "      <td>49.574949</td>\n",
       "      <td>80.415295</td>\n",
       "      <td>HighspentSmallvaluepayments</td>\n",
       "      <td>312.494089</td>\n",
       "      <td>Good</td>\n",
       "    </tr>\n",
       "    <tr>\n",
       "      <th>1</th>\n",
       "      <td>CUS_0xd40</td>\n",
       "      <td>February</td>\n",
       "      <td>23.0</td>\n",
       "      <td>Scientist</td>\n",
       "      <td>19114.12</td>\n",
       "      <td>NaN</td>\n",
       "      <td>3</td>\n",
       "      <td>4</td>\n",
       "      <td>3</td>\n",
       "      <td>4.0</td>\n",
       "      <td>...</td>\n",
       "      <td>Good</td>\n",
       "      <td>809.98</td>\n",
       "      <td>31.944960</td>\n",
       "      <td>NaN</td>\n",
       "      <td>No</td>\n",
       "      <td>49.574949</td>\n",
       "      <td>118.280222</td>\n",
       "      <td>LowspentLargevaluepayments</td>\n",
       "      <td>284.629162</td>\n",
       "      <td>Good</td>\n",
       "    </tr>\n",
       "    <tr>\n",
       "      <th>2</th>\n",
       "      <td>CUS_0xd40</td>\n",
       "      <td>March</td>\n",
       "      <td>-500.0</td>\n",
       "      <td>Scientist</td>\n",
       "      <td>19114.12</td>\n",
       "      <td>NaN</td>\n",
       "      <td>3</td>\n",
       "      <td>4</td>\n",
       "      <td>3</td>\n",
       "      <td>4.0</td>\n",
       "      <td>...</td>\n",
       "      <td>Good</td>\n",
       "      <td>809.98</td>\n",
       "      <td>28.609352</td>\n",
       "      <td>22 Years and 3 Months</td>\n",
       "      <td>No</td>\n",
       "      <td>49.574949</td>\n",
       "      <td>81.699521</td>\n",
       "      <td>LowspentMediumvaluepayments</td>\n",
       "      <td>331.209863</td>\n",
       "      <td>Good</td>\n",
       "    </tr>\n",
       "    <tr>\n",
       "      <th>3</th>\n",
       "      <td>CUS_0xd40</td>\n",
       "      <td>April</td>\n",
       "      <td>23.0</td>\n",
       "      <td>Scientist</td>\n",
       "      <td>19114.12</td>\n",
       "      <td>NaN</td>\n",
       "      <td>3</td>\n",
       "      <td>4</td>\n",
       "      <td>3</td>\n",
       "      <td>4.0</td>\n",
       "      <td>...</td>\n",
       "      <td>Good</td>\n",
       "      <td>809.98</td>\n",
       "      <td>31.377862</td>\n",
       "      <td>22 Years and 4 Months</td>\n",
       "      <td>No</td>\n",
       "      <td>49.574949</td>\n",
       "      <td>199.458074</td>\n",
       "      <td>LowspentSmallvaluepayments</td>\n",
       "      <td>223.451310</td>\n",
       "      <td>Good</td>\n",
       "    </tr>\n",
       "    <tr>\n",
       "      <th>4</th>\n",
       "      <td>CUS_0xd40</td>\n",
       "      <td>May</td>\n",
       "      <td>23.0</td>\n",
       "      <td>Scientist</td>\n",
       "      <td>19114.12</td>\n",
       "      <td>1824.843333</td>\n",
       "      <td>3</td>\n",
       "      <td>4</td>\n",
       "      <td>3</td>\n",
       "      <td>4.0</td>\n",
       "      <td>...</td>\n",
       "      <td>Good</td>\n",
       "      <td>809.98</td>\n",
       "      <td>24.797347</td>\n",
       "      <td>22 Years and 5 Months</td>\n",
       "      <td>No</td>\n",
       "      <td>49.574949</td>\n",
       "      <td>41.420153</td>\n",
       "      <td>HighspentMediumvaluepayments</td>\n",
       "      <td>341.489231</td>\n",
       "      <td>Good</td>\n",
       "    </tr>\n",
       "    <tr>\n",
       "      <th>...</th>\n",
       "      <td>...</td>\n",
       "      <td>...</td>\n",
       "      <td>...</td>\n",
       "      <td>...</td>\n",
       "      <td>...</td>\n",
       "      <td>...</td>\n",
       "      <td>...</td>\n",
       "      <td>...</td>\n",
       "      <td>...</td>\n",
       "      <td>...</td>\n",
       "      <td>...</td>\n",
       "      <td>...</td>\n",
       "      <td>...</td>\n",
       "      <td>...</td>\n",
       "      <td>...</td>\n",
       "      <td>...</td>\n",
       "      <td>...</td>\n",
       "      <td>...</td>\n",
       "      <td>...</td>\n",
       "      <td>...</td>\n",
       "      <td>...</td>\n",
       "    </tr>\n",
       "    <tr>\n",
       "      <th>99995</th>\n",
       "      <td>CUS_0x942c</td>\n",
       "      <td>April</td>\n",
       "      <td>25.0</td>\n",
       "      <td>Mechanic</td>\n",
       "      <td>39628.99</td>\n",
       "      <td>3359.415833</td>\n",
       "      <td>4</td>\n",
       "      <td>6</td>\n",
       "      <td>7</td>\n",
       "      <td>2.0</td>\n",
       "      <td>...</td>\n",
       "      <td></td>\n",
       "      <td>502.38</td>\n",
       "      <td>34.663572</td>\n",
       "      <td>31 Years and 6 Months</td>\n",
       "      <td>No</td>\n",
       "      <td>35.104023</td>\n",
       "      <td>60.971333</td>\n",
       "      <td>HighspentLargevaluepayments</td>\n",
       "      <td>479.866228</td>\n",
       "      <td>Poor</td>\n",
       "    </tr>\n",
       "    <tr>\n",
       "      <th>99996</th>\n",
       "      <td>CUS_0x942c</td>\n",
       "      <td>May</td>\n",
       "      <td>25.0</td>\n",
       "      <td>Mechanic</td>\n",
       "      <td>39628.99</td>\n",
       "      <td>3359.415833</td>\n",
       "      <td>4</td>\n",
       "      <td>6</td>\n",
       "      <td>7</td>\n",
       "      <td>2.0</td>\n",
       "      <td>...</td>\n",
       "      <td></td>\n",
       "      <td>502.38</td>\n",
       "      <td>40.565631</td>\n",
       "      <td>31 Years and 7 Months</td>\n",
       "      <td>No</td>\n",
       "      <td>35.104023</td>\n",
       "      <td>54.185950</td>\n",
       "      <td>HighspentMediumvaluepayments</td>\n",
       "      <td>496.651610</td>\n",
       "      <td>Poor</td>\n",
       "    </tr>\n",
       "    <tr>\n",
       "      <th>99997</th>\n",
       "      <td>CUS_0x942c</td>\n",
       "      <td>June</td>\n",
       "      <td>25.0</td>\n",
       "      <td>Mechanic</td>\n",
       "      <td>39628.99</td>\n",
       "      <td>3359.415833</td>\n",
       "      <td>4</td>\n",
       "      <td>6</td>\n",
       "      <td>5729</td>\n",
       "      <td>2.0</td>\n",
       "      <td>...</td>\n",
       "      <td>Good</td>\n",
       "      <td>502.38</td>\n",
       "      <td>41.255522</td>\n",
       "      <td>31 Years and 8 Months</td>\n",
       "      <td>No</td>\n",
       "      <td>35.104023</td>\n",
       "      <td>24.028477</td>\n",
       "      <td>HighspentLargevaluepayments</td>\n",
       "      <td>516.809083</td>\n",
       "      <td>Poor</td>\n",
       "    </tr>\n",
       "    <tr>\n",
       "      <th>99998</th>\n",
       "      <td>CUS_0x942c</td>\n",
       "      <td>July</td>\n",
       "      <td>25.0</td>\n",
       "      <td>Mechanic</td>\n",
       "      <td>39628.99</td>\n",
       "      <td>3359.415833</td>\n",
       "      <td>4</td>\n",
       "      <td>6</td>\n",
       "      <td>7</td>\n",
       "      <td>2.0</td>\n",
       "      <td>...</td>\n",
       "      <td>Good</td>\n",
       "      <td>502.38</td>\n",
       "      <td>33.638208</td>\n",
       "      <td>31 Years and 9 Months</td>\n",
       "      <td>No</td>\n",
       "      <td>35.104023</td>\n",
       "      <td>251.672582</td>\n",
       "      <td>LowspentLargevaluepayments</td>\n",
       "      <td>319.164979</td>\n",
       "      <td>Standard</td>\n",
       "    </tr>\n",
       "    <tr>\n",
       "      <th>99999</th>\n",
       "      <td>CUS_0x942c</td>\n",
       "      <td>August</td>\n",
       "      <td>25.0</td>\n",
       "      <td>Mechanic</td>\n",
       "      <td>39628.99</td>\n",
       "      <td>3359.415833</td>\n",
       "      <td>4</td>\n",
       "      <td>6</td>\n",
       "      <td>7</td>\n",
       "      <td>2.0</td>\n",
       "      <td>...</td>\n",
       "      <td>Good</td>\n",
       "      <td>502.38</td>\n",
       "      <td>34.192463</td>\n",
       "      <td>31 Years and 10 Months</td>\n",
       "      <td>No</td>\n",
       "      <td>35.104023</td>\n",
       "      <td>167.163865</td>\n",
       "      <td>None</td>\n",
       "      <td>393.673696</td>\n",
       "      <td>Poor</td>\n",
       "    </tr>\n",
       "  </tbody>\n",
       "</table>\n",
       "<p>100000 rows × 25 columns</p>\n",
       "</div>"
      ],
      "text/plain": [
       "      Customer_ID     Month    Age Occupation  Annual_Income  \\\n",
       "0       CUS_0xd40   January   23.0  Scientist       19114.12   \n",
       "1       CUS_0xd40  February   23.0  Scientist       19114.12   \n",
       "2       CUS_0xd40     March -500.0  Scientist       19114.12   \n",
       "3       CUS_0xd40     April   23.0  Scientist       19114.12   \n",
       "4       CUS_0xd40       May   23.0  Scientist       19114.12   \n",
       "...           ...       ...    ...        ...            ...   \n",
       "99995  CUS_0x942c     April   25.0   Mechanic       39628.99   \n",
       "99996  CUS_0x942c       May   25.0   Mechanic       39628.99   \n",
       "99997  CUS_0x942c      June   25.0   Mechanic       39628.99   \n",
       "99998  CUS_0x942c      July   25.0   Mechanic       39628.99   \n",
       "99999  CUS_0x942c    August   25.0   Mechanic       39628.99   \n",
       "\n",
       "       Monthly_Inhand_Salary  Num_Bank_Accounts  Num_Credit_Card  \\\n",
       "0                1824.843333                  3                4   \n",
       "1                        NaN                  3                4   \n",
       "2                        NaN                  3                4   \n",
       "3                        NaN                  3                4   \n",
       "4                1824.843333                  3                4   \n",
       "...                      ...                ...              ...   \n",
       "99995            3359.415833                  4                6   \n",
       "99996            3359.415833                  4                6   \n",
       "99997            3359.415833                  4                6   \n",
       "99998            3359.415833                  4                6   \n",
       "99999            3359.415833                  4                6   \n",
       "\n",
       "       Interest_Rate  Num_of_Loan  ... Credit_Mix  Outstanding_Debt  \\\n",
       "0                  3          4.0  ...                       809.98   \n",
       "1                  3          4.0  ...       Good            809.98   \n",
       "2                  3          4.0  ...       Good            809.98   \n",
       "3                  3          4.0  ...       Good            809.98   \n",
       "4                  3          4.0  ...       Good            809.98   \n",
       "...              ...          ...  ...        ...               ...   \n",
       "99995              7          2.0  ...                       502.38   \n",
       "99996              7          2.0  ...                       502.38   \n",
       "99997           5729          2.0  ...       Good            502.38   \n",
       "99998              7          2.0  ...       Good            502.38   \n",
       "99999              7          2.0  ...       Good            502.38   \n",
       "\n",
       "       Credit_Utilization_Ratio      Credit_History_Age  \\\n",
       "0                     26.822620   22 Years and 1 Months   \n",
       "1                     31.944960                     NaN   \n",
       "2                     28.609352   22 Years and 3 Months   \n",
       "3                     31.377862   22 Years and 4 Months   \n",
       "4                     24.797347   22 Years and 5 Months   \n",
       "...                         ...                     ...   \n",
       "99995                 34.663572   31 Years and 6 Months   \n",
       "99996                 40.565631   31 Years and 7 Months   \n",
       "99997                 41.255522   31 Years and 8 Months   \n",
       "99998                 33.638208   31 Years and 9 Months   \n",
       "99999                 34.192463  31 Years and 10 Months   \n",
       "\n",
       "       Payment_of_Min_Amount Total_EMI_per_month  Amount_invested_monthly  \\\n",
       "0                         No           49.574949                80.415295   \n",
       "1                         No           49.574949               118.280222   \n",
       "2                         No           49.574949                81.699521   \n",
       "3                         No           49.574949               199.458074   \n",
       "4                         No           49.574949                41.420153   \n",
       "...                      ...                 ...                      ...   \n",
       "99995                     No           35.104023                60.971333   \n",
       "99996                     No           35.104023                54.185950   \n",
       "99997                     No           35.104023                24.028477   \n",
       "99998                     No           35.104023               251.672582   \n",
       "99999                     No           35.104023               167.163865   \n",
       "\n",
       "                  Payment_Behaviour Monthly_Balance Credit_Score  \n",
       "0       HighspentSmallvaluepayments      312.494089         Good  \n",
       "1        LowspentLargevaluepayments      284.629162         Good  \n",
       "2       LowspentMediumvaluepayments      331.209863         Good  \n",
       "3        LowspentSmallvaluepayments      223.451310         Good  \n",
       "4      HighspentMediumvaluepayments      341.489231         Good  \n",
       "...                             ...             ...          ...  \n",
       "99995   HighspentLargevaluepayments      479.866228         Poor  \n",
       "99996  HighspentMediumvaluepayments      496.651610         Poor  \n",
       "99997   HighspentLargevaluepayments      516.809083         Poor  \n",
       "99998    LowspentLargevaluepayments      319.164979     Standard  \n",
       "99999                          None      393.673696         Poor  \n",
       "\n",
       "[100000 rows x 25 columns]"
      ]
     },
     "execution_count": 76,
     "metadata": {},
     "output_type": "execute_result"
    }
   ],
   "source": [
    "df"
   ]
  },
  {
   "cell_type": "markdown",
   "metadata": {},
   "source": [
    "### Modify all the features at once"
   ]
  },
  {
   "cell_type": "code",
   "execution_count": 77,
   "metadata": {},
   "outputs": [],
   "source": [
    "features_tmp = ['Age','Annual_Income', 'Num_Bank_Accounts', 'Occupation',\n",
    "                'Num_Credit_Card', 'Num_of_Loan', 'Interest_Rate',\n",
    "                'Outstanding_Debt', 'Total_EMI_per_month', 'Credit_Mix']\n",
    "\n",
    "for feature in features_tmp:\n",
    "    tmp = df[['Customer_ID',\n",
    "               feature]].groupby('Customer_ID')[feature].apply(mode)\n",
    "    df[feature] = df['Customer_ID'].map(tmp.to_dict())"
   ]
  },
  {
   "cell_type": "code",
   "execution_count": 78,
   "metadata": {},
   "outputs": [
    {
     "data": {
      "text/plain": [
       "532"
      ]
     },
     "execution_count": 78,
     "metadata": {},
     "output_type": "execute_result"
    }
   ],
   "source": [
    "mask1 = (df.Customer_ID.isin(tmp_group[tmp_group == 2].index.to_list()))\n",
    "mask2 = (df.Monthly_Inhand_Salary.isna())\n",
    "\n",
    "customers = df.loc[mask1 & mask2, 'Customer_ID'].unique()\n",
    "\n",
    "customers.size"
   ]
  },
  {
   "cell_type": "code",
   "execution_count": 79,
   "metadata": {},
   "outputs": [],
   "source": [
    "tmp = df.loc[df.Customer_ID.isin(customers),\n",
    "             ['Customer_ID',\n",
    "              'Monthly_Inhand_Salary']].groupby('Customer_ID')['Monthly_Inhand_Salary'].apply(mode)\n",
    "\n",
    "df.loc[df.Customer_ID.isin(customers),\n",
    "       'Monthly_Inhand_Salary'] = df['Customer_ID'].map(tmp.to_dict())"
   ]
  },
  {
   "cell_type": "code",
   "execution_count": 80,
   "metadata": {},
   "outputs": [
    {
     "data": {
      "text/plain": [
       "14145"
      ]
     },
     "execution_count": 80,
     "metadata": {},
     "output_type": "execute_result"
    }
   ],
   "source": [
    "df.Monthly_Inhand_Salary.isna().sum()"
   ]
  },
  {
   "cell_type": "code",
   "execution_count": 81,
   "metadata": {},
   "outputs": [
    {
     "data": {
      "text/plain": [
       "15002"
      ]
     },
     "execution_count": 81,
     "metadata": {},
     "output_type": "execute_result"
    }
   ],
   "source": [
    "df1.Monthly_Inhand_Salary.isna().sum()"
   ]
  },
  {
   "cell_type": "code",
   "execution_count": 82,
   "metadata": {},
   "outputs": [
    {
     "name": "stdout",
     "output_type": "stream",
     "text": [
      "8567\n"
     ]
    }
   ],
   "source": [
    "mask1 = (df.Customer_ID.isin(tmp_group[tmp_group == 1].index.to_list()))\n",
    "mask2 = (df.Monthly_Inhand_Salary.isna())\n",
    "\n",
    "customers = df.loc[mask1 & mask2, 'Customer_ID'].unique()\n",
    "\n",
    "print(customers.size)\n",
    "\n",
    "tmp = df.loc[df.Customer_ID.isin(customers),\n",
    "             ['Customer_ID',\n",
    "              'Monthly_Inhand_Salary']].groupby('Customer_ID')['Monthly_Inhand_Salary'].apply(mode)\n",
    "\n",
    "df.loc[df.Customer_ID.isin(customers),\n",
    "       'Monthly_Inhand_Salary'] = df['Customer_ID'].map(tmp.to_dict())"
   ]
  },
  {
   "cell_type": "code",
   "execution_count": 83,
   "metadata": {},
   "outputs": [],
   "source": [
    "df.loc[tmp_num_cc.index, 'Num_Credit_Card'] = tmp_num_cc"
   ]
  },
  {
   "cell_type": "code",
   "execution_count": 84,
   "metadata": {},
   "outputs": [
    {
     "data": {
      "text/plain": [
       "30330    6\n",
       "30331    6\n",
       "30332    6\n",
       "30333    6\n",
       "30334    6\n",
       "30335    6\n",
       "43689    6\n",
       "43690    6\n",
       "43691    6\n",
       "43692    6\n",
       "43693    6\n",
       "43694    6\n",
       "43695    6\n",
       "47212    3\n",
       "47213    3\n",
       "47214    3\n",
       "47215    3\n",
       "55636    4\n",
       "55637    4\n",
       "55638    4\n",
       "55639    4\n",
       "Name: Num_Credit_Card, dtype: int64"
      ]
     },
     "execution_count": 84,
     "metadata": {},
     "output_type": "execute_result"
    }
   ],
   "source": [
    "df.loc[tmp_num_cc.index, 'Num_Credit_Card'] "
   ]
  },
  {
   "cell_type": "markdown",
   "metadata": {},
   "source": [
    "### Num_Credit_Inquiries"
   ]
  },
  {
   "cell_type": "code",
   "execution_count": 85,
   "metadata": {},
   "outputs": [],
   "source": [
    "df.loc[df['Num_Credit_Inquiries'] > 20, 'Num_Credit_Inquiries'] = None"
   ]
  },
  {
   "cell_type": "markdown",
   "metadata": {},
   "source": [
    "### Credit_History_Age"
   ]
  },
  {
   "cell_type": "code",
   "execution_count": 86,
   "metadata": {},
   "outputs": [],
   "source": [
    "df.loc[df.Credit_History_Age.notna(), 'Credit_History_Age'] = df['Credit_History_Age'].str.extractall('(\\d+)').unstack().astype(float).multiply([12, 1]).sum(axis=1)"
   ]
  },
  {
   "cell_type": "code",
   "execution_count": 87,
   "metadata": {},
   "outputs": [],
   "source": [
    "df['Credit_History_Age'] = df['Credit_History_Age'].astype(float)"
   ]
  },
  {
   "cell_type": "code",
   "execution_count": 88,
   "metadata": {},
   "outputs": [],
   "source": [
    "df['Credit_History_Age'].interpolate(inplace=True)"
   ]
  },
  {
   "cell_type": "code",
   "execution_count": 89,
   "metadata": {},
   "outputs": [],
   "source": [
    "# in the main notebook\n",
    "scale_mapper = {\"Poor\":0, \"Standard\":1, \"Good\":2}\n",
    "df[\"Credit_Score\"] = df[\"Credit_Score\"].replace(scale_mapper)"
   ]
  },
  {
   "cell_type": "code",
   "execution_count": 90,
   "metadata": {},
   "outputs": [
    {
     "data": {
      "text/plain": [
       "array(['CUS_0x684a', 'CUS_0x11e2', 'CUS_0x1226', 'CUS_0x3243',\n",
       "       'CUS_0xc2a1', 'CUS_0x3e5d', 'CUS_0x79cb', 'CUS_0xa146',\n",
       "       'CUS_0x1f19', 'CUS_0x9e67'], dtype=object)"
      ]
     },
     "execution_count": 90,
     "metadata": {},
     "output_type": "execute_result"
    }
   ],
   "source": [
    "customers = df.loc[df.Occupation == '', 'Customer_ID'].unique()\n",
    "customers"
   ]
  },
  {
   "cell_type": "code",
   "execution_count": 91,
   "metadata": {},
   "outputs": [],
   "source": [
    "jobs = []\n",
    "for customer in customers:\n",
    "    df.loc[df.Customer_ID == customer,\n",
    "           'Occupation'] = df1.loc[df1.Customer_ID == customer,\n",
    "                                   'Occupation'].unique()[1]"
   ]
  },
  {
   "cell_type": "code",
   "execution_count": 92,
   "metadata": {},
   "outputs": [],
   "source": [
    "df['Occupation'] = df['Occupation'].str.replace(\"_\", \"\")"
   ]
  },
  {
   "cell_type": "code",
   "execution_count": 93,
   "metadata": {},
   "outputs": [],
   "source": [
    "df.drop(columns='Customer_ID', inplace=True)"
   ]
  },
  {
   "cell_type": "code",
   "execution_count": 94,
   "metadata": {},
   "outputs": [],
   "source": [
    "df.to_csv('../Data/train_preprocessed_type_of_loan.csv', index=False)"
   ]
  }
 ],
 "metadata": {
  "kernelspec": {
   "display_name": "Python 3.10.6 64-bit",
   "language": "python",
   "name": "python3"
  },
  "language_info": {
   "codemirror_mode": {
    "name": "ipython",
    "version": 3
   },
   "file_extension": ".py",
   "mimetype": "text/x-python",
   "name": "python",
   "nbconvert_exporter": "python",
   "pygments_lexer": "ipython3",
   "version": "3.10.6"
  },
  "orig_nbformat": 4,
  "vscode": {
   "interpreter": {
    "hash": "d043bfe52fdbcdd9ce254683947552669d52a2490379de95516b9980b91447e7"
   }
  }
 },
 "nbformat": 4,
 "nbformat_minor": 2
}
