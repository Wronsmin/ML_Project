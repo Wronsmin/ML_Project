{
 "cells": [
  {
   "cell_type": "code",
   "execution_count": 29,
   "metadata": {},
   "outputs": [],
   "source": [
    "import numpy as np \n",
    "import pandas as pd \n",
    "from sklearn.preprocessing import LabelEncoder\n",
    "\n",
    "from tensorflow.keras import Sequential\n",
    "from tensorflow.keras.layers import Dense, Input\n",
    "from tensorflow.keras.losses import SparseCategoricalCrossentropy"
   ]
  },
  {
   "cell_type": "code",
   "execution_count": 82,
   "metadata": {},
   "outputs": [],
   "source": [
    "df = pd.read_csv(\"../Data/train.csv\", low_memory=False)\n",
    "df[\"Num_of_Loan\"] = df[\"Num_of_Loan\"].str.replace(\"_\", \"\")\n",
    "df[\"Num_of_Loan\"] = pd.to_numeric(df[\"Num_of_Loan\"])\n",
    "\n",
    "df[\"Num_of_Delayed_Payment\"] = df[\"Num_of_Delayed_Payment\"].str.replace(\"_\", \"\")\n",
    "df[\"Num_of_Delayed_Payment\"] = pd.to_numeric(df[\"Num_of_Delayed_Payment\"])\n",
    "\n",
    "mask = df.Num_of_Delayed_Payment.notna()\n",
    "X = df.loc[mask, [\"Num_of_Loan\", \"Num_of_Delayed_Payment\"]].to_numpy()\n",
    "\n",
    "y = df.loc[mask, \"Credit_Score\"].to_numpy()"
   ]
  },
  {
   "cell_type": "code",
   "execution_count": 83,
   "metadata": {},
   "outputs": [],
   "source": [
    "le = LabelEncoder()\n",
    "le.fit(y)\n",
    "\n",
    "y_norm = le.transform(y)"
   ]
  },
  {
   "cell_type": "code",
   "execution_count": 77,
   "metadata": {},
   "outputs": [],
   "source": [
    "n_input = X.shape[-1]\n",
    "n_output = np.unique(y_norm).size"
   ]
  },
  {
   "cell_type": "code",
   "execution_count": 78,
   "metadata": {},
   "outputs": [
    {
     "ename": "ValueError",
     "evalue": "cannot reshape array of size 185996 into shape (1,100000,2)",
     "output_type": "error",
     "traceback": [
      "\u001b[1;31m---------------------------------------------------------------------------\u001b[0m",
      "\u001b[1;31mValueError\u001b[0m                                Traceback (most recent call last)",
      "\u001b[1;32m~\\AppData\\Local\\Temp/ipykernel_6188/3950278775.py\u001b[0m in \u001b[0;36m<module>\u001b[1;34m\u001b[0m\n\u001b[1;32m----> 1\u001b[1;33m \u001b[0mX_n\u001b[0m \u001b[1;33m=\u001b[0m \u001b[0mX\u001b[0m\u001b[1;33m.\u001b[0m\u001b[0mreshape\u001b[0m\u001b[1;33m(\u001b[0m\u001b[1;36m1\u001b[0m\u001b[1;33m,\u001b[0m \u001b[1;36m100000\u001b[0m\u001b[1;33m,\u001b[0m \u001b[1;36m2\u001b[0m\u001b[1;33m)\u001b[0m\u001b[1;33m\u001b[0m\u001b[1;33m\u001b[0m\u001b[0m\n\u001b[0m",
      "\u001b[1;31mValueError\u001b[0m: cannot reshape array of size 185996 into shape (1,100000,2)"
     ]
    }
   ],
   "source": [
    "X_n = X.reshape(1, 100000, 2)"
   ]
  },
  {
   "cell_type": "code",
   "execution_count": 79,
   "metadata": {},
   "outputs": [],
   "source": [
    "Arch = [\n",
    "    Dense(units=n_input, activation='relu'),\n",
    "    Dense(units=n_output, activation='linear')\n",
    "]\n",
    "\n",
    "model = Sequential(Arch)"
   ]
  },
  {
   "cell_type": "code",
   "execution_count": 80,
   "metadata": {},
   "outputs": [],
   "source": [
    "model.compile(loss=SparseCategoricalCrossentropy(from_logits=True))"
   ]
  },
  {
   "cell_type": "code",
   "execution_count": 84,
   "metadata": {},
   "outputs": [
    {
     "name": "stdout",
     "output_type": "stream",
     "text": [
      "Epoch 1/100\n",
      "2907/2907 [==============================] - 3s 1ms/step - loss: 2.6204\n",
      "Epoch 2/100\n",
      "2907/2907 [==============================] - 3s 1ms/step - loss: 1.0101\n",
      "Epoch 3/100\n",
      "2907/2907 [==============================] - 3s 1ms/step - loss: 1.0006\n",
      "Epoch 4/100\n",
      "2907/2907 [==============================] - 3s 1ms/step - loss: 0.9997\n",
      "Epoch 5/100\n",
      "2907/2907 [==============================] - 3s 1ms/step - loss: 0.9973\n",
      "Epoch 6/100\n",
      "2907/2907 [==============================] - 3s 1ms/step - loss: 0.9627\n",
      "Epoch 7/100\n",
      "2907/2907 [==============================] - 3s 1ms/step - loss: 0.9235\n",
      "Epoch 8/100\n",
      "2907/2907 [==============================] - 3s 1ms/step - loss: 0.9158\n",
      "Epoch 9/100\n",
      "2907/2907 [==============================] - 3s 1ms/step - loss: 0.9135\n",
      "Epoch 10/100\n",
      "2907/2907 [==============================] - 3s 1ms/step - loss: 0.9124\n",
      "Epoch 11/100\n",
      "2907/2907 [==============================] - 3s 1ms/step - loss: 0.9122\n",
      "Epoch 12/100\n",
      "2907/2907 [==============================] - 3s 1ms/step - loss: 0.9121\n",
      "Epoch 13/100\n",
      "2907/2907 [==============================] - 3s 1ms/step - loss: 0.9125\n",
      "Epoch 14/100\n",
      "2907/2907 [==============================] - 3s 1ms/step - loss: 0.9122\n",
      "Epoch 15/100\n",
      "2907/2907 [==============================] - 3s 1ms/step - loss: 0.9121\n",
      "Epoch 16/100\n",
      "2907/2907 [==============================] - 3s 1ms/step - loss: 0.9120\n",
      "Epoch 17/100\n",
      "2907/2907 [==============================] - 3s 1ms/step - loss: 0.9123\n",
      "Epoch 18/100\n",
      "2907/2907 [==============================] - 3s 1ms/step - loss: 0.9121\n",
      "Epoch 19/100\n",
      "2907/2907 [==============================] - 3s 1ms/step - loss: 0.9116\n",
      "Epoch 20/100\n",
      "2907/2907 [==============================] - 3s 1ms/step - loss: 0.9123\n",
      "Epoch 21/100\n",
      "2907/2907 [==============================] - 3s 1ms/step - loss: 0.9119\n",
      "Epoch 22/100\n",
      "2907/2907 [==============================] - 3s 1ms/step - loss: 0.9121\n",
      "Epoch 23/100\n",
      "2907/2907 [==============================] - 3s 1ms/step - loss: 0.9121\n",
      "Epoch 24/100\n",
      "2907/2907 [==============================] - 3s 1ms/step - loss: 0.9127\n",
      "Epoch 25/100\n",
      "2907/2907 [==============================] - 3s 1ms/step - loss: 0.9118\n",
      "Epoch 26/100\n",
      "2907/2907 [==============================] - 3s 1ms/step - loss: 0.9120\n",
      "Epoch 27/100\n",
      "2907/2907 [==============================] - 3s 1ms/step - loss: 0.9120\n",
      "Epoch 28/100\n",
      "2907/2907 [==============================] - 3s 1ms/step - loss: 0.9110\n",
      "Epoch 29/100\n",
      "2907/2907 [==============================] - 3s 1ms/step - loss: 0.9113\n",
      "Epoch 30/100\n",
      "2907/2907 [==============================] - 3s 1ms/step - loss: 0.9121\n",
      "Epoch 31/100\n",
      "2907/2907 [==============================] - 3s 1ms/step - loss: 0.9118\n",
      "Epoch 32/100\n",
      "2907/2907 [==============================] - 3s 1ms/step - loss: 0.9118\n",
      "Epoch 33/100\n",
      "2907/2907 [==============================] - 3s 1ms/step - loss: 0.9120\n",
      "Epoch 34/100\n",
      "2907/2907 [==============================] - 3s 1ms/step - loss: 0.9121\n",
      "Epoch 35/100\n",
      "2907/2907 [==============================] - 3s 1ms/step - loss: 0.9119\n",
      "Epoch 36/100\n",
      "2907/2907 [==============================] - 3s 1ms/step - loss: 0.9117\n",
      "Epoch 37/100\n",
      "2907/2907 [==============================] - 3s 1ms/step - loss: 0.9119\n",
      "Epoch 38/100\n",
      "2907/2907 [==============================] - 3s 1ms/step - loss: 0.9117\n",
      "Epoch 39/100\n",
      "2907/2907 [==============================] - 3s 1ms/step - loss: 0.9122\n",
      "Epoch 40/100\n",
      "2907/2907 [==============================] - 3s 1ms/step - loss: 0.9118\n",
      "Epoch 41/100\n",
      "2907/2907 [==============================] - 3s 1ms/step - loss: 0.9117\n",
      "Epoch 42/100\n",
      "2907/2907 [==============================] - 3s 1ms/step - loss: 0.9119\n",
      "Epoch 43/100\n",
      "2907/2907 [==============================] - 3s 1ms/step - loss: 0.9121\n",
      "Epoch 44/100\n",
      "2907/2907 [==============================] - 3s 1ms/step - loss: 0.9119\n",
      "Epoch 45/100\n",
      "2907/2907 [==============================] - 3s 1ms/step - loss: 0.9114\n",
      "Epoch 46/100\n",
      "2907/2907 [==============================] - 3s 1ms/step - loss: 0.9120\n",
      "Epoch 47/100\n",
      "2907/2907 [==============================] - 3s 1ms/step - loss: 0.9119\n",
      "Epoch 48/100\n",
      "2907/2907 [==============================] - 3s 1ms/step - loss: 0.9119\n",
      "Epoch 49/100\n",
      "2907/2907 [==============================] - 3s 1ms/step - loss: 0.9119\n",
      "Epoch 50/100\n",
      "2907/2907 [==============================] - 3s 1ms/step - loss: 0.9121\n",
      "Epoch 51/100\n",
      "2907/2907 [==============================] - 3s 1ms/step - loss: 0.9116\n",
      "Epoch 52/100\n",
      "2907/2907 [==============================] - 3s 1ms/step - loss: 0.9118\n",
      "Epoch 53/100\n",
      "2907/2907 [==============================] - 3s 1ms/step - loss: 0.9116\n",
      "Epoch 54/100\n",
      "2907/2907 [==============================] - 3s 1ms/step - loss: 0.9124\n",
      "Epoch 55/100\n",
      "2907/2907 [==============================] - 3s 1ms/step - loss: 0.9117\n",
      "Epoch 56/100\n",
      "2907/2907 [==============================] - 3s 1ms/step - loss: 0.9120\n",
      "Epoch 57/100\n",
      "2907/2907 [==============================] - 3s 1ms/step - loss: 0.9117\n",
      "Epoch 58/100\n",
      "2907/2907 [==============================] - 3s 1ms/step - loss: 0.9120\n",
      "Epoch 59/100\n",
      "2907/2907 [==============================] - 3s 1ms/step - loss: 0.9120\n",
      "Epoch 60/100\n",
      "2907/2907 [==============================] - 3s 1ms/step - loss: 0.9125\n",
      "Epoch 61/100\n",
      "2907/2907 [==============================] - 3s 1ms/step - loss: 0.9120\n",
      "Epoch 62/100\n",
      "2907/2907 [==============================] - 3s 1ms/step - loss: 0.9121\n",
      "Epoch 63/100\n",
      "2907/2907 [==============================] - 3s 1ms/step - loss: 0.9117\n",
      "Epoch 64/100\n",
      "2907/2907 [==============================] - 3s 1ms/step - loss: 0.9114\n",
      "Epoch 65/100\n",
      "2907/2907 [==============================] - 3s 1ms/step - loss: 0.9119\n",
      "Epoch 66/100\n",
      "2907/2907 [==============================] - 3s 1ms/step - loss: 0.9116\n",
      "Epoch 67/100\n",
      "2907/2907 [==============================] - 3s 1ms/step - loss: 0.9111\n",
      "Epoch 68/100\n",
      "2907/2907 [==============================] - 3s 1ms/step - loss: 0.9120\n",
      "Epoch 69/100\n",
      "2907/2907 [==============================] - 3s 1ms/step - loss: 0.9120\n",
      "Epoch 70/100\n",
      "2907/2907 [==============================] - 3s 1ms/step - loss: 0.9118\n",
      "Epoch 71/100\n",
      "2907/2907 [==============================] - 3s 1ms/step - loss: 0.9119\n",
      "Epoch 72/100\n",
      "2907/2907 [==============================] - 3s 1ms/step - loss: 0.9120\n",
      "Epoch 73/100\n",
      "2907/2907 [==============================] - 3s 1ms/step - loss: 0.9106\n",
      "Epoch 74/100\n",
      "2907/2907 [==============================] - 3s 1ms/step - loss: 0.9122\n",
      "Epoch 75/100\n",
      "2907/2907 [==============================] - 3s 1ms/step - loss: 0.9119\n",
      "Epoch 76/100\n",
      "2907/2907 [==============================] - 3s 1ms/step - loss: 0.9115\n",
      "Epoch 77/100\n",
      "2907/2907 [==============================] - 3s 1ms/step - loss: 0.9117\n",
      "Epoch 78/100\n",
      "2907/2907 [==============================] - 3s 1ms/step - loss: 0.9118\n",
      "Epoch 79/100\n",
      "2907/2907 [==============================] - 3s 1ms/step - loss: 0.9110\n",
      "Epoch 80/100\n",
      "2907/2907 [==============================] - 3s 1ms/step - loss: 0.9119\n",
      "Epoch 81/100\n",
      "2907/2907 [==============================] - 3s 1ms/step - loss: 0.9119\n",
      "Epoch 82/100\n",
      "2907/2907 [==============================] - 3s 1ms/step - loss: 0.9117\n",
      "Epoch 83/100\n",
      "2907/2907 [==============================] - 3s 1ms/step - loss: 0.9117\n",
      "Epoch 84/100\n",
      "2907/2907 [==============================] - 3s 1ms/step - loss: 0.9114\n",
      "Epoch 85/100\n",
      "2907/2907 [==============================] - 3s 1ms/step - loss: 0.9118\n",
      "Epoch 86/100\n",
      "2907/2907 [==============================] - 3s 1ms/step - loss: 0.9115\n",
      "Epoch 87/100\n",
      "2907/2907 [==============================] - 3s 1ms/step - loss: 0.9114\n",
      "Epoch 88/100\n",
      "2907/2907 [==============================] - 3s 1ms/step - loss: 0.9113\n",
      "Epoch 89/100\n",
      "2907/2907 [==============================] - 3s 1ms/step - loss: 0.9114\n",
      "Epoch 90/100\n",
      "2907/2907 [==============================] - 3s 1ms/step - loss: 0.9122\n",
      "Epoch 91/100\n",
      "2907/2907 [==============================] - 3s 991us/step - loss: 0.9121\n",
      "Epoch 92/100\n",
      "2907/2907 [==============================] - 3s 991us/step - loss: 0.9115\n",
      "Epoch 93/100\n",
      "2907/2907 [==============================] - 3s 994us/step - loss: 0.9115\n",
      "Epoch 94/100\n",
      "2907/2907 [==============================] - 3s 986us/step - loss: 0.9113\n",
      "Epoch 95/100\n",
      "2907/2907 [==============================] - 3s 987us/step - loss: 0.9122\n",
      "Epoch 96/100\n",
      "2907/2907 [==============================] - 3s 992us/step - loss: 0.9115\n",
      "Epoch 97/100\n",
      "2907/2907 [==============================] - 3s 987us/step - loss: 0.9117\n",
      "Epoch 98/100\n",
      "2907/2907 [==============================] - 3s 995us/step - loss: 0.9120\n",
      "Epoch 99/100\n",
      "2907/2907 [==============================] - 3s 992us/step - loss: 0.9112\n",
      "Epoch 100/100\n",
      "2907/2907 [==============================] - 3s 1ms/step - loss: 0.9123\n"
     ]
    },
    {
     "data": {
      "text/plain": [
       "<keras.callbacks.History at 0x1e5a4439550>"
      ]
     },
     "execution_count": 84,
     "metadata": {},
     "output_type": "execute_result"
    }
   ],
   "source": [
    "history = model.fit(X, y_norm, epochs=100)"
   ]
  },
  {
   "cell_type": "code",
   "execution_count": 85,
   "metadata": {},
   "outputs": [],
   "source": [
    "logits = model(X)\n",
    "f_X = tensorflow.nn.softmax(logits)"
   ]
  },
  {
   "cell_type": "code",
   "execution_count": 86,
   "metadata": {},
   "outputs": [
    {
     "data": {
      "text/plain": [
       "<tf.Tensor: shape=(92998, 3), dtype=float32, numpy=\n",
       "array([[0.21944645, 0.20352492, 0.5770286 ],\n",
       "       [0.21944645, 0.20352492, 0.5770286 ],\n",
       "       [0.29005608, 0.15898833, 0.55095553],\n",
       "       ...,\n",
       "       [0.3111105 , 0.14785105, 0.5410385 ],\n",
       "       [0.33792743, 0.13477142, 0.5273012 ],\n",
       "       [0.33792743, 0.13477142, 0.5273012 ]], dtype=float32)>"
      ]
     },
     "execution_count": 86,
     "metadata": {},
     "output_type": "execute_result"
    }
   ],
   "source": [
    "f_X"
   ]
  },
  {
   "cell_type": "code",
   "execution_count": null,
   "metadata": {},
   "outputs": [],
   "source": []
  }
 ],
 "metadata": {
  "kernelspec": {
   "display_name": "Python 3.9.6 64-bit",
   "language": "python",
   "name": "python3"
  },
  "language_info": {
   "codemirror_mode": {
    "name": "ipython",
    "version": 3
   },
   "file_extension": ".py",
   "mimetype": "text/x-python",
   "name": "python",
   "nbconvert_exporter": "python",
   "pygments_lexer": "ipython3",
   "version": "3.9.6"
  },
  "orig_nbformat": 4,
  "vscode": {
   "interpreter": {
    "hash": "9bec9a4fae84d278cecf29348292e5365ba4299e5d55caa00177d12a99bb9320"
   }
  }
 },
 "nbformat": 4,
 "nbformat_minor": 2
}
