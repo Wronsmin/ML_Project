{
 "cells": [
  {
   "cell_type": "code",
   "execution_count": 1,
   "metadata": {},
   "outputs": [],
   "source": [
    "import numpy as np \n",
    "import pandas as pd \n",
    "import matplotlib.pyplot as plt \n",
    "from sklearn.preprocessing import LabelEncoder\n",
    "from sklearn.model_selection import train_test_split\n",
    "\n",
    "import tensorflow\n",
    "from tensorflow.keras import Sequential\n",
    "from tensorflow.keras.optimizers import Adam\n",
    "from tensorflow.keras.layers import Dense, Input\n",
    "from tensorflow.keras.losses import SparseCategoricalCrossentropy\n",
    "from keras.callbacks import EarlyStopping"
   ]
  },
  {
   "cell_type": "code",
   "execution_count": 22,
   "metadata": {},
   "outputs": [],
   "source": [
    "df = pd.read_csv(\"../Data/train.csv\", low_memory=False)\n",
    "df[\"Num_of_Loan\"] = df[\"Num_of_Loan\"].str.replace(\"_\", \"\")\n",
    "df[\"Num_of_Loan\"] = pd.to_numeric(df[\"Num_of_Loan\"])\n",
    "\n",
    "df[\"Num_of_Delayed_Payment\"] = df[\"Num_of_Delayed_Payment\"].str.replace(\"_\", \"\")\n",
    "df[\"Num_of_Delayed_Payment\"] = pd.to_numeric(df[\"Num_of_Delayed_Payment\"])\n",
    "\n",
    "mask = df.Num_of_Delayed_Payment.notna()\n",
    "features = [\"Num_of_Loan\", \"Num_of_Delayed_Payment\", \"Interest_Rate\"]\n",
    "X = df.loc[mask, features].to_numpy()\n",
    "\n",
    "y = df.loc[mask, \"Credit_Score\"].to_numpy()"
   ]
  },
  {
   "cell_type": "code",
   "execution_count": 36,
   "metadata": {},
   "outputs": [
    {
     "data": {
      "text/html": [
       "<div>\n",
       "<style scoped>\n",
       "    .dataframe tbody tr th:only-of-type {\n",
       "        vertical-align: middle;\n",
       "    }\n",
       "\n",
       "    .dataframe tbody tr th {\n",
       "        vertical-align: top;\n",
       "    }\n",
       "\n",
       "    .dataframe thead th {\n",
       "        text-align: right;\n",
       "    }\n",
       "</style>\n",
       "<table border=\"1\" class=\"dataframe\">\n",
       "  <thead>\n",
       "    <tr style=\"text-align: right;\">\n",
       "      <th></th>\n",
       "      <th>Num_of_Loan</th>\n",
       "      <th>Num_of_Delayed_Payment</th>\n",
       "      <th>Interest_Rate</th>\n",
       "    </tr>\n",
       "  </thead>\n",
       "  <tbody>\n",
       "    <tr>\n",
       "      <th>count</th>\n",
       "      <td>100000.000000</td>\n",
       "      <td>92998.000000</td>\n",
       "      <td>100000.000000</td>\n",
       "    </tr>\n",
       "    <tr>\n",
       "      <th>mean</th>\n",
       "      <td>3.009960</td>\n",
       "      <td>30.923342</td>\n",
       "      <td>72.466040</td>\n",
       "    </tr>\n",
       "    <tr>\n",
       "      <th>std</th>\n",
       "      <td>62.647879</td>\n",
       "      <td>226.031892</td>\n",
       "      <td>466.422621</td>\n",
       "    </tr>\n",
       "    <tr>\n",
       "      <th>min</th>\n",
       "      <td>-100.000000</td>\n",
       "      <td>-3.000000</td>\n",
       "      <td>1.000000</td>\n",
       "    </tr>\n",
       "    <tr>\n",
       "      <th>25%</th>\n",
       "      <td>1.000000</td>\n",
       "      <td>9.000000</td>\n",
       "      <td>8.000000</td>\n",
       "    </tr>\n",
       "    <tr>\n",
       "      <th>50%</th>\n",
       "      <td>3.000000</td>\n",
       "      <td>14.000000</td>\n",
       "      <td>13.000000</td>\n",
       "    </tr>\n",
       "    <tr>\n",
       "      <th>75%</th>\n",
       "      <td>5.000000</td>\n",
       "      <td>18.000000</td>\n",
       "      <td>20.000000</td>\n",
       "    </tr>\n",
       "    <tr>\n",
       "      <th>max</th>\n",
       "      <td>1496.000000</td>\n",
       "      <td>4397.000000</td>\n",
       "      <td>5797.000000</td>\n",
       "    </tr>\n",
       "  </tbody>\n",
       "</table>\n",
       "</div>"
      ],
      "text/plain": [
       "         Num_of_Loan  Num_of_Delayed_Payment  Interest_Rate\n",
       "count  100000.000000            92998.000000  100000.000000\n",
       "mean        3.009960               30.923342      72.466040\n",
       "std        62.647879              226.031892     466.422621\n",
       "min      -100.000000               -3.000000       1.000000\n",
       "25%         1.000000                9.000000       8.000000\n",
       "50%         3.000000               14.000000      13.000000\n",
       "75%         5.000000               18.000000      20.000000\n",
       "max      1496.000000             4397.000000    5797.000000"
      ]
     },
     "execution_count": 36,
     "metadata": {},
     "output_type": "execute_result"
    }
   ],
   "source": [
    "df[features].describe()"
   ]
  },
  {
   "cell_type": "code",
   "execution_count": 23,
   "metadata": {},
   "outputs": [],
   "source": [
    "le = LabelEncoder()\n",
    "le.fit(y)\n",
    "\n",
    "y_norm = le.transform(y)"
   ]
  },
  {
   "cell_type": "code",
   "execution_count": 24,
   "metadata": {},
   "outputs": [],
   "source": [
    "mask = np.any(X>0, axis=1)\n",
    "X = X[mask]\n",
    "y_norm = y_norm[mask]"
   ]
  },
  {
   "cell_type": "code",
   "execution_count": 25,
   "metadata": {},
   "outputs": [],
   "source": [
    "X_train, X_test, y_train, y_test = train_test_split(X, y_norm, test_size=0.2)"
   ]
  },
  {
   "cell_type": "code",
   "execution_count": 26,
   "metadata": {},
   "outputs": [],
   "source": [
    "n_input = X.shape[-1]\n",
    "n_output = np.unique(y_norm).size"
   ]
  },
  {
   "cell_type": "code",
   "execution_count": 27,
   "metadata": {},
   "outputs": [],
   "source": [
    "Arch = [\n",
    "    Dense(units=n_input, activation='relu'),\n",
    "    Dense(units=n_output, activation='linear')\n",
    "]\n",
    "\n",
    "model = Sequential(Arch)"
   ]
  },
  {
   "cell_type": "code",
   "execution_count": 28,
   "metadata": {},
   "outputs": [],
   "source": [
    "opt = Adam(learning_rate=0.01)\n",
    "\n",
    "model.compile(loss=SparseCategoricalCrossentropy(from_logits=True), optimizer=opt)"
   ]
  },
  {
   "cell_type": "code",
   "execution_count": 29,
   "metadata": {},
   "outputs": [
    {
     "name": "stdout",
     "output_type": "stream",
     "text": [
      "Epoch 1/100\n",
      "1860/1860 [==============================] - 2s 913us/step - loss: 2.1402 - val_loss: 1.3968\n",
      "Epoch 2/100\n",
      "1860/1860 [==============================] - 2s 857us/step - loss: 0.9798 - val_loss: 0.8927\n",
      "Epoch 3/100\n",
      "1860/1860 [==============================] - 2s 845us/step - loss: 0.8825 - val_loss: 0.8708\n",
      "Epoch 4/100\n",
      "1860/1860 [==============================] - 2s 850us/step - loss: 0.8798 - val_loss: 0.8758\n",
      "Epoch 5/100\n",
      "1860/1860 [==============================] - 2s 846us/step - loss: 0.8841 - val_loss: 0.8727\n",
      "Epoch 6/100\n",
      "1860/1860 [==============================] - 2s 845us/step - loss: 0.8780 - val_loss: 0.8926\n",
      "Epoch 7/100\n",
      "1860/1860 [==============================] - 2s 894us/step - loss: 0.8699 - val_loss: 0.8482\n",
      "Epoch 8/100\n",
      "1860/1860 [==============================] - 2s 854us/step - loss: 0.8684 - val_loss: 0.8674\n",
      "Epoch 9/100\n",
      "1860/1860 [==============================] - 2s 867us/step - loss: 0.8707 - val_loss: 0.9327\n",
      "Epoch 10/100\n",
      "1860/1860 [==============================] - 2s 866us/step - loss: 0.8672 - val_loss: 0.8508\n",
      "Epoch 11/100\n",
      "1860/1860 [==============================] - 2s 887us/step - loss: 0.8674 - val_loss: 0.8518\n",
      "Epoch 12/100\n",
      "1860/1860 [==============================] - 2s 900us/step - loss: 0.8676 - val_loss: 0.8689\n",
      "Epoch 13/100\n",
      "1860/1860 [==============================] - 2s 892us/step - loss: 0.8641 - val_loss: 0.8492\n",
      "Epoch 14/100\n",
      "1860/1860 [==============================] - 2s 874us/step - loss: 0.8646 - val_loss: 0.8718\n",
      "Epoch 15/100\n",
      "1860/1860 [==============================] - 2s 904us/step - loss: 0.8648 - val_loss: 0.8668\n",
      "Epoch 16/100\n",
      "1860/1860 [==============================] - 2s 917us/step - loss: 0.8671 - val_loss: 0.8525\n",
      "Epoch 17/100\n",
      "1860/1860 [==============================] - 2s 856us/step - loss: 0.8649 - val_loss: 0.8574\n",
      "Epoch 18/100\n",
      "1860/1860 [==============================] - 2s 837us/step - loss: 0.8654 - val_loss: 0.8509\n",
      "Epoch 19/100\n",
      "1860/1860 [==============================] - 2s 880us/step - loss: 0.8642 - val_loss: 0.8626\n",
      "Epoch 20/100\n",
      "1860/1860 [==============================] - 2s 858us/step - loss: 0.8661 - val_loss: 0.8941\n",
      "Epoch 21/100\n",
      "1860/1860 [==============================] - 2s 849us/step - loss: 0.8664 - val_loss: 0.8728\n",
      "Epoch 22/100\n",
      "1860/1860 [==============================] - 2s 840us/step - loss: 0.8639 - val_loss: 0.8610\n",
      "Epoch 23/100\n",
      "1860/1860 [==============================] - 2s 851us/step - loss: 0.8659 - val_loss: 0.8597\n",
      "Epoch 24/100\n",
      "1860/1860 [==============================] - 2s 847us/step - loss: 0.8637 - val_loss: 0.8508\n",
      "Epoch 25/100\n",
      "1860/1860 [==============================] - 2s 849us/step - loss: 0.8652 - val_loss: 0.8722\n",
      "Epoch 26/100\n",
      "1860/1860 [==============================] - 2s 848us/step - loss: 0.8650 - val_loss: 0.8457\n",
      "Epoch 27/100\n",
      "1860/1860 [==============================] - 2s 851us/step - loss: 0.8658 - val_loss: 0.8554\n",
      "Epoch 28/100\n",
      "1860/1860 [==============================] - 2s 847us/step - loss: 0.8651 - val_loss: 0.8508\n",
      "Epoch 29/100\n",
      "1860/1860 [==============================] - 2s 842us/step - loss: 0.8647 - val_loss: 0.8728\n",
      "Epoch 30/100\n",
      "1860/1860 [==============================] - 2s 844us/step - loss: 0.8647 - val_loss: 0.8525\n",
      "Epoch 31/100\n",
      "1860/1860 [==============================] - 2s 842us/step - loss: 0.8632 - val_loss: 0.8460\n",
      "Epoch 32/100\n",
      "1860/1860 [==============================] - 2s 853us/step - loss: 0.8639 - val_loss: 0.8562\n",
      "Epoch 33/100\n",
      "1860/1860 [==============================] - 2s 849us/step - loss: 0.8645 - val_loss: 0.8494\n",
      "Epoch 34/100\n",
      "1860/1860 [==============================] - 2s 870us/step - loss: 0.8654 - val_loss: 0.8452\n",
      "Epoch 35/100\n",
      "1860/1860 [==============================] - 2s 845us/step - loss: 0.8636 - val_loss: 0.8472\n",
      "Epoch 36/100\n",
      "1860/1860 [==============================] - 2s 842us/step - loss: 0.8627 - val_loss: 0.8457\n",
      "Epoch 37/100\n",
      "1860/1860 [==============================] - 2s 848us/step - loss: 0.8650 - val_loss: 0.8570\n",
      "Epoch 38/100\n",
      "1860/1860 [==============================] - 2s 851us/step - loss: 0.8635 - val_loss: 0.8540\n",
      "Epoch 39/100\n",
      "1860/1860 [==============================] - 2s 842us/step - loss: 0.8645 - val_loss: 0.8502\n",
      "Epoch 40/100\n",
      "1860/1860 [==============================] - 2s 850us/step - loss: 0.8633 - val_loss: 0.8611\n",
      "Epoch 41/100\n",
      "1860/1860 [==============================] - 2s 856us/step - loss: 0.8636 - val_loss: 0.8518\n",
      "Epoch 42/100\n",
      "1860/1860 [==============================] - 2s 845us/step - loss: 0.8668 - val_loss: 0.8535\n",
      "Epoch 43/100\n",
      "1860/1860 [==============================] - 2s 837us/step - loss: 0.8629 - val_loss: 0.8486\n",
      "Epoch 44/100\n",
      "1860/1860 [==============================] - 2s 842us/step - loss: 0.8645 - val_loss: 0.8599\n",
      "Epoch 45/100\n",
      "1860/1860 [==============================] - 2s 840us/step - loss: 0.8636 - val_loss: 0.8495\n",
      "Epoch 46/100\n",
      "1860/1860 [==============================] - 2s 845us/step - loss: 0.8658 - val_loss: 0.8603\n",
      "Epoch 47/100\n",
      "1860/1860 [==============================] - 2s 847us/step - loss: 0.8620 - val_loss: 0.8599\n",
      "Epoch 48/100\n",
      "1860/1860 [==============================] - 2s 853us/step - loss: 0.8654 - val_loss: 0.8589\n",
      "Epoch 49/100\n",
      "1860/1860 [==============================] - 2s 841us/step - loss: 0.8622 - val_loss: 0.8542\n",
      "Epoch 50/100\n",
      "1860/1860 [==============================] - 2s 845us/step - loss: 0.8656 - val_loss: 0.8520\n",
      "Epoch 51/100\n",
      "1860/1860 [==============================] - 2s 839us/step - loss: 0.8641 - val_loss: 0.8607\n",
      "Epoch 52/100\n",
      "1860/1860 [==============================] - 2s 852us/step - loss: 0.8636 - val_loss: 0.8577\n",
      "Epoch 53/100\n",
      "1860/1860 [==============================] - 2s 843us/step - loss: 0.8629 - val_loss: 0.8498\n",
      "Epoch 54/100\n",
      "1860/1860 [==============================] - 2s 847us/step - loss: 0.8631 - val_loss: 0.8665\n",
      "Epoch 55/100\n",
      "1860/1860 [==============================] - 2s 856us/step - loss: 0.8638 - val_loss: 0.8591\n",
      "Epoch 56/100\n",
      "1860/1860 [==============================] - 2s 845us/step - loss: 0.8634 - val_loss: 0.8581\n",
      "Epoch 57/100\n",
      "1860/1860 [==============================] - 2s 840us/step - loss: 0.8643 - val_loss: 0.8539\n",
      "Epoch 58/100\n",
      "1860/1860 [==============================] - 2s 849us/step - loss: 0.8642 - val_loss: 0.8542\n",
      "Epoch 59/100\n",
      "1860/1860 [==============================] - 2s 844us/step - loss: 0.8646 - val_loss: 0.8577\n",
      "Epoch 60/100\n",
      "1860/1860 [==============================] - 2s 841us/step - loss: 0.8619 - val_loss: 0.8683\n",
      "Epoch 61/100\n",
      "1860/1860 [==============================] - 2s 846us/step - loss: 0.8627 - val_loss: 0.8821\n",
      "Epoch 62/100\n",
      "1860/1860 [==============================] - 2s 857us/step - loss: 0.8648 - val_loss: 0.8521\n",
      "Epoch 63/100\n",
      "1860/1860 [==============================] - 2s 848us/step - loss: 0.8620 - val_loss: 0.8740\n",
      "Epoch 64/100\n",
      "1860/1860 [==============================] - 2s 846us/step - loss: 0.8622 - val_loss: 0.8560\n",
      "Epoch 65/100\n",
      "1860/1860 [==============================] - 2s 842us/step - loss: 0.8655 - val_loss: 0.8468\n",
      "Epoch 66/100\n",
      "1860/1860 [==============================] - 2s 839us/step - loss: 0.8624 - val_loss: 0.8507\n",
      "Epoch 67/100\n",
      "1860/1860 [==============================] - 2s 844us/step - loss: 0.8645 - val_loss: 0.8832\n",
      "Epoch 68/100\n",
      "1860/1860 [==============================] - 2s 834us/step - loss: 0.8625 - val_loss: 0.8519\n",
      "Epoch 69/100\n",
      "1860/1860 [==============================] - 2s 862us/step - loss: 0.8641 - val_loss: 0.8604\n",
      "Epoch 70/100\n",
      "1860/1860 [==============================] - 2s 847us/step - loss: 0.8639 - val_loss: 0.8554\n",
      "Epoch 71/100\n",
      "1860/1860 [==============================] - 2s 840us/step - loss: 0.8643 - val_loss: 0.8490\n",
      "Epoch 72/100\n",
      "1860/1860 [==============================] - 2s 858us/step - loss: 0.8639 - val_loss: 0.8549\n",
      "Epoch 73/100\n",
      "1860/1860 [==============================] - 2s 843us/step - loss: 0.8641 - val_loss: 0.8560\n",
      "Epoch 74/100\n",
      "1860/1860 [==============================] - 2s 845us/step - loss: 0.8631 - val_loss: 0.8502\n",
      "Epoch 75/100\n",
      "1860/1860 [==============================] - 2s 840us/step - loss: 0.8640 - val_loss: 0.8609\n",
      "Epoch 76/100\n",
      "1860/1860 [==============================] - 2s 863us/step - loss: 0.8662 - val_loss: 0.8607\n",
      "Epoch 77/100\n",
      "1860/1860 [==============================] - 2s 852us/step - loss: 0.8626 - val_loss: 0.8659\n",
      "Epoch 78/100\n",
      "1860/1860 [==============================] - 2s 849us/step - loss: 0.8651 - val_loss: 0.8513\n",
      "Epoch 79/100\n",
      "1860/1860 [==============================] - 2s 846us/step - loss: 0.8629 - val_loss: 0.8481\n",
      "Epoch 80/100\n",
      "1860/1860 [==============================] - 2s 854us/step - loss: 0.8653 - val_loss: 0.8506\n",
      "Epoch 81/100\n",
      "1860/1860 [==============================] - 2s 842us/step - loss: 0.8653 - val_loss: 0.8680\n",
      "Epoch 82/100\n",
      "1860/1860 [==============================] - 2s 847us/step - loss: 0.8637 - val_loss: 0.8487\n",
      "Epoch 83/100\n",
      "1860/1860 [==============================] - 2s 854us/step - loss: 0.8646 - val_loss: 0.8490\n",
      "Epoch 84/100\n",
      "1860/1860 [==============================] - 2s 848us/step - loss: 0.8603 - val_loss: 0.8761\n",
      "Epoch 85/100\n",
      "1860/1860 [==============================] - 2s 841us/step - loss: 0.8632 - val_loss: 0.8469\n",
      "Epoch 86/100\n",
      "1860/1860 [==============================] - 2s 845us/step - loss: 0.8658 - val_loss: 0.8581\n",
      "Epoch 87/100\n",
      "1860/1860 [==============================] - 2s 847us/step - loss: 0.8643 - val_loss: 0.8597\n",
      "Epoch 88/100\n",
      "1860/1860 [==============================] - 2s 841us/step - loss: 0.8643 - val_loss: 0.8569\n",
      "Epoch 89/100\n",
      "1860/1860 [==============================] - 2s 841us/step - loss: 0.8632 - val_loss: 0.8606\n",
      "Epoch 90/100\n",
      "1860/1860 [==============================] - 2s 871us/step - loss: 0.8648 - val_loss: 0.8804\n",
      "Epoch 91/100\n",
      "1860/1860 [==============================] - 2s 842us/step - loss: 0.8622 - val_loss: 0.8482\n",
      "Epoch 92/100\n",
      "1860/1860 [==============================] - 2s 839us/step - loss: 0.8639 - val_loss: 0.8613\n",
      "Epoch 93/100\n",
      "1860/1860 [==============================] - 2s 830us/step - loss: 0.8634 - val_loss: 0.8472\n",
      "Epoch 94/100\n",
      "1860/1860 [==============================] - 2s 845us/step - loss: 0.8683 - val_loss: 0.8548\n",
      "Epoch 95/100\n",
      "1860/1860 [==============================] - 2s 846us/step - loss: 0.8642 - val_loss: 0.8548\n",
      "Epoch 96/100\n",
      "1860/1860 [==============================] - 2s 853us/step - loss: 0.8644 - val_loss: 0.8541\n",
      "Epoch 97/100\n",
      "1860/1860 [==============================] - 2s 842us/step - loss: 0.8628 - val_loss: 0.8534\n",
      "Epoch 98/100\n",
      "1860/1860 [==============================] - 2s 864us/step - loss: 0.8650 - val_loss: 0.8531\n",
      "Epoch 99/100\n",
      "1860/1860 [==============================] - 2s 839us/step - loss: 0.8643 - val_loss: 0.8552\n",
      "Epoch 100/100\n",
      "1860/1860 [==============================] - 2s 840us/step - loss: 0.8647 - val_loss: 0.8562\n"
     ]
    }
   ],
   "source": [
    "history = model.fit(X_train, y_train, epochs=100, validation_split=0.2)"
   ]
  },
  {
   "cell_type": "code",
   "execution_count": 30,
   "metadata": {},
   "outputs": [],
   "source": [
    "logits = model(X_train)\n",
    "f_X = tensorflow.nn.softmax(logits)"
   ]
  },
  {
   "cell_type": "code",
   "execution_count": 31,
   "metadata": {},
   "outputs": [],
   "source": [
    "y_hat = np.argmax(f_X, axis=1)"
   ]
  },
  {
   "cell_type": "code",
   "execution_count": 32,
   "metadata": {},
   "outputs": [
    {
     "data": {
      "text/plain": [
       "(array([0, 1, 2], dtype=int64), array([ 9573, 18575, 46250], dtype=int64))"
      ]
     },
     "execution_count": 32,
     "metadata": {},
     "output_type": "execute_result"
    }
   ],
   "source": [
    "np.unique(np.argmax(f_X, axis=1), return_counts=1)"
   ]
  },
  {
   "cell_type": "code",
   "execution_count": 33,
   "metadata": {},
   "outputs": [],
   "source": [
    "from sklearn.metrics import classification_report, confusion_matrix"
   ]
  },
  {
   "cell_type": "code",
   "execution_count": 34,
   "metadata": {},
   "outputs": [
    {
     "name": "stdout",
     "output_type": "stream",
     "text": [
      "              precision    recall  f1-score   support\n",
      "\n",
      "           0       0.46      0.33      0.39     13332\n",
      "           1       0.59      0.51      0.55     21616\n",
      "           2       0.62      0.73      0.67     39450\n",
      "\n",
      "    accuracy                           0.59     74398\n",
      "   macro avg       0.56      0.52      0.53     74398\n",
      "weighted avg       0.58      0.59      0.58     74398\n",
      "\n"
     ]
    }
   ],
   "source": [
    "print(classification_report(y_train, y_hat))"
   ]
  },
  {
   "cell_type": "code",
   "execution_count": 35,
   "metadata": {},
   "outputs": [
    {
     "data": {
      "text/plain": [
       "[<matplotlib.lines.Line2D at 0x1f4513b2a90>]"
      ]
     },
     "execution_count": 35,
     "metadata": {},
     "output_type": "execute_result"
    },
    {
     "data": {
      "image/png": "[encoded data removed]",
      "text/plain": [
       "<Figure size 432x288 with 1 Axes>"
      ]
     },
     "metadata": {
      "needs_background": "light"
     },
     "output_type": "display_data"
    }
   ],
   "source": [
    "plt.plot(history.history[\"loss\"])\n",
    "plt.plot(history.history[\"val_loss\"])\n",
    "#plt.xlim(0,20)"
   ]
  }
 ],
 "metadata": {
  "kernelspec": {
   "display_name": "Python 3.9.6 64-bit",
   "language": "python",
   "name": "python3"
  },
  "language_info": {
   "codemirror_mode": {
    "name": "ipython",
    "version": 3
   },
   "file_extension": ".py",
   "mimetype": "text/x-python",
   "name": "python",
   "nbconvert_exporter": "python",
   "pygments_lexer": "ipython3",
   "version": "3.9.6"
  },
  "orig_nbformat": 4,
  "vscode": {
   "interpreter": {
    "hash": "9bec9a4fae84d278cecf29348292e5365ba4299e5d55caa00177d12a99bb9320"
   }
  }
 },
 "nbformat": 4,
 "nbformat_minor": 2
}
