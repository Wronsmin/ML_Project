{
 "cells": [
  {
   "cell_type": "code",
   "execution_count": 1,
   "metadata": {},
   "outputs": [],
   "source": [
    "import numpy as np \n",
    "import pandas as pd \n",
    "import matplotlib.pyplot as plt \n",
    "from sklearn.preprocessing import LabelEncoder\n",
    "from sklearn.model_selection import train_test_split\n",
    "from sklearn.preprocessing import MinMaxScaler\n",
    "\n",
    "import tensorflow\n",
    "from tensorflow.keras import Sequential\n",
    "from tensorflow.keras.optimizers import Adam\n",
    "from tensorflow.keras.layers import Dense, Input\n",
    "from tensorflow.keras.losses import SparseCategoricalCrossentropy\n",
    "from keras.callbacks import EarlyStopping\n",
    "\n",
    "scaler = MinMaxScaler()"
   ]
  },
  {
   "cell_type": "code",
   "execution_count": 2,
   "metadata": {},
   "outputs": [],
   "source": [
    "df = pd.read_csv(\"../Data/train_preprocessed.csv\", low_memory=False)\n",
    "\n",
    "features = [\"Num_of_Loan\", \"Num_of_Delayed_Payment\", \"Interest_Rate\", 'Annual_Income']\n",
    "X = df[features].to_numpy()\n",
    "\n",
    "y = df[\"Credit_Score\"].to_numpy()"
   ]
  },
  {
   "cell_type": "code",
   "execution_count": 3,
   "metadata": {},
   "outputs": [],
   "source": [
    "X = scaler.fit_transform(X)"
   ]
  },
  {
   "cell_type": "markdown",
   "metadata": {},
   "source": [
    "# Feature Selection with:\n",
    "1. Mutual Information \n",
    "2. PCA\n",
    "3. Gini (non quella di H.P.)\n",
    "4. Random Forest (information Gain)"
   ]
  },
  {
   "cell_type": "code",
   "execution_count": 27,
   "metadata": {},
   "outputs": [
    {
     "ename": "ValueError",
     "evalue": "could not convert string to float: 'CUS_0xd40'",
     "output_type": "error",
     "traceback": [
      "\u001b[1;31m---------------------------------------------------------------------------\u001b[0m",
      "\u001b[1;31mValueError\u001b[0m                                Traceback (most recent call last)",
      "\u001b[1;32m~\\AppData\\Local\\Temp/ipykernel_1796/748398295.py\u001b[0m in \u001b[0;36m<module>\u001b[1;34m\u001b[0m\n\u001b[0;32m      1\u001b[0m \u001b[1;32mfrom\u001b[0m \u001b[0msklearn\u001b[0m\u001b[1;33m.\u001b[0m\u001b[0mfeature_selection\u001b[0m \u001b[1;32mimport\u001b[0m \u001b[0mmutual_info_regression\u001b[0m\u001b[1;33m,\u001b[0m \u001b[0mmutual_info_classif\u001b[0m\u001b[1;33m\u001b[0m\u001b[1;33m\u001b[0m\u001b[0m\n\u001b[0;32m      2\u001b[0m \u001b[1;33m\u001b[0m\u001b[0m\n\u001b[1;32m----> 3\u001b[1;33m \u001b[0mmutual_info_classif\u001b[0m\u001b[1;33m(\u001b[0m\u001b[0mdf\u001b[0m\u001b[1;33m,\u001b[0m \u001b[0my_norm\u001b[0m\u001b[1;33m)\u001b[0m\u001b[1;33m\u001b[0m\u001b[1;33m\u001b[0m\u001b[0m\n\u001b[0m\u001b[0;32m      4\u001b[0m \u001b[1;31m#mutual_info_regression(df.to_numpy()[:, 3:-1], y_norm)\u001b[0m\u001b[1;33m\u001b[0m\u001b[1;33m\u001b[0m\u001b[1;33m\u001b[0m\u001b[0m\n",
      "\u001b[1;32mc:\\Users\\cosmi\\AppData\\Local\\Programs\\Python\\Python39\\lib\\site-packages\\sklearn\\utils\\validation.py\u001b[0m in \u001b[0;36minner_f\u001b[1;34m(*args, **kwargs)\u001b[0m\n\u001b[0;32m     61\u001b[0m             \u001b[0mextra_args\u001b[0m \u001b[1;33m=\u001b[0m \u001b[0mlen\u001b[0m\u001b[1;33m(\u001b[0m\u001b[0margs\u001b[0m\u001b[1;33m)\u001b[0m \u001b[1;33m-\u001b[0m \u001b[0mlen\u001b[0m\u001b[1;33m(\u001b[0m\u001b[0mall_args\u001b[0m\u001b[1;33m)\u001b[0m\u001b[1;33m\u001b[0m\u001b[1;33m\u001b[0m\u001b[0m\n\u001b[0;32m     62\u001b[0m             \u001b[1;32mif\u001b[0m \u001b[0mextra_args\u001b[0m \u001b[1;33m<=\u001b[0m \u001b[1;36m0\u001b[0m\u001b[1;33m:\u001b[0m\u001b[1;33m\u001b[0m\u001b[1;33m\u001b[0m\u001b[0m\n\u001b[1;32m---> 63\u001b[1;33m                 \u001b[1;32mreturn\u001b[0m \u001b[0mf\u001b[0m\u001b[1;33m(\u001b[0m\u001b[1;33m*\u001b[0m\u001b[0margs\u001b[0m\u001b[1;33m,\u001b[0m \u001b[1;33m**\u001b[0m\u001b[0mkwargs\u001b[0m\u001b[1;33m)\u001b[0m\u001b[1;33m\u001b[0m\u001b[1;33m\u001b[0m\u001b[0m\n\u001b[0m\u001b[0;32m     64\u001b[0m \u001b[1;33m\u001b[0m\u001b[0m\n\u001b[0;32m     65\u001b[0m             \u001b[1;31m# extra_args > 0\u001b[0m\u001b[1;33m\u001b[0m\u001b[1;33m\u001b[0m\u001b[1;33m\u001b[0m\u001b[0m\n",
      "\u001b[1;32mc:\\Users\\cosmi\\AppData\\Local\\Programs\\Python\\Python39\\lib\\site-packages\\sklearn\\feature_selection\\_mutual_info.py\u001b[0m in \u001b[0;36mmutual_info_classif\u001b[1;34m(X, y, discrete_features, n_neighbors, copy, random_state)\u001b[0m\n\u001b[0;32m    446\u001b[0m     \"\"\"\n\u001b[0;32m    447\u001b[0m     \u001b[0mcheck_classification_targets\u001b[0m\u001b[1;33m(\u001b[0m\u001b[0my\u001b[0m\u001b[1;33m)\u001b[0m\u001b[1;33m\u001b[0m\u001b[1;33m\u001b[0m\u001b[0m\n\u001b[1;32m--> 448\u001b[1;33m     return _estimate_mi(X, y, discrete_features, True, n_neighbors,\n\u001b[0m\u001b[0;32m    449\u001b[0m                         copy, random_state)\n",
      "\u001b[1;32mc:\\Users\\cosmi\\AppData\\Local\\Programs\\Python\\Python39\\lib\\site-packages\\sklearn\\feature_selection\\_mutual_info.py\u001b[0m in \u001b[0;36m_estimate_mi\u001b[1;34m(X, y, discrete_features, discrete_target, n_neighbors, copy, random_state)\u001b[0m\n\u001b[0;32m    241\u001b[0m            \u001b[0mData\u001b[0m \u001b[0mSets\u001b[0m\u001b[0;31m\"\u001b[0m\u001b[1;33m.\u001b[0m \u001b[0mPLoS\u001b[0m \u001b[0mONE\u001b[0m \u001b[1;36m9\u001b[0m\u001b[1;33m(\u001b[0m\u001b[1;36m2\u001b[0m\u001b[1;33m)\u001b[0m\u001b[1;33m,\u001b[0m \u001b[1;36m2014.\u001b[0m\u001b[1;33m\u001b[0m\u001b[1;33m\u001b[0m\u001b[0m\n\u001b[0;32m    242\u001b[0m     \"\"\"\n\u001b[1;32m--> 243\u001b[1;33m     \u001b[0mX\u001b[0m\u001b[1;33m,\u001b[0m \u001b[0my\u001b[0m \u001b[1;33m=\u001b[0m \u001b[0mcheck_X_y\u001b[0m\u001b[1;33m(\u001b[0m\u001b[0mX\u001b[0m\u001b[1;33m,\u001b[0m \u001b[0my\u001b[0m\u001b[1;33m,\u001b[0m \u001b[0maccept_sparse\u001b[0m\u001b[1;33m=\u001b[0m\u001b[1;34m'csc'\u001b[0m\u001b[1;33m,\u001b[0m \u001b[0my_numeric\u001b[0m\u001b[1;33m=\u001b[0m\u001b[1;32mnot\u001b[0m \u001b[0mdiscrete_target\u001b[0m\u001b[1;33m)\u001b[0m\u001b[1;33m\u001b[0m\u001b[1;33m\u001b[0m\u001b[0m\n\u001b[0m\u001b[0;32m    244\u001b[0m     \u001b[0mn_samples\u001b[0m\u001b[1;33m,\u001b[0m \u001b[0mn_features\u001b[0m \u001b[1;33m=\u001b[0m \u001b[0mX\u001b[0m\u001b[1;33m.\u001b[0m\u001b[0mshape\u001b[0m\u001b[1;33m\u001b[0m\u001b[1;33m\u001b[0m\u001b[0m\n\u001b[0;32m    245\u001b[0m \u001b[1;33m\u001b[0m\u001b[0m\n",
      "\u001b[1;32mc:\\Users\\cosmi\\AppData\\Local\\Programs\\Python\\Python39\\lib\\site-packages\\sklearn\\utils\\validation.py\u001b[0m in \u001b[0;36minner_f\u001b[1;34m(*args, **kwargs)\u001b[0m\n\u001b[0;32m     61\u001b[0m             \u001b[0mextra_args\u001b[0m \u001b[1;33m=\u001b[0m \u001b[0mlen\u001b[0m\u001b[1;33m(\u001b[0m\u001b[0margs\u001b[0m\u001b[1;33m)\u001b[0m \u001b[1;33m-\u001b[0m \u001b[0mlen\u001b[0m\u001b[1;33m(\u001b[0m\u001b[0mall_args\u001b[0m\u001b[1;33m)\u001b[0m\u001b[1;33m\u001b[0m\u001b[1;33m\u001b[0m\u001b[0m\n\u001b[0;32m     62\u001b[0m             \u001b[1;32mif\u001b[0m \u001b[0mextra_args\u001b[0m \u001b[1;33m<=\u001b[0m \u001b[1;36m0\u001b[0m\u001b[1;33m:\u001b[0m\u001b[1;33m\u001b[0m\u001b[1;33m\u001b[0m\u001b[0m\n\u001b[1;32m---> 63\u001b[1;33m                 \u001b[1;32mreturn\u001b[0m \u001b[0mf\u001b[0m\u001b[1;33m(\u001b[0m\u001b[1;33m*\u001b[0m\u001b[0margs\u001b[0m\u001b[1;33m,\u001b[0m \u001b[1;33m**\u001b[0m\u001b[0mkwargs\u001b[0m\u001b[1;33m)\u001b[0m\u001b[1;33m\u001b[0m\u001b[1;33m\u001b[0m\u001b[0m\n\u001b[0m\u001b[0;32m     64\u001b[0m \u001b[1;33m\u001b[0m\u001b[0m\n\u001b[0;32m     65\u001b[0m             \u001b[1;31m# extra_args > 0\u001b[0m\u001b[1;33m\u001b[0m\u001b[1;33m\u001b[0m\u001b[1;33m\u001b[0m\u001b[0m\n",
      "\u001b[1;32mc:\\Users\\cosmi\\AppData\\Local\\Programs\\Python\\Python39\\lib\\site-packages\\sklearn\\utils\\validation.py\u001b[0m in \u001b[0;36mcheck_X_y\u001b[1;34m(X, y, accept_sparse, accept_large_sparse, dtype, order, copy, force_all_finite, ensure_2d, allow_nd, multi_output, ensure_min_samples, ensure_min_features, y_numeric, estimator)\u001b[0m\n\u001b[0;32m    869\u001b[0m         \u001b[1;32mraise\u001b[0m \u001b[0mValueError\u001b[0m\u001b[1;33m(\u001b[0m\u001b[1;34m\"y cannot be None\"\u001b[0m\u001b[1;33m)\u001b[0m\u001b[1;33m\u001b[0m\u001b[1;33m\u001b[0m\u001b[0m\n\u001b[0;32m    870\u001b[0m \u001b[1;33m\u001b[0m\u001b[0m\n\u001b[1;32m--> 871\u001b[1;33m     X = check_array(X, accept_sparse=accept_sparse,\n\u001b[0m\u001b[0;32m    872\u001b[0m                     \u001b[0maccept_large_sparse\u001b[0m\u001b[1;33m=\u001b[0m\u001b[0maccept_large_sparse\u001b[0m\u001b[1;33m,\u001b[0m\u001b[1;33m\u001b[0m\u001b[1;33m\u001b[0m\u001b[0m\n\u001b[0;32m    873\u001b[0m                     \u001b[0mdtype\u001b[0m\u001b[1;33m=\u001b[0m\u001b[0mdtype\u001b[0m\u001b[1;33m,\u001b[0m \u001b[0morder\u001b[0m\u001b[1;33m=\u001b[0m\u001b[0morder\u001b[0m\u001b[1;33m,\u001b[0m \u001b[0mcopy\u001b[0m\u001b[1;33m=\u001b[0m\u001b[0mcopy\u001b[0m\u001b[1;33m,\u001b[0m\u001b[1;33m\u001b[0m\u001b[1;33m\u001b[0m\u001b[0m\n",
      "\u001b[1;32mc:\\Users\\cosmi\\AppData\\Local\\Programs\\Python\\Python39\\lib\\site-packages\\sklearn\\utils\\validation.py\u001b[0m in \u001b[0;36minner_f\u001b[1;34m(*args, **kwargs)\u001b[0m\n\u001b[0;32m     61\u001b[0m             \u001b[0mextra_args\u001b[0m \u001b[1;33m=\u001b[0m \u001b[0mlen\u001b[0m\u001b[1;33m(\u001b[0m\u001b[0margs\u001b[0m\u001b[1;33m)\u001b[0m \u001b[1;33m-\u001b[0m \u001b[0mlen\u001b[0m\u001b[1;33m(\u001b[0m\u001b[0mall_args\u001b[0m\u001b[1;33m)\u001b[0m\u001b[1;33m\u001b[0m\u001b[1;33m\u001b[0m\u001b[0m\n\u001b[0;32m     62\u001b[0m             \u001b[1;32mif\u001b[0m \u001b[0mextra_args\u001b[0m \u001b[1;33m<=\u001b[0m \u001b[1;36m0\u001b[0m\u001b[1;33m:\u001b[0m\u001b[1;33m\u001b[0m\u001b[1;33m\u001b[0m\u001b[0m\n\u001b[1;32m---> 63\u001b[1;33m                 \u001b[1;32mreturn\u001b[0m \u001b[0mf\u001b[0m\u001b[1;33m(\u001b[0m\u001b[1;33m*\u001b[0m\u001b[0margs\u001b[0m\u001b[1;33m,\u001b[0m \u001b[1;33m**\u001b[0m\u001b[0mkwargs\u001b[0m\u001b[1;33m)\u001b[0m\u001b[1;33m\u001b[0m\u001b[1;33m\u001b[0m\u001b[0m\n\u001b[0m\u001b[0;32m     64\u001b[0m \u001b[1;33m\u001b[0m\u001b[0m\n\u001b[0;32m     65\u001b[0m             \u001b[1;31m# extra_args > 0\u001b[0m\u001b[1;33m\u001b[0m\u001b[1;33m\u001b[0m\u001b[1;33m\u001b[0m\u001b[0m\n",
      "\u001b[1;32mc:\\Users\\cosmi\\AppData\\Local\\Programs\\Python\\Python39\\lib\\site-packages\\sklearn\\utils\\validation.py\u001b[0m in \u001b[0;36mcheck_array\u001b[1;34m(array, accept_sparse, accept_large_sparse, dtype, order, copy, force_all_finite, ensure_2d, allow_nd, ensure_min_samples, ensure_min_features, estimator)\u001b[0m\n\u001b[0;32m    671\u001b[0m                     \u001b[0marray\u001b[0m \u001b[1;33m=\u001b[0m \u001b[0marray\u001b[0m\u001b[1;33m.\u001b[0m\u001b[0mastype\u001b[0m\u001b[1;33m(\u001b[0m\u001b[0mdtype\u001b[0m\u001b[1;33m,\u001b[0m \u001b[0mcasting\u001b[0m\u001b[1;33m=\u001b[0m\u001b[1;34m\"unsafe\"\u001b[0m\u001b[1;33m,\u001b[0m \u001b[0mcopy\u001b[0m\u001b[1;33m=\u001b[0m\u001b[1;32mFalse\u001b[0m\u001b[1;33m)\u001b[0m\u001b[1;33m\u001b[0m\u001b[1;33m\u001b[0m\u001b[0m\n\u001b[0;32m    672\u001b[0m                 \u001b[1;32melse\u001b[0m\u001b[1;33m:\u001b[0m\u001b[1;33m\u001b[0m\u001b[1;33m\u001b[0m\u001b[0m\n\u001b[1;32m--> 673\u001b[1;33m                     \u001b[0marray\u001b[0m \u001b[1;33m=\u001b[0m \u001b[0mnp\u001b[0m\u001b[1;33m.\u001b[0m\u001b[0masarray\u001b[0m\u001b[1;33m(\u001b[0m\u001b[0marray\u001b[0m\u001b[1;33m,\u001b[0m \u001b[0morder\u001b[0m\u001b[1;33m=\u001b[0m\u001b[0morder\u001b[0m\u001b[1;33m,\u001b[0m \u001b[0mdtype\u001b[0m\u001b[1;33m=\u001b[0m\u001b[0mdtype\u001b[0m\u001b[1;33m)\u001b[0m\u001b[1;33m\u001b[0m\u001b[1;33m\u001b[0m\u001b[0m\n\u001b[0m\u001b[0;32m    674\u001b[0m             \u001b[1;32mexcept\u001b[0m \u001b[0mComplexWarning\u001b[0m \u001b[1;32mas\u001b[0m \u001b[0mcomplex_warning\u001b[0m\u001b[1;33m:\u001b[0m\u001b[1;33m\u001b[0m\u001b[1;33m\u001b[0m\u001b[0m\n\u001b[0;32m    675\u001b[0m                 raise ValueError(\"Complex data not supported\\n\"\n",
      "\u001b[1;32mc:\\Users\\cosmi\\AppData\\Local\\Programs\\Python\\Python39\\lib\\site-packages\\pandas\\core\\generic.py\u001b[0m in \u001b[0;36m__array__\u001b[1;34m(self, dtype)\u001b[0m\n\u001b[0;32m   1897\u001b[0m \u001b[1;33m\u001b[0m\u001b[0m\n\u001b[0;32m   1898\u001b[0m     \u001b[1;32mdef\u001b[0m \u001b[0m__array__\u001b[0m\u001b[1;33m(\u001b[0m\u001b[0mself\u001b[0m\u001b[1;33m,\u001b[0m \u001b[0mdtype\u001b[0m\u001b[1;33m=\u001b[0m\u001b[1;32mNone\u001b[0m\u001b[1;33m)\u001b[0m \u001b[1;33m->\u001b[0m \u001b[0mnp\u001b[0m\u001b[1;33m.\u001b[0m\u001b[0mndarray\u001b[0m\u001b[1;33m:\u001b[0m\u001b[1;33m\u001b[0m\u001b[1;33m\u001b[0m\u001b[0m\n\u001b[1;32m-> 1899\u001b[1;33m         \u001b[1;32mreturn\u001b[0m \u001b[0mnp\u001b[0m\u001b[1;33m.\u001b[0m\u001b[0masarray\u001b[0m\u001b[1;33m(\u001b[0m\u001b[0mself\u001b[0m\u001b[1;33m.\u001b[0m\u001b[0m_values\u001b[0m\u001b[1;33m,\u001b[0m \u001b[0mdtype\u001b[0m\u001b[1;33m=\u001b[0m\u001b[0mdtype\u001b[0m\u001b[1;33m)\u001b[0m\u001b[1;33m\u001b[0m\u001b[1;33m\u001b[0m\u001b[0m\n\u001b[0m\u001b[0;32m   1900\u001b[0m \u001b[1;33m\u001b[0m\u001b[0m\n\u001b[0;32m   1901\u001b[0m     def __array_wrap__(\n",
      "\u001b[1;31mValueError\u001b[0m: could not convert string to float: 'CUS_0xd40'"
     ]
    }
   ],
   "source": [
    "from sklearn.feature_selection import mutual_info_regression, mutual_info_classif\n",
    "\n",
    "mutual_info_classif(df, y_norm)\n",
    "#mutual_info_regression(df.to_numpy()[:, 3:-1], y_norm)"
   ]
  },
  {
   "cell_type": "code",
   "execution_count": 20,
   "metadata": {},
   "outputs": [
    {
     "data": {
      "text/plain": [
       "['Customer_ID',\n",
       " 'Month',\n",
       " 'Age',\n",
       " 'Occupation',\n",
       " 'Monthly_Inhand_Salary',\n",
       " 'Num_Bank_Accounts',\n",
       " 'Num_Credit_Card',\n",
       " 'Type_of_Loan',\n",
       " 'Delay_from_due_date',\n",
       " 'Changed_Credit_Limit',\n",
       " 'Num_Credit_Inquiries',\n",
       " 'Credit_Mix',\n",
       " 'Outstanding_Debt',\n",
       " 'Credit_Utilization_Ratio',\n",
       " 'Credit_History_Age',\n",
       " 'Payment_of_Min_Amount',\n",
       " 'Total_EMI_per_month',\n",
       " 'Amount_invested_monthly',\n",
       " 'Payment_Behaviour',\n",
       " 'Monthly_Balance',\n",
       " 'Credit_Score']"
      ]
     },
     "execution_count": 20,
     "metadata": {},
     "output_type": "execute_result"
    }
   ],
   "source": [
    "[col for col in df.columns if col not in features]"
   ]
  },
  {
   "cell_type": "code",
   "execution_count": 5,
   "metadata": {},
   "outputs": [
    {
     "data": {
      "text/html": [
       "<div>\n",
       "<style scoped>\n",
       "    .dataframe tbody tr th:only-of-type {\n",
       "        vertical-align: middle;\n",
       "    }\n",
       "\n",
       "    .dataframe tbody tr th {\n",
       "        vertical-align: top;\n",
       "    }\n",
       "\n",
       "    .dataframe thead th {\n",
       "        text-align: right;\n",
       "    }\n",
       "</style>\n",
       "<table border=\"1\" class=\"dataframe\">\n",
       "  <thead>\n",
       "    <tr style=\"text-align: right;\">\n",
       "      <th></th>\n",
       "      <th>Num_of_Loan</th>\n",
       "      <th>Num_of_Delayed_Payment</th>\n",
       "      <th>Interest_Rate</th>\n",
       "      <th>Annual_Income</th>\n",
       "    </tr>\n",
       "  </thead>\n",
       "  <tbody>\n",
       "    <tr>\n",
       "      <th>count</th>\n",
       "      <td>53335.000000</td>\n",
       "      <td>53335.000000</td>\n",
       "      <td>53335.000000</td>\n",
       "      <td>5.333500e+04</td>\n",
       "    </tr>\n",
       "    <tr>\n",
       "      <th>mean</th>\n",
       "      <td>3.896184</td>\n",
       "      <td>31.860486</td>\n",
       "      <td>14.900066</td>\n",
       "      <td>1.577983e+14</td>\n",
       "    </tr>\n",
       "    <tr>\n",
       "      <th>std</th>\n",
       "      <td>2.240140</td>\n",
       "      <td>231.366659</td>\n",
       "      <td>8.883739</td>\n",
       "      <td>1.135423e+15</td>\n",
       "    </tr>\n",
       "    <tr>\n",
       "      <th>min</th>\n",
       "      <td>1.000000</td>\n",
       "      <td>0.000000</td>\n",
       "      <td>1.000000</td>\n",
       "      <td>7.080700e+04</td>\n",
       "    </tr>\n",
       "    <tr>\n",
       "      <th>25%</th>\n",
       "      <td>2.000000</td>\n",
       "      <td>9.000000</td>\n",
       "      <td>8.000000</td>\n",
       "      <td>1.790801e+06</td>\n",
       "    </tr>\n",
       "    <tr>\n",
       "      <th>50%</th>\n",
       "      <td>4.000000</td>\n",
       "      <td>14.000000</td>\n",
       "      <td>14.000000</td>\n",
       "      <td>3.708598e+06</td>\n",
       "    </tr>\n",
       "    <tr>\n",
       "      <th>75%</th>\n",
       "      <td>5.000000</td>\n",
       "      <td>18.000000</td>\n",
       "      <td>20.000000</td>\n",
       "      <td>8.147196e+06</td>\n",
       "    </tr>\n",
       "    <tr>\n",
       "      <th>max</th>\n",
       "      <td>49.000000</td>\n",
       "      <td>4397.000000</td>\n",
       "      <td>100.000000</td>\n",
       "      <td>1.345963e+16</td>\n",
       "    </tr>\n",
       "  </tbody>\n",
       "</table>\n",
       "</div>"
      ],
      "text/plain": [
       "        Num_of_Loan  Num_of_Delayed_Payment  Interest_Rate  Annual_Income\n",
       "count  53335.000000            53335.000000   53335.000000   5.333500e+04\n",
       "mean       3.896184               31.860486      14.900066   1.577983e+14\n",
       "std        2.240140              231.366659       8.883739   1.135423e+15\n",
       "min        1.000000                0.000000       1.000000   7.080700e+04\n",
       "25%        2.000000                9.000000       8.000000   1.790801e+06\n",
       "50%        4.000000               14.000000      14.000000   3.708598e+06\n",
       "75%        5.000000               18.000000      20.000000   8.147196e+06\n",
       "max       49.000000             4397.000000     100.000000   1.345963e+16"
      ]
     },
     "execution_count": 5,
     "metadata": {},
     "output_type": "execute_result"
    }
   ],
   "source": [
    "df[features].describe()"
   ]
  },
  {
   "cell_type": "code",
   "execution_count": 22,
   "metadata": {},
   "outputs": [],
   "source": [
    "le = LabelEncoder()\n",
    "le.fit(y)\n",
    "\n",
    "y_norm = le.transform(y)"
   ]
  },
  {
   "cell_type": "code",
   "execution_count": 7,
   "metadata": {},
   "outputs": [],
   "source": [
    "mask = np.any(X>0, axis=1)\n",
    "X = X[mask]\n",
    "y_norm = y_norm[mask]"
   ]
  },
  {
   "cell_type": "code",
   "execution_count": 8,
   "metadata": {},
   "outputs": [],
   "source": [
    "X_train, X_test, y_train, y_test = train_test_split(X, y_norm, test_size=0.2)"
   ]
  },
  {
   "cell_type": "code",
   "execution_count": 9,
   "metadata": {},
   "outputs": [],
   "source": [
    "n_input = X.shape[-1]\n",
    "n_output = np.unique(y_norm).size"
   ]
  },
  {
   "cell_type": "code",
   "execution_count": 10,
   "metadata": {},
   "outputs": [],
   "source": [
    "Arch = [\n",
    "    Dense(units=n_input, activation='relu'),\n",
    "    Dense(units=n_output, activation='linear')\n",
    "]\n",
    "\n",
    "model = Sequential(Arch)"
   ]
  },
  {
   "cell_type": "code",
   "execution_count": 11,
   "metadata": {},
   "outputs": [],
   "source": [
    "opt = Adam(learning_rate=0.01)\n",
    "\n",
    "model.compile(loss=SparseCategoricalCrossentropy(from_logits=True), optimizer=opt)"
   ]
  },
  {
   "cell_type": "code",
   "execution_count": 12,
   "metadata": {},
   "outputs": [
    {
     "name": "stdout",
     "output_type": "stream",
     "text": [
      "Epoch 1/100\n",
      "1067/1067 [==============================] - 1s 956us/step - loss: 0.8733 - val_loss: 0.8543\n",
      "Epoch 2/100\n",
      "1067/1067 [==============================] - 1s 882us/step - loss: 0.8525 - val_loss: 0.8523\n",
      "Epoch 3/100\n",
      "1067/1067 [==============================] - 1s 832us/step - loss: 0.8523 - val_loss: 0.8600\n",
      "Epoch 4/100\n",
      "1067/1067 [==============================] - 1s 836us/step - loss: 0.8518 - val_loss: 0.8549\n",
      "Epoch 5/100\n",
      "1067/1067 [==============================] - 1s 840us/step - loss: 0.8517 - val_loss: 0.8518\n",
      "Epoch 6/100\n",
      "1067/1067 [==============================] - 1s 830us/step - loss: 0.8518 - val_loss: 0.8522\n",
      "Epoch 7/100\n",
      "1067/1067 [==============================] - 1s 830us/step - loss: 0.8515 - val_loss: 0.8514\n",
      "Epoch 8/100\n",
      "1067/1067 [==============================] - 1s 848us/step - loss: 0.8515 - val_loss: 0.8551\n",
      "Epoch 9/100\n",
      "1067/1067 [==============================] - 1s 838us/step - loss: 0.8516 - val_loss: 0.8545\n",
      "Epoch 10/100\n",
      "1067/1067 [==============================] - 1s 845us/step - loss: 0.8510 - val_loss: 0.8511\n",
      "Epoch 11/100\n",
      "1067/1067 [==============================] - 1s 847us/step - loss: 0.8513 - val_loss: 0.8510\n",
      "Epoch 12/100\n",
      "1067/1067 [==============================] - 1s 860us/step - loss: 0.8512 - val_loss: 0.8505\n",
      "Epoch 13/100\n",
      "1067/1067 [==============================] - 1s 866us/step - loss: 0.8502 - val_loss: 0.8511\n",
      "Epoch 14/100\n",
      "1067/1067 [==============================] - 1s 845us/step - loss: 0.8472 - val_loss: 0.8489\n",
      "Epoch 15/100\n",
      "1067/1067 [==============================] - 1s 844us/step - loss: 0.8457 - val_loss: 0.8497\n",
      "Epoch 16/100\n",
      "1067/1067 [==============================] - 1s 852us/step - loss: 0.8452 - val_loss: 0.8484\n",
      "Epoch 17/100\n",
      "1067/1067 [==============================] - 1s 834us/step - loss: 0.8450 - val_loss: 0.8479\n",
      "Epoch 18/100\n",
      "1067/1067 [==============================] - 1s 863us/step - loss: 0.8452 - val_loss: 0.8486\n",
      "Epoch 19/100\n",
      "1067/1067 [==============================] - 1s 883us/step - loss: 0.8451 - val_loss: 0.8476\n",
      "Epoch 20/100\n",
      "1067/1067 [==============================] - 1s 886us/step - loss: 0.8454 - val_loss: 0.8469\n",
      "Epoch 21/100\n",
      "1067/1067 [==============================] - 1s 847us/step - loss: 0.8447 - val_loss: 0.8462\n",
      "Epoch 22/100\n",
      "1067/1067 [==============================] - 1s 853us/step - loss: 0.8451 - val_loss: 0.8478\n",
      "Epoch 23/100\n",
      "1067/1067 [==============================] - 1s 841us/step - loss: 0.8451 - val_loss: 0.8455\n",
      "Epoch 24/100\n",
      "1067/1067 [==============================] - 1s 860us/step - loss: 0.8448 - val_loss: 0.8605\n",
      "Epoch 25/100\n",
      "1067/1067 [==============================] - 1s 888us/step - loss: 0.8442 - val_loss: 0.8416\n",
      "Epoch 26/100\n",
      "1067/1067 [==============================] - 1s 876us/step - loss: 0.8406 - val_loss: 0.8420\n",
      "Epoch 27/100\n",
      "1067/1067 [==============================] - 1s 853us/step - loss: 0.8402 - val_loss: 0.8444\n",
      "Epoch 28/100\n",
      "1067/1067 [==============================] - 1s 871us/step - loss: 0.8377 - val_loss: 0.8378\n",
      "Epoch 29/100\n",
      "1067/1067 [==============================] - 1s 840us/step - loss: 0.8362 - val_loss: 0.8347\n",
      "Epoch 30/100\n",
      "1067/1067 [==============================] - 1s 900us/step - loss: 0.8339 - val_loss: 0.8327\n",
      "Epoch 31/100\n",
      "1067/1067 [==============================] - 1s 975us/step - loss: 0.8322 - val_loss: 0.8340\n",
      "Epoch 32/100\n",
      "1067/1067 [==============================] - 1s 869us/step - loss: 0.8309 - val_loss: 0.8323\n",
      "Epoch 33/100\n",
      "1067/1067 [==============================] - 1s 865us/step - loss: 0.8302 - val_loss: 0.8361\n",
      "Epoch 34/100\n",
      "1067/1067 [==============================] - 1s 843us/step - loss: 0.8297 - val_loss: 0.8344\n",
      "Epoch 35/100\n",
      "1067/1067 [==============================] - 1s 857us/step - loss: 0.8298 - val_loss: 0.8331\n",
      "Epoch 36/100\n",
      "1067/1067 [==============================] - 1s 852us/step - loss: 0.8297 - val_loss: 0.8309\n",
      "Epoch 37/100\n",
      "1067/1067 [==============================] - 1s 852us/step - loss: 0.8294 - val_loss: 0.8339\n",
      "Epoch 38/100\n",
      "1067/1067 [==============================] - 1s 862us/step - loss: 0.8293 - val_loss: 0.8403\n",
      "Epoch 39/100\n",
      "1067/1067 [==============================] - 1s 842us/step - loss: 0.8294 - val_loss: 0.8388\n",
      "Epoch 40/100\n",
      "1067/1067 [==============================] - 1s 856us/step - loss: 0.8292 - val_loss: 0.8302\n",
      "Epoch 41/100\n",
      "1067/1067 [==============================] - 1s 858us/step - loss: 0.8285 - val_loss: 0.8375\n",
      "Epoch 42/100\n",
      "1067/1067 [==============================] - 1s 851us/step - loss: 0.8284 - val_loss: 0.8321\n",
      "Epoch 43/100\n",
      "1067/1067 [==============================] - 1s 857us/step - loss: 0.8268 - val_loss: 0.8352\n",
      "Epoch 44/100\n",
      "1067/1067 [==============================] - 1s 853us/step - loss: 0.8263 - val_loss: 0.8282\n",
      "Epoch 45/100\n",
      "1067/1067 [==============================] - 1s 852us/step - loss: 0.8260 - val_loss: 0.8247\n",
      "Epoch 46/100\n",
      "1067/1067 [==============================] - 1s 860us/step - loss: 0.8242 - val_loss: 0.8244\n",
      "Epoch 47/100\n",
      "1067/1067 [==============================] - 1s 847us/step - loss: 0.8227 - val_loss: 0.8220\n",
      "Epoch 48/100\n",
      "1067/1067 [==============================] - 1s 854us/step - loss: 0.8216 - val_loss: 0.8221\n",
      "Epoch 49/100\n",
      "1067/1067 [==============================] - 1s 856us/step - loss: 0.8203 - val_loss: 0.8212\n",
      "Epoch 50/100\n",
      "1067/1067 [==============================] - 1s 856us/step - loss: 0.8194 - val_loss: 0.8171\n",
      "Epoch 51/100\n",
      "1067/1067 [==============================] - 1s 854us/step - loss: 0.8189 - val_loss: 0.8210\n",
      "Epoch 52/100\n",
      "1067/1067 [==============================] - 1s 854us/step - loss: 0.8171 - val_loss: 0.8207\n",
      "Epoch 53/100\n",
      "1067/1067 [==============================] - 1s 869us/step - loss: 0.8164 - val_loss: 0.8156\n",
      "Epoch 54/100\n",
      "1067/1067 [==============================] - 1s 853us/step - loss: 0.8170 - val_loss: 0.8207\n",
      "Epoch 55/100\n",
      "1067/1067 [==============================] - 1s 852us/step - loss: 0.8158 - val_loss: 0.8180\n",
      "Epoch 56/100\n",
      "1067/1067 [==============================] - 1s 854us/step - loss: 0.8157 - val_loss: 0.8144\n",
      "Epoch 57/100\n",
      "1067/1067 [==============================] - 1s 856us/step - loss: 0.8163 - val_loss: 0.8149\n",
      "Epoch 58/100\n",
      "1067/1067 [==============================] - 1s 853us/step - loss: 0.8162 - val_loss: 0.8182\n",
      "Epoch 59/100\n",
      "1067/1067 [==============================] - 1s 853us/step - loss: 0.8162 - val_loss: 0.8284\n",
      "Epoch 60/100\n",
      "1067/1067 [==============================] - 1s 852us/step - loss: 0.8160 - val_loss: 0.8155\n",
      "Epoch 61/100\n",
      "1067/1067 [==============================] - 1s 849us/step - loss: 0.8163 - val_loss: 0.8154\n",
      "Epoch 62/100\n",
      "1067/1067 [==============================] - 1s 853us/step - loss: 0.8158 - val_loss: 0.8179\n",
      "Epoch 63/100\n",
      "1067/1067 [==============================] - 1s 862us/step - loss: 0.8161 - val_loss: 0.8181\n",
      "Epoch 64/100\n",
      "1067/1067 [==============================] - 1s 855us/step - loss: 0.8161 - val_loss: 0.8184\n",
      "Epoch 65/100\n",
      "1067/1067 [==============================] - 1s 852us/step - loss: 0.8163 - val_loss: 0.8146\n",
      "Epoch 66/100\n",
      "1067/1067 [==============================] - 1s 869us/step - loss: 0.8161 - val_loss: 0.8162\n",
      "Epoch 67/100\n",
      "1067/1067 [==============================] - 1s 858us/step - loss: 0.8167 - val_loss: 0.8156\n",
      "Epoch 68/100\n",
      "1067/1067 [==============================] - 1s 848us/step - loss: 0.8164 - val_loss: 0.8135\n",
      "Epoch 69/100\n",
      "1067/1067 [==============================] - 1s 874us/step - loss: 0.8155 - val_loss: 0.8292\n",
      "Epoch 70/100\n",
      "1067/1067 [==============================] - 1s 884us/step - loss: 0.8159 - val_loss: 0.8184\n",
      "Epoch 71/100\n",
      "1067/1067 [==============================] - 1s 863us/step - loss: 0.8165 - val_loss: 0.8171\n",
      "Epoch 72/100\n",
      "1067/1067 [==============================] - 1s 850us/step - loss: 0.8159 - val_loss: 0.8250\n",
      "Epoch 73/100\n",
      "1067/1067 [==============================] - 1s 848us/step - loss: 0.8160 - val_loss: 0.8163\n",
      "Epoch 74/100\n",
      "1067/1067 [==============================] - 1s 911us/step - loss: 0.8158 - val_loss: 0.8172\n",
      "Epoch 75/100\n",
      "1067/1067 [==============================] - 1s 869us/step - loss: 0.8156 - val_loss: 0.8265\n",
      "Epoch 76/100\n",
      "1067/1067 [==============================] - 1s 868us/step - loss: 0.8159 - val_loss: 0.8220\n",
      "Epoch 77/100\n",
      "1067/1067 [==============================] - 1s 863us/step - loss: 0.8163 - val_loss: 0.8181\n",
      "Epoch 78/100\n",
      "1067/1067 [==============================] - 1s 844us/step - loss: 0.8161 - val_loss: 0.8146\n",
      "Epoch 79/100\n",
      "1067/1067 [==============================] - 1s 860us/step - loss: 0.8160 - val_loss: 0.8173\n",
      "Epoch 80/100\n",
      "1067/1067 [==============================] - 1s 852us/step - loss: 0.8159 - val_loss: 0.8140\n",
      "Epoch 81/100\n",
      "1067/1067 [==============================] - 1s 858us/step - loss: 0.8166 - val_loss: 0.8140\n",
      "Epoch 82/100\n",
      "1067/1067 [==============================] - 1s 845us/step - loss: 0.8163 - val_loss: 0.8154\n",
      "Epoch 83/100\n",
      "1067/1067 [==============================] - 1s 850us/step - loss: 0.8156 - val_loss: 0.8150\n",
      "Epoch 84/100\n",
      "1067/1067 [==============================] - 1s 855us/step - loss: 0.8158 - val_loss: 0.8185\n",
      "Epoch 85/100\n",
      "1067/1067 [==============================] - 1s 864us/step - loss: 0.8164 - val_loss: 0.8150\n",
      "Epoch 86/100\n",
      "1067/1067 [==============================] - 1s 854us/step - loss: 0.8162 - val_loss: 0.8166\n",
      "Epoch 87/100\n",
      "1067/1067 [==============================] - 1s 857us/step - loss: 0.8159 - val_loss: 0.8165\n",
      "Epoch 88/100\n",
      "1067/1067 [==============================] - 1s 880us/step - loss: 0.8160 - val_loss: 0.8174\n",
      "Epoch 89/100\n",
      "1067/1067 [==============================] - 1s 866us/step - loss: 0.8155 - val_loss: 0.8135\n",
      "Epoch 90/100\n",
      "1067/1067 [==============================] - 1s 842us/step - loss: 0.8162 - val_loss: 0.8262\n",
      "Epoch 91/100\n",
      "1067/1067 [==============================] - 1s 848us/step - loss: 0.8155 - val_loss: 0.8137\n",
      "Epoch 92/100\n",
      "1067/1067 [==============================] - 1s 849us/step - loss: 0.8160 - val_loss: 0.8158\n",
      "Epoch 93/100\n",
      "1067/1067 [==============================] - 1s 853us/step - loss: 0.8158 - val_loss: 0.8188\n",
      "Epoch 94/100\n",
      "1067/1067 [==============================] - 1s 851us/step - loss: 0.8160 - val_loss: 0.8199\n",
      "Epoch 95/100\n",
      "1067/1067 [==============================] - 1s 858us/step - loss: 0.8163 - val_loss: 0.8149\n",
      "Epoch 96/100\n",
      "1067/1067 [==============================] - 1s 854us/step - loss: 0.8152 - val_loss: 0.8149\n",
      "Epoch 97/100\n",
      "1067/1067 [==============================] - 1s 847us/step - loss: 0.8159 - val_loss: 0.8218\n",
      "Epoch 98/100\n",
      "1067/1067 [==============================] - 1s 859us/step - loss: 0.8163 - val_loss: 0.8194\n",
      "Epoch 99/100\n",
      "1067/1067 [==============================] - 1s 848us/step - loss: 0.8161 - val_loss: 0.8173\n",
      "Epoch 100/100\n",
      "1067/1067 [==============================] - 1s 859us/step - loss: 0.8156 - val_loss: 0.8197\n"
     ]
    }
   ],
   "source": [
    "history = model.fit(X_train, y_train, epochs=100, validation_split=0.2)"
   ]
  },
  {
   "cell_type": "code",
   "execution_count": 13,
   "metadata": {},
   "outputs": [],
   "source": [
    "logits = model(X_train)\n",
    "f_X = tensorflow.nn.softmax(logits)"
   ]
  },
  {
   "cell_type": "code",
   "execution_count": 14,
   "metadata": {},
   "outputs": [],
   "source": [
    "y_hat = np.argmax(f_X, axis=1)"
   ]
  },
  {
   "cell_type": "code",
   "execution_count": 15,
   "metadata": {},
   "outputs": [
    {
     "data": {
      "text/plain": [
       "(array([0, 1, 2], dtype=int64), array([ 2740,  9768, 30160], dtype=int64))"
      ]
     },
     "execution_count": 15,
     "metadata": {},
     "output_type": "execute_result"
    }
   ],
   "source": [
    "np.unique(np.argmax(f_X, axis=1), return_counts=1)"
   ]
  },
  {
   "cell_type": "code",
   "execution_count": 16,
   "metadata": {},
   "outputs": [],
   "source": [
    "from sklearn.metrics import classification_report, confusion_matrix"
   ]
  },
  {
   "cell_type": "code",
   "execution_count": 17,
   "metadata": {},
   "outputs": [
    {
     "name": "stdout",
     "output_type": "stream",
     "text": [
      "              precision    recall  f1-score   support\n",
      "\n",
      "           0       0.47      0.18      0.26      7161\n",
      "           1       0.65      0.49      0.56     12944\n",
      "           2       0.60      0.81      0.69     22563\n",
      "\n",
      "    accuracy                           0.61     42668\n",
      "   macro avg       0.57      0.49      0.50     42668\n",
      "weighted avg       0.59      0.61      0.58     42668\n",
      "\n"
     ]
    }
   ],
   "source": [
    "print(classification_report(y_train, y_hat))"
   ]
  },
  {
   "cell_type": "code",
   "execution_count": 18,
   "metadata": {},
   "outputs": [
    {
     "data": {
      "text/plain": [
       "[<matplotlib.lines.Line2D at 0x21d64aa1850>]"
      ]
     },
     "execution_count": 18,
     "metadata": {},
     "output_type": "execute_result"
    },
    {
     "data": {
      "image/png": "[encoded data removed]",
      "text/plain": [
       "<Figure size 432x288 with 1 Axes>"
      ]
     },
     "metadata": {
      "needs_background": "light"
     },
     "output_type": "display_data"
    }
   ],
   "source": [
    "plt.plot(history.history[\"loss\"])\n",
    "plt.plot(history.history[\"val_loss\"])\n",
    "#plt.xlim(20,100)"
   ]
  }
 ],
 "metadata": {
  "kernelspec": {
   "display_name": "Python 3.9.6 64-bit",
   "language": "python",
   "name": "python3"
  },
  "language_info": {
   "codemirror_mode": {
    "name": "ipython",
    "version": 3
   },
   "file_extension": ".py",
   "mimetype": "text/x-python",
   "name": "python",
   "nbconvert_exporter": "python",
   "pygments_lexer": "ipython3",
   "version": "3.9.6"
  },
  "orig_nbformat": 4,
  "vscode": {
   "interpreter": {
    "hash": "9bec9a4fae84d278cecf29348292e5365ba4299e5d55caa00177d12a99bb9320"
   }
  }
 },
 "nbformat": 4,
 "nbformat_minor": 2
}
